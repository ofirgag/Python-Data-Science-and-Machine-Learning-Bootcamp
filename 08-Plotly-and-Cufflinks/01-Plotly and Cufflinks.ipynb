{
 "cells": [
  {
   "cell_type": "markdown",
   "metadata": {},
   "source": [
    "___\n",
    "\n",
    "<a href='http://www.pieriandata.com'> <img src='../Pierian_Data_Logo.png' /></a>\n",
    "___\n",
    "# Plotly and Cufflinks"
   ]
  },
  {
   "cell_type": "markdown",
   "metadata": {},
   "source": [
    "Plotly is a library that allows you to create interactive plots that you can use in dashboards or websites (you can save them as html files or static images).\n",
    "\n",
    "## Installation\n",
    "\n",
    "In order for this all to work, you'll need to install plotly and cufflinks to call plots directly off of a pandas dataframe. These libraries are not currently available through **conda** but are available through **pip**. Install the libraries at your command line/terminal using:\n",
    "\n",
    "    pip install plotly\n",
    "    pip install cufflinks\n",
    "\n",
    "** NOTE: Make sure you only have one installation of Python on your computer when you do this, otherwise the installation may not work. **\n",
    "\n",
    "## Imports and Set-up"
   ]
  },
  {
   "cell_type": "code",
   "execution_count": 5,
   "metadata": {},
   "outputs": [],
   "source": [
    "import pandas as pd\n",
    "import numpy as np\n",
    "%matplotlib inline"
   ]
  },
  {
   "cell_type": "code",
   "execution_count": 6,
   "metadata": {},
   "outputs": [
    {
     "name": "stdout",
     "output_type": "stream",
     "text": [
      "4.14.3\n"
     ]
    }
   ],
   "source": [
    "from plotly import __version__\n",
    "from plotly.offline import download_plotlyjs, init_notebook_mode, plot, iplot\n",
    "\n",
    "print(__version__) # requires version >= 1.9.0"
   ]
  },
  {
   "cell_type": "code",
   "execution_count": 8,
   "metadata": {},
   "outputs": [],
   "source": [
    "import cufflinks as cf"
   ]
  },
  {
   "cell_type": "code",
   "execution_count": 9,
   "metadata": {},
   "outputs": [
    {
     "data": {
      "text/html": [
       "        <script type=\"text/javascript\">\n",
       "        window.PlotlyConfig = {MathJaxConfig: 'local'};\n",
       "        if (window.MathJax) {MathJax.Hub.Config({SVG: {font: \"STIX-Web\"}});}\n",
       "        if (typeof require !== 'undefined') {\n",
       "        require.undef(\"plotly\");\n",
       "        requirejs.config({\n",
       "            paths: {\n",
       "                'plotly': ['https://cdn.plot.ly/plotly-latest.min']\n",
       "            }\n",
       "        });\n",
       "        require(['plotly'], function(Plotly) {\n",
       "            window._Plotly = Plotly;\n",
       "        });\n",
       "        }\n",
       "        </script>\n",
       "        "
      ]
     },
     "metadata": {},
     "output_type": "display_data"
    }
   ],
   "source": [
    "# For Notebooks\n",
    "init_notebook_mode(connected=True)"
   ]
  },
  {
   "cell_type": "code",
   "execution_count": 10,
   "metadata": {},
   "outputs": [
    {
     "data": {
      "text/html": [
       "        <script type=\"text/javascript\">\n",
       "        window.PlotlyConfig = {MathJaxConfig: 'local'};\n",
       "        if (window.MathJax) {MathJax.Hub.Config({SVG: {font: \"STIX-Web\"}});}\n",
       "        if (typeof require !== 'undefined') {\n",
       "        require.undef(\"plotly\");\n",
       "        requirejs.config({\n",
       "            paths: {\n",
       "                'plotly': ['https://cdn.plot.ly/plotly-latest.min']\n",
       "            }\n",
       "        });\n",
       "        require(['plotly'], function(Plotly) {\n",
       "            window._Plotly = Plotly;\n",
       "        });\n",
       "        }\n",
       "        </script>\n",
       "        "
      ]
     },
     "metadata": {},
     "output_type": "display_data"
    }
   ],
   "source": [
    "# For offline use\n",
    "cf.go_offline()"
   ]
  },
  {
   "cell_type": "markdown",
   "metadata": {},
   "source": [
    "### Fake Data"
   ]
  },
  {
   "cell_type": "code",
   "execution_count": 11,
   "metadata": {},
   "outputs": [],
   "source": [
    "df = pd.DataFrame(np.random.randn(100,4),columns='A B C D'.split())"
   ]
  },
  {
   "cell_type": "code",
   "execution_count": 12,
   "metadata": {},
   "outputs": [
    {
     "data": {
      "text/html": [
       "<div>\n",
       "<style scoped>\n",
       "    .dataframe tbody tr th:only-of-type {\n",
       "        vertical-align: middle;\n",
       "    }\n",
       "\n",
       "    .dataframe tbody tr th {\n",
       "        vertical-align: top;\n",
       "    }\n",
       "\n",
       "    .dataframe thead th {\n",
       "        text-align: right;\n",
       "    }\n",
       "</style>\n",
       "<table border=\"1\" class=\"dataframe\">\n",
       "  <thead>\n",
       "    <tr style=\"text-align: right;\">\n",
       "      <th></th>\n",
       "      <th>A</th>\n",
       "      <th>B</th>\n",
       "      <th>C</th>\n",
       "      <th>D</th>\n",
       "    </tr>\n",
       "  </thead>\n",
       "  <tbody>\n",
       "    <tr>\n",
       "      <th>0</th>\n",
       "      <td>0.919713</td>\n",
       "      <td>-0.433139</td>\n",
       "      <td>-0.364728</td>\n",
       "      <td>-0.396996</td>\n",
       "    </tr>\n",
       "    <tr>\n",
       "      <th>1</th>\n",
       "      <td>0.779454</td>\n",
       "      <td>-0.442561</td>\n",
       "      <td>-2.744035</td>\n",
       "      <td>0.966573</td>\n",
       "    </tr>\n",
       "    <tr>\n",
       "      <th>2</th>\n",
       "      <td>-0.096497</td>\n",
       "      <td>-0.583164</td>\n",
       "      <td>1.050891</td>\n",
       "      <td>-0.032921</td>\n",
       "    </tr>\n",
       "    <tr>\n",
       "      <th>3</th>\n",
       "      <td>1.777480</td>\n",
       "      <td>-0.232952</td>\n",
       "      <td>-1.321072</td>\n",
       "      <td>-0.907321</td>\n",
       "    </tr>\n",
       "    <tr>\n",
       "      <th>4</th>\n",
       "      <td>-1.225964</td>\n",
       "      <td>-0.083332</td>\n",
       "      <td>-0.632891</td>\n",
       "      <td>0.683120</td>\n",
       "    </tr>\n",
       "  </tbody>\n",
       "</table>\n",
       "</div>"
      ],
      "text/plain": [
       "          A         B         C         D\n",
       "0  0.919713 -0.433139 -0.364728 -0.396996\n",
       "1  0.779454 -0.442561 -2.744035  0.966573\n",
       "2 -0.096497 -0.583164  1.050891 -0.032921\n",
       "3  1.777480 -0.232952 -1.321072 -0.907321\n",
       "4 -1.225964 -0.083332 -0.632891  0.683120"
      ]
     },
     "execution_count": 12,
     "metadata": {},
     "output_type": "execute_result"
    }
   ],
   "source": [
    "df.head()"
   ]
  },
  {
   "cell_type": "code",
   "execution_count": 13,
   "metadata": {},
   "outputs": [],
   "source": [
    "df2 = pd.DataFrame({'Category':['A','B','C'],'Values':[32,43,50]})"
   ]
  },
  {
   "cell_type": "code",
   "execution_count": 14,
   "metadata": {},
   "outputs": [
    {
     "data": {
      "text/html": [
       "<div>\n",
       "<style scoped>\n",
       "    .dataframe tbody tr th:only-of-type {\n",
       "        vertical-align: middle;\n",
       "    }\n",
       "\n",
       "    .dataframe tbody tr th {\n",
       "        vertical-align: top;\n",
       "    }\n",
       "\n",
       "    .dataframe thead th {\n",
       "        text-align: right;\n",
       "    }\n",
       "</style>\n",
       "<table border=\"1\" class=\"dataframe\">\n",
       "  <thead>\n",
       "    <tr style=\"text-align: right;\">\n",
       "      <th></th>\n",
       "      <th>Category</th>\n",
       "      <th>Values</th>\n",
       "    </tr>\n",
       "  </thead>\n",
       "  <tbody>\n",
       "    <tr>\n",
       "      <th>0</th>\n",
       "      <td>A</td>\n",
       "      <td>32</td>\n",
       "    </tr>\n",
       "    <tr>\n",
       "      <th>1</th>\n",
       "      <td>B</td>\n",
       "      <td>43</td>\n",
       "    </tr>\n",
       "    <tr>\n",
       "      <th>2</th>\n",
       "      <td>C</td>\n",
       "      <td>50</td>\n",
       "    </tr>\n",
       "  </tbody>\n",
       "</table>\n",
       "</div>"
      ],
      "text/plain": [
       "  Category  Values\n",
       "0        A      32\n",
       "1        B      43\n",
       "2        C      50"
      ]
     },
     "execution_count": 14,
     "metadata": {},
     "output_type": "execute_result"
    }
   ],
   "source": [
    "df2.head()"
   ]
  },
  {
   "cell_type": "markdown",
   "metadata": {},
   "source": [
    "## Using Cufflinks and iplot()\n",
    "\n",
    "* scatter\n",
    "* bar\n",
    "* box\n",
    "* spread\n",
    "* ratio\n",
    "* heatmap\n",
    "* surface\n",
    "* histogram\n",
    "* bubble"
   ]
  },
  {
   "cell_type": "markdown",
   "metadata": {},
   "source": [
    "## Scatter"
   ]
  },
  {
   "cell_type": "code",
   "execution_count": 25,
   "metadata": {},
   "outputs": [
    {
     "data": {
      "application/vnd.plotly.v1+json": {
       "config": {
        "linkText": "Export to plot.ly",
        "plotlyServerURL": "https://plot.ly",
        "showLink": true
       },
       "data": [
        {
         "line": {
          "color": "rgba(255, 153, 51, 1.0)",
          "dash": "solid",
          "shape": "linear",
          "width": 1.3
         },
         "marker": {
          "size": 10,
          "symbol": "circle"
         },
         "mode": "markers",
         "name": "B",
         "text": "",
         "type": "scatter",
         "x": [
          0.9197133807614235,
          0.7794542364536206,
          -0.09649744911588459,
          1.7774800045254102,
          -1.225964420847159,
          -2.393954265258908,
          0.41990419231764947,
          0.8616029917587111,
          -0.24737914798211716,
          1.0274749369056067,
          0.07649296724874846,
          0.9437322356592867,
          0.1996489583939814,
          1.58427473537746,
          -0.371723359297978,
          0.22979824338857696,
          1.53658689215229,
          0.012158305181052004,
          -1.1602507795274908,
          0.3774550134420746,
          1.0644162387146285,
          -0.221044462875774,
          0.5012106305315702,
          0.7778064820592324,
          1.3147485229906,
          -0.865092812047564,
          -0.42410365767333646,
          -0.357691233878992,
          -0.3414067537683034,
          0.6375951853421511,
          -0.3754133832264921,
          -0.16610414089782688,
          0.388431315898646,
          -0.3228333339830255,
          0.039263470128833015,
          0.4639010359623582,
          0.1485992496867083,
          -0.296115590941632,
          0.14819367088853724,
          0.2026284784393481,
          -0.2348139336782935,
          -1.6800725044112985,
          0.8701378536749685,
          0.341188400775277,
          -0.012237024383443105,
          0.2622618333273738,
          1.1462065561704708,
          -0.054086747031590936,
          0.1843621043620616,
          -0.5398771840429352,
          -1.0722382532014312,
          -0.050435157686543705,
          2.8895581697000896,
          -0.6719852661171711,
          0.46460937644349315,
          1.9923968859714174,
          -1.0345940853003668,
          -0.25508907607148096,
          1.123636206992229,
          0.4035748735001082,
          -0.2250374937301488,
          1.0464100042119022,
          0.2986891746841648,
          -0.11043242862740031,
          0.10165226027586535,
          0.005658435925281142,
          -0.9208657571597071,
          1.2009839712573003,
          -0.4892870232330178,
          -0.06133536497774417,
          -1.0009550308856383,
          -0.48052367803749363,
          0.8409796841631535,
          1.5965466139596338,
          2.120683106950889,
          -1.8799377668379869,
          -0.26563779261158504,
          -0.14704421316205113,
          -1.424161397157802,
          0.47614096789664473,
          -0.5215117460381219,
          0.4809600170045102,
          0.6622103676774127,
          -1.2783556733428347,
          -0.022858985180589677,
          -1.563275342663613,
          -1.2424457285081163,
          0.11681759263698047,
          0.8466794065199111,
          0.06490426589829766,
          2.157438296279944,
          0.6741389867698577,
          1.8430788221397851,
          2.5740175116462423,
          -1.306267582832392,
          0.4205936086654285,
          0.7180849950269751,
          -0.08247581270117955,
          0.050969560380462284,
          0.028843641125944345
         ],
         "y": [
          -0.43313928439241856,
          -0.4425613609484883,
          -0.5831641104998745,
          -0.2329524920028297,
          -0.08333227347218153,
          -0.5550772129650813,
          1.0232186344774543,
          -0.19691035869974066,
          0.6652592638509605,
          -0.25855232158591246,
          0.08708040495670091,
          -0.6120088084945818,
          -0.12277081811889581,
          2.1596911192246933,
          1.7453798976659805,
          -0.31058753595801675,
          0.17173161909361565,
          0.2486764341606997,
          0.6290908277801774,
          -0.677253445352361,
          -0.29591717094932185,
          3.5912914484649057,
          -1.5102507577162003,
          -0.10452519409142735,
          -1.3730093962486873,
          -0.10638571976969305,
          -2.562467956305081,
          1.1873153508557435,
          1.7306827104585627,
          2.0784750273731722,
          0.9144007762066864,
          -1.0486224523024477,
          0.616468572611647,
          -0.05306969649565157,
          0.11970754364521062,
          -1.8208242311258491,
          0.8506780205806028,
          -0.7978765182395776,
          -1.6859900378557098,
          -0.807788418777815,
          -0.16415304493743396,
          -1.2779023594529633,
          0.3959843079178932,
          -1.9172789727990776,
          -0.34839551770740596,
          -2.3010545326542164,
          -0.37336750540430746,
          1.0143884366534197,
          -1.0602834509257386,
          -0.5472740730487213,
          -0.15065390894444045,
          0.9220738873395795,
          0.3587351344940042,
          0.4156627803042604,
          -0.25573558842639865,
          -0.779343193627066,
          -0.2327866638752568,
          -0.38671823194117577,
          1.033541673260998,
          0.30249714031787445,
          0.3548984753587199,
          -1.7011402723912104,
          0.9303595461164846,
          -0.3376204164752655,
          0.316175575817413,
          -0.6570536255194106,
          -0.07958066039765603,
          0.6007547821873407,
          0.3278495443745458,
          -0.9373708035630588,
          0.024562754829876316,
          0.15174005354443162,
          1.7322891667012859,
          2.266091829286604,
          0.3322274142194494,
          -1.0968432532953514,
          -0.5395437695783084,
          2.4261309168988627,
          -0.07146814570308693,
          0.6575829486179565,
          1.137000976387248,
          1.3565204705711482,
          -0.3923880210686105,
          0.9310307831146414,
          0.44280425549872554,
          0.6373350300534316,
          -0.37692833981371726,
          0.9292375282970157,
          -1.3816024406765592,
          1.2862751536692747,
          -0.2391628412182689,
          -0.134096521061821,
          0.36325476918153177,
          -1.04756639847069,
          -1.3975724700107532,
          0.4599275903138609,
          -0.0026229351024188562,
          -0.5112324125694927,
          1.3983123334955245,
          0.9451463539487669
         ]
        }
       ],
       "layout": {
        "legend": {
         "bgcolor": "#F5F6F9",
         "font": {
          "color": "#4D5663"
         }
        },
        "paper_bgcolor": "#F5F6F9",
        "plot_bgcolor": "#F5F6F9",
        "template": {
         "data": {
          "bar": [
           {
            "error_x": {
             "color": "#2a3f5f"
            },
            "error_y": {
             "color": "#2a3f5f"
            },
            "marker": {
             "line": {
              "color": "#E5ECF6",
              "width": 0.5
             }
            },
            "type": "bar"
           }
          ],
          "barpolar": [
           {
            "marker": {
             "line": {
              "color": "#E5ECF6",
              "width": 0.5
             }
            },
            "type": "barpolar"
           }
          ],
          "carpet": [
           {
            "aaxis": {
             "endlinecolor": "#2a3f5f",
             "gridcolor": "white",
             "linecolor": "white",
             "minorgridcolor": "white",
             "startlinecolor": "#2a3f5f"
            },
            "baxis": {
             "endlinecolor": "#2a3f5f",
             "gridcolor": "white",
             "linecolor": "white",
             "minorgridcolor": "white",
             "startlinecolor": "#2a3f5f"
            },
            "type": "carpet"
           }
          ],
          "choropleth": [
           {
            "colorbar": {
             "outlinewidth": 0,
             "ticks": ""
            },
            "type": "choropleth"
           }
          ],
          "contour": [
           {
            "colorbar": {
             "outlinewidth": 0,
             "ticks": ""
            },
            "colorscale": [
             [
              0,
              "#0d0887"
             ],
             [
              0.1111111111111111,
              "#46039f"
             ],
             [
              0.2222222222222222,
              "#7201a8"
             ],
             [
              0.3333333333333333,
              "#9c179e"
             ],
             [
              0.4444444444444444,
              "#bd3786"
             ],
             [
              0.5555555555555556,
              "#d8576b"
             ],
             [
              0.6666666666666666,
              "#ed7953"
             ],
             [
              0.7777777777777778,
              "#fb9f3a"
             ],
             [
              0.8888888888888888,
              "#fdca26"
             ],
             [
              1,
              "#f0f921"
             ]
            ],
            "type": "contour"
           }
          ],
          "contourcarpet": [
           {
            "colorbar": {
             "outlinewidth": 0,
             "ticks": ""
            },
            "type": "contourcarpet"
           }
          ],
          "heatmap": [
           {
            "colorbar": {
             "outlinewidth": 0,
             "ticks": ""
            },
            "colorscale": [
             [
              0,
              "#0d0887"
             ],
             [
              0.1111111111111111,
              "#46039f"
             ],
             [
              0.2222222222222222,
              "#7201a8"
             ],
             [
              0.3333333333333333,
              "#9c179e"
             ],
             [
              0.4444444444444444,
              "#bd3786"
             ],
             [
              0.5555555555555556,
              "#d8576b"
             ],
             [
              0.6666666666666666,
              "#ed7953"
             ],
             [
              0.7777777777777778,
              "#fb9f3a"
             ],
             [
              0.8888888888888888,
              "#fdca26"
             ],
             [
              1,
              "#f0f921"
             ]
            ],
            "type": "heatmap"
           }
          ],
          "heatmapgl": [
           {
            "colorbar": {
             "outlinewidth": 0,
             "ticks": ""
            },
            "colorscale": [
             [
              0,
              "#0d0887"
             ],
             [
              0.1111111111111111,
              "#46039f"
             ],
             [
              0.2222222222222222,
              "#7201a8"
             ],
             [
              0.3333333333333333,
              "#9c179e"
             ],
             [
              0.4444444444444444,
              "#bd3786"
             ],
             [
              0.5555555555555556,
              "#d8576b"
             ],
             [
              0.6666666666666666,
              "#ed7953"
             ],
             [
              0.7777777777777778,
              "#fb9f3a"
             ],
             [
              0.8888888888888888,
              "#fdca26"
             ],
             [
              1,
              "#f0f921"
             ]
            ],
            "type": "heatmapgl"
           }
          ],
          "histogram": [
           {
            "marker": {
             "colorbar": {
              "outlinewidth": 0,
              "ticks": ""
             }
            },
            "type": "histogram"
           }
          ],
          "histogram2d": [
           {
            "colorbar": {
             "outlinewidth": 0,
             "ticks": ""
            },
            "colorscale": [
             [
              0,
              "#0d0887"
             ],
             [
              0.1111111111111111,
              "#46039f"
             ],
             [
              0.2222222222222222,
              "#7201a8"
             ],
             [
              0.3333333333333333,
              "#9c179e"
             ],
             [
              0.4444444444444444,
              "#bd3786"
             ],
             [
              0.5555555555555556,
              "#d8576b"
             ],
             [
              0.6666666666666666,
              "#ed7953"
             ],
             [
              0.7777777777777778,
              "#fb9f3a"
             ],
             [
              0.8888888888888888,
              "#fdca26"
             ],
             [
              1,
              "#f0f921"
             ]
            ],
            "type": "histogram2d"
           }
          ],
          "histogram2dcontour": [
           {
            "colorbar": {
             "outlinewidth": 0,
             "ticks": ""
            },
            "colorscale": [
             [
              0,
              "#0d0887"
             ],
             [
              0.1111111111111111,
              "#46039f"
             ],
             [
              0.2222222222222222,
              "#7201a8"
             ],
             [
              0.3333333333333333,
              "#9c179e"
             ],
             [
              0.4444444444444444,
              "#bd3786"
             ],
             [
              0.5555555555555556,
              "#d8576b"
             ],
             [
              0.6666666666666666,
              "#ed7953"
             ],
             [
              0.7777777777777778,
              "#fb9f3a"
             ],
             [
              0.8888888888888888,
              "#fdca26"
             ],
             [
              1,
              "#f0f921"
             ]
            ],
            "type": "histogram2dcontour"
           }
          ],
          "mesh3d": [
           {
            "colorbar": {
             "outlinewidth": 0,
             "ticks": ""
            },
            "type": "mesh3d"
           }
          ],
          "parcoords": [
           {
            "line": {
             "colorbar": {
              "outlinewidth": 0,
              "ticks": ""
             }
            },
            "type": "parcoords"
           }
          ],
          "pie": [
           {
            "automargin": true,
            "type": "pie"
           }
          ],
          "scatter": [
           {
            "marker": {
             "colorbar": {
              "outlinewidth": 0,
              "ticks": ""
             }
            },
            "type": "scatter"
           }
          ],
          "scatter3d": [
           {
            "line": {
             "colorbar": {
              "outlinewidth": 0,
              "ticks": ""
             }
            },
            "marker": {
             "colorbar": {
              "outlinewidth": 0,
              "ticks": ""
             }
            },
            "type": "scatter3d"
           }
          ],
          "scattercarpet": [
           {
            "marker": {
             "colorbar": {
              "outlinewidth": 0,
              "ticks": ""
             }
            },
            "type": "scattercarpet"
           }
          ],
          "scattergeo": [
           {
            "marker": {
             "colorbar": {
              "outlinewidth": 0,
              "ticks": ""
             }
            },
            "type": "scattergeo"
           }
          ],
          "scattergl": [
           {
            "marker": {
             "colorbar": {
              "outlinewidth": 0,
              "ticks": ""
             }
            },
            "type": "scattergl"
           }
          ],
          "scattermapbox": [
           {
            "marker": {
             "colorbar": {
              "outlinewidth": 0,
              "ticks": ""
             }
            },
            "type": "scattermapbox"
           }
          ],
          "scatterpolar": [
           {
            "marker": {
             "colorbar": {
              "outlinewidth": 0,
              "ticks": ""
             }
            },
            "type": "scatterpolar"
           }
          ],
          "scatterpolargl": [
           {
            "marker": {
             "colorbar": {
              "outlinewidth": 0,
              "ticks": ""
             }
            },
            "type": "scatterpolargl"
           }
          ],
          "scatterternary": [
           {
            "marker": {
             "colorbar": {
              "outlinewidth": 0,
              "ticks": ""
             }
            },
            "type": "scatterternary"
           }
          ],
          "surface": [
           {
            "colorbar": {
             "outlinewidth": 0,
             "ticks": ""
            },
            "colorscale": [
             [
              0,
              "#0d0887"
             ],
             [
              0.1111111111111111,
              "#46039f"
             ],
             [
              0.2222222222222222,
              "#7201a8"
             ],
             [
              0.3333333333333333,
              "#9c179e"
             ],
             [
              0.4444444444444444,
              "#bd3786"
             ],
             [
              0.5555555555555556,
              "#d8576b"
             ],
             [
              0.6666666666666666,
              "#ed7953"
             ],
             [
              0.7777777777777778,
              "#fb9f3a"
             ],
             [
              0.8888888888888888,
              "#fdca26"
             ],
             [
              1,
              "#f0f921"
             ]
            ],
            "type": "surface"
           }
          ],
          "table": [
           {
            "cells": {
             "fill": {
              "color": "#EBF0F8"
             },
             "line": {
              "color": "white"
             }
            },
            "header": {
             "fill": {
              "color": "#C8D4E3"
             },
             "line": {
              "color": "white"
             }
            },
            "type": "table"
           }
          ]
         },
         "layout": {
          "annotationdefaults": {
           "arrowcolor": "#2a3f5f",
           "arrowhead": 0,
           "arrowwidth": 1
          },
          "autotypenumbers": "strict",
          "coloraxis": {
           "colorbar": {
            "outlinewidth": 0,
            "ticks": ""
           }
          },
          "colorscale": {
           "diverging": [
            [
             0,
             "#8e0152"
            ],
            [
             0.1,
             "#c51b7d"
            ],
            [
             0.2,
             "#de77ae"
            ],
            [
             0.3,
             "#f1b6da"
            ],
            [
             0.4,
             "#fde0ef"
            ],
            [
             0.5,
             "#f7f7f7"
            ],
            [
             0.6,
             "#e6f5d0"
            ],
            [
             0.7,
             "#b8e186"
            ],
            [
             0.8,
             "#7fbc41"
            ],
            [
             0.9,
             "#4d9221"
            ],
            [
             1,
             "#276419"
            ]
           ],
           "sequential": [
            [
             0,
             "#0d0887"
            ],
            [
             0.1111111111111111,
             "#46039f"
            ],
            [
             0.2222222222222222,
             "#7201a8"
            ],
            [
             0.3333333333333333,
             "#9c179e"
            ],
            [
             0.4444444444444444,
             "#bd3786"
            ],
            [
             0.5555555555555556,
             "#d8576b"
            ],
            [
             0.6666666666666666,
             "#ed7953"
            ],
            [
             0.7777777777777778,
             "#fb9f3a"
            ],
            [
             0.8888888888888888,
             "#fdca26"
            ],
            [
             1,
             "#f0f921"
            ]
           ],
           "sequentialminus": [
            [
             0,
             "#0d0887"
            ],
            [
             0.1111111111111111,
             "#46039f"
            ],
            [
             0.2222222222222222,
             "#7201a8"
            ],
            [
             0.3333333333333333,
             "#9c179e"
            ],
            [
             0.4444444444444444,
             "#bd3786"
            ],
            [
             0.5555555555555556,
             "#d8576b"
            ],
            [
             0.6666666666666666,
             "#ed7953"
            ],
            [
             0.7777777777777778,
             "#fb9f3a"
            ],
            [
             0.8888888888888888,
             "#fdca26"
            ],
            [
             1,
             "#f0f921"
            ]
           ]
          },
          "colorway": [
           "#636efa",
           "#EF553B",
           "#00cc96",
           "#ab63fa",
           "#FFA15A",
           "#19d3f3",
           "#FF6692",
           "#B6E880",
           "#FF97FF",
           "#FECB52"
          ],
          "font": {
           "color": "#2a3f5f"
          },
          "geo": {
           "bgcolor": "white",
           "lakecolor": "white",
           "landcolor": "#E5ECF6",
           "showlakes": true,
           "showland": true,
           "subunitcolor": "white"
          },
          "hoverlabel": {
           "align": "left"
          },
          "hovermode": "closest",
          "mapbox": {
           "style": "light"
          },
          "paper_bgcolor": "white",
          "plot_bgcolor": "#E5ECF6",
          "polar": {
           "angularaxis": {
            "gridcolor": "white",
            "linecolor": "white",
            "ticks": ""
           },
           "bgcolor": "#E5ECF6",
           "radialaxis": {
            "gridcolor": "white",
            "linecolor": "white",
            "ticks": ""
           }
          },
          "scene": {
           "xaxis": {
            "backgroundcolor": "#E5ECF6",
            "gridcolor": "white",
            "gridwidth": 2,
            "linecolor": "white",
            "showbackground": true,
            "ticks": "",
            "zerolinecolor": "white"
           },
           "yaxis": {
            "backgroundcolor": "#E5ECF6",
            "gridcolor": "white",
            "gridwidth": 2,
            "linecolor": "white",
            "showbackground": true,
            "ticks": "",
            "zerolinecolor": "white"
           },
           "zaxis": {
            "backgroundcolor": "#E5ECF6",
            "gridcolor": "white",
            "gridwidth": 2,
            "linecolor": "white",
            "showbackground": true,
            "ticks": "",
            "zerolinecolor": "white"
           }
          },
          "shapedefaults": {
           "line": {
            "color": "#2a3f5f"
           }
          },
          "ternary": {
           "aaxis": {
            "gridcolor": "white",
            "linecolor": "white",
            "ticks": ""
           },
           "baxis": {
            "gridcolor": "white",
            "linecolor": "white",
            "ticks": ""
           },
           "bgcolor": "#E5ECF6",
           "caxis": {
            "gridcolor": "white",
            "linecolor": "white",
            "ticks": ""
           }
          },
          "title": {
           "x": 0.05
          },
          "xaxis": {
           "automargin": true,
           "gridcolor": "white",
           "linecolor": "white",
           "ticks": "",
           "title": {
            "standoff": 15
           },
           "zerolinecolor": "white",
           "zerolinewidth": 2
          },
          "yaxis": {
           "automargin": true,
           "gridcolor": "white",
           "linecolor": "white",
           "ticks": "",
           "title": {
            "standoff": 15
           },
           "zerolinecolor": "white",
           "zerolinewidth": 2
          }
         }
        },
        "title": {
         "font": {
          "color": "#4D5663"
         }
        },
        "xaxis": {
         "gridcolor": "#E1E5ED",
         "showgrid": true,
         "tickfont": {
          "color": "#4D5663"
         },
         "title": {
          "font": {
           "color": "#4D5663"
          },
          "text": ""
         },
         "zerolinecolor": "#E1E5ED"
        },
        "yaxis": {
         "gridcolor": "#E1E5ED",
         "showgrid": true,
         "tickfont": {
          "color": "#4D5663"
         },
         "title": {
          "font": {
           "color": "#4D5663"
          },
          "text": ""
         },
         "zerolinecolor": "#E1E5ED"
        }
       }
      },
      "text/html": [
       "<div>                            <div id=\"7802a519-2bf8-4911-b85b-184d3d6bf52e\" class=\"plotly-graph-div\" style=\"height:525px; width:100%;\"></div>            <script type=\"text/javascript\">                require([\"plotly\"], function(Plotly) {                    window.PLOTLYENV=window.PLOTLYENV || {};\n",
       "                    window.PLOTLYENV.BASE_URL='https://plot.ly';                                    if (document.getElementById(\"7802a519-2bf8-4911-b85b-184d3d6bf52e\")) {                    Plotly.newPlot(                        \"7802a519-2bf8-4911-b85b-184d3d6bf52e\",                        [{\"line\": {\"color\": \"rgba(255, 153, 51, 1.0)\", \"dash\": \"solid\", \"shape\": \"linear\", \"width\": 1.3}, \"marker\": {\"size\": 10, \"symbol\": \"circle\"}, \"mode\": \"markers\", \"name\": \"B\", \"text\": \"\", \"type\": \"scatter\", \"x\": [0.9197133807614235, 0.7794542364536206, -0.09649744911588459, 1.7774800045254102, -1.225964420847159, -2.393954265258908, 0.41990419231764947, 0.8616029917587111, -0.24737914798211716, 1.0274749369056067, 0.07649296724874846, 0.9437322356592867, 0.1996489583939814, 1.58427473537746, -0.371723359297978, 0.22979824338857696, 1.53658689215229, 0.012158305181052004, -1.1602507795274908, 0.3774550134420746, 1.0644162387146285, -0.221044462875774, 0.5012106305315702, 0.7778064820592324, 1.3147485229906, -0.865092812047564, -0.42410365767333646, -0.357691233878992, -0.3414067537683034, 0.6375951853421511, -0.3754133832264921, -0.16610414089782688, 0.388431315898646, -0.3228333339830255, 0.039263470128833015, 0.4639010359623582, 0.1485992496867083, -0.296115590941632, 0.14819367088853724, 0.2026284784393481, -0.2348139336782935, -1.6800725044112985, 0.8701378536749685, 0.341188400775277, -0.012237024383443105, 0.2622618333273738, 1.1462065561704708, -0.054086747031590936, 0.1843621043620616, -0.5398771840429352, -1.0722382532014312, -0.050435157686543705, 2.8895581697000896, -0.6719852661171711, 0.46460937644349315, 1.9923968859714174, -1.0345940853003668, -0.25508907607148096, 1.123636206992229, 0.4035748735001082, -0.2250374937301488, 1.0464100042119022, 0.2986891746841648, -0.11043242862740031, 0.10165226027586535, 0.005658435925281142, -0.9208657571597071, 1.2009839712573003, -0.4892870232330178, -0.06133536497774417, -1.0009550308856383, -0.48052367803749363, 0.8409796841631535, 1.5965466139596338, 2.120683106950889, -1.8799377668379869, -0.26563779261158504, -0.14704421316205113, -1.424161397157802, 0.47614096789664473, -0.5215117460381219, 0.4809600170045102, 0.6622103676774127, -1.2783556733428347, -0.022858985180589677, -1.563275342663613, -1.2424457285081163, 0.11681759263698047, 0.8466794065199111, 0.06490426589829766, 2.157438296279944, 0.6741389867698577, 1.8430788221397851, 2.5740175116462423, -1.306267582832392, 0.4205936086654285, 0.7180849950269751, -0.08247581270117955, 0.050969560380462284, 0.028843641125944345], \"y\": [-0.43313928439241856, -0.4425613609484883, -0.5831641104998745, -0.2329524920028297, -0.08333227347218153, -0.5550772129650813, 1.0232186344774543, -0.19691035869974066, 0.6652592638509605, -0.25855232158591246, 0.08708040495670091, -0.6120088084945818, -0.12277081811889581, 2.1596911192246933, 1.7453798976659805, -0.31058753595801675, 0.17173161909361565, 0.2486764341606997, 0.6290908277801774, -0.677253445352361, -0.29591717094932185, 3.5912914484649057, -1.5102507577162003, -0.10452519409142735, -1.3730093962486873, -0.10638571976969305, -2.562467956305081, 1.1873153508557435, 1.7306827104585627, 2.0784750273731722, 0.9144007762066864, -1.0486224523024477, 0.616468572611647, -0.05306969649565157, 0.11970754364521062, -1.8208242311258491, 0.8506780205806028, -0.7978765182395776, -1.6859900378557098, -0.807788418777815, -0.16415304493743396, -1.2779023594529633, 0.3959843079178932, -1.9172789727990776, -0.34839551770740596, -2.3010545326542164, -0.37336750540430746, 1.0143884366534197, -1.0602834509257386, -0.5472740730487213, -0.15065390894444045, 0.9220738873395795, 0.3587351344940042, 0.4156627803042604, -0.25573558842639865, -0.779343193627066, -0.2327866638752568, -0.38671823194117577, 1.033541673260998, 0.30249714031787445, 0.3548984753587199, -1.7011402723912104, 0.9303595461164846, -0.3376204164752655, 0.316175575817413, -0.6570536255194106, -0.07958066039765603, 0.6007547821873407, 0.3278495443745458, -0.9373708035630588, 0.024562754829876316, 0.15174005354443162, 1.7322891667012859, 2.266091829286604, 0.3322274142194494, -1.0968432532953514, -0.5395437695783084, 2.4261309168988627, -0.07146814570308693, 0.6575829486179565, 1.137000976387248, 1.3565204705711482, -0.3923880210686105, 0.9310307831146414, 0.44280425549872554, 0.6373350300534316, -0.37692833981371726, 0.9292375282970157, -1.3816024406765592, 1.2862751536692747, -0.2391628412182689, -0.134096521061821, 0.36325476918153177, -1.04756639847069, -1.3975724700107532, 0.4599275903138609, -0.0026229351024188562, -0.5112324125694927, 1.3983123334955245, 0.9451463539487669]}],                        {\"legend\": {\"bgcolor\": \"#F5F6F9\", \"font\": {\"color\": \"#4D5663\"}}, \"paper_bgcolor\": \"#F5F6F9\", \"plot_bgcolor\": \"#F5F6F9\", \"template\": {\"data\": {\"bar\": [{\"error_x\": {\"color\": \"#2a3f5f\"}, \"error_y\": {\"color\": \"#2a3f5f\"}, \"marker\": {\"line\": {\"color\": \"#E5ECF6\", \"width\": 0.5}}, \"type\": \"bar\"}], \"barpolar\": [{\"marker\": {\"line\": {\"color\": \"#E5ECF6\", \"width\": 0.5}}, \"type\": \"barpolar\"}], \"carpet\": [{\"aaxis\": {\"endlinecolor\": \"#2a3f5f\", \"gridcolor\": \"white\", \"linecolor\": \"white\", \"minorgridcolor\": \"white\", \"startlinecolor\": \"#2a3f5f\"}, \"baxis\": {\"endlinecolor\": \"#2a3f5f\", \"gridcolor\": \"white\", \"linecolor\": \"white\", \"minorgridcolor\": \"white\", \"startlinecolor\": \"#2a3f5f\"}, \"type\": \"carpet\"}], \"choropleth\": [{\"colorbar\": {\"outlinewidth\": 0, \"ticks\": \"\"}, \"type\": \"choropleth\"}], \"contour\": [{\"colorbar\": {\"outlinewidth\": 0, \"ticks\": \"\"}, \"colorscale\": [[0.0, \"#0d0887\"], [0.1111111111111111, \"#46039f\"], [0.2222222222222222, \"#7201a8\"], [0.3333333333333333, \"#9c179e\"], [0.4444444444444444, \"#bd3786\"], [0.5555555555555556, \"#d8576b\"], [0.6666666666666666, \"#ed7953\"], [0.7777777777777778, \"#fb9f3a\"], [0.8888888888888888, \"#fdca26\"], [1.0, \"#f0f921\"]], \"type\": \"contour\"}], \"contourcarpet\": [{\"colorbar\": {\"outlinewidth\": 0, \"ticks\": \"\"}, \"type\": \"contourcarpet\"}], \"heatmap\": [{\"colorbar\": {\"outlinewidth\": 0, \"ticks\": \"\"}, \"colorscale\": [[0.0, \"#0d0887\"], [0.1111111111111111, \"#46039f\"], [0.2222222222222222, \"#7201a8\"], [0.3333333333333333, \"#9c179e\"], [0.4444444444444444, \"#bd3786\"], [0.5555555555555556, \"#d8576b\"], [0.6666666666666666, \"#ed7953\"], [0.7777777777777778, \"#fb9f3a\"], [0.8888888888888888, \"#fdca26\"], [1.0, \"#f0f921\"]], \"type\": \"heatmap\"}], \"heatmapgl\": [{\"colorbar\": {\"outlinewidth\": 0, \"ticks\": \"\"}, \"colorscale\": [[0.0, \"#0d0887\"], [0.1111111111111111, \"#46039f\"], [0.2222222222222222, \"#7201a8\"], [0.3333333333333333, \"#9c179e\"], [0.4444444444444444, \"#bd3786\"], [0.5555555555555556, \"#d8576b\"], [0.6666666666666666, \"#ed7953\"], [0.7777777777777778, \"#fb9f3a\"], [0.8888888888888888, \"#fdca26\"], [1.0, \"#f0f921\"]], \"type\": \"heatmapgl\"}], \"histogram\": [{\"marker\": {\"colorbar\": {\"outlinewidth\": 0, \"ticks\": \"\"}}, \"type\": \"histogram\"}], \"histogram2d\": [{\"colorbar\": {\"outlinewidth\": 0, \"ticks\": \"\"}, \"colorscale\": [[0.0, \"#0d0887\"], [0.1111111111111111, \"#46039f\"], [0.2222222222222222, \"#7201a8\"], [0.3333333333333333, \"#9c179e\"], [0.4444444444444444, \"#bd3786\"], [0.5555555555555556, \"#d8576b\"], [0.6666666666666666, \"#ed7953\"], [0.7777777777777778, \"#fb9f3a\"], [0.8888888888888888, \"#fdca26\"], [1.0, \"#f0f921\"]], \"type\": \"histogram2d\"}], \"histogram2dcontour\": [{\"colorbar\": {\"outlinewidth\": 0, \"ticks\": \"\"}, \"colorscale\": [[0.0, \"#0d0887\"], [0.1111111111111111, \"#46039f\"], [0.2222222222222222, \"#7201a8\"], [0.3333333333333333, \"#9c179e\"], [0.4444444444444444, \"#bd3786\"], [0.5555555555555556, \"#d8576b\"], [0.6666666666666666, \"#ed7953\"], [0.7777777777777778, \"#fb9f3a\"], [0.8888888888888888, \"#fdca26\"], [1.0, \"#f0f921\"]], \"type\": \"histogram2dcontour\"}], \"mesh3d\": [{\"colorbar\": {\"outlinewidth\": 0, \"ticks\": \"\"}, \"type\": \"mesh3d\"}], \"parcoords\": [{\"line\": {\"colorbar\": {\"outlinewidth\": 0, \"ticks\": \"\"}}, \"type\": \"parcoords\"}], \"pie\": [{\"automargin\": true, \"type\": \"pie\"}], \"scatter\": [{\"marker\": {\"colorbar\": {\"outlinewidth\": 0, \"ticks\": \"\"}}, \"type\": \"scatter\"}], \"scatter3d\": [{\"line\": {\"colorbar\": {\"outlinewidth\": 0, \"ticks\": \"\"}}, \"marker\": {\"colorbar\": {\"outlinewidth\": 0, \"ticks\": \"\"}}, \"type\": \"scatter3d\"}], \"scattercarpet\": [{\"marker\": {\"colorbar\": {\"outlinewidth\": 0, \"ticks\": \"\"}}, \"type\": \"scattercarpet\"}], \"scattergeo\": [{\"marker\": {\"colorbar\": {\"outlinewidth\": 0, \"ticks\": \"\"}}, \"type\": \"scattergeo\"}], \"scattergl\": [{\"marker\": {\"colorbar\": {\"outlinewidth\": 0, \"ticks\": \"\"}}, \"type\": \"scattergl\"}], \"scattermapbox\": [{\"marker\": {\"colorbar\": {\"outlinewidth\": 0, \"ticks\": \"\"}}, \"type\": \"scattermapbox\"}], \"scatterpolar\": [{\"marker\": {\"colorbar\": {\"outlinewidth\": 0, \"ticks\": \"\"}}, \"type\": \"scatterpolar\"}], \"scatterpolargl\": [{\"marker\": {\"colorbar\": {\"outlinewidth\": 0, \"ticks\": \"\"}}, \"type\": \"scatterpolargl\"}], \"scatterternary\": [{\"marker\": {\"colorbar\": {\"outlinewidth\": 0, \"ticks\": \"\"}}, \"type\": \"scatterternary\"}], \"surface\": [{\"colorbar\": {\"outlinewidth\": 0, \"ticks\": \"\"}, \"colorscale\": [[0.0, \"#0d0887\"], [0.1111111111111111, \"#46039f\"], [0.2222222222222222, \"#7201a8\"], [0.3333333333333333, \"#9c179e\"], [0.4444444444444444, \"#bd3786\"], [0.5555555555555556, \"#d8576b\"], [0.6666666666666666, \"#ed7953\"], [0.7777777777777778, \"#fb9f3a\"], [0.8888888888888888, \"#fdca26\"], [1.0, \"#f0f921\"]], \"type\": \"surface\"}], \"table\": [{\"cells\": {\"fill\": {\"color\": \"#EBF0F8\"}, \"line\": {\"color\": \"white\"}}, \"header\": {\"fill\": {\"color\": \"#C8D4E3\"}, \"line\": {\"color\": \"white\"}}, \"type\": \"table\"}]}, \"layout\": {\"annotationdefaults\": {\"arrowcolor\": \"#2a3f5f\", \"arrowhead\": 0, \"arrowwidth\": 1}, \"autotypenumbers\": \"strict\", \"coloraxis\": {\"colorbar\": {\"outlinewidth\": 0, \"ticks\": \"\"}}, \"colorscale\": {\"diverging\": [[0, \"#8e0152\"], [0.1, \"#c51b7d\"], [0.2, \"#de77ae\"], [0.3, \"#f1b6da\"], [0.4, \"#fde0ef\"], [0.5, \"#f7f7f7\"], [0.6, \"#e6f5d0\"], [0.7, \"#b8e186\"], [0.8, \"#7fbc41\"], [0.9, \"#4d9221\"], [1, \"#276419\"]], \"sequential\": [[0.0, \"#0d0887\"], [0.1111111111111111, \"#46039f\"], [0.2222222222222222, \"#7201a8\"], [0.3333333333333333, \"#9c179e\"], [0.4444444444444444, \"#bd3786\"], [0.5555555555555556, \"#d8576b\"], [0.6666666666666666, \"#ed7953\"], [0.7777777777777778, \"#fb9f3a\"], [0.8888888888888888, \"#fdca26\"], [1.0, \"#f0f921\"]], \"sequentialminus\": [[0.0, \"#0d0887\"], [0.1111111111111111, \"#46039f\"], [0.2222222222222222, \"#7201a8\"], [0.3333333333333333, \"#9c179e\"], [0.4444444444444444, \"#bd3786\"], [0.5555555555555556, \"#d8576b\"], [0.6666666666666666, \"#ed7953\"], [0.7777777777777778, \"#fb9f3a\"], [0.8888888888888888, \"#fdca26\"], [1.0, \"#f0f921\"]]}, \"colorway\": [\"#636efa\", \"#EF553B\", \"#00cc96\", \"#ab63fa\", \"#FFA15A\", \"#19d3f3\", \"#FF6692\", \"#B6E880\", \"#FF97FF\", \"#FECB52\"], \"font\": {\"color\": \"#2a3f5f\"}, \"geo\": {\"bgcolor\": \"white\", \"lakecolor\": \"white\", \"landcolor\": \"#E5ECF6\", \"showlakes\": true, \"showland\": true, \"subunitcolor\": \"white\"}, \"hoverlabel\": {\"align\": \"left\"}, \"hovermode\": \"closest\", \"mapbox\": {\"style\": \"light\"}, \"paper_bgcolor\": \"white\", \"plot_bgcolor\": \"#E5ECF6\", \"polar\": {\"angularaxis\": {\"gridcolor\": \"white\", \"linecolor\": \"white\", \"ticks\": \"\"}, \"bgcolor\": \"#E5ECF6\", \"radialaxis\": {\"gridcolor\": \"white\", \"linecolor\": \"white\", \"ticks\": \"\"}}, \"scene\": {\"xaxis\": {\"backgroundcolor\": \"#E5ECF6\", \"gridcolor\": \"white\", \"gridwidth\": 2, \"linecolor\": \"white\", \"showbackground\": true, \"ticks\": \"\", \"zerolinecolor\": \"white\"}, \"yaxis\": {\"backgroundcolor\": \"#E5ECF6\", \"gridcolor\": \"white\", \"gridwidth\": 2, \"linecolor\": \"white\", \"showbackground\": true, \"ticks\": \"\", \"zerolinecolor\": \"white\"}, \"zaxis\": {\"backgroundcolor\": \"#E5ECF6\", \"gridcolor\": \"white\", \"gridwidth\": 2, \"linecolor\": \"white\", \"showbackground\": true, \"ticks\": \"\", \"zerolinecolor\": \"white\"}}, \"shapedefaults\": {\"line\": {\"color\": \"#2a3f5f\"}}, \"ternary\": {\"aaxis\": {\"gridcolor\": \"white\", \"linecolor\": \"white\", \"ticks\": \"\"}, \"baxis\": {\"gridcolor\": \"white\", \"linecolor\": \"white\", \"ticks\": \"\"}, \"bgcolor\": \"#E5ECF6\", \"caxis\": {\"gridcolor\": \"white\", \"linecolor\": \"white\", \"ticks\": \"\"}}, \"title\": {\"x\": 0.05}, \"xaxis\": {\"automargin\": true, \"gridcolor\": \"white\", \"linecolor\": \"white\", \"ticks\": \"\", \"title\": {\"standoff\": 15}, \"zerolinecolor\": \"white\", \"zerolinewidth\": 2}, \"yaxis\": {\"automargin\": true, \"gridcolor\": \"white\", \"linecolor\": \"white\", \"ticks\": \"\", \"title\": {\"standoff\": 15}, \"zerolinecolor\": \"white\", \"zerolinewidth\": 2}}}, \"title\": {\"font\": {\"color\": \"#4D5663\"}}, \"xaxis\": {\"gridcolor\": \"#E1E5ED\", \"showgrid\": true, \"tickfont\": {\"color\": \"#4D5663\"}, \"title\": {\"font\": {\"color\": \"#4D5663\"}, \"text\": \"\"}, \"zerolinecolor\": \"#E1E5ED\"}, \"yaxis\": {\"gridcolor\": \"#E1E5ED\", \"showgrid\": true, \"tickfont\": {\"color\": \"#4D5663\"}, \"title\": {\"font\": {\"color\": \"#4D5663\"}, \"text\": \"\"}, \"zerolinecolor\": \"#E1E5ED\"}},                        {\"showLink\": true, \"linkText\": \"Export to plot.ly\", \"plotlyServerURL\": \"https://plot.ly\", \"responsive\": true}                    ).then(function(){\n",
       "                            \n",
       "var gd = document.getElementById('7802a519-2bf8-4911-b85b-184d3d6bf52e');\n",
       "var x = new MutationObserver(function (mutations, observer) {{\n",
       "        var display = window.getComputedStyle(gd).display;\n",
       "        if (!display || display === 'none') {{\n",
       "            console.log([gd, 'removed!']);\n",
       "            Plotly.purge(gd);\n",
       "            observer.disconnect();\n",
       "        }}\n",
       "}});\n",
       "\n",
       "// Listen for the removal of the full notebook cells\n",
       "var notebookContainer = gd.closest('#notebook-container');\n",
       "if (notebookContainer) {{\n",
       "    x.observe(notebookContainer, {childList: true});\n",
       "}}\n",
       "\n",
       "// Listen for the clearing of the current output cell\n",
       "var outputEl = gd.closest('.output');\n",
       "if (outputEl) {{\n",
       "    x.observe(outputEl, {childList: true});\n",
       "}}\n",
       "\n",
       "                        })                };                });            </script>        </div>"
      ]
     },
     "metadata": {},
     "output_type": "display_data"
    }
   ],
   "source": [
    "df.iplot(kind='scatter',x='A',y='B',mode='markers',size=10)"
   ]
  },
  {
   "cell_type": "markdown",
   "metadata": {},
   "source": [
    "## Bar Plots"
   ]
  },
  {
   "cell_type": "code",
   "execution_count": 16,
   "metadata": {},
   "outputs": [
    {
     "data": {
      "application/vnd.plotly.v1+json": {
       "config": {
        "linkText": "Export to plot.ly",
        "plotlyServerURL": "https://plot.ly",
        "showLink": true
       },
       "data": [
        {
         "marker": {
          "color": "rgba(255, 153, 51, 0.6)",
          "line": {
           "color": "rgba(255, 153, 51, 1.0)",
           "width": 1
          }
         },
         "name": "Values",
         "orientation": "v",
         "text": "",
         "type": "bar",
         "x": [
          "A",
          "B",
          "C"
         ],
         "y": [
          32,
          43,
          50
         ]
        }
       ],
       "layout": {
        "legend": {
         "bgcolor": "#F5F6F9",
         "font": {
          "color": "#4D5663"
         }
        },
        "paper_bgcolor": "#F5F6F9",
        "plot_bgcolor": "#F5F6F9",
        "template": {
         "data": {
          "bar": [
           {
            "error_x": {
             "color": "#2a3f5f"
            },
            "error_y": {
             "color": "#2a3f5f"
            },
            "marker": {
             "line": {
              "color": "#E5ECF6",
              "width": 0.5
             }
            },
            "type": "bar"
           }
          ],
          "barpolar": [
           {
            "marker": {
             "line": {
              "color": "#E5ECF6",
              "width": 0.5
             }
            },
            "type": "barpolar"
           }
          ],
          "carpet": [
           {
            "aaxis": {
             "endlinecolor": "#2a3f5f",
             "gridcolor": "white",
             "linecolor": "white",
             "minorgridcolor": "white",
             "startlinecolor": "#2a3f5f"
            },
            "baxis": {
             "endlinecolor": "#2a3f5f",
             "gridcolor": "white",
             "linecolor": "white",
             "minorgridcolor": "white",
             "startlinecolor": "#2a3f5f"
            },
            "type": "carpet"
           }
          ],
          "choropleth": [
           {
            "colorbar": {
             "outlinewidth": 0,
             "ticks": ""
            },
            "type": "choropleth"
           }
          ],
          "contour": [
           {
            "colorbar": {
             "outlinewidth": 0,
             "ticks": ""
            },
            "colorscale": [
             [
              0,
              "#0d0887"
             ],
             [
              0.1111111111111111,
              "#46039f"
             ],
             [
              0.2222222222222222,
              "#7201a8"
             ],
             [
              0.3333333333333333,
              "#9c179e"
             ],
             [
              0.4444444444444444,
              "#bd3786"
             ],
             [
              0.5555555555555556,
              "#d8576b"
             ],
             [
              0.6666666666666666,
              "#ed7953"
             ],
             [
              0.7777777777777778,
              "#fb9f3a"
             ],
             [
              0.8888888888888888,
              "#fdca26"
             ],
             [
              1,
              "#f0f921"
             ]
            ],
            "type": "contour"
           }
          ],
          "contourcarpet": [
           {
            "colorbar": {
             "outlinewidth": 0,
             "ticks": ""
            },
            "type": "contourcarpet"
           }
          ],
          "heatmap": [
           {
            "colorbar": {
             "outlinewidth": 0,
             "ticks": ""
            },
            "colorscale": [
             [
              0,
              "#0d0887"
             ],
             [
              0.1111111111111111,
              "#46039f"
             ],
             [
              0.2222222222222222,
              "#7201a8"
             ],
             [
              0.3333333333333333,
              "#9c179e"
             ],
             [
              0.4444444444444444,
              "#bd3786"
             ],
             [
              0.5555555555555556,
              "#d8576b"
             ],
             [
              0.6666666666666666,
              "#ed7953"
             ],
             [
              0.7777777777777778,
              "#fb9f3a"
             ],
             [
              0.8888888888888888,
              "#fdca26"
             ],
             [
              1,
              "#f0f921"
             ]
            ],
            "type": "heatmap"
           }
          ],
          "heatmapgl": [
           {
            "colorbar": {
             "outlinewidth": 0,
             "ticks": ""
            },
            "colorscale": [
             [
              0,
              "#0d0887"
             ],
             [
              0.1111111111111111,
              "#46039f"
             ],
             [
              0.2222222222222222,
              "#7201a8"
             ],
             [
              0.3333333333333333,
              "#9c179e"
             ],
             [
              0.4444444444444444,
              "#bd3786"
             ],
             [
              0.5555555555555556,
              "#d8576b"
             ],
             [
              0.6666666666666666,
              "#ed7953"
             ],
             [
              0.7777777777777778,
              "#fb9f3a"
             ],
             [
              0.8888888888888888,
              "#fdca26"
             ],
             [
              1,
              "#f0f921"
             ]
            ],
            "type": "heatmapgl"
           }
          ],
          "histogram": [
           {
            "marker": {
             "colorbar": {
              "outlinewidth": 0,
              "ticks": ""
             }
            },
            "type": "histogram"
           }
          ],
          "histogram2d": [
           {
            "colorbar": {
             "outlinewidth": 0,
             "ticks": ""
            },
            "colorscale": [
             [
              0,
              "#0d0887"
             ],
             [
              0.1111111111111111,
              "#46039f"
             ],
             [
              0.2222222222222222,
              "#7201a8"
             ],
             [
              0.3333333333333333,
              "#9c179e"
             ],
             [
              0.4444444444444444,
              "#bd3786"
             ],
             [
              0.5555555555555556,
              "#d8576b"
             ],
             [
              0.6666666666666666,
              "#ed7953"
             ],
             [
              0.7777777777777778,
              "#fb9f3a"
             ],
             [
              0.8888888888888888,
              "#fdca26"
             ],
             [
              1,
              "#f0f921"
             ]
            ],
            "type": "histogram2d"
           }
          ],
          "histogram2dcontour": [
           {
            "colorbar": {
             "outlinewidth": 0,
             "ticks": ""
            },
            "colorscale": [
             [
              0,
              "#0d0887"
             ],
             [
              0.1111111111111111,
              "#46039f"
             ],
             [
              0.2222222222222222,
              "#7201a8"
             ],
             [
              0.3333333333333333,
              "#9c179e"
             ],
             [
              0.4444444444444444,
              "#bd3786"
             ],
             [
              0.5555555555555556,
              "#d8576b"
             ],
             [
              0.6666666666666666,
              "#ed7953"
             ],
             [
              0.7777777777777778,
              "#fb9f3a"
             ],
             [
              0.8888888888888888,
              "#fdca26"
             ],
             [
              1,
              "#f0f921"
             ]
            ],
            "type": "histogram2dcontour"
           }
          ],
          "mesh3d": [
           {
            "colorbar": {
             "outlinewidth": 0,
             "ticks": ""
            },
            "type": "mesh3d"
           }
          ],
          "parcoords": [
           {
            "line": {
             "colorbar": {
              "outlinewidth": 0,
              "ticks": ""
             }
            },
            "type": "parcoords"
           }
          ],
          "pie": [
           {
            "automargin": true,
            "type": "pie"
           }
          ],
          "scatter": [
           {
            "marker": {
             "colorbar": {
              "outlinewidth": 0,
              "ticks": ""
             }
            },
            "type": "scatter"
           }
          ],
          "scatter3d": [
           {
            "line": {
             "colorbar": {
              "outlinewidth": 0,
              "ticks": ""
             }
            },
            "marker": {
             "colorbar": {
              "outlinewidth": 0,
              "ticks": ""
             }
            },
            "type": "scatter3d"
           }
          ],
          "scattercarpet": [
           {
            "marker": {
             "colorbar": {
              "outlinewidth": 0,
              "ticks": ""
             }
            },
            "type": "scattercarpet"
           }
          ],
          "scattergeo": [
           {
            "marker": {
             "colorbar": {
              "outlinewidth": 0,
              "ticks": ""
             }
            },
            "type": "scattergeo"
           }
          ],
          "scattergl": [
           {
            "marker": {
             "colorbar": {
              "outlinewidth": 0,
              "ticks": ""
             }
            },
            "type": "scattergl"
           }
          ],
          "scattermapbox": [
           {
            "marker": {
             "colorbar": {
              "outlinewidth": 0,
              "ticks": ""
             }
            },
            "type": "scattermapbox"
           }
          ],
          "scatterpolar": [
           {
            "marker": {
             "colorbar": {
              "outlinewidth": 0,
              "ticks": ""
             }
            },
            "type": "scatterpolar"
           }
          ],
          "scatterpolargl": [
           {
            "marker": {
             "colorbar": {
              "outlinewidth": 0,
              "ticks": ""
             }
            },
            "type": "scatterpolargl"
           }
          ],
          "scatterternary": [
           {
            "marker": {
             "colorbar": {
              "outlinewidth": 0,
              "ticks": ""
             }
            },
            "type": "scatterternary"
           }
          ],
          "surface": [
           {
            "colorbar": {
             "outlinewidth": 0,
             "ticks": ""
            },
            "colorscale": [
             [
              0,
              "#0d0887"
             ],
             [
              0.1111111111111111,
              "#46039f"
             ],
             [
              0.2222222222222222,
              "#7201a8"
             ],
             [
              0.3333333333333333,
              "#9c179e"
             ],
             [
              0.4444444444444444,
              "#bd3786"
             ],
             [
              0.5555555555555556,
              "#d8576b"
             ],
             [
              0.6666666666666666,
              "#ed7953"
             ],
             [
              0.7777777777777778,
              "#fb9f3a"
             ],
             [
              0.8888888888888888,
              "#fdca26"
             ],
             [
              1,
              "#f0f921"
             ]
            ],
            "type": "surface"
           }
          ],
          "table": [
           {
            "cells": {
             "fill": {
              "color": "#EBF0F8"
             },
             "line": {
              "color": "white"
             }
            },
            "header": {
             "fill": {
              "color": "#C8D4E3"
             },
             "line": {
              "color": "white"
             }
            },
            "type": "table"
           }
          ]
         },
         "layout": {
          "annotationdefaults": {
           "arrowcolor": "#2a3f5f",
           "arrowhead": 0,
           "arrowwidth": 1
          },
          "autotypenumbers": "strict",
          "coloraxis": {
           "colorbar": {
            "outlinewidth": 0,
            "ticks": ""
           }
          },
          "colorscale": {
           "diverging": [
            [
             0,
             "#8e0152"
            ],
            [
             0.1,
             "#c51b7d"
            ],
            [
             0.2,
             "#de77ae"
            ],
            [
             0.3,
             "#f1b6da"
            ],
            [
             0.4,
             "#fde0ef"
            ],
            [
             0.5,
             "#f7f7f7"
            ],
            [
             0.6,
             "#e6f5d0"
            ],
            [
             0.7,
             "#b8e186"
            ],
            [
             0.8,
             "#7fbc41"
            ],
            [
             0.9,
             "#4d9221"
            ],
            [
             1,
             "#276419"
            ]
           ],
           "sequential": [
            [
             0,
             "#0d0887"
            ],
            [
             0.1111111111111111,
             "#46039f"
            ],
            [
             0.2222222222222222,
             "#7201a8"
            ],
            [
             0.3333333333333333,
             "#9c179e"
            ],
            [
             0.4444444444444444,
             "#bd3786"
            ],
            [
             0.5555555555555556,
             "#d8576b"
            ],
            [
             0.6666666666666666,
             "#ed7953"
            ],
            [
             0.7777777777777778,
             "#fb9f3a"
            ],
            [
             0.8888888888888888,
             "#fdca26"
            ],
            [
             1,
             "#f0f921"
            ]
           ],
           "sequentialminus": [
            [
             0,
             "#0d0887"
            ],
            [
             0.1111111111111111,
             "#46039f"
            ],
            [
             0.2222222222222222,
             "#7201a8"
            ],
            [
             0.3333333333333333,
             "#9c179e"
            ],
            [
             0.4444444444444444,
             "#bd3786"
            ],
            [
             0.5555555555555556,
             "#d8576b"
            ],
            [
             0.6666666666666666,
             "#ed7953"
            ],
            [
             0.7777777777777778,
             "#fb9f3a"
            ],
            [
             0.8888888888888888,
             "#fdca26"
            ],
            [
             1,
             "#f0f921"
            ]
           ]
          },
          "colorway": [
           "#636efa",
           "#EF553B",
           "#00cc96",
           "#ab63fa",
           "#FFA15A",
           "#19d3f3",
           "#FF6692",
           "#B6E880",
           "#FF97FF",
           "#FECB52"
          ],
          "font": {
           "color": "#2a3f5f"
          },
          "geo": {
           "bgcolor": "white",
           "lakecolor": "white",
           "landcolor": "#E5ECF6",
           "showlakes": true,
           "showland": true,
           "subunitcolor": "white"
          },
          "hoverlabel": {
           "align": "left"
          },
          "hovermode": "closest",
          "mapbox": {
           "style": "light"
          },
          "paper_bgcolor": "white",
          "plot_bgcolor": "#E5ECF6",
          "polar": {
           "angularaxis": {
            "gridcolor": "white",
            "linecolor": "white",
            "ticks": ""
           },
           "bgcolor": "#E5ECF6",
           "radialaxis": {
            "gridcolor": "white",
            "linecolor": "white",
            "ticks": ""
           }
          },
          "scene": {
           "xaxis": {
            "backgroundcolor": "#E5ECF6",
            "gridcolor": "white",
            "gridwidth": 2,
            "linecolor": "white",
            "showbackground": true,
            "ticks": "",
            "zerolinecolor": "white"
           },
           "yaxis": {
            "backgroundcolor": "#E5ECF6",
            "gridcolor": "white",
            "gridwidth": 2,
            "linecolor": "white",
            "showbackground": true,
            "ticks": "",
            "zerolinecolor": "white"
           },
           "zaxis": {
            "backgroundcolor": "#E5ECF6",
            "gridcolor": "white",
            "gridwidth": 2,
            "linecolor": "white",
            "showbackground": true,
            "ticks": "",
            "zerolinecolor": "white"
           }
          },
          "shapedefaults": {
           "line": {
            "color": "#2a3f5f"
           }
          },
          "ternary": {
           "aaxis": {
            "gridcolor": "white",
            "linecolor": "white",
            "ticks": ""
           },
           "baxis": {
            "gridcolor": "white",
            "linecolor": "white",
            "ticks": ""
           },
           "bgcolor": "#E5ECF6",
           "caxis": {
            "gridcolor": "white",
            "linecolor": "white",
            "ticks": ""
           }
          },
          "title": {
           "x": 0.05
          },
          "xaxis": {
           "automargin": true,
           "gridcolor": "white",
           "linecolor": "white",
           "ticks": "",
           "title": {
            "standoff": 15
           },
           "zerolinecolor": "white",
           "zerolinewidth": 2
          },
          "yaxis": {
           "automargin": true,
           "gridcolor": "white",
           "linecolor": "white",
           "ticks": "",
           "title": {
            "standoff": 15
           },
           "zerolinecolor": "white",
           "zerolinewidth": 2
          }
         }
        },
        "title": {
         "font": {
          "color": "#4D5663"
         }
        },
        "xaxis": {
         "gridcolor": "#E1E5ED",
         "showgrid": true,
         "tickfont": {
          "color": "#4D5663"
         },
         "title": {
          "font": {
           "color": "#4D5663"
          },
          "text": ""
         },
         "zerolinecolor": "#E1E5ED"
        },
        "yaxis": {
         "gridcolor": "#E1E5ED",
         "showgrid": true,
         "tickfont": {
          "color": "#4D5663"
         },
         "title": {
          "font": {
           "color": "#4D5663"
          },
          "text": ""
         },
         "zerolinecolor": "#E1E5ED"
        }
       }
      },
      "text/html": [
       "<div>                            <div id=\"c3db32ab-d4db-415f-b0a9-e898e05a8d98\" class=\"plotly-graph-div\" style=\"height:525px; width:100%;\"></div>            <script type=\"text/javascript\">                require([\"plotly\"], function(Plotly) {                    window.PLOTLYENV=window.PLOTLYENV || {};\n",
       "                    window.PLOTLYENV.BASE_URL='https://plot.ly';                                    if (document.getElementById(\"c3db32ab-d4db-415f-b0a9-e898e05a8d98\")) {                    Plotly.newPlot(                        \"c3db32ab-d4db-415f-b0a9-e898e05a8d98\",                        [{\"marker\": {\"color\": \"rgba(255, 153, 51, 0.6)\", \"line\": {\"color\": \"rgba(255, 153, 51, 1.0)\", \"width\": 1}}, \"name\": \"Values\", \"orientation\": \"v\", \"text\": \"\", \"type\": \"bar\", \"x\": [\"A\", \"B\", \"C\"], \"y\": [32, 43, 50]}],                        {\"legend\": {\"bgcolor\": \"#F5F6F9\", \"font\": {\"color\": \"#4D5663\"}}, \"paper_bgcolor\": \"#F5F6F9\", \"plot_bgcolor\": \"#F5F6F9\", \"template\": {\"data\": {\"bar\": [{\"error_x\": {\"color\": \"#2a3f5f\"}, \"error_y\": {\"color\": \"#2a3f5f\"}, \"marker\": {\"line\": {\"color\": \"#E5ECF6\", \"width\": 0.5}}, \"type\": \"bar\"}], \"barpolar\": [{\"marker\": {\"line\": {\"color\": \"#E5ECF6\", \"width\": 0.5}}, \"type\": \"barpolar\"}], \"carpet\": [{\"aaxis\": {\"endlinecolor\": \"#2a3f5f\", \"gridcolor\": \"white\", \"linecolor\": \"white\", \"minorgridcolor\": \"white\", \"startlinecolor\": \"#2a3f5f\"}, \"baxis\": {\"endlinecolor\": \"#2a3f5f\", \"gridcolor\": \"white\", \"linecolor\": \"white\", \"minorgridcolor\": \"white\", \"startlinecolor\": \"#2a3f5f\"}, \"type\": \"carpet\"}], \"choropleth\": [{\"colorbar\": {\"outlinewidth\": 0, \"ticks\": \"\"}, \"type\": \"choropleth\"}], \"contour\": [{\"colorbar\": {\"outlinewidth\": 0, \"ticks\": \"\"}, \"colorscale\": [[0.0, \"#0d0887\"], [0.1111111111111111, \"#46039f\"], [0.2222222222222222, \"#7201a8\"], [0.3333333333333333, \"#9c179e\"], [0.4444444444444444, \"#bd3786\"], [0.5555555555555556, \"#d8576b\"], [0.6666666666666666, \"#ed7953\"], [0.7777777777777778, \"#fb9f3a\"], [0.8888888888888888, \"#fdca26\"], [1.0, \"#f0f921\"]], \"type\": \"contour\"}], \"contourcarpet\": [{\"colorbar\": {\"outlinewidth\": 0, \"ticks\": \"\"}, \"type\": \"contourcarpet\"}], \"heatmap\": [{\"colorbar\": {\"outlinewidth\": 0, \"ticks\": \"\"}, \"colorscale\": [[0.0, \"#0d0887\"], [0.1111111111111111, \"#46039f\"], [0.2222222222222222, \"#7201a8\"], [0.3333333333333333, \"#9c179e\"], [0.4444444444444444, \"#bd3786\"], [0.5555555555555556, \"#d8576b\"], [0.6666666666666666, \"#ed7953\"], [0.7777777777777778, \"#fb9f3a\"], [0.8888888888888888, \"#fdca26\"], [1.0, \"#f0f921\"]], \"type\": \"heatmap\"}], \"heatmapgl\": [{\"colorbar\": {\"outlinewidth\": 0, \"ticks\": \"\"}, \"colorscale\": [[0.0, \"#0d0887\"], [0.1111111111111111, \"#46039f\"], [0.2222222222222222, \"#7201a8\"], [0.3333333333333333, \"#9c179e\"], [0.4444444444444444, \"#bd3786\"], [0.5555555555555556, \"#d8576b\"], [0.6666666666666666, \"#ed7953\"], [0.7777777777777778, \"#fb9f3a\"], [0.8888888888888888, \"#fdca26\"], [1.0, \"#f0f921\"]], \"type\": \"heatmapgl\"}], \"histogram\": [{\"marker\": {\"colorbar\": {\"outlinewidth\": 0, \"ticks\": \"\"}}, \"type\": \"histogram\"}], \"histogram2d\": [{\"colorbar\": {\"outlinewidth\": 0, \"ticks\": \"\"}, \"colorscale\": [[0.0, \"#0d0887\"], [0.1111111111111111, \"#46039f\"], [0.2222222222222222, \"#7201a8\"], [0.3333333333333333, \"#9c179e\"], [0.4444444444444444, \"#bd3786\"], [0.5555555555555556, \"#d8576b\"], [0.6666666666666666, \"#ed7953\"], [0.7777777777777778, \"#fb9f3a\"], [0.8888888888888888, \"#fdca26\"], [1.0, \"#f0f921\"]], \"type\": \"histogram2d\"}], \"histogram2dcontour\": [{\"colorbar\": {\"outlinewidth\": 0, \"ticks\": \"\"}, \"colorscale\": [[0.0, \"#0d0887\"], [0.1111111111111111, \"#46039f\"], [0.2222222222222222, \"#7201a8\"], [0.3333333333333333, \"#9c179e\"], [0.4444444444444444, \"#bd3786\"], [0.5555555555555556, \"#d8576b\"], [0.6666666666666666, \"#ed7953\"], [0.7777777777777778, \"#fb9f3a\"], [0.8888888888888888, \"#fdca26\"], [1.0, \"#f0f921\"]], \"type\": \"histogram2dcontour\"}], \"mesh3d\": [{\"colorbar\": {\"outlinewidth\": 0, \"ticks\": \"\"}, \"type\": \"mesh3d\"}], \"parcoords\": [{\"line\": {\"colorbar\": {\"outlinewidth\": 0, \"ticks\": \"\"}}, \"type\": \"parcoords\"}], \"pie\": [{\"automargin\": true, \"type\": \"pie\"}], \"scatter\": [{\"marker\": {\"colorbar\": {\"outlinewidth\": 0, \"ticks\": \"\"}}, \"type\": \"scatter\"}], \"scatter3d\": [{\"line\": {\"colorbar\": {\"outlinewidth\": 0, \"ticks\": \"\"}}, \"marker\": {\"colorbar\": {\"outlinewidth\": 0, \"ticks\": \"\"}}, \"type\": \"scatter3d\"}], \"scattercarpet\": [{\"marker\": {\"colorbar\": {\"outlinewidth\": 0, \"ticks\": \"\"}}, \"type\": \"scattercarpet\"}], \"scattergeo\": [{\"marker\": {\"colorbar\": {\"outlinewidth\": 0, \"ticks\": \"\"}}, \"type\": \"scattergeo\"}], \"scattergl\": [{\"marker\": {\"colorbar\": {\"outlinewidth\": 0, \"ticks\": \"\"}}, \"type\": \"scattergl\"}], \"scattermapbox\": [{\"marker\": {\"colorbar\": {\"outlinewidth\": 0, \"ticks\": \"\"}}, \"type\": \"scattermapbox\"}], \"scatterpolar\": [{\"marker\": {\"colorbar\": {\"outlinewidth\": 0, \"ticks\": \"\"}}, \"type\": \"scatterpolar\"}], \"scatterpolargl\": [{\"marker\": {\"colorbar\": {\"outlinewidth\": 0, \"ticks\": \"\"}}, \"type\": \"scatterpolargl\"}], \"scatterternary\": [{\"marker\": {\"colorbar\": {\"outlinewidth\": 0, \"ticks\": \"\"}}, \"type\": \"scatterternary\"}], \"surface\": [{\"colorbar\": {\"outlinewidth\": 0, \"ticks\": \"\"}, \"colorscale\": [[0.0, \"#0d0887\"], [0.1111111111111111, \"#46039f\"], [0.2222222222222222, \"#7201a8\"], [0.3333333333333333, \"#9c179e\"], [0.4444444444444444, \"#bd3786\"], [0.5555555555555556, \"#d8576b\"], [0.6666666666666666, \"#ed7953\"], [0.7777777777777778, \"#fb9f3a\"], [0.8888888888888888, \"#fdca26\"], [1.0, \"#f0f921\"]], \"type\": \"surface\"}], \"table\": [{\"cells\": {\"fill\": {\"color\": \"#EBF0F8\"}, \"line\": {\"color\": \"white\"}}, \"header\": {\"fill\": {\"color\": \"#C8D4E3\"}, \"line\": {\"color\": \"white\"}}, \"type\": \"table\"}]}, \"layout\": {\"annotationdefaults\": {\"arrowcolor\": \"#2a3f5f\", \"arrowhead\": 0, \"arrowwidth\": 1}, \"autotypenumbers\": \"strict\", \"coloraxis\": {\"colorbar\": {\"outlinewidth\": 0, \"ticks\": \"\"}}, \"colorscale\": {\"diverging\": [[0, \"#8e0152\"], [0.1, \"#c51b7d\"], [0.2, \"#de77ae\"], [0.3, \"#f1b6da\"], [0.4, \"#fde0ef\"], [0.5, \"#f7f7f7\"], [0.6, \"#e6f5d0\"], [0.7, \"#b8e186\"], [0.8, \"#7fbc41\"], [0.9, \"#4d9221\"], [1, \"#276419\"]], \"sequential\": [[0.0, \"#0d0887\"], [0.1111111111111111, \"#46039f\"], [0.2222222222222222, \"#7201a8\"], [0.3333333333333333, \"#9c179e\"], [0.4444444444444444, \"#bd3786\"], [0.5555555555555556, \"#d8576b\"], [0.6666666666666666, \"#ed7953\"], [0.7777777777777778, \"#fb9f3a\"], [0.8888888888888888, \"#fdca26\"], [1.0, \"#f0f921\"]], \"sequentialminus\": [[0.0, \"#0d0887\"], [0.1111111111111111, \"#46039f\"], [0.2222222222222222, \"#7201a8\"], [0.3333333333333333, \"#9c179e\"], [0.4444444444444444, \"#bd3786\"], [0.5555555555555556, \"#d8576b\"], [0.6666666666666666, \"#ed7953\"], [0.7777777777777778, \"#fb9f3a\"], [0.8888888888888888, \"#fdca26\"], [1.0, \"#f0f921\"]]}, \"colorway\": [\"#636efa\", \"#EF553B\", \"#00cc96\", \"#ab63fa\", \"#FFA15A\", \"#19d3f3\", \"#FF6692\", \"#B6E880\", \"#FF97FF\", \"#FECB52\"], \"font\": {\"color\": \"#2a3f5f\"}, \"geo\": {\"bgcolor\": \"white\", \"lakecolor\": \"white\", \"landcolor\": \"#E5ECF6\", \"showlakes\": true, \"showland\": true, \"subunitcolor\": \"white\"}, \"hoverlabel\": {\"align\": \"left\"}, \"hovermode\": \"closest\", \"mapbox\": {\"style\": \"light\"}, \"paper_bgcolor\": \"white\", \"plot_bgcolor\": \"#E5ECF6\", \"polar\": {\"angularaxis\": {\"gridcolor\": \"white\", \"linecolor\": \"white\", \"ticks\": \"\"}, \"bgcolor\": \"#E5ECF6\", \"radialaxis\": {\"gridcolor\": \"white\", \"linecolor\": \"white\", \"ticks\": \"\"}}, \"scene\": {\"xaxis\": {\"backgroundcolor\": \"#E5ECF6\", \"gridcolor\": \"white\", \"gridwidth\": 2, \"linecolor\": \"white\", \"showbackground\": true, \"ticks\": \"\", \"zerolinecolor\": \"white\"}, \"yaxis\": {\"backgroundcolor\": \"#E5ECF6\", \"gridcolor\": \"white\", \"gridwidth\": 2, \"linecolor\": \"white\", \"showbackground\": true, \"ticks\": \"\", \"zerolinecolor\": \"white\"}, \"zaxis\": {\"backgroundcolor\": \"#E5ECF6\", \"gridcolor\": \"white\", \"gridwidth\": 2, \"linecolor\": \"white\", \"showbackground\": true, \"ticks\": \"\", \"zerolinecolor\": \"white\"}}, \"shapedefaults\": {\"line\": {\"color\": \"#2a3f5f\"}}, \"ternary\": {\"aaxis\": {\"gridcolor\": \"white\", \"linecolor\": \"white\", \"ticks\": \"\"}, \"baxis\": {\"gridcolor\": \"white\", \"linecolor\": \"white\", \"ticks\": \"\"}, \"bgcolor\": \"#E5ECF6\", \"caxis\": {\"gridcolor\": \"white\", \"linecolor\": \"white\", \"ticks\": \"\"}}, \"title\": {\"x\": 0.05}, \"xaxis\": {\"automargin\": true, \"gridcolor\": \"white\", \"linecolor\": \"white\", \"ticks\": \"\", \"title\": {\"standoff\": 15}, \"zerolinecolor\": \"white\", \"zerolinewidth\": 2}, \"yaxis\": {\"automargin\": true, \"gridcolor\": \"white\", \"linecolor\": \"white\", \"ticks\": \"\", \"title\": {\"standoff\": 15}, \"zerolinecolor\": \"white\", \"zerolinewidth\": 2}}}, \"title\": {\"font\": {\"color\": \"#4D5663\"}}, \"xaxis\": {\"gridcolor\": \"#E1E5ED\", \"showgrid\": true, \"tickfont\": {\"color\": \"#4D5663\"}, \"title\": {\"font\": {\"color\": \"#4D5663\"}, \"text\": \"\"}, \"zerolinecolor\": \"#E1E5ED\"}, \"yaxis\": {\"gridcolor\": \"#E1E5ED\", \"showgrid\": true, \"tickfont\": {\"color\": \"#4D5663\"}, \"title\": {\"font\": {\"color\": \"#4D5663\"}, \"text\": \"\"}, \"zerolinecolor\": \"#E1E5ED\"}},                        {\"showLink\": true, \"linkText\": \"Export to plot.ly\", \"plotlyServerURL\": \"https://plot.ly\", \"responsive\": true}                    ).then(function(){\n",
       "                            \n",
       "var gd = document.getElementById('c3db32ab-d4db-415f-b0a9-e898e05a8d98');\n",
       "var x = new MutationObserver(function (mutations, observer) {{\n",
       "        var display = window.getComputedStyle(gd).display;\n",
       "        if (!display || display === 'none') {{\n",
       "            console.log([gd, 'removed!']);\n",
       "            Plotly.purge(gd);\n",
       "            observer.disconnect();\n",
       "        }}\n",
       "}});\n",
       "\n",
       "// Listen for the removal of the full notebook cells\n",
       "var notebookContainer = gd.closest('#notebook-container');\n",
       "if (notebookContainer) {{\n",
       "    x.observe(notebookContainer, {childList: true});\n",
       "}}\n",
       "\n",
       "// Listen for the clearing of the current output cell\n",
       "var outputEl = gd.closest('.output');\n",
       "if (outputEl) {{\n",
       "    x.observe(outputEl, {childList: true});\n",
       "}}\n",
       "\n",
       "                        })                };                });            </script>        </div>"
      ]
     },
     "metadata": {},
     "output_type": "display_data"
    }
   ],
   "source": [
    "df2.iplot(kind='bar',x='Category',y='Values')"
   ]
  },
  {
   "cell_type": "code",
   "execution_count": 17,
   "metadata": {},
   "outputs": [
    {
     "data": {
      "application/vnd.plotly.v1+json": {
       "config": {
        "linkText": "Export to plot.ly",
        "plotlyServerURL": "https://plot.ly",
        "showLink": true
       },
       "data": [
        {
         "marker": {
          "color": "rgba(255, 153, 51, 0.6)",
          "line": {
           "color": "rgba(255, 153, 51, 1.0)",
           "width": 1
          }
         },
         "name": "None",
         "orientation": "v",
         "text": "",
         "type": "bar",
         "x": [
          "A",
          "B",
          "C",
          "D"
         ],
         "y": [
          100,
          100,
          100,
          100
         ]
        }
       ],
       "layout": {
        "legend": {
         "bgcolor": "#F5F6F9",
         "font": {
          "color": "#4D5663"
         }
        },
        "paper_bgcolor": "#F5F6F9",
        "plot_bgcolor": "#F5F6F9",
        "template": {
         "data": {
          "bar": [
           {
            "error_x": {
             "color": "#2a3f5f"
            },
            "error_y": {
             "color": "#2a3f5f"
            },
            "marker": {
             "line": {
              "color": "#E5ECF6",
              "width": 0.5
             }
            },
            "type": "bar"
           }
          ],
          "barpolar": [
           {
            "marker": {
             "line": {
              "color": "#E5ECF6",
              "width": 0.5
             }
            },
            "type": "barpolar"
           }
          ],
          "carpet": [
           {
            "aaxis": {
             "endlinecolor": "#2a3f5f",
             "gridcolor": "white",
             "linecolor": "white",
             "minorgridcolor": "white",
             "startlinecolor": "#2a3f5f"
            },
            "baxis": {
             "endlinecolor": "#2a3f5f",
             "gridcolor": "white",
             "linecolor": "white",
             "minorgridcolor": "white",
             "startlinecolor": "#2a3f5f"
            },
            "type": "carpet"
           }
          ],
          "choropleth": [
           {
            "colorbar": {
             "outlinewidth": 0,
             "ticks": ""
            },
            "type": "choropleth"
           }
          ],
          "contour": [
           {
            "colorbar": {
             "outlinewidth": 0,
             "ticks": ""
            },
            "colorscale": [
             [
              0,
              "#0d0887"
             ],
             [
              0.1111111111111111,
              "#46039f"
             ],
             [
              0.2222222222222222,
              "#7201a8"
             ],
             [
              0.3333333333333333,
              "#9c179e"
             ],
             [
              0.4444444444444444,
              "#bd3786"
             ],
             [
              0.5555555555555556,
              "#d8576b"
             ],
             [
              0.6666666666666666,
              "#ed7953"
             ],
             [
              0.7777777777777778,
              "#fb9f3a"
             ],
             [
              0.8888888888888888,
              "#fdca26"
             ],
             [
              1,
              "#f0f921"
             ]
            ],
            "type": "contour"
           }
          ],
          "contourcarpet": [
           {
            "colorbar": {
             "outlinewidth": 0,
             "ticks": ""
            },
            "type": "contourcarpet"
           }
          ],
          "heatmap": [
           {
            "colorbar": {
             "outlinewidth": 0,
             "ticks": ""
            },
            "colorscale": [
             [
              0,
              "#0d0887"
             ],
             [
              0.1111111111111111,
              "#46039f"
             ],
             [
              0.2222222222222222,
              "#7201a8"
             ],
             [
              0.3333333333333333,
              "#9c179e"
             ],
             [
              0.4444444444444444,
              "#bd3786"
             ],
             [
              0.5555555555555556,
              "#d8576b"
             ],
             [
              0.6666666666666666,
              "#ed7953"
             ],
             [
              0.7777777777777778,
              "#fb9f3a"
             ],
             [
              0.8888888888888888,
              "#fdca26"
             ],
             [
              1,
              "#f0f921"
             ]
            ],
            "type": "heatmap"
           }
          ],
          "heatmapgl": [
           {
            "colorbar": {
             "outlinewidth": 0,
             "ticks": ""
            },
            "colorscale": [
             [
              0,
              "#0d0887"
             ],
             [
              0.1111111111111111,
              "#46039f"
             ],
             [
              0.2222222222222222,
              "#7201a8"
             ],
             [
              0.3333333333333333,
              "#9c179e"
             ],
             [
              0.4444444444444444,
              "#bd3786"
             ],
             [
              0.5555555555555556,
              "#d8576b"
             ],
             [
              0.6666666666666666,
              "#ed7953"
             ],
             [
              0.7777777777777778,
              "#fb9f3a"
             ],
             [
              0.8888888888888888,
              "#fdca26"
             ],
             [
              1,
              "#f0f921"
             ]
            ],
            "type": "heatmapgl"
           }
          ],
          "histogram": [
           {
            "marker": {
             "colorbar": {
              "outlinewidth": 0,
              "ticks": ""
             }
            },
            "type": "histogram"
           }
          ],
          "histogram2d": [
           {
            "colorbar": {
             "outlinewidth": 0,
             "ticks": ""
            },
            "colorscale": [
             [
              0,
              "#0d0887"
             ],
             [
              0.1111111111111111,
              "#46039f"
             ],
             [
              0.2222222222222222,
              "#7201a8"
             ],
             [
              0.3333333333333333,
              "#9c179e"
             ],
             [
              0.4444444444444444,
              "#bd3786"
             ],
             [
              0.5555555555555556,
              "#d8576b"
             ],
             [
              0.6666666666666666,
              "#ed7953"
             ],
             [
              0.7777777777777778,
              "#fb9f3a"
             ],
             [
              0.8888888888888888,
              "#fdca26"
             ],
             [
              1,
              "#f0f921"
             ]
            ],
            "type": "histogram2d"
           }
          ],
          "histogram2dcontour": [
           {
            "colorbar": {
             "outlinewidth": 0,
             "ticks": ""
            },
            "colorscale": [
             [
              0,
              "#0d0887"
             ],
             [
              0.1111111111111111,
              "#46039f"
             ],
             [
              0.2222222222222222,
              "#7201a8"
             ],
             [
              0.3333333333333333,
              "#9c179e"
             ],
             [
              0.4444444444444444,
              "#bd3786"
             ],
             [
              0.5555555555555556,
              "#d8576b"
             ],
             [
              0.6666666666666666,
              "#ed7953"
             ],
             [
              0.7777777777777778,
              "#fb9f3a"
             ],
             [
              0.8888888888888888,
              "#fdca26"
             ],
             [
              1,
              "#f0f921"
             ]
            ],
            "type": "histogram2dcontour"
           }
          ],
          "mesh3d": [
           {
            "colorbar": {
             "outlinewidth": 0,
             "ticks": ""
            },
            "type": "mesh3d"
           }
          ],
          "parcoords": [
           {
            "line": {
             "colorbar": {
              "outlinewidth": 0,
              "ticks": ""
             }
            },
            "type": "parcoords"
           }
          ],
          "pie": [
           {
            "automargin": true,
            "type": "pie"
           }
          ],
          "scatter": [
           {
            "marker": {
             "colorbar": {
              "outlinewidth": 0,
              "ticks": ""
             }
            },
            "type": "scatter"
           }
          ],
          "scatter3d": [
           {
            "line": {
             "colorbar": {
              "outlinewidth": 0,
              "ticks": ""
             }
            },
            "marker": {
             "colorbar": {
              "outlinewidth": 0,
              "ticks": ""
             }
            },
            "type": "scatter3d"
           }
          ],
          "scattercarpet": [
           {
            "marker": {
             "colorbar": {
              "outlinewidth": 0,
              "ticks": ""
             }
            },
            "type": "scattercarpet"
           }
          ],
          "scattergeo": [
           {
            "marker": {
             "colorbar": {
              "outlinewidth": 0,
              "ticks": ""
             }
            },
            "type": "scattergeo"
           }
          ],
          "scattergl": [
           {
            "marker": {
             "colorbar": {
              "outlinewidth": 0,
              "ticks": ""
             }
            },
            "type": "scattergl"
           }
          ],
          "scattermapbox": [
           {
            "marker": {
             "colorbar": {
              "outlinewidth": 0,
              "ticks": ""
             }
            },
            "type": "scattermapbox"
           }
          ],
          "scatterpolar": [
           {
            "marker": {
             "colorbar": {
              "outlinewidth": 0,
              "ticks": ""
             }
            },
            "type": "scatterpolar"
           }
          ],
          "scatterpolargl": [
           {
            "marker": {
             "colorbar": {
              "outlinewidth": 0,
              "ticks": ""
             }
            },
            "type": "scatterpolargl"
           }
          ],
          "scatterternary": [
           {
            "marker": {
             "colorbar": {
              "outlinewidth": 0,
              "ticks": ""
             }
            },
            "type": "scatterternary"
           }
          ],
          "surface": [
           {
            "colorbar": {
             "outlinewidth": 0,
             "ticks": ""
            },
            "colorscale": [
             [
              0,
              "#0d0887"
             ],
             [
              0.1111111111111111,
              "#46039f"
             ],
             [
              0.2222222222222222,
              "#7201a8"
             ],
             [
              0.3333333333333333,
              "#9c179e"
             ],
             [
              0.4444444444444444,
              "#bd3786"
             ],
             [
              0.5555555555555556,
              "#d8576b"
             ],
             [
              0.6666666666666666,
              "#ed7953"
             ],
             [
              0.7777777777777778,
              "#fb9f3a"
             ],
             [
              0.8888888888888888,
              "#fdca26"
             ],
             [
              1,
              "#f0f921"
             ]
            ],
            "type": "surface"
           }
          ],
          "table": [
           {
            "cells": {
             "fill": {
              "color": "#EBF0F8"
             },
             "line": {
              "color": "white"
             }
            },
            "header": {
             "fill": {
              "color": "#C8D4E3"
             },
             "line": {
              "color": "white"
             }
            },
            "type": "table"
           }
          ]
         },
         "layout": {
          "annotationdefaults": {
           "arrowcolor": "#2a3f5f",
           "arrowhead": 0,
           "arrowwidth": 1
          },
          "autotypenumbers": "strict",
          "coloraxis": {
           "colorbar": {
            "outlinewidth": 0,
            "ticks": ""
           }
          },
          "colorscale": {
           "diverging": [
            [
             0,
             "#8e0152"
            ],
            [
             0.1,
             "#c51b7d"
            ],
            [
             0.2,
             "#de77ae"
            ],
            [
             0.3,
             "#f1b6da"
            ],
            [
             0.4,
             "#fde0ef"
            ],
            [
             0.5,
             "#f7f7f7"
            ],
            [
             0.6,
             "#e6f5d0"
            ],
            [
             0.7,
             "#b8e186"
            ],
            [
             0.8,
             "#7fbc41"
            ],
            [
             0.9,
             "#4d9221"
            ],
            [
             1,
             "#276419"
            ]
           ],
           "sequential": [
            [
             0,
             "#0d0887"
            ],
            [
             0.1111111111111111,
             "#46039f"
            ],
            [
             0.2222222222222222,
             "#7201a8"
            ],
            [
             0.3333333333333333,
             "#9c179e"
            ],
            [
             0.4444444444444444,
             "#bd3786"
            ],
            [
             0.5555555555555556,
             "#d8576b"
            ],
            [
             0.6666666666666666,
             "#ed7953"
            ],
            [
             0.7777777777777778,
             "#fb9f3a"
            ],
            [
             0.8888888888888888,
             "#fdca26"
            ],
            [
             1,
             "#f0f921"
            ]
           ],
           "sequentialminus": [
            [
             0,
             "#0d0887"
            ],
            [
             0.1111111111111111,
             "#46039f"
            ],
            [
             0.2222222222222222,
             "#7201a8"
            ],
            [
             0.3333333333333333,
             "#9c179e"
            ],
            [
             0.4444444444444444,
             "#bd3786"
            ],
            [
             0.5555555555555556,
             "#d8576b"
            ],
            [
             0.6666666666666666,
             "#ed7953"
            ],
            [
             0.7777777777777778,
             "#fb9f3a"
            ],
            [
             0.8888888888888888,
             "#fdca26"
            ],
            [
             1,
             "#f0f921"
            ]
           ]
          },
          "colorway": [
           "#636efa",
           "#EF553B",
           "#00cc96",
           "#ab63fa",
           "#FFA15A",
           "#19d3f3",
           "#FF6692",
           "#B6E880",
           "#FF97FF",
           "#FECB52"
          ],
          "font": {
           "color": "#2a3f5f"
          },
          "geo": {
           "bgcolor": "white",
           "lakecolor": "white",
           "landcolor": "#E5ECF6",
           "showlakes": true,
           "showland": true,
           "subunitcolor": "white"
          },
          "hoverlabel": {
           "align": "left"
          },
          "hovermode": "closest",
          "mapbox": {
           "style": "light"
          },
          "paper_bgcolor": "white",
          "plot_bgcolor": "#E5ECF6",
          "polar": {
           "angularaxis": {
            "gridcolor": "white",
            "linecolor": "white",
            "ticks": ""
           },
           "bgcolor": "#E5ECF6",
           "radialaxis": {
            "gridcolor": "white",
            "linecolor": "white",
            "ticks": ""
           }
          },
          "scene": {
           "xaxis": {
            "backgroundcolor": "#E5ECF6",
            "gridcolor": "white",
            "gridwidth": 2,
            "linecolor": "white",
            "showbackground": true,
            "ticks": "",
            "zerolinecolor": "white"
           },
           "yaxis": {
            "backgroundcolor": "#E5ECF6",
            "gridcolor": "white",
            "gridwidth": 2,
            "linecolor": "white",
            "showbackground": true,
            "ticks": "",
            "zerolinecolor": "white"
           },
           "zaxis": {
            "backgroundcolor": "#E5ECF6",
            "gridcolor": "white",
            "gridwidth": 2,
            "linecolor": "white",
            "showbackground": true,
            "ticks": "",
            "zerolinecolor": "white"
           }
          },
          "shapedefaults": {
           "line": {
            "color": "#2a3f5f"
           }
          },
          "ternary": {
           "aaxis": {
            "gridcolor": "white",
            "linecolor": "white",
            "ticks": ""
           },
           "baxis": {
            "gridcolor": "white",
            "linecolor": "white",
            "ticks": ""
           },
           "bgcolor": "#E5ECF6",
           "caxis": {
            "gridcolor": "white",
            "linecolor": "white",
            "ticks": ""
           }
          },
          "title": {
           "x": 0.05
          },
          "xaxis": {
           "automargin": true,
           "gridcolor": "white",
           "linecolor": "white",
           "ticks": "",
           "title": {
            "standoff": 15
           },
           "zerolinecolor": "white",
           "zerolinewidth": 2
          },
          "yaxis": {
           "automargin": true,
           "gridcolor": "white",
           "linecolor": "white",
           "ticks": "",
           "title": {
            "standoff": 15
           },
           "zerolinecolor": "white",
           "zerolinewidth": 2
          }
         }
        },
        "title": {
         "font": {
          "color": "#4D5663"
         }
        },
        "xaxis": {
         "gridcolor": "#E1E5ED",
         "showgrid": true,
         "tickfont": {
          "color": "#4D5663"
         },
         "title": {
          "font": {
           "color": "#4D5663"
          },
          "text": ""
         },
         "zerolinecolor": "#E1E5ED"
        },
        "yaxis": {
         "gridcolor": "#E1E5ED",
         "showgrid": true,
         "tickfont": {
          "color": "#4D5663"
         },
         "title": {
          "font": {
           "color": "#4D5663"
          },
          "text": ""
         },
         "zerolinecolor": "#E1E5ED"
        }
       }
      },
      "text/html": [
       "<div>                            <div id=\"07f2fdfb-0cd2-49cc-a93e-9706f8070a23\" class=\"plotly-graph-div\" style=\"height:525px; width:100%;\"></div>            <script type=\"text/javascript\">                require([\"plotly\"], function(Plotly) {                    window.PLOTLYENV=window.PLOTLYENV || {};\n",
       "                    window.PLOTLYENV.BASE_URL='https://plot.ly';                                    if (document.getElementById(\"07f2fdfb-0cd2-49cc-a93e-9706f8070a23\")) {                    Plotly.newPlot(                        \"07f2fdfb-0cd2-49cc-a93e-9706f8070a23\",                        [{\"marker\": {\"color\": \"rgba(255, 153, 51, 0.6)\", \"line\": {\"color\": \"rgba(255, 153, 51, 1.0)\", \"width\": 1}}, \"name\": \"None\", \"orientation\": \"v\", \"text\": \"\", \"type\": \"bar\", \"x\": [\"A\", \"B\", \"C\", \"D\"], \"y\": [100, 100, 100, 100]}],                        {\"legend\": {\"bgcolor\": \"#F5F6F9\", \"font\": {\"color\": \"#4D5663\"}}, \"paper_bgcolor\": \"#F5F6F9\", \"plot_bgcolor\": \"#F5F6F9\", \"template\": {\"data\": {\"bar\": [{\"error_x\": {\"color\": \"#2a3f5f\"}, \"error_y\": {\"color\": \"#2a3f5f\"}, \"marker\": {\"line\": {\"color\": \"#E5ECF6\", \"width\": 0.5}}, \"type\": \"bar\"}], \"barpolar\": [{\"marker\": {\"line\": {\"color\": \"#E5ECF6\", \"width\": 0.5}}, \"type\": \"barpolar\"}], \"carpet\": [{\"aaxis\": {\"endlinecolor\": \"#2a3f5f\", \"gridcolor\": \"white\", \"linecolor\": \"white\", \"minorgridcolor\": \"white\", \"startlinecolor\": \"#2a3f5f\"}, \"baxis\": {\"endlinecolor\": \"#2a3f5f\", \"gridcolor\": \"white\", \"linecolor\": \"white\", \"minorgridcolor\": \"white\", \"startlinecolor\": \"#2a3f5f\"}, \"type\": \"carpet\"}], \"choropleth\": [{\"colorbar\": {\"outlinewidth\": 0, \"ticks\": \"\"}, \"type\": \"choropleth\"}], \"contour\": [{\"colorbar\": {\"outlinewidth\": 0, \"ticks\": \"\"}, \"colorscale\": [[0.0, \"#0d0887\"], [0.1111111111111111, \"#46039f\"], [0.2222222222222222, \"#7201a8\"], [0.3333333333333333, \"#9c179e\"], [0.4444444444444444, \"#bd3786\"], [0.5555555555555556, \"#d8576b\"], [0.6666666666666666, \"#ed7953\"], [0.7777777777777778, \"#fb9f3a\"], [0.8888888888888888, \"#fdca26\"], [1.0, \"#f0f921\"]], \"type\": \"contour\"}], \"contourcarpet\": [{\"colorbar\": {\"outlinewidth\": 0, \"ticks\": \"\"}, \"type\": \"contourcarpet\"}], \"heatmap\": [{\"colorbar\": {\"outlinewidth\": 0, \"ticks\": \"\"}, \"colorscale\": [[0.0, \"#0d0887\"], [0.1111111111111111, \"#46039f\"], [0.2222222222222222, \"#7201a8\"], [0.3333333333333333, \"#9c179e\"], [0.4444444444444444, \"#bd3786\"], [0.5555555555555556, \"#d8576b\"], [0.6666666666666666, \"#ed7953\"], [0.7777777777777778, \"#fb9f3a\"], [0.8888888888888888, \"#fdca26\"], [1.0, \"#f0f921\"]], \"type\": \"heatmap\"}], \"heatmapgl\": [{\"colorbar\": {\"outlinewidth\": 0, \"ticks\": \"\"}, \"colorscale\": [[0.0, \"#0d0887\"], [0.1111111111111111, \"#46039f\"], [0.2222222222222222, \"#7201a8\"], [0.3333333333333333, \"#9c179e\"], [0.4444444444444444, \"#bd3786\"], [0.5555555555555556, \"#d8576b\"], [0.6666666666666666, \"#ed7953\"], [0.7777777777777778, \"#fb9f3a\"], [0.8888888888888888, \"#fdca26\"], [1.0, \"#f0f921\"]], \"type\": \"heatmapgl\"}], \"histogram\": [{\"marker\": {\"colorbar\": {\"outlinewidth\": 0, \"ticks\": \"\"}}, \"type\": \"histogram\"}], \"histogram2d\": [{\"colorbar\": {\"outlinewidth\": 0, \"ticks\": \"\"}, \"colorscale\": [[0.0, \"#0d0887\"], [0.1111111111111111, \"#46039f\"], [0.2222222222222222, \"#7201a8\"], [0.3333333333333333, \"#9c179e\"], [0.4444444444444444, \"#bd3786\"], [0.5555555555555556, \"#d8576b\"], [0.6666666666666666, \"#ed7953\"], [0.7777777777777778, \"#fb9f3a\"], [0.8888888888888888, \"#fdca26\"], [1.0, \"#f0f921\"]], \"type\": \"histogram2d\"}], \"histogram2dcontour\": [{\"colorbar\": {\"outlinewidth\": 0, \"ticks\": \"\"}, \"colorscale\": [[0.0, \"#0d0887\"], [0.1111111111111111, \"#46039f\"], [0.2222222222222222, \"#7201a8\"], [0.3333333333333333, \"#9c179e\"], [0.4444444444444444, \"#bd3786\"], [0.5555555555555556, \"#d8576b\"], [0.6666666666666666, \"#ed7953\"], [0.7777777777777778, \"#fb9f3a\"], [0.8888888888888888, \"#fdca26\"], [1.0, \"#f0f921\"]], \"type\": \"histogram2dcontour\"}], \"mesh3d\": [{\"colorbar\": {\"outlinewidth\": 0, \"ticks\": \"\"}, \"type\": \"mesh3d\"}], \"parcoords\": [{\"line\": {\"colorbar\": {\"outlinewidth\": 0, \"ticks\": \"\"}}, \"type\": \"parcoords\"}], \"pie\": [{\"automargin\": true, \"type\": \"pie\"}], \"scatter\": [{\"marker\": {\"colorbar\": {\"outlinewidth\": 0, \"ticks\": \"\"}}, \"type\": \"scatter\"}], \"scatter3d\": [{\"line\": {\"colorbar\": {\"outlinewidth\": 0, \"ticks\": \"\"}}, \"marker\": {\"colorbar\": {\"outlinewidth\": 0, \"ticks\": \"\"}}, \"type\": \"scatter3d\"}], \"scattercarpet\": [{\"marker\": {\"colorbar\": {\"outlinewidth\": 0, \"ticks\": \"\"}}, \"type\": \"scattercarpet\"}], \"scattergeo\": [{\"marker\": {\"colorbar\": {\"outlinewidth\": 0, \"ticks\": \"\"}}, \"type\": \"scattergeo\"}], \"scattergl\": [{\"marker\": {\"colorbar\": {\"outlinewidth\": 0, \"ticks\": \"\"}}, \"type\": \"scattergl\"}], \"scattermapbox\": [{\"marker\": {\"colorbar\": {\"outlinewidth\": 0, \"ticks\": \"\"}}, \"type\": \"scattermapbox\"}], \"scatterpolar\": [{\"marker\": {\"colorbar\": {\"outlinewidth\": 0, \"ticks\": \"\"}}, \"type\": \"scatterpolar\"}], \"scatterpolargl\": [{\"marker\": {\"colorbar\": {\"outlinewidth\": 0, \"ticks\": \"\"}}, \"type\": \"scatterpolargl\"}], \"scatterternary\": [{\"marker\": {\"colorbar\": {\"outlinewidth\": 0, \"ticks\": \"\"}}, \"type\": \"scatterternary\"}], \"surface\": [{\"colorbar\": {\"outlinewidth\": 0, \"ticks\": \"\"}, \"colorscale\": [[0.0, \"#0d0887\"], [0.1111111111111111, \"#46039f\"], [0.2222222222222222, \"#7201a8\"], [0.3333333333333333, \"#9c179e\"], [0.4444444444444444, \"#bd3786\"], [0.5555555555555556, \"#d8576b\"], [0.6666666666666666, \"#ed7953\"], [0.7777777777777778, \"#fb9f3a\"], [0.8888888888888888, \"#fdca26\"], [1.0, \"#f0f921\"]], \"type\": \"surface\"}], \"table\": [{\"cells\": {\"fill\": {\"color\": \"#EBF0F8\"}, \"line\": {\"color\": \"white\"}}, \"header\": {\"fill\": {\"color\": \"#C8D4E3\"}, \"line\": {\"color\": \"white\"}}, \"type\": \"table\"}]}, \"layout\": {\"annotationdefaults\": {\"arrowcolor\": \"#2a3f5f\", \"arrowhead\": 0, \"arrowwidth\": 1}, \"autotypenumbers\": \"strict\", \"coloraxis\": {\"colorbar\": {\"outlinewidth\": 0, \"ticks\": \"\"}}, \"colorscale\": {\"diverging\": [[0, \"#8e0152\"], [0.1, \"#c51b7d\"], [0.2, \"#de77ae\"], [0.3, \"#f1b6da\"], [0.4, \"#fde0ef\"], [0.5, \"#f7f7f7\"], [0.6, \"#e6f5d0\"], [0.7, \"#b8e186\"], [0.8, \"#7fbc41\"], [0.9, \"#4d9221\"], [1, \"#276419\"]], \"sequential\": [[0.0, \"#0d0887\"], [0.1111111111111111, \"#46039f\"], [0.2222222222222222, \"#7201a8\"], [0.3333333333333333, \"#9c179e\"], [0.4444444444444444, \"#bd3786\"], [0.5555555555555556, \"#d8576b\"], [0.6666666666666666, \"#ed7953\"], [0.7777777777777778, \"#fb9f3a\"], [0.8888888888888888, \"#fdca26\"], [1.0, \"#f0f921\"]], \"sequentialminus\": [[0.0, \"#0d0887\"], [0.1111111111111111, \"#46039f\"], [0.2222222222222222, \"#7201a8\"], [0.3333333333333333, \"#9c179e\"], [0.4444444444444444, \"#bd3786\"], [0.5555555555555556, \"#d8576b\"], [0.6666666666666666, \"#ed7953\"], [0.7777777777777778, \"#fb9f3a\"], [0.8888888888888888, \"#fdca26\"], [1.0, \"#f0f921\"]]}, \"colorway\": [\"#636efa\", \"#EF553B\", \"#00cc96\", \"#ab63fa\", \"#FFA15A\", \"#19d3f3\", \"#FF6692\", \"#B6E880\", \"#FF97FF\", \"#FECB52\"], \"font\": {\"color\": \"#2a3f5f\"}, \"geo\": {\"bgcolor\": \"white\", \"lakecolor\": \"white\", \"landcolor\": \"#E5ECF6\", \"showlakes\": true, \"showland\": true, \"subunitcolor\": \"white\"}, \"hoverlabel\": {\"align\": \"left\"}, \"hovermode\": \"closest\", \"mapbox\": {\"style\": \"light\"}, \"paper_bgcolor\": \"white\", \"plot_bgcolor\": \"#E5ECF6\", \"polar\": {\"angularaxis\": {\"gridcolor\": \"white\", \"linecolor\": \"white\", \"ticks\": \"\"}, \"bgcolor\": \"#E5ECF6\", \"radialaxis\": {\"gridcolor\": \"white\", \"linecolor\": \"white\", \"ticks\": \"\"}}, \"scene\": {\"xaxis\": {\"backgroundcolor\": \"#E5ECF6\", \"gridcolor\": \"white\", \"gridwidth\": 2, \"linecolor\": \"white\", \"showbackground\": true, \"ticks\": \"\", \"zerolinecolor\": \"white\"}, \"yaxis\": {\"backgroundcolor\": \"#E5ECF6\", \"gridcolor\": \"white\", \"gridwidth\": 2, \"linecolor\": \"white\", \"showbackground\": true, \"ticks\": \"\", \"zerolinecolor\": \"white\"}, \"zaxis\": {\"backgroundcolor\": \"#E5ECF6\", \"gridcolor\": \"white\", \"gridwidth\": 2, \"linecolor\": \"white\", \"showbackground\": true, \"ticks\": \"\", \"zerolinecolor\": \"white\"}}, \"shapedefaults\": {\"line\": {\"color\": \"#2a3f5f\"}}, \"ternary\": {\"aaxis\": {\"gridcolor\": \"white\", \"linecolor\": \"white\", \"ticks\": \"\"}, \"baxis\": {\"gridcolor\": \"white\", \"linecolor\": \"white\", \"ticks\": \"\"}, \"bgcolor\": \"#E5ECF6\", \"caxis\": {\"gridcolor\": \"white\", \"linecolor\": \"white\", \"ticks\": \"\"}}, \"title\": {\"x\": 0.05}, \"xaxis\": {\"automargin\": true, \"gridcolor\": \"white\", \"linecolor\": \"white\", \"ticks\": \"\", \"title\": {\"standoff\": 15}, \"zerolinecolor\": \"white\", \"zerolinewidth\": 2}, \"yaxis\": {\"automargin\": true, \"gridcolor\": \"white\", \"linecolor\": \"white\", \"ticks\": \"\", \"title\": {\"standoff\": 15}, \"zerolinecolor\": \"white\", \"zerolinewidth\": 2}}}, \"title\": {\"font\": {\"color\": \"#4D5663\"}}, \"xaxis\": {\"gridcolor\": \"#E1E5ED\", \"showgrid\": true, \"tickfont\": {\"color\": \"#4D5663\"}, \"title\": {\"font\": {\"color\": \"#4D5663\"}, \"text\": \"\"}, \"zerolinecolor\": \"#E1E5ED\"}, \"yaxis\": {\"gridcolor\": \"#E1E5ED\", \"showgrid\": true, \"tickfont\": {\"color\": \"#4D5663\"}, \"title\": {\"font\": {\"color\": \"#4D5663\"}, \"text\": \"\"}, \"zerolinecolor\": \"#E1E5ED\"}},                        {\"showLink\": true, \"linkText\": \"Export to plot.ly\", \"plotlyServerURL\": \"https://plot.ly\", \"responsive\": true}                    ).then(function(){\n",
       "                            \n",
       "var gd = document.getElementById('07f2fdfb-0cd2-49cc-a93e-9706f8070a23');\n",
       "var x = new MutationObserver(function (mutations, observer) {{\n",
       "        var display = window.getComputedStyle(gd).display;\n",
       "        if (!display || display === 'none') {{\n",
       "            console.log([gd, 'removed!']);\n",
       "            Plotly.purge(gd);\n",
       "            observer.disconnect();\n",
       "        }}\n",
       "}});\n",
       "\n",
       "// Listen for the removal of the full notebook cells\n",
       "var notebookContainer = gd.closest('#notebook-container');\n",
       "if (notebookContainer) {{\n",
       "    x.observe(notebookContainer, {childList: true});\n",
       "}}\n",
       "\n",
       "// Listen for the clearing of the current output cell\n",
       "var outputEl = gd.closest('.output');\n",
       "if (outputEl) {{\n",
       "    x.observe(outputEl, {childList: true});\n",
       "}}\n",
       "\n",
       "                        })                };                });            </script>        </div>"
      ]
     },
     "metadata": {},
     "output_type": "display_data"
    }
   ],
   "source": [
    "df.count().iplot(kind='bar')"
   ]
  },
  {
   "cell_type": "markdown",
   "metadata": {},
   "source": [
    "## Boxplots"
   ]
  },
  {
   "cell_type": "code",
   "execution_count": 18,
   "metadata": {},
   "outputs": [
    {
     "data": {
      "application/vnd.plotly.v1+json": {
       "config": {
        "linkText": "Export to plot.ly",
        "plotlyServerURL": "https://plot.ly",
        "showLink": true
       },
       "data": [
        {
         "boxpoints": false,
         "line": {
          "width": 1.3
         },
         "marker": {
          "color": "rgba(255, 153, 51, 1.0)"
         },
         "name": "A",
         "orientation": "v",
         "type": "box",
         "y": [
          0.9197133807614235,
          0.7794542364536206,
          -0.09649744911588459,
          1.7774800045254102,
          -1.225964420847159,
          -2.393954265258908,
          0.41990419231764947,
          0.8616029917587111,
          -0.24737914798211716,
          1.0274749369056067,
          0.07649296724874846,
          0.9437322356592867,
          0.1996489583939814,
          1.58427473537746,
          -0.371723359297978,
          0.22979824338857696,
          1.53658689215229,
          0.012158305181052004,
          -1.1602507795274908,
          0.3774550134420746,
          1.0644162387146285,
          -0.221044462875774,
          0.5012106305315702,
          0.7778064820592324,
          1.3147485229906,
          -0.865092812047564,
          -0.42410365767333646,
          -0.357691233878992,
          -0.3414067537683034,
          0.6375951853421511,
          -0.3754133832264921,
          -0.16610414089782688,
          0.388431315898646,
          -0.3228333339830255,
          0.039263470128833015,
          0.4639010359623582,
          0.1485992496867083,
          -0.296115590941632,
          0.14819367088853724,
          0.2026284784393481,
          -0.2348139336782935,
          -1.6800725044112985,
          0.8701378536749685,
          0.341188400775277,
          -0.012237024383443105,
          0.2622618333273738,
          1.1462065561704708,
          -0.054086747031590936,
          0.1843621043620616,
          -0.5398771840429352,
          -1.0722382532014312,
          -0.050435157686543705,
          2.8895581697000896,
          -0.6719852661171711,
          0.46460937644349315,
          1.9923968859714174,
          -1.0345940853003668,
          -0.25508907607148096,
          1.123636206992229,
          0.4035748735001082,
          -0.2250374937301488,
          1.0464100042119022,
          0.2986891746841648,
          -0.11043242862740031,
          0.10165226027586535,
          0.005658435925281142,
          -0.9208657571597071,
          1.2009839712573003,
          -0.4892870232330178,
          -0.06133536497774417,
          -1.0009550308856383,
          -0.48052367803749363,
          0.8409796841631535,
          1.5965466139596338,
          2.120683106950889,
          -1.8799377668379869,
          -0.26563779261158504,
          -0.14704421316205113,
          -1.424161397157802,
          0.47614096789664473,
          -0.5215117460381219,
          0.4809600170045102,
          0.6622103676774127,
          -1.2783556733428347,
          -0.022858985180589677,
          -1.563275342663613,
          -1.2424457285081163,
          0.11681759263698047,
          0.8466794065199111,
          0.06490426589829766,
          2.157438296279944,
          0.6741389867698577,
          1.8430788221397851,
          2.5740175116462423,
          -1.306267582832392,
          0.4205936086654285,
          0.7180849950269751,
          -0.08247581270117955,
          0.050969560380462284,
          0.028843641125944345
         ]
        },
        {
         "boxpoints": false,
         "line": {
          "width": 1.3
         },
         "marker": {
          "color": "rgba(55, 128, 191, 1.0)"
         },
         "name": "B",
         "orientation": "v",
         "type": "box",
         "y": [
          -0.43313928439241856,
          -0.4425613609484883,
          -0.5831641104998745,
          -0.2329524920028297,
          -0.08333227347218153,
          -0.5550772129650813,
          1.0232186344774543,
          -0.19691035869974066,
          0.6652592638509605,
          -0.25855232158591246,
          0.08708040495670091,
          -0.6120088084945818,
          -0.12277081811889581,
          2.1596911192246933,
          1.7453798976659805,
          -0.31058753595801675,
          0.17173161909361565,
          0.2486764341606997,
          0.6290908277801774,
          -0.677253445352361,
          -0.29591717094932185,
          3.5912914484649057,
          -1.5102507577162003,
          -0.10452519409142735,
          -1.3730093962486873,
          -0.10638571976969305,
          -2.562467956305081,
          1.1873153508557435,
          1.7306827104585627,
          2.0784750273731722,
          0.9144007762066864,
          -1.0486224523024477,
          0.616468572611647,
          -0.05306969649565157,
          0.11970754364521062,
          -1.8208242311258491,
          0.8506780205806028,
          -0.7978765182395776,
          -1.6859900378557098,
          -0.807788418777815,
          -0.16415304493743396,
          -1.2779023594529633,
          0.3959843079178932,
          -1.9172789727990776,
          -0.34839551770740596,
          -2.3010545326542164,
          -0.37336750540430746,
          1.0143884366534197,
          -1.0602834509257386,
          -0.5472740730487213,
          -0.15065390894444045,
          0.9220738873395795,
          0.3587351344940042,
          0.4156627803042604,
          -0.25573558842639865,
          -0.779343193627066,
          -0.2327866638752568,
          -0.38671823194117577,
          1.033541673260998,
          0.30249714031787445,
          0.3548984753587199,
          -1.7011402723912104,
          0.9303595461164846,
          -0.3376204164752655,
          0.316175575817413,
          -0.6570536255194106,
          -0.07958066039765603,
          0.6007547821873407,
          0.3278495443745458,
          -0.9373708035630588,
          0.024562754829876316,
          0.15174005354443162,
          1.7322891667012859,
          2.266091829286604,
          0.3322274142194494,
          -1.0968432532953514,
          -0.5395437695783084,
          2.4261309168988627,
          -0.07146814570308693,
          0.6575829486179565,
          1.137000976387248,
          1.3565204705711482,
          -0.3923880210686105,
          0.9310307831146414,
          0.44280425549872554,
          0.6373350300534316,
          -0.37692833981371726,
          0.9292375282970157,
          -1.3816024406765592,
          1.2862751536692747,
          -0.2391628412182689,
          -0.134096521061821,
          0.36325476918153177,
          -1.04756639847069,
          -1.3975724700107532,
          0.4599275903138609,
          -0.0026229351024188562,
          -0.5112324125694927,
          1.3983123334955245,
          0.9451463539487669
         ]
        },
        {
         "boxpoints": false,
         "line": {
          "width": 1.3
         },
         "marker": {
          "color": "rgba(50, 171, 96, 1.0)"
         },
         "name": "C",
         "orientation": "v",
         "type": "box",
         "y": [
          -0.36472828338111823,
          -2.744034855183259,
          1.0508910323033953,
          -1.3210716162470777,
          -0.6328911673531687,
          -0.15010846191632013,
          -0.07951915603907586,
          -0.3143279866393601,
          0.6057400984111833,
          -0.6994012298006331,
          -0.21090427517540938,
          -0.8436249712561239,
          0.49346951495984837,
          0.4853757168748205,
          1.9390313879524337,
          0.13892186773980295,
          1.8125432050571813,
          -0.1577604392876527,
          -0.37635754616385414,
          -1.4310552301706887,
          0.8382401180593941,
          0.07536172950690108,
          0.5127682775371938,
          0.32569981275567234,
          2.828388550516968,
          -0.5743371297934008,
          0.060400308357195176,
          0.7956540479218478,
          1.3450563412740366,
          -1.016552167263412,
          0.6430448438346658,
          0.510634115982206,
          -0.6661440616176256,
          -0.5025066969093334,
          -0.8550353017824615,
          -0.9914905626880155,
          -0.9426251736601406,
          -0.257211133248541,
          0.3019795953708391,
          0.15258348269611327,
          0.013463340997592551,
          0.2957149879901049,
          0.25699538119859955,
          -0.46614520972096113,
          0.7334543867924153,
          -0.44148807143248525,
          0.0018561004770532975,
          1.5929815057860965,
          1.1351017984146794,
          0.12850117485378634,
          -0.3066874389924823,
          -0.5095211467457677,
          1.2188227788069237,
          1.1342238614857727,
          -0.39372410575528244,
          0.318672757921071,
          -1.5083148071423385,
          1.5105244382756182,
          -0.9597099280908813,
          1.6011874194688416,
          -0.5725114622602433,
          -0.44439960341458123,
          0.0673206661104729,
          -2.9703335493064835,
          0.5627527056266886,
          -0.22389086875044303,
          -0.17529922309717058,
          0.5633597459731945,
          -0.33160851994305235,
          1.45807626556701,
          -1.3821507395278307,
          -0.7241818141867004,
          1.5250901754339594,
          -0.29089082401874,
          -1.8211689542036897,
          1.2128194471161535,
          1.3807370331224766,
          -0.04334994244393579,
          0.1311422990612613,
          -1.7089036247585763,
          -0.7835715672898682,
          -0.7306358480570115,
          1.6481631484690011,
          2.461723274478377,
          0.4732612840974774,
          -0.19848175544682825,
          -1.2012922527458179,
          -0.04201566809091011,
          0.25380682557922446,
          -2.1643581880407052,
          -0.401988739583814,
          -0.419359566403672,
          0.793523597589395,
          -1.2802316764965542,
          -0.4674636795655414,
          -2.1012286186402784,
          1.8046959969573688,
          -0.3965604273992808,
          0.6444974555400979,
          -1.2086932977050724
         ]
        },
        {
         "boxpoints": false,
         "line": {
          "width": 1.3
         },
         "marker": {
          "color": "rgba(128, 0, 128, 1.0)"
         },
         "name": "D",
         "orientation": "v",
         "type": "box",
         "y": [
          -0.39699605459412246,
          0.9665733257016246,
          -0.03292056049028313,
          -0.9073213559681331,
          0.6831199981393419,
          0.5856846914816076,
          -0.43337138359969984,
          -0.7675150008275595,
          0.013888311737529004,
          1.0488230586953755,
          0.4354540251156954,
          -1.889577608294123,
          0.8355927922443603,
          0.2942195629854865,
          -1.0042496108243364,
          -0.4225148345278697,
          -0.6141822581428549,
          -0.7732928019152675,
          -0.019781848988358837,
          1.1551113803713724,
          0.48839338357613665,
          -1.0735992913498773,
          -2.191676479527262,
          -0.9530024743209956,
          -0.016420447246737656,
          -0.44905928884575846,
          -0.944324806543863,
          -1.0293134643694755,
          -1.2920564853589527,
          1.0200112412988298,
          -0.3605536695078327,
          1.0755394811016914,
          -1.7543454736337665,
          0.3751844174067533,
          0.045548734229861776,
          -0.2626034663179237,
          0.43353088292488834,
          0.29367520335394515,
          1.1459481264116405,
          -1.8142720338622396,
          -1.0173043294083477,
          0.39340942896249914,
          -1.0941091685109492,
          -1.1695752419219372,
          1.7270611475834738,
          -0.3106566486176464,
          1.8281605452352603,
          -0.526324541856004,
          -1.7761756749514737,
          -0.43091805571083863,
          -0.5649880558501735,
          0.24125090312744718,
          2.69456662433687,
          -0.8713144091136765,
          0.7584445815837195,
          -0.13703182312215023,
          -0.668896977189412,
          -0.27604981761777875,
          1.5698646539974623,
          0.04778207395949344,
          1.638758980307776,
          0.7459446531249445,
          0.19105997693628143,
          0.5223781816880522,
          0.6017589103360246,
          -0.4217443729222811,
          -0.6163168942296061,
          -0.9694671688163928,
          0.42170916519293944,
          -0.4101989114634815,
          0.487762375905079,
          0.027239658172430275,
          -0.3176555283955685,
          -0.5241745803169193,
          1.177165135960473,
          0.04068533608559416,
          -0.8761512202026416,
          0.10621793722191121,
          -0.4199551272358778,
          -0.14879356764775456,
          -1.005233396340456,
          1.2411615282181363,
          0.8975170798555797,
          0.7900710390871886,
          0.4416846117561959,
          1.4425511447775639,
          -0.5654380772698397,
          -1.2154171092673054,
          0.1261765840600005,
          -0.10680954817285401,
          1.3528188881898482,
          0.7452958794934156,
          0.4970922137269499,
          -0.4483551828797474,
          1.7516766591944517,
          -2.938615037214658,
          0.5080945909237529,
          0.614267751742457,
          -0.2595820086152982,
          -0.43899999687117014
         ]
        }
       ],
       "layout": {
        "legend": {
         "bgcolor": "#F5F6F9",
         "font": {
          "color": "#4D5663"
         }
        },
        "paper_bgcolor": "#F5F6F9",
        "plot_bgcolor": "#F5F6F9",
        "template": {
         "data": {
          "bar": [
           {
            "error_x": {
             "color": "#2a3f5f"
            },
            "error_y": {
             "color": "#2a3f5f"
            },
            "marker": {
             "line": {
              "color": "#E5ECF6",
              "width": 0.5
             }
            },
            "type": "bar"
           }
          ],
          "barpolar": [
           {
            "marker": {
             "line": {
              "color": "#E5ECF6",
              "width": 0.5
             }
            },
            "type": "barpolar"
           }
          ],
          "carpet": [
           {
            "aaxis": {
             "endlinecolor": "#2a3f5f",
             "gridcolor": "white",
             "linecolor": "white",
             "minorgridcolor": "white",
             "startlinecolor": "#2a3f5f"
            },
            "baxis": {
             "endlinecolor": "#2a3f5f",
             "gridcolor": "white",
             "linecolor": "white",
             "minorgridcolor": "white",
             "startlinecolor": "#2a3f5f"
            },
            "type": "carpet"
           }
          ],
          "choropleth": [
           {
            "colorbar": {
             "outlinewidth": 0,
             "ticks": ""
            },
            "type": "choropleth"
           }
          ],
          "contour": [
           {
            "colorbar": {
             "outlinewidth": 0,
             "ticks": ""
            },
            "colorscale": [
             [
              0,
              "#0d0887"
             ],
             [
              0.1111111111111111,
              "#46039f"
             ],
             [
              0.2222222222222222,
              "#7201a8"
             ],
             [
              0.3333333333333333,
              "#9c179e"
             ],
             [
              0.4444444444444444,
              "#bd3786"
             ],
             [
              0.5555555555555556,
              "#d8576b"
             ],
             [
              0.6666666666666666,
              "#ed7953"
             ],
             [
              0.7777777777777778,
              "#fb9f3a"
             ],
             [
              0.8888888888888888,
              "#fdca26"
             ],
             [
              1,
              "#f0f921"
             ]
            ],
            "type": "contour"
           }
          ],
          "contourcarpet": [
           {
            "colorbar": {
             "outlinewidth": 0,
             "ticks": ""
            },
            "type": "contourcarpet"
           }
          ],
          "heatmap": [
           {
            "colorbar": {
             "outlinewidth": 0,
             "ticks": ""
            },
            "colorscale": [
             [
              0,
              "#0d0887"
             ],
             [
              0.1111111111111111,
              "#46039f"
             ],
             [
              0.2222222222222222,
              "#7201a8"
             ],
             [
              0.3333333333333333,
              "#9c179e"
             ],
             [
              0.4444444444444444,
              "#bd3786"
             ],
             [
              0.5555555555555556,
              "#d8576b"
             ],
             [
              0.6666666666666666,
              "#ed7953"
             ],
             [
              0.7777777777777778,
              "#fb9f3a"
             ],
             [
              0.8888888888888888,
              "#fdca26"
             ],
             [
              1,
              "#f0f921"
             ]
            ],
            "type": "heatmap"
           }
          ],
          "heatmapgl": [
           {
            "colorbar": {
             "outlinewidth": 0,
             "ticks": ""
            },
            "colorscale": [
             [
              0,
              "#0d0887"
             ],
             [
              0.1111111111111111,
              "#46039f"
             ],
             [
              0.2222222222222222,
              "#7201a8"
             ],
             [
              0.3333333333333333,
              "#9c179e"
             ],
             [
              0.4444444444444444,
              "#bd3786"
             ],
             [
              0.5555555555555556,
              "#d8576b"
             ],
             [
              0.6666666666666666,
              "#ed7953"
             ],
             [
              0.7777777777777778,
              "#fb9f3a"
             ],
             [
              0.8888888888888888,
              "#fdca26"
             ],
             [
              1,
              "#f0f921"
             ]
            ],
            "type": "heatmapgl"
           }
          ],
          "histogram": [
           {
            "marker": {
             "colorbar": {
              "outlinewidth": 0,
              "ticks": ""
             }
            },
            "type": "histogram"
           }
          ],
          "histogram2d": [
           {
            "colorbar": {
             "outlinewidth": 0,
             "ticks": ""
            },
            "colorscale": [
             [
              0,
              "#0d0887"
             ],
             [
              0.1111111111111111,
              "#46039f"
             ],
             [
              0.2222222222222222,
              "#7201a8"
             ],
             [
              0.3333333333333333,
              "#9c179e"
             ],
             [
              0.4444444444444444,
              "#bd3786"
             ],
             [
              0.5555555555555556,
              "#d8576b"
             ],
             [
              0.6666666666666666,
              "#ed7953"
             ],
             [
              0.7777777777777778,
              "#fb9f3a"
             ],
             [
              0.8888888888888888,
              "#fdca26"
             ],
             [
              1,
              "#f0f921"
             ]
            ],
            "type": "histogram2d"
           }
          ],
          "histogram2dcontour": [
           {
            "colorbar": {
             "outlinewidth": 0,
             "ticks": ""
            },
            "colorscale": [
             [
              0,
              "#0d0887"
             ],
             [
              0.1111111111111111,
              "#46039f"
             ],
             [
              0.2222222222222222,
              "#7201a8"
             ],
             [
              0.3333333333333333,
              "#9c179e"
             ],
             [
              0.4444444444444444,
              "#bd3786"
             ],
             [
              0.5555555555555556,
              "#d8576b"
             ],
             [
              0.6666666666666666,
              "#ed7953"
             ],
             [
              0.7777777777777778,
              "#fb9f3a"
             ],
             [
              0.8888888888888888,
              "#fdca26"
             ],
             [
              1,
              "#f0f921"
             ]
            ],
            "type": "histogram2dcontour"
           }
          ],
          "mesh3d": [
           {
            "colorbar": {
             "outlinewidth": 0,
             "ticks": ""
            },
            "type": "mesh3d"
           }
          ],
          "parcoords": [
           {
            "line": {
             "colorbar": {
              "outlinewidth": 0,
              "ticks": ""
             }
            },
            "type": "parcoords"
           }
          ],
          "pie": [
           {
            "automargin": true,
            "type": "pie"
           }
          ],
          "scatter": [
           {
            "marker": {
             "colorbar": {
              "outlinewidth": 0,
              "ticks": ""
             }
            },
            "type": "scatter"
           }
          ],
          "scatter3d": [
           {
            "line": {
             "colorbar": {
              "outlinewidth": 0,
              "ticks": ""
             }
            },
            "marker": {
             "colorbar": {
              "outlinewidth": 0,
              "ticks": ""
             }
            },
            "type": "scatter3d"
           }
          ],
          "scattercarpet": [
           {
            "marker": {
             "colorbar": {
              "outlinewidth": 0,
              "ticks": ""
             }
            },
            "type": "scattercarpet"
           }
          ],
          "scattergeo": [
           {
            "marker": {
             "colorbar": {
              "outlinewidth": 0,
              "ticks": ""
             }
            },
            "type": "scattergeo"
           }
          ],
          "scattergl": [
           {
            "marker": {
             "colorbar": {
              "outlinewidth": 0,
              "ticks": ""
             }
            },
            "type": "scattergl"
           }
          ],
          "scattermapbox": [
           {
            "marker": {
             "colorbar": {
              "outlinewidth": 0,
              "ticks": ""
             }
            },
            "type": "scattermapbox"
           }
          ],
          "scatterpolar": [
           {
            "marker": {
             "colorbar": {
              "outlinewidth": 0,
              "ticks": ""
             }
            },
            "type": "scatterpolar"
           }
          ],
          "scatterpolargl": [
           {
            "marker": {
             "colorbar": {
              "outlinewidth": 0,
              "ticks": ""
             }
            },
            "type": "scatterpolargl"
           }
          ],
          "scatterternary": [
           {
            "marker": {
             "colorbar": {
              "outlinewidth": 0,
              "ticks": ""
             }
            },
            "type": "scatterternary"
           }
          ],
          "surface": [
           {
            "colorbar": {
             "outlinewidth": 0,
             "ticks": ""
            },
            "colorscale": [
             [
              0,
              "#0d0887"
             ],
             [
              0.1111111111111111,
              "#46039f"
             ],
             [
              0.2222222222222222,
              "#7201a8"
             ],
             [
              0.3333333333333333,
              "#9c179e"
             ],
             [
              0.4444444444444444,
              "#bd3786"
             ],
             [
              0.5555555555555556,
              "#d8576b"
             ],
             [
              0.6666666666666666,
              "#ed7953"
             ],
             [
              0.7777777777777778,
              "#fb9f3a"
             ],
             [
              0.8888888888888888,
              "#fdca26"
             ],
             [
              1,
              "#f0f921"
             ]
            ],
            "type": "surface"
           }
          ],
          "table": [
           {
            "cells": {
             "fill": {
              "color": "#EBF0F8"
             },
             "line": {
              "color": "white"
             }
            },
            "header": {
             "fill": {
              "color": "#C8D4E3"
             },
             "line": {
              "color": "white"
             }
            },
            "type": "table"
           }
          ]
         },
         "layout": {
          "annotationdefaults": {
           "arrowcolor": "#2a3f5f",
           "arrowhead": 0,
           "arrowwidth": 1
          },
          "autotypenumbers": "strict",
          "coloraxis": {
           "colorbar": {
            "outlinewidth": 0,
            "ticks": ""
           }
          },
          "colorscale": {
           "diverging": [
            [
             0,
             "#8e0152"
            ],
            [
             0.1,
             "#c51b7d"
            ],
            [
             0.2,
             "#de77ae"
            ],
            [
             0.3,
             "#f1b6da"
            ],
            [
             0.4,
             "#fde0ef"
            ],
            [
             0.5,
             "#f7f7f7"
            ],
            [
             0.6,
             "#e6f5d0"
            ],
            [
             0.7,
             "#b8e186"
            ],
            [
             0.8,
             "#7fbc41"
            ],
            [
             0.9,
             "#4d9221"
            ],
            [
             1,
             "#276419"
            ]
           ],
           "sequential": [
            [
             0,
             "#0d0887"
            ],
            [
             0.1111111111111111,
             "#46039f"
            ],
            [
             0.2222222222222222,
             "#7201a8"
            ],
            [
             0.3333333333333333,
             "#9c179e"
            ],
            [
             0.4444444444444444,
             "#bd3786"
            ],
            [
             0.5555555555555556,
             "#d8576b"
            ],
            [
             0.6666666666666666,
             "#ed7953"
            ],
            [
             0.7777777777777778,
             "#fb9f3a"
            ],
            [
             0.8888888888888888,
             "#fdca26"
            ],
            [
             1,
             "#f0f921"
            ]
           ],
           "sequentialminus": [
            [
             0,
             "#0d0887"
            ],
            [
             0.1111111111111111,
             "#46039f"
            ],
            [
             0.2222222222222222,
             "#7201a8"
            ],
            [
             0.3333333333333333,
             "#9c179e"
            ],
            [
             0.4444444444444444,
             "#bd3786"
            ],
            [
             0.5555555555555556,
             "#d8576b"
            ],
            [
             0.6666666666666666,
             "#ed7953"
            ],
            [
             0.7777777777777778,
             "#fb9f3a"
            ],
            [
             0.8888888888888888,
             "#fdca26"
            ],
            [
             1,
             "#f0f921"
            ]
           ]
          },
          "colorway": [
           "#636efa",
           "#EF553B",
           "#00cc96",
           "#ab63fa",
           "#FFA15A",
           "#19d3f3",
           "#FF6692",
           "#B6E880",
           "#FF97FF",
           "#FECB52"
          ],
          "font": {
           "color": "#2a3f5f"
          },
          "geo": {
           "bgcolor": "white",
           "lakecolor": "white",
           "landcolor": "#E5ECF6",
           "showlakes": true,
           "showland": true,
           "subunitcolor": "white"
          },
          "hoverlabel": {
           "align": "left"
          },
          "hovermode": "closest",
          "mapbox": {
           "style": "light"
          },
          "paper_bgcolor": "white",
          "plot_bgcolor": "#E5ECF6",
          "polar": {
           "angularaxis": {
            "gridcolor": "white",
            "linecolor": "white",
            "ticks": ""
           },
           "bgcolor": "#E5ECF6",
           "radialaxis": {
            "gridcolor": "white",
            "linecolor": "white",
            "ticks": ""
           }
          },
          "scene": {
           "xaxis": {
            "backgroundcolor": "#E5ECF6",
            "gridcolor": "white",
            "gridwidth": 2,
            "linecolor": "white",
            "showbackground": true,
            "ticks": "",
            "zerolinecolor": "white"
           },
           "yaxis": {
            "backgroundcolor": "#E5ECF6",
            "gridcolor": "white",
            "gridwidth": 2,
            "linecolor": "white",
            "showbackground": true,
            "ticks": "",
            "zerolinecolor": "white"
           },
           "zaxis": {
            "backgroundcolor": "#E5ECF6",
            "gridcolor": "white",
            "gridwidth": 2,
            "linecolor": "white",
            "showbackground": true,
            "ticks": "",
            "zerolinecolor": "white"
           }
          },
          "shapedefaults": {
           "line": {
            "color": "#2a3f5f"
           }
          },
          "ternary": {
           "aaxis": {
            "gridcolor": "white",
            "linecolor": "white",
            "ticks": ""
           },
           "baxis": {
            "gridcolor": "white",
            "linecolor": "white",
            "ticks": ""
           },
           "bgcolor": "#E5ECF6",
           "caxis": {
            "gridcolor": "white",
            "linecolor": "white",
            "ticks": ""
           }
          },
          "title": {
           "x": 0.05
          },
          "xaxis": {
           "automargin": true,
           "gridcolor": "white",
           "linecolor": "white",
           "ticks": "",
           "title": {
            "standoff": 15
           },
           "zerolinecolor": "white",
           "zerolinewidth": 2
          },
          "yaxis": {
           "automargin": true,
           "gridcolor": "white",
           "linecolor": "white",
           "ticks": "",
           "title": {
            "standoff": 15
           },
           "zerolinecolor": "white",
           "zerolinewidth": 2
          }
         }
        },
        "title": {
         "font": {
          "color": "#4D5663"
         }
        },
        "xaxis": {
         "gridcolor": "#E1E5ED",
         "showgrid": true,
         "tickfont": {
          "color": "#4D5663"
         },
         "title": {
          "font": {
           "color": "#4D5663"
          },
          "text": ""
         },
         "zerolinecolor": "#E1E5ED"
        },
        "yaxis": {
         "gridcolor": "#E1E5ED",
         "showgrid": true,
         "tickfont": {
          "color": "#4D5663"
         },
         "title": {
          "font": {
           "color": "#4D5663"
          },
          "text": ""
         },
         "zerolinecolor": "#E1E5ED"
        }
       }
      },
      "text/html": [
       "<div>                            <div id=\"a1b7db08-0e5d-4a6d-97e1-4e3bb3d7fd49\" class=\"plotly-graph-div\" style=\"height:525px; width:100%;\"></div>            <script type=\"text/javascript\">                require([\"plotly\"], function(Plotly) {                    window.PLOTLYENV=window.PLOTLYENV || {};\n",
       "                    window.PLOTLYENV.BASE_URL='https://plot.ly';                                    if (document.getElementById(\"a1b7db08-0e5d-4a6d-97e1-4e3bb3d7fd49\")) {                    Plotly.newPlot(                        \"a1b7db08-0e5d-4a6d-97e1-4e3bb3d7fd49\",                        [{\"boxpoints\": false, \"line\": {\"width\": 1.3}, \"marker\": {\"color\": \"rgba(255, 153, 51, 1.0)\"}, \"name\": \"A\", \"orientation\": \"v\", \"type\": \"box\", \"y\": [0.9197133807614235, 0.7794542364536206, -0.09649744911588459, 1.7774800045254102, -1.225964420847159, -2.393954265258908, 0.41990419231764947, 0.8616029917587111, -0.24737914798211716, 1.0274749369056067, 0.07649296724874846, 0.9437322356592867, 0.1996489583939814, 1.58427473537746, -0.371723359297978, 0.22979824338857696, 1.53658689215229, 0.012158305181052004, -1.1602507795274908, 0.3774550134420746, 1.0644162387146285, -0.221044462875774, 0.5012106305315702, 0.7778064820592324, 1.3147485229906, -0.865092812047564, -0.42410365767333646, -0.357691233878992, -0.3414067537683034, 0.6375951853421511, -0.3754133832264921, -0.16610414089782688, 0.388431315898646, -0.3228333339830255, 0.039263470128833015, 0.4639010359623582, 0.1485992496867083, -0.296115590941632, 0.14819367088853724, 0.2026284784393481, -0.2348139336782935, -1.6800725044112985, 0.8701378536749685, 0.341188400775277, -0.012237024383443105, 0.2622618333273738, 1.1462065561704708, -0.054086747031590936, 0.1843621043620616, -0.5398771840429352, -1.0722382532014312, -0.050435157686543705, 2.8895581697000896, -0.6719852661171711, 0.46460937644349315, 1.9923968859714174, -1.0345940853003668, -0.25508907607148096, 1.123636206992229, 0.4035748735001082, -0.2250374937301488, 1.0464100042119022, 0.2986891746841648, -0.11043242862740031, 0.10165226027586535, 0.005658435925281142, -0.9208657571597071, 1.2009839712573003, -0.4892870232330178, -0.06133536497774417, -1.0009550308856383, -0.48052367803749363, 0.8409796841631535, 1.5965466139596338, 2.120683106950889, -1.8799377668379869, -0.26563779261158504, -0.14704421316205113, -1.424161397157802, 0.47614096789664473, -0.5215117460381219, 0.4809600170045102, 0.6622103676774127, -1.2783556733428347, -0.022858985180589677, -1.563275342663613, -1.2424457285081163, 0.11681759263698047, 0.8466794065199111, 0.06490426589829766, 2.157438296279944, 0.6741389867698577, 1.8430788221397851, 2.5740175116462423, -1.306267582832392, 0.4205936086654285, 0.7180849950269751, -0.08247581270117955, 0.050969560380462284, 0.028843641125944345]}, {\"boxpoints\": false, \"line\": {\"width\": 1.3}, \"marker\": {\"color\": \"rgba(55, 128, 191, 1.0)\"}, \"name\": \"B\", \"orientation\": \"v\", \"type\": \"box\", \"y\": [-0.43313928439241856, -0.4425613609484883, -0.5831641104998745, -0.2329524920028297, -0.08333227347218153, -0.5550772129650813, 1.0232186344774543, -0.19691035869974066, 0.6652592638509605, -0.25855232158591246, 0.08708040495670091, -0.6120088084945818, -0.12277081811889581, 2.1596911192246933, 1.7453798976659805, -0.31058753595801675, 0.17173161909361565, 0.2486764341606997, 0.6290908277801774, -0.677253445352361, -0.29591717094932185, 3.5912914484649057, -1.5102507577162003, -0.10452519409142735, -1.3730093962486873, -0.10638571976969305, -2.562467956305081, 1.1873153508557435, 1.7306827104585627, 2.0784750273731722, 0.9144007762066864, -1.0486224523024477, 0.616468572611647, -0.05306969649565157, 0.11970754364521062, -1.8208242311258491, 0.8506780205806028, -0.7978765182395776, -1.6859900378557098, -0.807788418777815, -0.16415304493743396, -1.2779023594529633, 0.3959843079178932, -1.9172789727990776, -0.34839551770740596, -2.3010545326542164, -0.37336750540430746, 1.0143884366534197, -1.0602834509257386, -0.5472740730487213, -0.15065390894444045, 0.9220738873395795, 0.3587351344940042, 0.4156627803042604, -0.25573558842639865, -0.779343193627066, -0.2327866638752568, -0.38671823194117577, 1.033541673260998, 0.30249714031787445, 0.3548984753587199, -1.7011402723912104, 0.9303595461164846, -0.3376204164752655, 0.316175575817413, -0.6570536255194106, -0.07958066039765603, 0.6007547821873407, 0.3278495443745458, -0.9373708035630588, 0.024562754829876316, 0.15174005354443162, 1.7322891667012859, 2.266091829286604, 0.3322274142194494, -1.0968432532953514, -0.5395437695783084, 2.4261309168988627, -0.07146814570308693, 0.6575829486179565, 1.137000976387248, 1.3565204705711482, -0.3923880210686105, 0.9310307831146414, 0.44280425549872554, 0.6373350300534316, -0.37692833981371726, 0.9292375282970157, -1.3816024406765592, 1.2862751536692747, -0.2391628412182689, -0.134096521061821, 0.36325476918153177, -1.04756639847069, -1.3975724700107532, 0.4599275903138609, -0.0026229351024188562, -0.5112324125694927, 1.3983123334955245, 0.9451463539487669]}, {\"boxpoints\": false, \"line\": {\"width\": 1.3}, \"marker\": {\"color\": \"rgba(50, 171, 96, 1.0)\"}, \"name\": \"C\", \"orientation\": \"v\", \"type\": \"box\", \"y\": [-0.36472828338111823, -2.744034855183259, 1.0508910323033953, -1.3210716162470777, -0.6328911673531687, -0.15010846191632013, -0.07951915603907586, -0.3143279866393601, 0.6057400984111833, -0.6994012298006331, -0.21090427517540938, -0.8436249712561239, 0.49346951495984837, 0.4853757168748205, 1.9390313879524337, 0.13892186773980295, 1.8125432050571813, -0.1577604392876527, -0.37635754616385414, -1.4310552301706887, 0.8382401180593941, 0.07536172950690108, 0.5127682775371938, 0.32569981275567234, 2.828388550516968, -0.5743371297934008, 0.060400308357195176, 0.7956540479218478, 1.3450563412740366, -1.016552167263412, 0.6430448438346658, 0.510634115982206, -0.6661440616176256, -0.5025066969093334, -0.8550353017824615, -0.9914905626880155, -0.9426251736601406, -0.257211133248541, 0.3019795953708391, 0.15258348269611327, 0.013463340997592551, 0.2957149879901049, 0.25699538119859955, -0.46614520972096113, 0.7334543867924153, -0.44148807143248525, 0.0018561004770532975, 1.5929815057860965, 1.1351017984146794, 0.12850117485378634, -0.3066874389924823, -0.5095211467457677, 1.2188227788069237, 1.1342238614857727, -0.39372410575528244, 0.318672757921071, -1.5083148071423385, 1.5105244382756182, -0.9597099280908813, 1.6011874194688416, -0.5725114622602433, -0.44439960341458123, 0.0673206661104729, -2.9703335493064835, 0.5627527056266886, -0.22389086875044303, -0.17529922309717058, 0.5633597459731945, -0.33160851994305235, 1.45807626556701, -1.3821507395278307, -0.7241818141867004, 1.5250901754339594, -0.29089082401874, -1.8211689542036897, 1.2128194471161535, 1.3807370331224766, -0.04334994244393579, 0.1311422990612613, -1.7089036247585763, -0.7835715672898682, -0.7306358480570115, 1.6481631484690011, 2.461723274478377, 0.4732612840974774, -0.19848175544682825, -1.2012922527458179, -0.04201566809091011, 0.25380682557922446, -2.1643581880407052, -0.401988739583814, -0.419359566403672, 0.793523597589395, -1.2802316764965542, -0.4674636795655414, -2.1012286186402784, 1.8046959969573688, -0.3965604273992808, 0.6444974555400979, -1.2086932977050724]}, {\"boxpoints\": false, \"line\": {\"width\": 1.3}, \"marker\": {\"color\": \"rgba(128, 0, 128, 1.0)\"}, \"name\": \"D\", \"orientation\": \"v\", \"type\": \"box\", \"y\": [-0.39699605459412246, 0.9665733257016246, -0.03292056049028313, -0.9073213559681331, 0.6831199981393419, 0.5856846914816076, -0.43337138359969984, -0.7675150008275595, 0.013888311737529004, 1.0488230586953755, 0.4354540251156954, -1.889577608294123, 0.8355927922443603, 0.2942195629854865, -1.0042496108243364, -0.4225148345278697, -0.6141822581428549, -0.7732928019152675, -0.019781848988358837, 1.1551113803713724, 0.48839338357613665, -1.0735992913498773, -2.191676479527262, -0.9530024743209956, -0.016420447246737656, -0.44905928884575846, -0.944324806543863, -1.0293134643694755, -1.2920564853589527, 1.0200112412988298, -0.3605536695078327, 1.0755394811016914, -1.7543454736337665, 0.3751844174067533, 0.045548734229861776, -0.2626034663179237, 0.43353088292488834, 0.29367520335394515, 1.1459481264116405, -1.8142720338622396, -1.0173043294083477, 0.39340942896249914, -1.0941091685109492, -1.1695752419219372, 1.7270611475834738, -0.3106566486176464, 1.8281605452352603, -0.526324541856004, -1.7761756749514737, -0.43091805571083863, -0.5649880558501735, 0.24125090312744718, 2.69456662433687, -0.8713144091136765, 0.7584445815837195, -0.13703182312215023, -0.668896977189412, -0.27604981761777875, 1.5698646539974623, 0.04778207395949344, 1.638758980307776, 0.7459446531249445, 0.19105997693628143, 0.5223781816880522, 0.6017589103360246, -0.4217443729222811, -0.6163168942296061, -0.9694671688163928, 0.42170916519293944, -0.4101989114634815, 0.487762375905079, 0.027239658172430275, -0.3176555283955685, -0.5241745803169193, 1.177165135960473, 0.04068533608559416, -0.8761512202026416, 0.10621793722191121, -0.4199551272358778, -0.14879356764775456, -1.005233396340456, 1.2411615282181363, 0.8975170798555797, 0.7900710390871886, 0.4416846117561959, 1.4425511447775639, -0.5654380772698397, -1.2154171092673054, 0.1261765840600005, -0.10680954817285401, 1.3528188881898482, 0.7452958794934156, 0.4970922137269499, -0.4483551828797474, 1.7516766591944517, -2.938615037214658, 0.5080945909237529, 0.614267751742457, -0.2595820086152982, -0.43899999687117014]}],                        {\"legend\": {\"bgcolor\": \"#F5F6F9\", \"font\": {\"color\": \"#4D5663\"}}, \"paper_bgcolor\": \"#F5F6F9\", \"plot_bgcolor\": \"#F5F6F9\", \"template\": {\"data\": {\"bar\": [{\"error_x\": {\"color\": \"#2a3f5f\"}, \"error_y\": {\"color\": \"#2a3f5f\"}, \"marker\": {\"line\": {\"color\": \"#E5ECF6\", \"width\": 0.5}}, \"type\": \"bar\"}], \"barpolar\": [{\"marker\": {\"line\": {\"color\": \"#E5ECF6\", \"width\": 0.5}}, \"type\": \"barpolar\"}], \"carpet\": [{\"aaxis\": {\"endlinecolor\": \"#2a3f5f\", \"gridcolor\": \"white\", \"linecolor\": \"white\", \"minorgridcolor\": \"white\", \"startlinecolor\": \"#2a3f5f\"}, \"baxis\": {\"endlinecolor\": \"#2a3f5f\", \"gridcolor\": \"white\", \"linecolor\": \"white\", \"minorgridcolor\": \"white\", \"startlinecolor\": \"#2a3f5f\"}, \"type\": \"carpet\"}], \"choropleth\": [{\"colorbar\": {\"outlinewidth\": 0, \"ticks\": \"\"}, \"type\": \"choropleth\"}], \"contour\": [{\"colorbar\": {\"outlinewidth\": 0, \"ticks\": \"\"}, \"colorscale\": [[0.0, \"#0d0887\"], [0.1111111111111111, \"#46039f\"], [0.2222222222222222, \"#7201a8\"], [0.3333333333333333, \"#9c179e\"], [0.4444444444444444, \"#bd3786\"], [0.5555555555555556, \"#d8576b\"], [0.6666666666666666, \"#ed7953\"], [0.7777777777777778, \"#fb9f3a\"], [0.8888888888888888, \"#fdca26\"], [1.0, \"#f0f921\"]], \"type\": \"contour\"}], \"contourcarpet\": [{\"colorbar\": {\"outlinewidth\": 0, \"ticks\": \"\"}, \"type\": \"contourcarpet\"}], \"heatmap\": [{\"colorbar\": {\"outlinewidth\": 0, \"ticks\": \"\"}, \"colorscale\": [[0.0, \"#0d0887\"], [0.1111111111111111, \"#46039f\"], [0.2222222222222222, \"#7201a8\"], [0.3333333333333333, \"#9c179e\"], [0.4444444444444444, \"#bd3786\"], [0.5555555555555556, \"#d8576b\"], [0.6666666666666666, \"#ed7953\"], [0.7777777777777778, \"#fb9f3a\"], [0.8888888888888888, \"#fdca26\"], [1.0, \"#f0f921\"]], \"type\": \"heatmap\"}], \"heatmapgl\": [{\"colorbar\": {\"outlinewidth\": 0, \"ticks\": \"\"}, \"colorscale\": [[0.0, \"#0d0887\"], [0.1111111111111111, \"#46039f\"], [0.2222222222222222, \"#7201a8\"], [0.3333333333333333, \"#9c179e\"], [0.4444444444444444, \"#bd3786\"], [0.5555555555555556, \"#d8576b\"], [0.6666666666666666, \"#ed7953\"], [0.7777777777777778, \"#fb9f3a\"], [0.8888888888888888, \"#fdca26\"], [1.0, \"#f0f921\"]], \"type\": \"heatmapgl\"}], \"histogram\": [{\"marker\": {\"colorbar\": {\"outlinewidth\": 0, \"ticks\": \"\"}}, \"type\": \"histogram\"}], \"histogram2d\": [{\"colorbar\": {\"outlinewidth\": 0, \"ticks\": \"\"}, \"colorscale\": [[0.0, \"#0d0887\"], [0.1111111111111111, \"#46039f\"], [0.2222222222222222, \"#7201a8\"], [0.3333333333333333, \"#9c179e\"], [0.4444444444444444, \"#bd3786\"], [0.5555555555555556, \"#d8576b\"], [0.6666666666666666, \"#ed7953\"], [0.7777777777777778, \"#fb9f3a\"], [0.8888888888888888, \"#fdca26\"], [1.0, \"#f0f921\"]], \"type\": \"histogram2d\"}], \"histogram2dcontour\": [{\"colorbar\": {\"outlinewidth\": 0, \"ticks\": \"\"}, \"colorscale\": [[0.0, \"#0d0887\"], [0.1111111111111111, \"#46039f\"], [0.2222222222222222, \"#7201a8\"], [0.3333333333333333, \"#9c179e\"], [0.4444444444444444, \"#bd3786\"], [0.5555555555555556, \"#d8576b\"], [0.6666666666666666, \"#ed7953\"], [0.7777777777777778, \"#fb9f3a\"], [0.8888888888888888, \"#fdca26\"], [1.0, \"#f0f921\"]], \"type\": \"histogram2dcontour\"}], \"mesh3d\": [{\"colorbar\": {\"outlinewidth\": 0, \"ticks\": \"\"}, \"type\": \"mesh3d\"}], \"parcoords\": [{\"line\": {\"colorbar\": {\"outlinewidth\": 0, \"ticks\": \"\"}}, \"type\": \"parcoords\"}], \"pie\": [{\"automargin\": true, \"type\": \"pie\"}], \"scatter\": [{\"marker\": {\"colorbar\": {\"outlinewidth\": 0, \"ticks\": \"\"}}, \"type\": \"scatter\"}], \"scatter3d\": [{\"line\": {\"colorbar\": {\"outlinewidth\": 0, \"ticks\": \"\"}}, \"marker\": {\"colorbar\": {\"outlinewidth\": 0, \"ticks\": \"\"}}, \"type\": \"scatter3d\"}], \"scattercarpet\": [{\"marker\": {\"colorbar\": {\"outlinewidth\": 0, \"ticks\": \"\"}}, \"type\": \"scattercarpet\"}], \"scattergeo\": [{\"marker\": {\"colorbar\": {\"outlinewidth\": 0, \"ticks\": \"\"}}, \"type\": \"scattergeo\"}], \"scattergl\": [{\"marker\": {\"colorbar\": {\"outlinewidth\": 0, \"ticks\": \"\"}}, \"type\": \"scattergl\"}], \"scattermapbox\": [{\"marker\": {\"colorbar\": {\"outlinewidth\": 0, \"ticks\": \"\"}}, \"type\": \"scattermapbox\"}], \"scatterpolar\": [{\"marker\": {\"colorbar\": {\"outlinewidth\": 0, \"ticks\": \"\"}}, \"type\": \"scatterpolar\"}], \"scatterpolargl\": [{\"marker\": {\"colorbar\": {\"outlinewidth\": 0, \"ticks\": \"\"}}, \"type\": \"scatterpolargl\"}], \"scatterternary\": [{\"marker\": {\"colorbar\": {\"outlinewidth\": 0, \"ticks\": \"\"}}, \"type\": \"scatterternary\"}], \"surface\": [{\"colorbar\": {\"outlinewidth\": 0, \"ticks\": \"\"}, \"colorscale\": [[0.0, \"#0d0887\"], [0.1111111111111111, \"#46039f\"], [0.2222222222222222, \"#7201a8\"], [0.3333333333333333, \"#9c179e\"], [0.4444444444444444, \"#bd3786\"], [0.5555555555555556, \"#d8576b\"], [0.6666666666666666, \"#ed7953\"], [0.7777777777777778, \"#fb9f3a\"], [0.8888888888888888, \"#fdca26\"], [1.0, \"#f0f921\"]], \"type\": \"surface\"}], \"table\": [{\"cells\": {\"fill\": {\"color\": \"#EBF0F8\"}, \"line\": {\"color\": \"white\"}}, \"header\": {\"fill\": {\"color\": \"#C8D4E3\"}, \"line\": {\"color\": \"white\"}}, \"type\": \"table\"}]}, \"layout\": {\"annotationdefaults\": {\"arrowcolor\": \"#2a3f5f\", \"arrowhead\": 0, \"arrowwidth\": 1}, \"autotypenumbers\": \"strict\", \"coloraxis\": {\"colorbar\": {\"outlinewidth\": 0, \"ticks\": \"\"}}, \"colorscale\": {\"diverging\": [[0, \"#8e0152\"], [0.1, \"#c51b7d\"], [0.2, \"#de77ae\"], [0.3, \"#f1b6da\"], [0.4, \"#fde0ef\"], [0.5, \"#f7f7f7\"], [0.6, \"#e6f5d0\"], [0.7, \"#b8e186\"], [0.8, \"#7fbc41\"], [0.9, \"#4d9221\"], [1, \"#276419\"]], \"sequential\": [[0.0, \"#0d0887\"], [0.1111111111111111, \"#46039f\"], [0.2222222222222222, \"#7201a8\"], [0.3333333333333333, \"#9c179e\"], [0.4444444444444444, \"#bd3786\"], [0.5555555555555556, \"#d8576b\"], [0.6666666666666666, \"#ed7953\"], [0.7777777777777778, \"#fb9f3a\"], [0.8888888888888888, \"#fdca26\"], [1.0, \"#f0f921\"]], \"sequentialminus\": [[0.0, \"#0d0887\"], [0.1111111111111111, \"#46039f\"], [0.2222222222222222, \"#7201a8\"], [0.3333333333333333, \"#9c179e\"], [0.4444444444444444, \"#bd3786\"], [0.5555555555555556, \"#d8576b\"], [0.6666666666666666, \"#ed7953\"], [0.7777777777777778, \"#fb9f3a\"], [0.8888888888888888, \"#fdca26\"], [1.0, \"#f0f921\"]]}, \"colorway\": [\"#636efa\", \"#EF553B\", \"#00cc96\", \"#ab63fa\", \"#FFA15A\", \"#19d3f3\", \"#FF6692\", \"#B6E880\", \"#FF97FF\", \"#FECB52\"], \"font\": {\"color\": \"#2a3f5f\"}, \"geo\": {\"bgcolor\": \"white\", \"lakecolor\": \"white\", \"landcolor\": \"#E5ECF6\", \"showlakes\": true, \"showland\": true, \"subunitcolor\": \"white\"}, \"hoverlabel\": {\"align\": \"left\"}, \"hovermode\": \"closest\", \"mapbox\": {\"style\": \"light\"}, \"paper_bgcolor\": \"white\", \"plot_bgcolor\": \"#E5ECF6\", \"polar\": {\"angularaxis\": {\"gridcolor\": \"white\", \"linecolor\": \"white\", \"ticks\": \"\"}, \"bgcolor\": \"#E5ECF6\", \"radialaxis\": {\"gridcolor\": \"white\", \"linecolor\": \"white\", \"ticks\": \"\"}}, \"scene\": {\"xaxis\": {\"backgroundcolor\": \"#E5ECF6\", \"gridcolor\": \"white\", \"gridwidth\": 2, \"linecolor\": \"white\", \"showbackground\": true, \"ticks\": \"\", \"zerolinecolor\": \"white\"}, \"yaxis\": {\"backgroundcolor\": \"#E5ECF6\", \"gridcolor\": \"white\", \"gridwidth\": 2, \"linecolor\": \"white\", \"showbackground\": true, \"ticks\": \"\", \"zerolinecolor\": \"white\"}, \"zaxis\": {\"backgroundcolor\": \"#E5ECF6\", \"gridcolor\": \"white\", \"gridwidth\": 2, \"linecolor\": \"white\", \"showbackground\": true, \"ticks\": \"\", \"zerolinecolor\": \"white\"}}, \"shapedefaults\": {\"line\": {\"color\": \"#2a3f5f\"}}, \"ternary\": {\"aaxis\": {\"gridcolor\": \"white\", \"linecolor\": \"white\", \"ticks\": \"\"}, \"baxis\": {\"gridcolor\": \"white\", \"linecolor\": \"white\", \"ticks\": \"\"}, \"bgcolor\": \"#E5ECF6\", \"caxis\": {\"gridcolor\": \"white\", \"linecolor\": \"white\", \"ticks\": \"\"}}, \"title\": {\"x\": 0.05}, \"xaxis\": {\"automargin\": true, \"gridcolor\": \"white\", \"linecolor\": \"white\", \"ticks\": \"\", \"title\": {\"standoff\": 15}, \"zerolinecolor\": \"white\", \"zerolinewidth\": 2}, \"yaxis\": {\"automargin\": true, \"gridcolor\": \"white\", \"linecolor\": \"white\", \"ticks\": \"\", \"title\": {\"standoff\": 15}, \"zerolinecolor\": \"white\", \"zerolinewidth\": 2}}}, \"title\": {\"font\": {\"color\": \"#4D5663\"}}, \"xaxis\": {\"gridcolor\": \"#E1E5ED\", \"showgrid\": true, \"tickfont\": {\"color\": \"#4D5663\"}, \"title\": {\"font\": {\"color\": \"#4D5663\"}, \"text\": \"\"}, \"zerolinecolor\": \"#E1E5ED\"}, \"yaxis\": {\"gridcolor\": \"#E1E5ED\", \"showgrid\": true, \"tickfont\": {\"color\": \"#4D5663\"}, \"title\": {\"font\": {\"color\": \"#4D5663\"}, \"text\": \"\"}, \"zerolinecolor\": \"#E1E5ED\"}},                        {\"showLink\": true, \"linkText\": \"Export to plot.ly\", \"plotlyServerURL\": \"https://plot.ly\", \"responsive\": true}                    ).then(function(){\n",
       "                            \n",
       "var gd = document.getElementById('a1b7db08-0e5d-4a6d-97e1-4e3bb3d7fd49');\n",
       "var x = new MutationObserver(function (mutations, observer) {{\n",
       "        var display = window.getComputedStyle(gd).display;\n",
       "        if (!display || display === 'none') {{\n",
       "            console.log([gd, 'removed!']);\n",
       "            Plotly.purge(gd);\n",
       "            observer.disconnect();\n",
       "        }}\n",
       "}});\n",
       "\n",
       "// Listen for the removal of the full notebook cells\n",
       "var notebookContainer = gd.closest('#notebook-container');\n",
       "if (notebookContainer) {{\n",
       "    x.observe(notebookContainer, {childList: true});\n",
       "}}\n",
       "\n",
       "// Listen for the clearing of the current output cell\n",
       "var outputEl = gd.closest('.output');\n",
       "if (outputEl) {{\n",
       "    x.observe(outputEl, {childList: true});\n",
       "}}\n",
       "\n",
       "                        })                };                });            </script>        </div>"
      ]
     },
     "metadata": {},
     "output_type": "display_data"
    }
   ],
   "source": [
    "df.iplot(kind='box')"
   ]
  },
  {
   "cell_type": "markdown",
   "metadata": {},
   "source": [
    "## 3d Surface"
   ]
  },
  {
   "cell_type": "code",
   "execution_count": 19,
   "metadata": {},
   "outputs": [
    {
     "data": {
      "application/vnd.plotly.v1+json": {
       "config": {
        "linkText": "Export to plot.ly",
        "plotlyServerURL": "https://plot.ly",
        "showLink": true
       },
       "data": [
        {
         "colorscale": [
          [
           0,
           "rgb(165,0,38)"
          ],
          [
           0.1,
           "rgb(215,48,39)"
          ],
          [
           0.2,
           "rgb(244,109,67)"
          ],
          [
           0.3,
           "rgb(253,174,97)"
          ],
          [
           0.4,
           "rgb(254,224,144)"
          ],
          [
           0.5,
           "rgb(255,255,191)"
          ],
          [
           0.6,
           "rgb(224,243,248)"
          ],
          [
           0.7,
           "rgb(171,217,233)"
          ],
          [
           0.8,
           "rgb(116,173,209)"
          ],
          [
           0.9,
           "rgb(69,117,180)"
          ],
          [
           1,
           "rgb(49,54,149)"
          ]
         ],
         "type": "surface",
         "x": [
          0,
          1,
          2,
          3,
          4
         ],
         "y": [
          "x",
          "y",
          "z"
         ],
         "z": [
          [
           1,
           2,
           3,
           4,
           5
          ],
          [
           10,
           20,
           30,
           20,
           10
          ],
          [
           5,
           4,
           3,
           2,
           1
          ]
         ]
        }
       ],
       "layout": {
        "legend": {
         "bgcolor": "#F5F6F9",
         "font": {
          "color": "#4D5663"
         }
        },
        "paper_bgcolor": "#F5F6F9",
        "plot_bgcolor": "#F5F6F9",
        "template": {
         "data": {
          "bar": [
           {
            "error_x": {
             "color": "#2a3f5f"
            },
            "error_y": {
             "color": "#2a3f5f"
            },
            "marker": {
             "line": {
              "color": "#E5ECF6",
              "width": 0.5
             }
            },
            "type": "bar"
           }
          ],
          "barpolar": [
           {
            "marker": {
             "line": {
              "color": "#E5ECF6",
              "width": 0.5
             }
            },
            "type": "barpolar"
           }
          ],
          "carpet": [
           {
            "aaxis": {
             "endlinecolor": "#2a3f5f",
             "gridcolor": "white",
             "linecolor": "white",
             "minorgridcolor": "white",
             "startlinecolor": "#2a3f5f"
            },
            "baxis": {
             "endlinecolor": "#2a3f5f",
             "gridcolor": "white",
             "linecolor": "white",
             "minorgridcolor": "white",
             "startlinecolor": "#2a3f5f"
            },
            "type": "carpet"
           }
          ],
          "choropleth": [
           {
            "colorbar": {
             "outlinewidth": 0,
             "ticks": ""
            },
            "type": "choropleth"
           }
          ],
          "contour": [
           {
            "colorbar": {
             "outlinewidth": 0,
             "ticks": ""
            },
            "colorscale": [
             [
              0,
              "#0d0887"
             ],
             [
              0.1111111111111111,
              "#46039f"
             ],
             [
              0.2222222222222222,
              "#7201a8"
             ],
             [
              0.3333333333333333,
              "#9c179e"
             ],
             [
              0.4444444444444444,
              "#bd3786"
             ],
             [
              0.5555555555555556,
              "#d8576b"
             ],
             [
              0.6666666666666666,
              "#ed7953"
             ],
             [
              0.7777777777777778,
              "#fb9f3a"
             ],
             [
              0.8888888888888888,
              "#fdca26"
             ],
             [
              1,
              "#f0f921"
             ]
            ],
            "type": "contour"
           }
          ],
          "contourcarpet": [
           {
            "colorbar": {
             "outlinewidth": 0,
             "ticks": ""
            },
            "type": "contourcarpet"
           }
          ],
          "heatmap": [
           {
            "colorbar": {
             "outlinewidth": 0,
             "ticks": ""
            },
            "colorscale": [
             [
              0,
              "#0d0887"
             ],
             [
              0.1111111111111111,
              "#46039f"
             ],
             [
              0.2222222222222222,
              "#7201a8"
             ],
             [
              0.3333333333333333,
              "#9c179e"
             ],
             [
              0.4444444444444444,
              "#bd3786"
             ],
             [
              0.5555555555555556,
              "#d8576b"
             ],
             [
              0.6666666666666666,
              "#ed7953"
             ],
             [
              0.7777777777777778,
              "#fb9f3a"
             ],
             [
              0.8888888888888888,
              "#fdca26"
             ],
             [
              1,
              "#f0f921"
             ]
            ],
            "type": "heatmap"
           }
          ],
          "heatmapgl": [
           {
            "colorbar": {
             "outlinewidth": 0,
             "ticks": ""
            },
            "colorscale": [
             [
              0,
              "#0d0887"
             ],
             [
              0.1111111111111111,
              "#46039f"
             ],
             [
              0.2222222222222222,
              "#7201a8"
             ],
             [
              0.3333333333333333,
              "#9c179e"
             ],
             [
              0.4444444444444444,
              "#bd3786"
             ],
             [
              0.5555555555555556,
              "#d8576b"
             ],
             [
              0.6666666666666666,
              "#ed7953"
             ],
             [
              0.7777777777777778,
              "#fb9f3a"
             ],
             [
              0.8888888888888888,
              "#fdca26"
             ],
             [
              1,
              "#f0f921"
             ]
            ],
            "type": "heatmapgl"
           }
          ],
          "histogram": [
           {
            "marker": {
             "colorbar": {
              "outlinewidth": 0,
              "ticks": ""
             }
            },
            "type": "histogram"
           }
          ],
          "histogram2d": [
           {
            "colorbar": {
             "outlinewidth": 0,
             "ticks": ""
            },
            "colorscale": [
             [
              0,
              "#0d0887"
             ],
             [
              0.1111111111111111,
              "#46039f"
             ],
             [
              0.2222222222222222,
              "#7201a8"
             ],
             [
              0.3333333333333333,
              "#9c179e"
             ],
             [
              0.4444444444444444,
              "#bd3786"
             ],
             [
              0.5555555555555556,
              "#d8576b"
             ],
             [
              0.6666666666666666,
              "#ed7953"
             ],
             [
              0.7777777777777778,
              "#fb9f3a"
             ],
             [
              0.8888888888888888,
              "#fdca26"
             ],
             [
              1,
              "#f0f921"
             ]
            ],
            "type": "histogram2d"
           }
          ],
          "histogram2dcontour": [
           {
            "colorbar": {
             "outlinewidth": 0,
             "ticks": ""
            },
            "colorscale": [
             [
              0,
              "#0d0887"
             ],
             [
              0.1111111111111111,
              "#46039f"
             ],
             [
              0.2222222222222222,
              "#7201a8"
             ],
             [
              0.3333333333333333,
              "#9c179e"
             ],
             [
              0.4444444444444444,
              "#bd3786"
             ],
             [
              0.5555555555555556,
              "#d8576b"
             ],
             [
              0.6666666666666666,
              "#ed7953"
             ],
             [
              0.7777777777777778,
              "#fb9f3a"
             ],
             [
              0.8888888888888888,
              "#fdca26"
             ],
             [
              1,
              "#f0f921"
             ]
            ],
            "type": "histogram2dcontour"
           }
          ],
          "mesh3d": [
           {
            "colorbar": {
             "outlinewidth": 0,
             "ticks": ""
            },
            "type": "mesh3d"
           }
          ],
          "parcoords": [
           {
            "line": {
             "colorbar": {
              "outlinewidth": 0,
              "ticks": ""
             }
            },
            "type": "parcoords"
           }
          ],
          "pie": [
           {
            "automargin": true,
            "type": "pie"
           }
          ],
          "scatter": [
           {
            "marker": {
             "colorbar": {
              "outlinewidth": 0,
              "ticks": ""
             }
            },
            "type": "scatter"
           }
          ],
          "scatter3d": [
           {
            "line": {
             "colorbar": {
              "outlinewidth": 0,
              "ticks": ""
             }
            },
            "marker": {
             "colorbar": {
              "outlinewidth": 0,
              "ticks": ""
             }
            },
            "type": "scatter3d"
           }
          ],
          "scattercarpet": [
           {
            "marker": {
             "colorbar": {
              "outlinewidth": 0,
              "ticks": ""
             }
            },
            "type": "scattercarpet"
           }
          ],
          "scattergeo": [
           {
            "marker": {
             "colorbar": {
              "outlinewidth": 0,
              "ticks": ""
             }
            },
            "type": "scattergeo"
           }
          ],
          "scattergl": [
           {
            "marker": {
             "colorbar": {
              "outlinewidth": 0,
              "ticks": ""
             }
            },
            "type": "scattergl"
           }
          ],
          "scattermapbox": [
           {
            "marker": {
             "colorbar": {
              "outlinewidth": 0,
              "ticks": ""
             }
            },
            "type": "scattermapbox"
           }
          ],
          "scatterpolar": [
           {
            "marker": {
             "colorbar": {
              "outlinewidth": 0,
              "ticks": ""
             }
            },
            "type": "scatterpolar"
           }
          ],
          "scatterpolargl": [
           {
            "marker": {
             "colorbar": {
              "outlinewidth": 0,
              "ticks": ""
             }
            },
            "type": "scatterpolargl"
           }
          ],
          "scatterternary": [
           {
            "marker": {
             "colorbar": {
              "outlinewidth": 0,
              "ticks": ""
             }
            },
            "type": "scatterternary"
           }
          ],
          "surface": [
           {
            "colorbar": {
             "outlinewidth": 0,
             "ticks": ""
            },
            "colorscale": [
             [
              0,
              "#0d0887"
             ],
             [
              0.1111111111111111,
              "#46039f"
             ],
             [
              0.2222222222222222,
              "#7201a8"
             ],
             [
              0.3333333333333333,
              "#9c179e"
             ],
             [
              0.4444444444444444,
              "#bd3786"
             ],
             [
              0.5555555555555556,
              "#d8576b"
             ],
             [
              0.6666666666666666,
              "#ed7953"
             ],
             [
              0.7777777777777778,
              "#fb9f3a"
             ],
             [
              0.8888888888888888,
              "#fdca26"
             ],
             [
              1,
              "#f0f921"
             ]
            ],
            "type": "surface"
           }
          ],
          "table": [
           {
            "cells": {
             "fill": {
              "color": "#EBF0F8"
             },
             "line": {
              "color": "white"
             }
            },
            "header": {
             "fill": {
              "color": "#C8D4E3"
             },
             "line": {
              "color": "white"
             }
            },
            "type": "table"
           }
          ]
         },
         "layout": {
          "annotationdefaults": {
           "arrowcolor": "#2a3f5f",
           "arrowhead": 0,
           "arrowwidth": 1
          },
          "autotypenumbers": "strict",
          "coloraxis": {
           "colorbar": {
            "outlinewidth": 0,
            "ticks": ""
           }
          },
          "colorscale": {
           "diverging": [
            [
             0,
             "#8e0152"
            ],
            [
             0.1,
             "#c51b7d"
            ],
            [
             0.2,
             "#de77ae"
            ],
            [
             0.3,
             "#f1b6da"
            ],
            [
             0.4,
             "#fde0ef"
            ],
            [
             0.5,
             "#f7f7f7"
            ],
            [
             0.6,
             "#e6f5d0"
            ],
            [
             0.7,
             "#b8e186"
            ],
            [
             0.8,
             "#7fbc41"
            ],
            [
             0.9,
             "#4d9221"
            ],
            [
             1,
             "#276419"
            ]
           ],
           "sequential": [
            [
             0,
             "#0d0887"
            ],
            [
             0.1111111111111111,
             "#46039f"
            ],
            [
             0.2222222222222222,
             "#7201a8"
            ],
            [
             0.3333333333333333,
             "#9c179e"
            ],
            [
             0.4444444444444444,
             "#bd3786"
            ],
            [
             0.5555555555555556,
             "#d8576b"
            ],
            [
             0.6666666666666666,
             "#ed7953"
            ],
            [
             0.7777777777777778,
             "#fb9f3a"
            ],
            [
             0.8888888888888888,
             "#fdca26"
            ],
            [
             1,
             "#f0f921"
            ]
           ],
           "sequentialminus": [
            [
             0,
             "#0d0887"
            ],
            [
             0.1111111111111111,
             "#46039f"
            ],
            [
             0.2222222222222222,
             "#7201a8"
            ],
            [
             0.3333333333333333,
             "#9c179e"
            ],
            [
             0.4444444444444444,
             "#bd3786"
            ],
            [
             0.5555555555555556,
             "#d8576b"
            ],
            [
             0.6666666666666666,
             "#ed7953"
            ],
            [
             0.7777777777777778,
             "#fb9f3a"
            ],
            [
             0.8888888888888888,
             "#fdca26"
            ],
            [
             1,
             "#f0f921"
            ]
           ]
          },
          "colorway": [
           "#636efa",
           "#EF553B",
           "#00cc96",
           "#ab63fa",
           "#FFA15A",
           "#19d3f3",
           "#FF6692",
           "#B6E880",
           "#FF97FF",
           "#FECB52"
          ],
          "font": {
           "color": "#2a3f5f"
          },
          "geo": {
           "bgcolor": "white",
           "lakecolor": "white",
           "landcolor": "#E5ECF6",
           "showlakes": true,
           "showland": true,
           "subunitcolor": "white"
          },
          "hoverlabel": {
           "align": "left"
          },
          "hovermode": "closest",
          "mapbox": {
           "style": "light"
          },
          "paper_bgcolor": "white",
          "plot_bgcolor": "#E5ECF6",
          "polar": {
           "angularaxis": {
            "gridcolor": "white",
            "linecolor": "white",
            "ticks": ""
           },
           "bgcolor": "#E5ECF6",
           "radialaxis": {
            "gridcolor": "white",
            "linecolor": "white",
            "ticks": ""
           }
          },
          "scene": {
           "xaxis": {
            "backgroundcolor": "#E5ECF6",
            "gridcolor": "white",
            "gridwidth": 2,
            "linecolor": "white",
            "showbackground": true,
            "ticks": "",
            "zerolinecolor": "white"
           },
           "yaxis": {
            "backgroundcolor": "#E5ECF6",
            "gridcolor": "white",
            "gridwidth": 2,
            "linecolor": "white",
            "showbackground": true,
            "ticks": "",
            "zerolinecolor": "white"
           },
           "zaxis": {
            "backgroundcolor": "#E5ECF6",
            "gridcolor": "white",
            "gridwidth": 2,
            "linecolor": "white",
            "showbackground": true,
            "ticks": "",
            "zerolinecolor": "white"
           }
          },
          "shapedefaults": {
           "line": {
            "color": "#2a3f5f"
           }
          },
          "ternary": {
           "aaxis": {
            "gridcolor": "white",
            "linecolor": "white",
            "ticks": ""
           },
           "baxis": {
            "gridcolor": "white",
            "linecolor": "white",
            "ticks": ""
           },
           "bgcolor": "#E5ECF6",
           "caxis": {
            "gridcolor": "white",
            "linecolor": "white",
            "ticks": ""
           }
          },
          "title": {
           "x": 0.05
          },
          "xaxis": {
           "automargin": true,
           "gridcolor": "white",
           "linecolor": "white",
           "ticks": "",
           "title": {
            "standoff": 15
           },
           "zerolinecolor": "white",
           "zerolinewidth": 2
          },
          "yaxis": {
           "automargin": true,
           "gridcolor": "white",
           "linecolor": "white",
           "ticks": "",
           "title": {
            "standoff": 15
           },
           "zerolinecolor": "white",
           "zerolinewidth": 2
          }
         }
        },
        "title": {
         "font": {
          "color": "#4D5663"
         }
        },
        "xaxis": {
         "gridcolor": "#E1E5ED",
         "showgrid": true,
         "tickfont": {
          "color": "#4D5663"
         },
         "title": {
          "font": {
           "color": "#4D5663"
          },
          "text": ""
         },
         "zerolinecolor": "#E1E5ED"
        },
        "yaxis": {
         "gridcolor": "#E1E5ED",
         "showgrid": true,
         "tickfont": {
          "color": "#4D5663"
         },
         "title": {
          "font": {
           "color": "#4D5663"
          },
          "text": ""
         },
         "zerolinecolor": "#E1E5ED"
        }
       }
      },
      "text/html": [
       "<div>                            <div id=\"45f20260-1f3c-491e-8774-ad9064532137\" class=\"plotly-graph-div\" style=\"height:525px; width:100%;\"></div>            <script type=\"text/javascript\">                require([\"plotly\"], function(Plotly) {                    window.PLOTLYENV=window.PLOTLYENV || {};\n",
       "                    window.PLOTLYENV.BASE_URL='https://plot.ly';                                    if (document.getElementById(\"45f20260-1f3c-491e-8774-ad9064532137\")) {                    Plotly.newPlot(                        \"45f20260-1f3c-491e-8774-ad9064532137\",                        [{\"colorscale\": [[0.0, \"rgb(165,0,38)\"], [0.1, \"rgb(215,48,39)\"], [0.2, \"rgb(244,109,67)\"], [0.3, \"rgb(253,174,97)\"], [0.4, \"rgb(254,224,144)\"], [0.5, \"rgb(255,255,191)\"], [0.6, \"rgb(224,243,248)\"], [0.7, \"rgb(171,217,233)\"], [0.8, \"rgb(116,173,209)\"], [0.9, \"rgb(69,117,180)\"], [1.0, \"rgb(49,54,149)\"]], \"type\": \"surface\", \"x\": [0, 1, 2, 3, 4], \"y\": [\"x\", \"y\", \"z\"], \"z\": [[1, 2, 3, 4, 5], [10, 20, 30, 20, 10], [5, 4, 3, 2, 1]]}],                        {\"legend\": {\"bgcolor\": \"#F5F6F9\", \"font\": {\"color\": \"#4D5663\"}}, \"paper_bgcolor\": \"#F5F6F9\", \"plot_bgcolor\": \"#F5F6F9\", \"template\": {\"data\": {\"bar\": [{\"error_x\": {\"color\": \"#2a3f5f\"}, \"error_y\": {\"color\": \"#2a3f5f\"}, \"marker\": {\"line\": {\"color\": \"#E5ECF6\", \"width\": 0.5}}, \"type\": \"bar\"}], \"barpolar\": [{\"marker\": {\"line\": {\"color\": \"#E5ECF6\", \"width\": 0.5}}, \"type\": \"barpolar\"}], \"carpet\": [{\"aaxis\": {\"endlinecolor\": \"#2a3f5f\", \"gridcolor\": \"white\", \"linecolor\": \"white\", \"minorgridcolor\": \"white\", \"startlinecolor\": \"#2a3f5f\"}, \"baxis\": {\"endlinecolor\": \"#2a3f5f\", \"gridcolor\": \"white\", \"linecolor\": \"white\", \"minorgridcolor\": \"white\", \"startlinecolor\": \"#2a3f5f\"}, \"type\": \"carpet\"}], \"choropleth\": [{\"colorbar\": {\"outlinewidth\": 0, \"ticks\": \"\"}, \"type\": \"choropleth\"}], \"contour\": [{\"colorbar\": {\"outlinewidth\": 0, \"ticks\": \"\"}, \"colorscale\": [[0.0, \"#0d0887\"], [0.1111111111111111, \"#46039f\"], [0.2222222222222222, \"#7201a8\"], [0.3333333333333333, \"#9c179e\"], [0.4444444444444444, \"#bd3786\"], [0.5555555555555556, \"#d8576b\"], [0.6666666666666666, \"#ed7953\"], [0.7777777777777778, \"#fb9f3a\"], [0.8888888888888888, \"#fdca26\"], [1.0, \"#f0f921\"]], \"type\": \"contour\"}], \"contourcarpet\": [{\"colorbar\": {\"outlinewidth\": 0, \"ticks\": \"\"}, \"type\": \"contourcarpet\"}], \"heatmap\": [{\"colorbar\": {\"outlinewidth\": 0, \"ticks\": \"\"}, \"colorscale\": [[0.0, \"#0d0887\"], [0.1111111111111111, \"#46039f\"], [0.2222222222222222, \"#7201a8\"], [0.3333333333333333, \"#9c179e\"], [0.4444444444444444, \"#bd3786\"], [0.5555555555555556, \"#d8576b\"], [0.6666666666666666, \"#ed7953\"], [0.7777777777777778, \"#fb9f3a\"], [0.8888888888888888, \"#fdca26\"], [1.0, \"#f0f921\"]], \"type\": \"heatmap\"}], \"heatmapgl\": [{\"colorbar\": {\"outlinewidth\": 0, \"ticks\": \"\"}, \"colorscale\": [[0.0, \"#0d0887\"], [0.1111111111111111, \"#46039f\"], [0.2222222222222222, \"#7201a8\"], [0.3333333333333333, \"#9c179e\"], [0.4444444444444444, \"#bd3786\"], [0.5555555555555556, \"#d8576b\"], [0.6666666666666666, \"#ed7953\"], [0.7777777777777778, \"#fb9f3a\"], [0.8888888888888888, \"#fdca26\"], [1.0, \"#f0f921\"]], \"type\": \"heatmapgl\"}], \"histogram\": [{\"marker\": {\"colorbar\": {\"outlinewidth\": 0, \"ticks\": \"\"}}, \"type\": \"histogram\"}], \"histogram2d\": [{\"colorbar\": {\"outlinewidth\": 0, \"ticks\": \"\"}, \"colorscale\": [[0.0, \"#0d0887\"], [0.1111111111111111, \"#46039f\"], [0.2222222222222222, \"#7201a8\"], [0.3333333333333333, \"#9c179e\"], [0.4444444444444444, \"#bd3786\"], [0.5555555555555556, \"#d8576b\"], [0.6666666666666666, \"#ed7953\"], [0.7777777777777778, \"#fb9f3a\"], [0.8888888888888888, \"#fdca26\"], [1.0, \"#f0f921\"]], \"type\": \"histogram2d\"}], \"histogram2dcontour\": [{\"colorbar\": {\"outlinewidth\": 0, \"ticks\": \"\"}, \"colorscale\": [[0.0, \"#0d0887\"], [0.1111111111111111, \"#46039f\"], [0.2222222222222222, \"#7201a8\"], [0.3333333333333333, \"#9c179e\"], [0.4444444444444444, \"#bd3786\"], [0.5555555555555556, \"#d8576b\"], [0.6666666666666666, \"#ed7953\"], [0.7777777777777778, \"#fb9f3a\"], [0.8888888888888888, \"#fdca26\"], [1.0, \"#f0f921\"]], \"type\": \"histogram2dcontour\"}], \"mesh3d\": [{\"colorbar\": {\"outlinewidth\": 0, \"ticks\": \"\"}, \"type\": \"mesh3d\"}], \"parcoords\": [{\"line\": {\"colorbar\": {\"outlinewidth\": 0, \"ticks\": \"\"}}, \"type\": \"parcoords\"}], \"pie\": [{\"automargin\": true, \"type\": \"pie\"}], \"scatter\": [{\"marker\": {\"colorbar\": {\"outlinewidth\": 0, \"ticks\": \"\"}}, \"type\": \"scatter\"}], \"scatter3d\": [{\"line\": {\"colorbar\": {\"outlinewidth\": 0, \"ticks\": \"\"}}, \"marker\": {\"colorbar\": {\"outlinewidth\": 0, \"ticks\": \"\"}}, \"type\": \"scatter3d\"}], \"scattercarpet\": [{\"marker\": {\"colorbar\": {\"outlinewidth\": 0, \"ticks\": \"\"}}, \"type\": \"scattercarpet\"}], \"scattergeo\": [{\"marker\": {\"colorbar\": {\"outlinewidth\": 0, \"ticks\": \"\"}}, \"type\": \"scattergeo\"}], \"scattergl\": [{\"marker\": {\"colorbar\": {\"outlinewidth\": 0, \"ticks\": \"\"}}, \"type\": \"scattergl\"}], \"scattermapbox\": [{\"marker\": {\"colorbar\": {\"outlinewidth\": 0, \"ticks\": \"\"}}, \"type\": \"scattermapbox\"}], \"scatterpolar\": [{\"marker\": {\"colorbar\": {\"outlinewidth\": 0, \"ticks\": \"\"}}, \"type\": \"scatterpolar\"}], \"scatterpolargl\": [{\"marker\": {\"colorbar\": {\"outlinewidth\": 0, \"ticks\": \"\"}}, \"type\": \"scatterpolargl\"}], \"scatterternary\": [{\"marker\": {\"colorbar\": {\"outlinewidth\": 0, \"ticks\": \"\"}}, \"type\": \"scatterternary\"}], \"surface\": [{\"colorbar\": {\"outlinewidth\": 0, \"ticks\": \"\"}, \"colorscale\": [[0.0, \"#0d0887\"], [0.1111111111111111, \"#46039f\"], [0.2222222222222222, \"#7201a8\"], [0.3333333333333333, \"#9c179e\"], [0.4444444444444444, \"#bd3786\"], [0.5555555555555556, \"#d8576b\"], [0.6666666666666666, \"#ed7953\"], [0.7777777777777778, \"#fb9f3a\"], [0.8888888888888888, \"#fdca26\"], [1.0, \"#f0f921\"]], \"type\": \"surface\"}], \"table\": [{\"cells\": {\"fill\": {\"color\": \"#EBF0F8\"}, \"line\": {\"color\": \"white\"}}, \"header\": {\"fill\": {\"color\": \"#C8D4E3\"}, \"line\": {\"color\": \"white\"}}, \"type\": \"table\"}]}, \"layout\": {\"annotationdefaults\": {\"arrowcolor\": \"#2a3f5f\", \"arrowhead\": 0, \"arrowwidth\": 1}, \"autotypenumbers\": \"strict\", \"coloraxis\": {\"colorbar\": {\"outlinewidth\": 0, \"ticks\": \"\"}}, \"colorscale\": {\"diverging\": [[0, \"#8e0152\"], [0.1, \"#c51b7d\"], [0.2, \"#de77ae\"], [0.3, \"#f1b6da\"], [0.4, \"#fde0ef\"], [0.5, \"#f7f7f7\"], [0.6, \"#e6f5d0\"], [0.7, \"#b8e186\"], [0.8, \"#7fbc41\"], [0.9, \"#4d9221\"], [1, \"#276419\"]], \"sequential\": [[0.0, \"#0d0887\"], [0.1111111111111111, \"#46039f\"], [0.2222222222222222, \"#7201a8\"], [0.3333333333333333, \"#9c179e\"], [0.4444444444444444, \"#bd3786\"], [0.5555555555555556, \"#d8576b\"], [0.6666666666666666, \"#ed7953\"], [0.7777777777777778, \"#fb9f3a\"], [0.8888888888888888, \"#fdca26\"], [1.0, \"#f0f921\"]], \"sequentialminus\": [[0.0, \"#0d0887\"], [0.1111111111111111, \"#46039f\"], [0.2222222222222222, \"#7201a8\"], [0.3333333333333333, \"#9c179e\"], [0.4444444444444444, \"#bd3786\"], [0.5555555555555556, \"#d8576b\"], [0.6666666666666666, \"#ed7953\"], [0.7777777777777778, \"#fb9f3a\"], [0.8888888888888888, \"#fdca26\"], [1.0, \"#f0f921\"]]}, \"colorway\": [\"#636efa\", \"#EF553B\", \"#00cc96\", \"#ab63fa\", \"#FFA15A\", \"#19d3f3\", \"#FF6692\", \"#B6E880\", \"#FF97FF\", \"#FECB52\"], \"font\": {\"color\": \"#2a3f5f\"}, \"geo\": {\"bgcolor\": \"white\", \"lakecolor\": \"white\", \"landcolor\": \"#E5ECF6\", \"showlakes\": true, \"showland\": true, \"subunitcolor\": \"white\"}, \"hoverlabel\": {\"align\": \"left\"}, \"hovermode\": \"closest\", \"mapbox\": {\"style\": \"light\"}, \"paper_bgcolor\": \"white\", \"plot_bgcolor\": \"#E5ECF6\", \"polar\": {\"angularaxis\": {\"gridcolor\": \"white\", \"linecolor\": \"white\", \"ticks\": \"\"}, \"bgcolor\": \"#E5ECF6\", \"radialaxis\": {\"gridcolor\": \"white\", \"linecolor\": \"white\", \"ticks\": \"\"}}, \"scene\": {\"xaxis\": {\"backgroundcolor\": \"#E5ECF6\", \"gridcolor\": \"white\", \"gridwidth\": 2, \"linecolor\": \"white\", \"showbackground\": true, \"ticks\": \"\", \"zerolinecolor\": \"white\"}, \"yaxis\": {\"backgroundcolor\": \"#E5ECF6\", \"gridcolor\": \"white\", \"gridwidth\": 2, \"linecolor\": \"white\", \"showbackground\": true, \"ticks\": \"\", \"zerolinecolor\": \"white\"}, \"zaxis\": {\"backgroundcolor\": \"#E5ECF6\", \"gridcolor\": \"white\", \"gridwidth\": 2, \"linecolor\": \"white\", \"showbackground\": true, \"ticks\": \"\", \"zerolinecolor\": \"white\"}}, \"shapedefaults\": {\"line\": {\"color\": \"#2a3f5f\"}}, \"ternary\": {\"aaxis\": {\"gridcolor\": \"white\", \"linecolor\": \"white\", \"ticks\": \"\"}, \"baxis\": {\"gridcolor\": \"white\", \"linecolor\": \"white\", \"ticks\": \"\"}, \"bgcolor\": \"#E5ECF6\", \"caxis\": {\"gridcolor\": \"white\", \"linecolor\": \"white\", \"ticks\": \"\"}}, \"title\": {\"x\": 0.05}, \"xaxis\": {\"automargin\": true, \"gridcolor\": \"white\", \"linecolor\": \"white\", \"ticks\": \"\", \"title\": {\"standoff\": 15}, \"zerolinecolor\": \"white\", \"zerolinewidth\": 2}, \"yaxis\": {\"automargin\": true, \"gridcolor\": \"white\", \"linecolor\": \"white\", \"ticks\": \"\", \"title\": {\"standoff\": 15}, \"zerolinecolor\": \"white\", \"zerolinewidth\": 2}}}, \"title\": {\"font\": {\"color\": \"#4D5663\"}}, \"xaxis\": {\"gridcolor\": \"#E1E5ED\", \"showgrid\": true, \"tickfont\": {\"color\": \"#4D5663\"}, \"title\": {\"font\": {\"color\": \"#4D5663\"}, \"text\": \"\"}, \"zerolinecolor\": \"#E1E5ED\"}, \"yaxis\": {\"gridcolor\": \"#E1E5ED\", \"showgrid\": true, \"tickfont\": {\"color\": \"#4D5663\"}, \"title\": {\"font\": {\"color\": \"#4D5663\"}, \"text\": \"\"}, \"zerolinecolor\": \"#E1E5ED\"}},                        {\"showLink\": true, \"linkText\": \"Export to plot.ly\", \"plotlyServerURL\": \"https://plot.ly\", \"responsive\": true}                    ).then(function(){\n",
       "                            \n",
       "var gd = document.getElementById('45f20260-1f3c-491e-8774-ad9064532137');\n",
       "var x = new MutationObserver(function (mutations, observer) {{\n",
       "        var display = window.getComputedStyle(gd).display;\n",
       "        if (!display || display === 'none') {{\n",
       "            console.log([gd, 'removed!']);\n",
       "            Plotly.purge(gd);\n",
       "            observer.disconnect();\n",
       "        }}\n",
       "}});\n",
       "\n",
       "// Listen for the removal of the full notebook cells\n",
       "var notebookContainer = gd.closest('#notebook-container');\n",
       "if (notebookContainer) {{\n",
       "    x.observe(notebookContainer, {childList: true});\n",
       "}}\n",
       "\n",
       "// Listen for the clearing of the current output cell\n",
       "var outputEl = gd.closest('.output');\n",
       "if (outputEl) {{\n",
       "    x.observe(outputEl, {childList: true});\n",
       "}}\n",
       "\n",
       "                        })                };                });            </script>        </div>"
      ]
     },
     "metadata": {},
     "output_type": "display_data"
    }
   ],
   "source": [
    "df3 = pd.DataFrame({'x':[1,2,3,4,5],'y':[10,20,30,20,10],'z':[5,4,3,2,1]})\n",
    "df3.iplot(kind='surface',colorscale='rdylbu')"
   ]
  },
  {
   "cell_type": "markdown",
   "metadata": {},
   "source": [
    "## Spread"
   ]
  },
  {
   "cell_type": "code",
   "execution_count": 20,
   "metadata": {},
   "outputs": [
    {
     "name": "stderr",
     "output_type": "stream",
     "text": [
      "c:\\users\\ofirg\\appdata\\local\\programs\\python\\python38\\lib\\site-packages\\cufflinks\\plotlytools.py:849: FutureWarning:\n",
      "\n",
      "The pandas.np module is deprecated and will be removed from pandas in a future version. Import numpy directly instead\n",
      "\n",
      "c:\\users\\ofirg\\appdata\\local\\programs\\python\\python38\\lib\\site-packages\\cufflinks\\plotlytools.py:850: FutureWarning:\n",
      "\n",
      "The pandas.np module is deprecated and will be removed from pandas in a future version. Import numpy directly instead\n",
      "\n"
     ]
    },
    {
     "data": {
      "application/vnd.plotly.v1+json": {
       "config": {
        "linkText": "Export to plot.ly",
        "plotlyServerURL": "https://plot.ly",
        "showLink": true
       },
       "data": [
        {
         "line": {
          "color": "rgba(255, 153, 51, 1.0)",
          "dash": "solid",
          "shape": "linear",
          "width": 1.3
         },
         "mode": "lines",
         "name": "A",
         "text": "",
         "type": "scatter",
         "x": [
          0,
          1,
          2,
          3,
          4,
          5,
          6,
          7,
          8,
          9,
          10,
          11,
          12,
          13,
          14,
          15,
          16,
          17,
          18,
          19,
          20,
          21,
          22,
          23,
          24,
          25,
          26,
          27,
          28,
          29,
          30,
          31,
          32,
          33,
          34,
          35,
          36,
          37,
          38,
          39,
          40,
          41,
          42,
          43,
          44,
          45,
          46,
          47,
          48,
          49,
          50,
          51,
          52,
          53,
          54,
          55,
          56,
          57,
          58,
          59,
          60,
          61,
          62,
          63,
          64,
          65,
          66,
          67,
          68,
          69,
          70,
          71,
          72,
          73,
          74,
          75,
          76,
          77,
          78,
          79,
          80,
          81,
          82,
          83,
          84,
          85,
          86,
          87,
          88,
          89,
          90,
          91,
          92,
          93,
          94,
          95,
          96,
          97,
          98,
          99
         ],
         "y": [
          0.9197133807614235,
          0.7794542364536206,
          -0.09649744911588459,
          1.7774800045254102,
          -1.225964420847159,
          -2.393954265258908,
          0.41990419231764947,
          0.8616029917587111,
          -0.24737914798211716,
          1.0274749369056067,
          0.07649296724874846,
          0.9437322356592867,
          0.1996489583939814,
          1.58427473537746,
          -0.371723359297978,
          0.22979824338857696,
          1.53658689215229,
          0.012158305181052004,
          -1.1602507795274908,
          0.3774550134420746,
          1.0644162387146285,
          -0.221044462875774,
          0.5012106305315702,
          0.7778064820592324,
          1.3147485229906,
          -0.865092812047564,
          -0.42410365767333646,
          -0.357691233878992,
          -0.3414067537683034,
          0.6375951853421511,
          -0.3754133832264921,
          -0.16610414089782688,
          0.388431315898646,
          -0.3228333339830255,
          0.039263470128833015,
          0.4639010359623582,
          0.1485992496867083,
          -0.296115590941632,
          0.14819367088853724,
          0.2026284784393481,
          -0.2348139336782935,
          -1.6800725044112985,
          0.8701378536749685,
          0.341188400775277,
          -0.012237024383443105,
          0.2622618333273738,
          1.1462065561704708,
          -0.054086747031590936,
          0.1843621043620616,
          -0.5398771840429352,
          -1.0722382532014312,
          -0.050435157686543705,
          2.8895581697000896,
          -0.6719852661171711,
          0.46460937644349315,
          1.9923968859714174,
          -1.0345940853003668,
          -0.25508907607148096,
          1.123636206992229,
          0.4035748735001082,
          -0.2250374937301488,
          1.0464100042119022,
          0.2986891746841648,
          -0.11043242862740031,
          0.10165226027586535,
          0.005658435925281142,
          -0.9208657571597071,
          1.2009839712573003,
          -0.4892870232330178,
          -0.06133536497774417,
          -1.0009550308856383,
          -0.48052367803749363,
          0.8409796841631535,
          1.5965466139596338,
          2.120683106950889,
          -1.8799377668379869,
          -0.26563779261158504,
          -0.14704421316205113,
          -1.424161397157802,
          0.47614096789664473,
          -0.5215117460381219,
          0.4809600170045102,
          0.6622103676774127,
          -1.2783556733428347,
          -0.022858985180589677,
          -1.563275342663613,
          -1.2424457285081163,
          0.11681759263698047,
          0.8466794065199111,
          0.06490426589829766,
          2.157438296279944,
          0.6741389867698577,
          1.8430788221397851,
          2.5740175116462423,
          -1.306267582832392,
          0.4205936086654285,
          0.7180849950269751,
          -0.08247581270117955,
          0.050969560380462284,
          0.028843641125944345
         ]
        },
        {
         "line": {
          "color": "rgba(55, 128, 191, 1.0)",
          "dash": "solid",
          "shape": "linear",
          "width": 1.3
         },
         "mode": "lines",
         "name": "B",
         "text": "",
         "type": "scatter",
         "x": [
          0,
          1,
          2,
          3,
          4,
          5,
          6,
          7,
          8,
          9,
          10,
          11,
          12,
          13,
          14,
          15,
          16,
          17,
          18,
          19,
          20,
          21,
          22,
          23,
          24,
          25,
          26,
          27,
          28,
          29,
          30,
          31,
          32,
          33,
          34,
          35,
          36,
          37,
          38,
          39,
          40,
          41,
          42,
          43,
          44,
          45,
          46,
          47,
          48,
          49,
          50,
          51,
          52,
          53,
          54,
          55,
          56,
          57,
          58,
          59,
          60,
          61,
          62,
          63,
          64,
          65,
          66,
          67,
          68,
          69,
          70,
          71,
          72,
          73,
          74,
          75,
          76,
          77,
          78,
          79,
          80,
          81,
          82,
          83,
          84,
          85,
          86,
          87,
          88,
          89,
          90,
          91,
          92,
          93,
          94,
          95,
          96,
          97,
          98,
          99
         ],
         "y": [
          -0.43313928439241856,
          -0.4425613609484883,
          -0.5831641104998745,
          -0.2329524920028297,
          -0.08333227347218153,
          -0.5550772129650813,
          1.0232186344774543,
          -0.19691035869974066,
          0.6652592638509605,
          -0.25855232158591246,
          0.08708040495670091,
          -0.6120088084945818,
          -0.12277081811889581,
          2.1596911192246933,
          1.7453798976659805,
          -0.31058753595801675,
          0.17173161909361565,
          0.2486764341606997,
          0.6290908277801774,
          -0.677253445352361,
          -0.29591717094932185,
          3.5912914484649057,
          -1.5102507577162003,
          -0.10452519409142735,
          -1.3730093962486873,
          -0.10638571976969305,
          -2.562467956305081,
          1.1873153508557435,
          1.7306827104585627,
          2.0784750273731722,
          0.9144007762066864,
          -1.0486224523024477,
          0.616468572611647,
          -0.05306969649565157,
          0.11970754364521062,
          -1.8208242311258491,
          0.8506780205806028,
          -0.7978765182395776,
          -1.6859900378557098,
          -0.807788418777815,
          -0.16415304493743396,
          -1.2779023594529633,
          0.3959843079178932,
          -1.9172789727990776,
          -0.34839551770740596,
          -2.3010545326542164,
          -0.37336750540430746,
          1.0143884366534197,
          -1.0602834509257386,
          -0.5472740730487213,
          -0.15065390894444045,
          0.9220738873395795,
          0.3587351344940042,
          0.4156627803042604,
          -0.25573558842639865,
          -0.779343193627066,
          -0.2327866638752568,
          -0.38671823194117577,
          1.033541673260998,
          0.30249714031787445,
          0.3548984753587199,
          -1.7011402723912104,
          0.9303595461164846,
          -0.3376204164752655,
          0.316175575817413,
          -0.6570536255194106,
          -0.07958066039765603,
          0.6007547821873407,
          0.3278495443745458,
          -0.9373708035630588,
          0.024562754829876316,
          0.15174005354443162,
          1.7322891667012859,
          2.266091829286604,
          0.3322274142194494,
          -1.0968432532953514,
          -0.5395437695783084,
          2.4261309168988627,
          -0.07146814570308693,
          0.6575829486179565,
          1.137000976387248,
          1.3565204705711482,
          -0.3923880210686105,
          0.9310307831146414,
          0.44280425549872554,
          0.6373350300534316,
          -0.37692833981371726,
          0.9292375282970157,
          -1.3816024406765592,
          1.2862751536692747,
          -0.2391628412182689,
          -0.134096521061821,
          0.36325476918153177,
          -1.04756639847069,
          -1.3975724700107532,
          0.4599275903138609,
          -0.0026229351024188562,
          -0.5112324125694927,
          1.3983123334955245,
          0.9451463539487669
         ]
        },
        {
         "connectgaps": false,
         "fill": "tozeroy",
         "line": {
          "color": "green",
          "dash": "solid",
          "shape": "linear",
          "width": 0.5
         },
         "mode": "lines",
         "name": "Spread",
         "showlegend": false,
         "type": "scatter",
         "x": [
          0,
          1,
          2,
          3,
          4,
          5,
          6,
          7,
          8,
          9,
          10,
          11,
          12,
          13,
          14,
          15,
          16,
          17,
          18,
          19,
          20,
          21,
          22,
          23,
          24,
          25,
          26,
          27,
          28,
          29,
          30,
          31,
          32,
          33,
          34,
          35,
          36,
          37,
          38,
          39,
          40,
          41,
          42,
          43,
          44,
          45,
          46,
          47,
          48,
          49,
          50,
          51,
          52,
          53,
          54,
          55,
          56,
          57,
          58,
          59,
          60,
          61,
          62,
          63,
          64,
          65,
          66,
          67,
          68,
          69,
          70,
          71,
          72,
          73,
          74,
          75,
          76,
          77,
          78,
          79,
          80,
          81,
          82,
          83,
          84,
          85,
          86,
          87,
          88,
          89,
          90,
          91,
          92,
          93,
          94,
          95,
          96,
          97,
          98,
          99
         ],
         "xaxis": "x2",
         "y": [
          1.3528526651538422,
          1.222015597402109,
          0.4866666613839899,
          2.01043249652824,
          "",
          "",
          "",
          1.0585133504584519,
          "",
          1.286027258491519,
          "",
          1.5557410441538684,
          0.32241977651287723,
          "",
          "",
          0.5403857793465937,
          1.3648552730586745,
          "",
          "",
          1.0547084587944355,
          1.3603334096639503,
          "",
          2.0114613882477705,
          0.8823316761506598,
          2.6877579192392873,
          "",
          2.138364298631745,
          "",
          "",
          "",
          "",
          0.8825183114046208,
          "",
          "",
          "",
          2.2847252670882074,
          "",
          0.5017609272979456,
          1.834183708744247,
          1.0104168972171632,
          "",
          "",
          0.47415354575707536,
          2.2584673735743546,
          0.33615849332396286,
          2.5633163659815903,
          1.5195740615747784,
          "",
          1.2446455552878002,
          0.007396889005786167,
          "",
          "",
          2.5308230352060854,
          "",
          0.7203449648698919,
          2.7717400795984837,
          "",
          0.1316291558696948,
          0.09009453373123089,
          0.10107773318223373,
          "",
          2.7475502766031124,
          "",
          0.22718798784786515,
          "",
          0.6627120614446917,
          "",
          0.6002291890699596,
          "",
          0.8760354385853146,
          "",
          "",
          "",
          "",
          1.7884556927314397,
          "",
          0.27390597696672336,
          "",
          "",
          "",
          "",
          "",
          1.0545983887460233,
          "",
          "",
          "",
          "",
          "",
          2.2282818471964703,
          "",
          2.396601137498213,
          0.8082355078316787,
          1.4798240529582534,
          3.6215839101169323,
          0.09130488717836127,
          "",
          0.7207079301293939,
          0.42875659986831316,
          "",
          ""
         ],
         "yaxis": "y2"
        },
        {
         "connectgaps": false,
         "fill": "tozeroy",
         "line": {
          "color": "red",
          "dash": "solid",
          "shape": "linear",
          "width": 0.5
         },
         "mode": "lines",
         "name": "Spread",
         "showlegend": false,
         "type": "scatter",
         "x": [
          0,
          1,
          2,
          3,
          4,
          5,
          6,
          7,
          8,
          9,
          10,
          11,
          12,
          13,
          14,
          15,
          16,
          17,
          18,
          19,
          20,
          21,
          22,
          23,
          24,
          25,
          26,
          27,
          28,
          29,
          30,
          31,
          32,
          33,
          34,
          35,
          36,
          37,
          38,
          39,
          40,
          41,
          42,
          43,
          44,
          45,
          46,
          47,
          48,
          49,
          50,
          51,
          52,
          53,
          54,
          55,
          56,
          57,
          58,
          59,
          60,
          61,
          62,
          63,
          64,
          65,
          66,
          67,
          68,
          69,
          70,
          71,
          72,
          73,
          74,
          75,
          76,
          77,
          78,
          79,
          80,
          81,
          82,
          83,
          84,
          85,
          86,
          87,
          88,
          89,
          90,
          91,
          92,
          93,
          94,
          95,
          96,
          97,
          98,
          99
         ],
         "xaxis": "x2",
         "y": [
          "",
          "",
          "",
          "",
          -1.1426321473749774,
          -1.8388770522938267,
          -0.6033144421598049,
          "",
          -0.9126384118330776,
          "",
          -0.010587437707952452,
          "",
          "",
          -0.5754163838472333,
          -2.1171032569639583,
          "",
          "",
          -0.2365181289796477,
          -1.7893416073076682,
          "",
          "",
          -3.81233591134068,
          "",
          "",
          "",
          -0.758707092277871,
          "",
          -1.5450065847347354,
          -2.072089464226866,
          -1.4408798420310212,
          -1.2898141594331785,
          "",
          -0.228037256713001,
          -0.2697636374873739,
          -0.08044407351637761,
          "",
          -0.7020787708938945,
          "",
          "",
          "",
          -0.07066088874085955,
          -0.40217014495833525,
          "",
          "",
          "",
          "",
          "",
          -1.0684751836850106,
          "",
          "",
          -0.9215843442569908,
          -0.9725090450261232,
          "",
          -1.0876480464214315,
          "",
          "",
          -0.80180742142511,
          "",
          "",
          "",
          -0.5799359690888687,
          "",
          -0.6316703714323199,
          "",
          -0.21452331554154766,
          "",
          -0.8412850967620511,
          "",
          -0.8171365676075636,
          "",
          -1.0255177857155147,
          -0.6322637315819253,
          -0.8913094825381324,
          -0.6695452153269703,
          "",
          -0.7830945135426355,
          "",
          -2.573175130060914,
          -1.352693251454715,
          -0.1814419807213118,
          -1.6585127224253697,
          -0.875560453566638,
          "",
          -2.209386456457476,
          -0.4656632406793152,
          -2.2006103727170445,
          -0.865517388694399,
          -0.8124199356600352,
          "",
          -1.221370887770977,
          "",
          "",
          "",
          "",
          "",
          -0.03933398164843238,
          "",
          "",
          -1.3473427731150622,
          -0.9163027128228225
         ],
         "yaxis": "y2"
        }
       ],
       "layout": {
        "hovermode": "x",
        "legend": {
         "bgcolor": "#F5F6F9",
         "font": {
          "color": "#4D5663"
         }
        },
        "paper_bgcolor": "#F5F6F9",
        "plot_bgcolor": "#F5F6F9",
        "template": {
         "data": {
          "bar": [
           {
            "error_x": {
             "color": "#2a3f5f"
            },
            "error_y": {
             "color": "#2a3f5f"
            },
            "marker": {
             "line": {
              "color": "#E5ECF6",
              "width": 0.5
             }
            },
            "type": "bar"
           }
          ],
          "barpolar": [
           {
            "marker": {
             "line": {
              "color": "#E5ECF6",
              "width": 0.5
             }
            },
            "type": "barpolar"
           }
          ],
          "carpet": [
           {
            "aaxis": {
             "endlinecolor": "#2a3f5f",
             "gridcolor": "white",
             "linecolor": "white",
             "minorgridcolor": "white",
             "startlinecolor": "#2a3f5f"
            },
            "baxis": {
             "endlinecolor": "#2a3f5f",
             "gridcolor": "white",
             "linecolor": "white",
             "minorgridcolor": "white",
             "startlinecolor": "#2a3f5f"
            },
            "type": "carpet"
           }
          ],
          "choropleth": [
           {
            "colorbar": {
             "outlinewidth": 0,
             "ticks": ""
            },
            "type": "choropleth"
           }
          ],
          "contour": [
           {
            "colorbar": {
             "outlinewidth": 0,
             "ticks": ""
            },
            "colorscale": [
             [
              0,
              "#0d0887"
             ],
             [
              0.1111111111111111,
              "#46039f"
             ],
             [
              0.2222222222222222,
              "#7201a8"
             ],
             [
              0.3333333333333333,
              "#9c179e"
             ],
             [
              0.4444444444444444,
              "#bd3786"
             ],
             [
              0.5555555555555556,
              "#d8576b"
             ],
             [
              0.6666666666666666,
              "#ed7953"
             ],
             [
              0.7777777777777778,
              "#fb9f3a"
             ],
             [
              0.8888888888888888,
              "#fdca26"
             ],
             [
              1,
              "#f0f921"
             ]
            ],
            "type": "contour"
           }
          ],
          "contourcarpet": [
           {
            "colorbar": {
             "outlinewidth": 0,
             "ticks": ""
            },
            "type": "contourcarpet"
           }
          ],
          "heatmap": [
           {
            "colorbar": {
             "outlinewidth": 0,
             "ticks": ""
            },
            "colorscale": [
             [
              0,
              "#0d0887"
             ],
             [
              0.1111111111111111,
              "#46039f"
             ],
             [
              0.2222222222222222,
              "#7201a8"
             ],
             [
              0.3333333333333333,
              "#9c179e"
             ],
             [
              0.4444444444444444,
              "#bd3786"
             ],
             [
              0.5555555555555556,
              "#d8576b"
             ],
             [
              0.6666666666666666,
              "#ed7953"
             ],
             [
              0.7777777777777778,
              "#fb9f3a"
             ],
             [
              0.8888888888888888,
              "#fdca26"
             ],
             [
              1,
              "#f0f921"
             ]
            ],
            "type": "heatmap"
           }
          ],
          "heatmapgl": [
           {
            "colorbar": {
             "outlinewidth": 0,
             "ticks": ""
            },
            "colorscale": [
             [
              0,
              "#0d0887"
             ],
             [
              0.1111111111111111,
              "#46039f"
             ],
             [
              0.2222222222222222,
              "#7201a8"
             ],
             [
              0.3333333333333333,
              "#9c179e"
             ],
             [
              0.4444444444444444,
              "#bd3786"
             ],
             [
              0.5555555555555556,
              "#d8576b"
             ],
             [
              0.6666666666666666,
              "#ed7953"
             ],
             [
              0.7777777777777778,
              "#fb9f3a"
             ],
             [
              0.8888888888888888,
              "#fdca26"
             ],
             [
              1,
              "#f0f921"
             ]
            ],
            "type": "heatmapgl"
           }
          ],
          "histogram": [
           {
            "marker": {
             "colorbar": {
              "outlinewidth": 0,
              "ticks": ""
             }
            },
            "type": "histogram"
           }
          ],
          "histogram2d": [
           {
            "colorbar": {
             "outlinewidth": 0,
             "ticks": ""
            },
            "colorscale": [
             [
              0,
              "#0d0887"
             ],
             [
              0.1111111111111111,
              "#46039f"
             ],
             [
              0.2222222222222222,
              "#7201a8"
             ],
             [
              0.3333333333333333,
              "#9c179e"
             ],
             [
              0.4444444444444444,
              "#bd3786"
             ],
             [
              0.5555555555555556,
              "#d8576b"
             ],
             [
              0.6666666666666666,
              "#ed7953"
             ],
             [
              0.7777777777777778,
              "#fb9f3a"
             ],
             [
              0.8888888888888888,
              "#fdca26"
             ],
             [
              1,
              "#f0f921"
             ]
            ],
            "type": "histogram2d"
           }
          ],
          "histogram2dcontour": [
           {
            "colorbar": {
             "outlinewidth": 0,
             "ticks": ""
            },
            "colorscale": [
             [
              0,
              "#0d0887"
             ],
             [
              0.1111111111111111,
              "#46039f"
             ],
             [
              0.2222222222222222,
              "#7201a8"
             ],
             [
              0.3333333333333333,
              "#9c179e"
             ],
             [
              0.4444444444444444,
              "#bd3786"
             ],
             [
              0.5555555555555556,
              "#d8576b"
             ],
             [
              0.6666666666666666,
              "#ed7953"
             ],
             [
              0.7777777777777778,
              "#fb9f3a"
             ],
             [
              0.8888888888888888,
              "#fdca26"
             ],
             [
              1,
              "#f0f921"
             ]
            ],
            "type": "histogram2dcontour"
           }
          ],
          "mesh3d": [
           {
            "colorbar": {
             "outlinewidth": 0,
             "ticks": ""
            },
            "type": "mesh3d"
           }
          ],
          "parcoords": [
           {
            "line": {
             "colorbar": {
              "outlinewidth": 0,
              "ticks": ""
             }
            },
            "type": "parcoords"
           }
          ],
          "pie": [
           {
            "automargin": true,
            "type": "pie"
           }
          ],
          "scatter": [
           {
            "marker": {
             "colorbar": {
              "outlinewidth": 0,
              "ticks": ""
             }
            },
            "type": "scatter"
           }
          ],
          "scatter3d": [
           {
            "line": {
             "colorbar": {
              "outlinewidth": 0,
              "ticks": ""
             }
            },
            "marker": {
             "colorbar": {
              "outlinewidth": 0,
              "ticks": ""
             }
            },
            "type": "scatter3d"
           }
          ],
          "scattercarpet": [
           {
            "marker": {
             "colorbar": {
              "outlinewidth": 0,
              "ticks": ""
             }
            },
            "type": "scattercarpet"
           }
          ],
          "scattergeo": [
           {
            "marker": {
             "colorbar": {
              "outlinewidth": 0,
              "ticks": ""
             }
            },
            "type": "scattergeo"
           }
          ],
          "scattergl": [
           {
            "marker": {
             "colorbar": {
              "outlinewidth": 0,
              "ticks": ""
             }
            },
            "type": "scattergl"
           }
          ],
          "scattermapbox": [
           {
            "marker": {
             "colorbar": {
              "outlinewidth": 0,
              "ticks": ""
             }
            },
            "type": "scattermapbox"
           }
          ],
          "scatterpolar": [
           {
            "marker": {
             "colorbar": {
              "outlinewidth": 0,
              "ticks": ""
             }
            },
            "type": "scatterpolar"
           }
          ],
          "scatterpolargl": [
           {
            "marker": {
             "colorbar": {
              "outlinewidth": 0,
              "ticks": ""
             }
            },
            "type": "scatterpolargl"
           }
          ],
          "scatterternary": [
           {
            "marker": {
             "colorbar": {
              "outlinewidth": 0,
              "ticks": ""
             }
            },
            "type": "scatterternary"
           }
          ],
          "surface": [
           {
            "colorbar": {
             "outlinewidth": 0,
             "ticks": ""
            },
            "colorscale": [
             [
              0,
              "#0d0887"
             ],
             [
              0.1111111111111111,
              "#46039f"
             ],
             [
              0.2222222222222222,
              "#7201a8"
             ],
             [
              0.3333333333333333,
              "#9c179e"
             ],
             [
              0.4444444444444444,
              "#bd3786"
             ],
             [
              0.5555555555555556,
              "#d8576b"
             ],
             [
              0.6666666666666666,
              "#ed7953"
             ],
             [
              0.7777777777777778,
              "#fb9f3a"
             ],
             [
              0.8888888888888888,
              "#fdca26"
             ],
             [
              1,
              "#f0f921"
             ]
            ],
            "type": "surface"
           }
          ],
          "table": [
           {
            "cells": {
             "fill": {
              "color": "#EBF0F8"
             },
             "line": {
              "color": "white"
             }
            },
            "header": {
             "fill": {
              "color": "#C8D4E3"
             },
             "line": {
              "color": "white"
             }
            },
            "type": "table"
           }
          ]
         },
         "layout": {
          "annotationdefaults": {
           "arrowcolor": "#2a3f5f",
           "arrowhead": 0,
           "arrowwidth": 1
          },
          "autotypenumbers": "strict",
          "coloraxis": {
           "colorbar": {
            "outlinewidth": 0,
            "ticks": ""
           }
          },
          "colorscale": {
           "diverging": [
            [
             0,
             "#8e0152"
            ],
            [
             0.1,
             "#c51b7d"
            ],
            [
             0.2,
             "#de77ae"
            ],
            [
             0.3,
             "#f1b6da"
            ],
            [
             0.4,
             "#fde0ef"
            ],
            [
             0.5,
             "#f7f7f7"
            ],
            [
             0.6,
             "#e6f5d0"
            ],
            [
             0.7,
             "#b8e186"
            ],
            [
             0.8,
             "#7fbc41"
            ],
            [
             0.9,
             "#4d9221"
            ],
            [
             1,
             "#276419"
            ]
           ],
           "sequential": [
            [
             0,
             "#0d0887"
            ],
            [
             0.1111111111111111,
             "#46039f"
            ],
            [
             0.2222222222222222,
             "#7201a8"
            ],
            [
             0.3333333333333333,
             "#9c179e"
            ],
            [
             0.4444444444444444,
             "#bd3786"
            ],
            [
             0.5555555555555556,
             "#d8576b"
            ],
            [
             0.6666666666666666,
             "#ed7953"
            ],
            [
             0.7777777777777778,
             "#fb9f3a"
            ],
            [
             0.8888888888888888,
             "#fdca26"
            ],
            [
             1,
             "#f0f921"
            ]
           ],
           "sequentialminus": [
            [
             0,
             "#0d0887"
            ],
            [
             0.1111111111111111,
             "#46039f"
            ],
            [
             0.2222222222222222,
             "#7201a8"
            ],
            [
             0.3333333333333333,
             "#9c179e"
            ],
            [
             0.4444444444444444,
             "#bd3786"
            ],
            [
             0.5555555555555556,
             "#d8576b"
            ],
            [
             0.6666666666666666,
             "#ed7953"
            ],
            [
             0.7777777777777778,
             "#fb9f3a"
            ],
            [
             0.8888888888888888,
             "#fdca26"
            ],
            [
             1,
             "#f0f921"
            ]
           ]
          },
          "colorway": [
           "#636efa",
           "#EF553B",
           "#00cc96",
           "#ab63fa",
           "#FFA15A",
           "#19d3f3",
           "#FF6692",
           "#B6E880",
           "#FF97FF",
           "#FECB52"
          ],
          "font": {
           "color": "#2a3f5f"
          },
          "geo": {
           "bgcolor": "white",
           "lakecolor": "white",
           "landcolor": "#E5ECF6",
           "showlakes": true,
           "showland": true,
           "subunitcolor": "white"
          },
          "hoverlabel": {
           "align": "left"
          },
          "hovermode": "closest",
          "mapbox": {
           "style": "light"
          },
          "paper_bgcolor": "white",
          "plot_bgcolor": "#E5ECF6",
          "polar": {
           "angularaxis": {
            "gridcolor": "white",
            "linecolor": "white",
            "ticks": ""
           },
           "bgcolor": "#E5ECF6",
           "radialaxis": {
            "gridcolor": "white",
            "linecolor": "white",
            "ticks": ""
           }
          },
          "scene": {
           "xaxis": {
            "backgroundcolor": "#E5ECF6",
            "gridcolor": "white",
            "gridwidth": 2,
            "linecolor": "white",
            "showbackground": true,
            "ticks": "",
            "zerolinecolor": "white"
           },
           "yaxis": {
            "backgroundcolor": "#E5ECF6",
            "gridcolor": "white",
            "gridwidth": 2,
            "linecolor": "white",
            "showbackground": true,
            "ticks": "",
            "zerolinecolor": "white"
           },
           "zaxis": {
            "backgroundcolor": "#E5ECF6",
            "gridcolor": "white",
            "gridwidth": 2,
            "linecolor": "white",
            "showbackground": true,
            "ticks": "",
            "zerolinecolor": "white"
           }
          },
          "shapedefaults": {
           "line": {
            "color": "#2a3f5f"
           }
          },
          "ternary": {
           "aaxis": {
            "gridcolor": "white",
            "linecolor": "white",
            "ticks": ""
           },
           "baxis": {
            "gridcolor": "white",
            "linecolor": "white",
            "ticks": ""
           },
           "bgcolor": "#E5ECF6",
           "caxis": {
            "gridcolor": "white",
            "linecolor": "white",
            "ticks": ""
           }
          },
          "title": {
           "x": 0.05
          },
          "xaxis": {
           "automargin": true,
           "gridcolor": "white",
           "linecolor": "white",
           "ticks": "",
           "title": {
            "standoff": 15
           },
           "zerolinecolor": "white",
           "zerolinewidth": 2
          },
          "yaxis": {
           "automargin": true,
           "gridcolor": "white",
           "linecolor": "white",
           "ticks": "",
           "title": {
            "standoff": 15
           },
           "zerolinecolor": "white",
           "zerolinewidth": 2
          }
         }
        },
        "title": {
         "font": {
          "color": "#4D5663"
         }
        },
        "xaxis": {
         "gridcolor": "#E1E5ED",
         "showgrid": true,
         "tickfont": {
          "color": "#4D5663"
         },
         "title": {
          "font": {
           "color": "#4D5663"
          },
          "text": ""
         },
         "zerolinecolor": "#E1E5ED"
        },
        "xaxis2": {
         "anchor": "y2",
         "gridcolor": "#E1E5ED",
         "showgrid": true,
         "showticklabels": false,
         "tickfont": {
          "color": "#4D5663"
         },
         "title": {
          "font": {
           "color": "#4D5663"
          },
          "text": ""
         },
         "zerolinecolor": "#E1E5ED"
        },
        "yaxis": {
         "domain": [
          0.3,
          1
         ],
         "gridcolor": "#E1E5ED",
         "showgrid": true,
         "tickfont": {
          "color": "#4D5663"
         },
         "title": {
          "font": {
           "color": "#4D5663"
          },
          "text": ""
         },
         "zerolinecolor": "#E1E5ED"
        },
        "yaxis2": {
         "domain": [
          0,
          0.25
         ],
         "gridcolor": "#E1E5ED",
         "showgrid": true,
         "tickfont": {
          "color": "#4D5663"
         },
         "title": {
          "font": {
           "color": "#4D5663"
          },
          "text": "Spread"
         },
         "zerolinecolor": "#E1E5ED"
        }
       }
      },
      "text/html": [
       "<div>                            <div id=\"80b90dea-3bdd-499e-8417-4e39e185fefd\" class=\"plotly-graph-div\" style=\"height:525px; width:100%;\"></div>            <script type=\"text/javascript\">                require([\"plotly\"], function(Plotly) {                    window.PLOTLYENV=window.PLOTLYENV || {};\n",
       "                    window.PLOTLYENV.BASE_URL='https://plot.ly';                                    if (document.getElementById(\"80b90dea-3bdd-499e-8417-4e39e185fefd\")) {                    Plotly.newPlot(                        \"80b90dea-3bdd-499e-8417-4e39e185fefd\",                        [{\"line\": {\"color\": \"rgba(255, 153, 51, 1.0)\", \"dash\": \"solid\", \"shape\": \"linear\", \"width\": 1.3}, \"mode\": \"lines\", \"name\": \"A\", \"text\": \"\", \"type\": \"scatter\", \"x\": [0, 1, 2, 3, 4, 5, 6, 7, 8, 9, 10, 11, 12, 13, 14, 15, 16, 17, 18, 19, 20, 21, 22, 23, 24, 25, 26, 27, 28, 29, 30, 31, 32, 33, 34, 35, 36, 37, 38, 39, 40, 41, 42, 43, 44, 45, 46, 47, 48, 49, 50, 51, 52, 53, 54, 55, 56, 57, 58, 59, 60, 61, 62, 63, 64, 65, 66, 67, 68, 69, 70, 71, 72, 73, 74, 75, 76, 77, 78, 79, 80, 81, 82, 83, 84, 85, 86, 87, 88, 89, 90, 91, 92, 93, 94, 95, 96, 97, 98, 99], \"y\": [0.9197133807614235, 0.7794542364536206, -0.09649744911588459, 1.7774800045254102, -1.225964420847159, -2.393954265258908, 0.41990419231764947, 0.8616029917587111, -0.24737914798211716, 1.0274749369056067, 0.07649296724874846, 0.9437322356592867, 0.1996489583939814, 1.58427473537746, -0.371723359297978, 0.22979824338857696, 1.53658689215229, 0.012158305181052004, -1.1602507795274908, 0.3774550134420746, 1.0644162387146285, -0.221044462875774, 0.5012106305315702, 0.7778064820592324, 1.3147485229906, -0.865092812047564, -0.42410365767333646, -0.357691233878992, -0.3414067537683034, 0.6375951853421511, -0.3754133832264921, -0.16610414089782688, 0.388431315898646, -0.3228333339830255, 0.039263470128833015, 0.4639010359623582, 0.1485992496867083, -0.296115590941632, 0.14819367088853724, 0.2026284784393481, -0.2348139336782935, -1.6800725044112985, 0.8701378536749685, 0.341188400775277, -0.012237024383443105, 0.2622618333273738, 1.1462065561704708, -0.054086747031590936, 0.1843621043620616, -0.5398771840429352, -1.0722382532014312, -0.050435157686543705, 2.8895581697000896, -0.6719852661171711, 0.46460937644349315, 1.9923968859714174, -1.0345940853003668, -0.25508907607148096, 1.123636206992229, 0.4035748735001082, -0.2250374937301488, 1.0464100042119022, 0.2986891746841648, -0.11043242862740031, 0.10165226027586535, 0.005658435925281142, -0.9208657571597071, 1.2009839712573003, -0.4892870232330178, -0.06133536497774417, -1.0009550308856383, -0.48052367803749363, 0.8409796841631535, 1.5965466139596338, 2.120683106950889, -1.8799377668379869, -0.26563779261158504, -0.14704421316205113, -1.424161397157802, 0.47614096789664473, -0.5215117460381219, 0.4809600170045102, 0.6622103676774127, -1.2783556733428347, -0.022858985180589677, -1.563275342663613, -1.2424457285081163, 0.11681759263698047, 0.8466794065199111, 0.06490426589829766, 2.157438296279944, 0.6741389867698577, 1.8430788221397851, 2.5740175116462423, -1.306267582832392, 0.4205936086654285, 0.7180849950269751, -0.08247581270117955, 0.050969560380462284, 0.028843641125944345]}, {\"line\": {\"color\": \"rgba(55, 128, 191, 1.0)\", \"dash\": \"solid\", \"shape\": \"linear\", \"width\": 1.3}, \"mode\": \"lines\", \"name\": \"B\", \"text\": \"\", \"type\": \"scatter\", \"x\": [0, 1, 2, 3, 4, 5, 6, 7, 8, 9, 10, 11, 12, 13, 14, 15, 16, 17, 18, 19, 20, 21, 22, 23, 24, 25, 26, 27, 28, 29, 30, 31, 32, 33, 34, 35, 36, 37, 38, 39, 40, 41, 42, 43, 44, 45, 46, 47, 48, 49, 50, 51, 52, 53, 54, 55, 56, 57, 58, 59, 60, 61, 62, 63, 64, 65, 66, 67, 68, 69, 70, 71, 72, 73, 74, 75, 76, 77, 78, 79, 80, 81, 82, 83, 84, 85, 86, 87, 88, 89, 90, 91, 92, 93, 94, 95, 96, 97, 98, 99], \"y\": [-0.43313928439241856, -0.4425613609484883, -0.5831641104998745, -0.2329524920028297, -0.08333227347218153, -0.5550772129650813, 1.0232186344774543, -0.19691035869974066, 0.6652592638509605, -0.25855232158591246, 0.08708040495670091, -0.6120088084945818, -0.12277081811889581, 2.1596911192246933, 1.7453798976659805, -0.31058753595801675, 0.17173161909361565, 0.2486764341606997, 0.6290908277801774, -0.677253445352361, -0.29591717094932185, 3.5912914484649057, -1.5102507577162003, -0.10452519409142735, -1.3730093962486873, -0.10638571976969305, -2.562467956305081, 1.1873153508557435, 1.7306827104585627, 2.0784750273731722, 0.9144007762066864, -1.0486224523024477, 0.616468572611647, -0.05306969649565157, 0.11970754364521062, -1.8208242311258491, 0.8506780205806028, -0.7978765182395776, -1.6859900378557098, -0.807788418777815, -0.16415304493743396, -1.2779023594529633, 0.3959843079178932, -1.9172789727990776, -0.34839551770740596, -2.3010545326542164, -0.37336750540430746, 1.0143884366534197, -1.0602834509257386, -0.5472740730487213, -0.15065390894444045, 0.9220738873395795, 0.3587351344940042, 0.4156627803042604, -0.25573558842639865, -0.779343193627066, -0.2327866638752568, -0.38671823194117577, 1.033541673260998, 0.30249714031787445, 0.3548984753587199, -1.7011402723912104, 0.9303595461164846, -0.3376204164752655, 0.316175575817413, -0.6570536255194106, -0.07958066039765603, 0.6007547821873407, 0.3278495443745458, -0.9373708035630588, 0.024562754829876316, 0.15174005354443162, 1.7322891667012859, 2.266091829286604, 0.3322274142194494, -1.0968432532953514, -0.5395437695783084, 2.4261309168988627, -0.07146814570308693, 0.6575829486179565, 1.137000976387248, 1.3565204705711482, -0.3923880210686105, 0.9310307831146414, 0.44280425549872554, 0.6373350300534316, -0.37692833981371726, 0.9292375282970157, -1.3816024406765592, 1.2862751536692747, -0.2391628412182689, -0.134096521061821, 0.36325476918153177, -1.04756639847069, -1.3975724700107532, 0.4599275903138609, -0.0026229351024188562, -0.5112324125694927, 1.3983123334955245, 0.9451463539487669]}, {\"connectgaps\": false, \"fill\": \"tozeroy\", \"line\": {\"color\": \"green\", \"dash\": \"solid\", \"shape\": \"linear\", \"width\": 0.5}, \"mode\": \"lines\", \"name\": \"Spread\", \"showlegend\": false, \"type\": \"scatter\", \"x\": [0, 1, 2, 3, 4, 5, 6, 7, 8, 9, 10, 11, 12, 13, 14, 15, 16, 17, 18, 19, 20, 21, 22, 23, 24, 25, 26, 27, 28, 29, 30, 31, 32, 33, 34, 35, 36, 37, 38, 39, 40, 41, 42, 43, 44, 45, 46, 47, 48, 49, 50, 51, 52, 53, 54, 55, 56, 57, 58, 59, 60, 61, 62, 63, 64, 65, 66, 67, 68, 69, 70, 71, 72, 73, 74, 75, 76, 77, 78, 79, 80, 81, 82, 83, 84, 85, 86, 87, 88, 89, 90, 91, 92, 93, 94, 95, 96, 97, 98, 99], \"xaxis\": \"x2\", \"y\": [1.3528526651538422, 1.222015597402109, 0.4866666613839899, 2.01043249652824, \"\", \"\", \"\", 1.0585133504584519, \"\", 1.286027258491519, \"\", 1.5557410441538684, 0.32241977651287723, \"\", \"\", 0.5403857793465937, 1.3648552730586745, \"\", \"\", 1.0547084587944355, 1.3603334096639503, \"\", 2.0114613882477705, 0.8823316761506598, 2.6877579192392873, \"\", 2.138364298631745, \"\", \"\", \"\", \"\", 0.8825183114046208, \"\", \"\", \"\", 2.2847252670882074, \"\", 0.5017609272979456, 1.834183708744247, 1.0104168972171632, \"\", \"\", 0.47415354575707536, 2.2584673735743546, 0.33615849332396286, 2.5633163659815903, 1.5195740615747784, \"\", 1.2446455552878002, 0.007396889005786167, \"\", \"\", 2.5308230352060854, \"\", 0.7203449648698919, 2.7717400795984837, \"\", 0.1316291558696948, 0.09009453373123089, 0.10107773318223373, \"\", 2.7475502766031124, \"\", 0.22718798784786515, \"\", 0.6627120614446917, \"\", 0.6002291890699596, \"\", 0.8760354385853146, \"\", \"\", \"\", \"\", 1.7884556927314397, \"\", 0.27390597696672336, \"\", \"\", \"\", \"\", \"\", 1.0545983887460233, \"\", \"\", \"\", \"\", \"\", 2.2282818471964703, \"\", 2.396601137498213, 0.8082355078316787, 1.4798240529582534, 3.6215839101169323, 0.09130488717836127, \"\", 0.7207079301293939, 0.42875659986831316, \"\", \"\"], \"yaxis\": \"y2\"}, {\"connectgaps\": false, \"fill\": \"tozeroy\", \"line\": {\"color\": \"red\", \"dash\": \"solid\", \"shape\": \"linear\", \"width\": 0.5}, \"mode\": \"lines\", \"name\": \"Spread\", \"showlegend\": false, \"type\": \"scatter\", \"x\": [0, 1, 2, 3, 4, 5, 6, 7, 8, 9, 10, 11, 12, 13, 14, 15, 16, 17, 18, 19, 20, 21, 22, 23, 24, 25, 26, 27, 28, 29, 30, 31, 32, 33, 34, 35, 36, 37, 38, 39, 40, 41, 42, 43, 44, 45, 46, 47, 48, 49, 50, 51, 52, 53, 54, 55, 56, 57, 58, 59, 60, 61, 62, 63, 64, 65, 66, 67, 68, 69, 70, 71, 72, 73, 74, 75, 76, 77, 78, 79, 80, 81, 82, 83, 84, 85, 86, 87, 88, 89, 90, 91, 92, 93, 94, 95, 96, 97, 98, 99], \"xaxis\": \"x2\", \"y\": [\"\", \"\", \"\", \"\", -1.1426321473749774, -1.8388770522938267, -0.6033144421598049, \"\", -0.9126384118330776, \"\", -0.010587437707952452, \"\", \"\", -0.5754163838472333, -2.1171032569639583, \"\", \"\", -0.2365181289796477, -1.7893416073076682, \"\", \"\", -3.81233591134068, \"\", \"\", \"\", -0.758707092277871, \"\", -1.5450065847347354, -2.072089464226866, -1.4408798420310212, -1.2898141594331785, \"\", -0.228037256713001, -0.2697636374873739, -0.08044407351637761, \"\", -0.7020787708938945, \"\", \"\", \"\", -0.07066088874085955, -0.40217014495833525, \"\", \"\", \"\", \"\", \"\", -1.0684751836850106, \"\", \"\", -0.9215843442569908, -0.9725090450261232, \"\", -1.0876480464214315, \"\", \"\", -0.80180742142511, \"\", \"\", \"\", -0.5799359690888687, \"\", -0.6316703714323199, \"\", -0.21452331554154766, \"\", -0.8412850967620511, \"\", -0.8171365676075636, \"\", -1.0255177857155147, -0.6322637315819253, -0.8913094825381324, -0.6695452153269703, \"\", -0.7830945135426355, \"\", -2.573175130060914, -1.352693251454715, -0.1814419807213118, -1.6585127224253697, -0.875560453566638, \"\", -2.209386456457476, -0.4656632406793152, -2.2006103727170445, -0.865517388694399, -0.8124199356600352, \"\", -1.221370887770977, \"\", \"\", \"\", \"\", \"\", -0.03933398164843238, \"\", \"\", -1.3473427731150622, -0.9163027128228225], \"yaxis\": \"y2\"}],                        {\"hovermode\": \"x\", \"legend\": {\"bgcolor\": \"#F5F6F9\", \"font\": {\"color\": \"#4D5663\"}}, \"paper_bgcolor\": \"#F5F6F9\", \"plot_bgcolor\": \"#F5F6F9\", \"template\": {\"data\": {\"bar\": [{\"error_x\": {\"color\": \"#2a3f5f\"}, \"error_y\": {\"color\": \"#2a3f5f\"}, \"marker\": {\"line\": {\"color\": \"#E5ECF6\", \"width\": 0.5}}, \"type\": \"bar\"}], \"barpolar\": [{\"marker\": {\"line\": {\"color\": \"#E5ECF6\", \"width\": 0.5}}, \"type\": \"barpolar\"}], \"carpet\": [{\"aaxis\": {\"endlinecolor\": \"#2a3f5f\", \"gridcolor\": \"white\", \"linecolor\": \"white\", \"minorgridcolor\": \"white\", \"startlinecolor\": \"#2a3f5f\"}, \"baxis\": {\"endlinecolor\": \"#2a3f5f\", \"gridcolor\": \"white\", \"linecolor\": \"white\", \"minorgridcolor\": \"white\", \"startlinecolor\": \"#2a3f5f\"}, \"type\": \"carpet\"}], \"choropleth\": [{\"colorbar\": {\"outlinewidth\": 0, \"ticks\": \"\"}, \"type\": \"choropleth\"}], \"contour\": [{\"colorbar\": {\"outlinewidth\": 0, \"ticks\": \"\"}, \"colorscale\": [[0.0, \"#0d0887\"], [0.1111111111111111, \"#46039f\"], [0.2222222222222222, \"#7201a8\"], [0.3333333333333333, \"#9c179e\"], [0.4444444444444444, \"#bd3786\"], [0.5555555555555556, \"#d8576b\"], [0.6666666666666666, \"#ed7953\"], [0.7777777777777778, \"#fb9f3a\"], [0.8888888888888888, \"#fdca26\"], [1.0, \"#f0f921\"]], \"type\": \"contour\"}], \"contourcarpet\": [{\"colorbar\": {\"outlinewidth\": 0, \"ticks\": \"\"}, \"type\": \"contourcarpet\"}], \"heatmap\": [{\"colorbar\": {\"outlinewidth\": 0, \"ticks\": \"\"}, \"colorscale\": [[0.0, \"#0d0887\"], [0.1111111111111111, \"#46039f\"], [0.2222222222222222, \"#7201a8\"], [0.3333333333333333, \"#9c179e\"], [0.4444444444444444, \"#bd3786\"], [0.5555555555555556, \"#d8576b\"], [0.6666666666666666, \"#ed7953\"], [0.7777777777777778, \"#fb9f3a\"], [0.8888888888888888, \"#fdca26\"], [1.0, \"#f0f921\"]], \"type\": \"heatmap\"}], \"heatmapgl\": [{\"colorbar\": {\"outlinewidth\": 0, \"ticks\": \"\"}, \"colorscale\": [[0.0, \"#0d0887\"], [0.1111111111111111, \"#46039f\"], [0.2222222222222222, \"#7201a8\"], [0.3333333333333333, \"#9c179e\"], [0.4444444444444444, \"#bd3786\"], [0.5555555555555556, \"#d8576b\"], [0.6666666666666666, \"#ed7953\"], [0.7777777777777778, \"#fb9f3a\"], [0.8888888888888888, \"#fdca26\"], [1.0, \"#f0f921\"]], \"type\": \"heatmapgl\"}], \"histogram\": [{\"marker\": {\"colorbar\": {\"outlinewidth\": 0, \"ticks\": \"\"}}, \"type\": \"histogram\"}], \"histogram2d\": [{\"colorbar\": {\"outlinewidth\": 0, \"ticks\": \"\"}, \"colorscale\": [[0.0, \"#0d0887\"], [0.1111111111111111, \"#46039f\"], [0.2222222222222222, \"#7201a8\"], [0.3333333333333333, \"#9c179e\"], [0.4444444444444444, \"#bd3786\"], [0.5555555555555556, \"#d8576b\"], [0.6666666666666666, \"#ed7953\"], [0.7777777777777778, \"#fb9f3a\"], [0.8888888888888888, \"#fdca26\"], [1.0, \"#f0f921\"]], \"type\": \"histogram2d\"}], \"histogram2dcontour\": [{\"colorbar\": {\"outlinewidth\": 0, \"ticks\": \"\"}, \"colorscale\": [[0.0, \"#0d0887\"], [0.1111111111111111, \"#46039f\"], [0.2222222222222222, \"#7201a8\"], [0.3333333333333333, \"#9c179e\"], [0.4444444444444444, \"#bd3786\"], [0.5555555555555556, \"#d8576b\"], [0.6666666666666666, \"#ed7953\"], [0.7777777777777778, \"#fb9f3a\"], [0.8888888888888888, \"#fdca26\"], [1.0, \"#f0f921\"]], \"type\": \"histogram2dcontour\"}], \"mesh3d\": [{\"colorbar\": {\"outlinewidth\": 0, \"ticks\": \"\"}, \"type\": \"mesh3d\"}], \"parcoords\": [{\"line\": {\"colorbar\": {\"outlinewidth\": 0, \"ticks\": \"\"}}, \"type\": \"parcoords\"}], \"pie\": [{\"automargin\": true, \"type\": \"pie\"}], \"scatter\": [{\"marker\": {\"colorbar\": {\"outlinewidth\": 0, \"ticks\": \"\"}}, \"type\": \"scatter\"}], \"scatter3d\": [{\"line\": {\"colorbar\": {\"outlinewidth\": 0, \"ticks\": \"\"}}, \"marker\": {\"colorbar\": {\"outlinewidth\": 0, \"ticks\": \"\"}}, \"type\": \"scatter3d\"}], \"scattercarpet\": [{\"marker\": {\"colorbar\": {\"outlinewidth\": 0, \"ticks\": \"\"}}, \"type\": \"scattercarpet\"}], \"scattergeo\": [{\"marker\": {\"colorbar\": {\"outlinewidth\": 0, \"ticks\": \"\"}}, \"type\": \"scattergeo\"}], \"scattergl\": [{\"marker\": {\"colorbar\": {\"outlinewidth\": 0, \"ticks\": \"\"}}, \"type\": \"scattergl\"}], \"scattermapbox\": [{\"marker\": {\"colorbar\": {\"outlinewidth\": 0, \"ticks\": \"\"}}, \"type\": \"scattermapbox\"}], \"scatterpolar\": [{\"marker\": {\"colorbar\": {\"outlinewidth\": 0, \"ticks\": \"\"}}, \"type\": \"scatterpolar\"}], \"scatterpolargl\": [{\"marker\": {\"colorbar\": {\"outlinewidth\": 0, \"ticks\": \"\"}}, \"type\": \"scatterpolargl\"}], \"scatterternary\": [{\"marker\": {\"colorbar\": {\"outlinewidth\": 0, \"ticks\": \"\"}}, \"type\": \"scatterternary\"}], \"surface\": [{\"colorbar\": {\"outlinewidth\": 0, \"ticks\": \"\"}, \"colorscale\": [[0.0, \"#0d0887\"], [0.1111111111111111, \"#46039f\"], [0.2222222222222222, \"#7201a8\"], [0.3333333333333333, \"#9c179e\"], [0.4444444444444444, \"#bd3786\"], [0.5555555555555556, \"#d8576b\"], [0.6666666666666666, \"#ed7953\"], [0.7777777777777778, \"#fb9f3a\"], [0.8888888888888888, \"#fdca26\"], [1.0, \"#f0f921\"]], \"type\": \"surface\"}], \"table\": [{\"cells\": {\"fill\": {\"color\": \"#EBF0F8\"}, \"line\": {\"color\": \"white\"}}, \"header\": {\"fill\": {\"color\": \"#C8D4E3\"}, \"line\": {\"color\": \"white\"}}, \"type\": \"table\"}]}, \"layout\": {\"annotationdefaults\": {\"arrowcolor\": \"#2a3f5f\", \"arrowhead\": 0, \"arrowwidth\": 1}, \"autotypenumbers\": \"strict\", \"coloraxis\": {\"colorbar\": {\"outlinewidth\": 0, \"ticks\": \"\"}}, \"colorscale\": {\"diverging\": [[0, \"#8e0152\"], [0.1, \"#c51b7d\"], [0.2, \"#de77ae\"], [0.3, \"#f1b6da\"], [0.4, \"#fde0ef\"], [0.5, \"#f7f7f7\"], [0.6, \"#e6f5d0\"], [0.7, \"#b8e186\"], [0.8, \"#7fbc41\"], [0.9, \"#4d9221\"], [1, \"#276419\"]], \"sequential\": [[0.0, \"#0d0887\"], [0.1111111111111111, \"#46039f\"], [0.2222222222222222, \"#7201a8\"], [0.3333333333333333, \"#9c179e\"], [0.4444444444444444, \"#bd3786\"], [0.5555555555555556, \"#d8576b\"], [0.6666666666666666, \"#ed7953\"], [0.7777777777777778, \"#fb9f3a\"], [0.8888888888888888, \"#fdca26\"], [1.0, \"#f0f921\"]], \"sequentialminus\": [[0.0, \"#0d0887\"], [0.1111111111111111, \"#46039f\"], [0.2222222222222222, \"#7201a8\"], [0.3333333333333333, \"#9c179e\"], [0.4444444444444444, \"#bd3786\"], [0.5555555555555556, \"#d8576b\"], [0.6666666666666666, \"#ed7953\"], [0.7777777777777778, \"#fb9f3a\"], [0.8888888888888888, \"#fdca26\"], [1.0, \"#f0f921\"]]}, \"colorway\": [\"#636efa\", \"#EF553B\", \"#00cc96\", \"#ab63fa\", \"#FFA15A\", \"#19d3f3\", \"#FF6692\", \"#B6E880\", \"#FF97FF\", \"#FECB52\"], \"font\": {\"color\": \"#2a3f5f\"}, \"geo\": {\"bgcolor\": \"white\", \"lakecolor\": \"white\", \"landcolor\": \"#E5ECF6\", \"showlakes\": true, \"showland\": true, \"subunitcolor\": \"white\"}, \"hoverlabel\": {\"align\": \"left\"}, \"hovermode\": \"closest\", \"mapbox\": {\"style\": \"light\"}, \"paper_bgcolor\": \"white\", \"plot_bgcolor\": \"#E5ECF6\", \"polar\": {\"angularaxis\": {\"gridcolor\": \"white\", \"linecolor\": \"white\", \"ticks\": \"\"}, \"bgcolor\": \"#E5ECF6\", \"radialaxis\": {\"gridcolor\": \"white\", \"linecolor\": \"white\", \"ticks\": \"\"}}, \"scene\": {\"xaxis\": {\"backgroundcolor\": \"#E5ECF6\", \"gridcolor\": \"white\", \"gridwidth\": 2, \"linecolor\": \"white\", \"showbackground\": true, \"ticks\": \"\", \"zerolinecolor\": \"white\"}, \"yaxis\": {\"backgroundcolor\": \"#E5ECF6\", \"gridcolor\": \"white\", \"gridwidth\": 2, \"linecolor\": \"white\", \"showbackground\": true, \"ticks\": \"\", \"zerolinecolor\": \"white\"}, \"zaxis\": {\"backgroundcolor\": \"#E5ECF6\", \"gridcolor\": \"white\", \"gridwidth\": 2, \"linecolor\": \"white\", \"showbackground\": true, \"ticks\": \"\", \"zerolinecolor\": \"white\"}}, \"shapedefaults\": {\"line\": {\"color\": \"#2a3f5f\"}}, \"ternary\": {\"aaxis\": {\"gridcolor\": \"white\", \"linecolor\": \"white\", \"ticks\": \"\"}, \"baxis\": {\"gridcolor\": \"white\", \"linecolor\": \"white\", \"ticks\": \"\"}, \"bgcolor\": \"#E5ECF6\", \"caxis\": {\"gridcolor\": \"white\", \"linecolor\": \"white\", \"ticks\": \"\"}}, \"title\": {\"x\": 0.05}, \"xaxis\": {\"automargin\": true, \"gridcolor\": \"white\", \"linecolor\": \"white\", \"ticks\": \"\", \"title\": {\"standoff\": 15}, \"zerolinecolor\": \"white\", \"zerolinewidth\": 2}, \"yaxis\": {\"automargin\": true, \"gridcolor\": \"white\", \"linecolor\": \"white\", \"ticks\": \"\", \"title\": {\"standoff\": 15}, \"zerolinecolor\": \"white\", \"zerolinewidth\": 2}}}, \"title\": {\"font\": {\"color\": \"#4D5663\"}}, \"xaxis\": {\"gridcolor\": \"#E1E5ED\", \"showgrid\": true, \"tickfont\": {\"color\": \"#4D5663\"}, \"title\": {\"font\": {\"color\": \"#4D5663\"}, \"text\": \"\"}, \"zerolinecolor\": \"#E1E5ED\"}, \"xaxis2\": {\"anchor\": \"y2\", \"gridcolor\": \"#E1E5ED\", \"showgrid\": true, \"showticklabels\": false, \"tickfont\": {\"color\": \"#4D5663\"}, \"title\": {\"font\": {\"color\": \"#4D5663\"}, \"text\": \"\"}, \"zerolinecolor\": \"#E1E5ED\"}, \"yaxis\": {\"domain\": [0.3, 1], \"gridcolor\": \"#E1E5ED\", \"showgrid\": true, \"tickfont\": {\"color\": \"#4D5663\"}, \"title\": {\"font\": {\"color\": \"#4D5663\"}, \"text\": \"\"}, \"zerolinecolor\": \"#E1E5ED\"}, \"yaxis2\": {\"domain\": [0, 0.25], \"gridcolor\": \"#E1E5ED\", \"showgrid\": true, \"tickfont\": {\"color\": \"#4D5663\"}, \"title\": {\"font\": {\"color\": \"#4D5663\"}, \"text\": \"Spread\"}, \"zerolinecolor\": \"#E1E5ED\"}},                        {\"showLink\": true, \"linkText\": \"Export to plot.ly\", \"plotlyServerURL\": \"https://plot.ly\", \"responsive\": true}                    ).then(function(){\n",
       "                            \n",
       "var gd = document.getElementById('80b90dea-3bdd-499e-8417-4e39e185fefd');\n",
       "var x = new MutationObserver(function (mutations, observer) {{\n",
       "        var display = window.getComputedStyle(gd).display;\n",
       "        if (!display || display === 'none') {{\n",
       "            console.log([gd, 'removed!']);\n",
       "            Plotly.purge(gd);\n",
       "            observer.disconnect();\n",
       "        }}\n",
       "}});\n",
       "\n",
       "// Listen for the removal of the full notebook cells\n",
       "var notebookContainer = gd.closest('#notebook-container');\n",
       "if (notebookContainer) {{\n",
       "    x.observe(notebookContainer, {childList: true});\n",
       "}}\n",
       "\n",
       "// Listen for the clearing of the current output cell\n",
       "var outputEl = gd.closest('.output');\n",
       "if (outputEl) {{\n",
       "    x.observe(outputEl, {childList: true});\n",
       "}}\n",
       "\n",
       "                        })                };                });            </script>        </div>"
      ]
     },
     "metadata": {},
     "output_type": "display_data"
    }
   ],
   "source": [
    "df[['A','B']].iplot(kind='spread')"
   ]
  },
  {
   "cell_type": "markdown",
   "metadata": {},
   "source": [
    "## histogram"
   ]
  },
  {
   "cell_type": "code",
   "execution_count": 21,
   "metadata": {},
   "outputs": [
    {
     "data": {
      "application/vnd.plotly.v1+json": {
       "config": {
        "linkText": "Export to plot.ly",
        "plotlyServerURL": "https://plot.ly",
        "showLink": true
       },
       "data": [
        {
         "histfunc": "count",
         "histnorm": "",
         "marker": {
          "color": "rgba(255, 153, 51, 1.0)",
          "line": {
           "color": "#4D5663",
           "width": 1.3
          }
         },
         "name": "A",
         "nbinsx": 25,
         "opacity": 0.8,
         "orientation": "v",
         "type": "histogram",
         "x": [
          0.9197133807614235,
          0.7794542364536206,
          -0.09649744911588459,
          1.7774800045254102,
          -1.225964420847159,
          -2.393954265258908,
          0.41990419231764947,
          0.8616029917587111,
          -0.24737914798211716,
          1.0274749369056067,
          0.07649296724874846,
          0.9437322356592867,
          0.1996489583939814,
          1.58427473537746,
          -0.371723359297978,
          0.22979824338857696,
          1.53658689215229,
          0.012158305181052004,
          -1.1602507795274908,
          0.3774550134420746,
          1.0644162387146285,
          -0.221044462875774,
          0.5012106305315702,
          0.7778064820592324,
          1.3147485229906,
          -0.865092812047564,
          -0.42410365767333646,
          -0.357691233878992,
          -0.3414067537683034,
          0.6375951853421511,
          -0.3754133832264921,
          -0.16610414089782688,
          0.388431315898646,
          -0.3228333339830255,
          0.039263470128833015,
          0.4639010359623582,
          0.1485992496867083,
          -0.296115590941632,
          0.14819367088853724,
          0.2026284784393481,
          -0.2348139336782935,
          -1.6800725044112985,
          0.8701378536749685,
          0.341188400775277,
          -0.012237024383443105,
          0.2622618333273738,
          1.1462065561704708,
          -0.054086747031590936,
          0.1843621043620616,
          -0.5398771840429352,
          -1.0722382532014312,
          -0.050435157686543705,
          2.8895581697000896,
          -0.6719852661171711,
          0.46460937644349315,
          1.9923968859714174,
          -1.0345940853003668,
          -0.25508907607148096,
          1.123636206992229,
          0.4035748735001082,
          -0.2250374937301488,
          1.0464100042119022,
          0.2986891746841648,
          -0.11043242862740031,
          0.10165226027586535,
          0.005658435925281142,
          -0.9208657571597071,
          1.2009839712573003,
          -0.4892870232330178,
          -0.06133536497774417,
          -1.0009550308856383,
          -0.48052367803749363,
          0.8409796841631535,
          1.5965466139596338,
          2.120683106950889,
          -1.8799377668379869,
          -0.26563779261158504,
          -0.14704421316205113,
          -1.424161397157802,
          0.47614096789664473,
          -0.5215117460381219,
          0.4809600170045102,
          0.6622103676774127,
          -1.2783556733428347,
          -0.022858985180589677,
          -1.563275342663613,
          -1.2424457285081163,
          0.11681759263698047,
          0.8466794065199111,
          0.06490426589829766,
          2.157438296279944,
          0.6741389867698577,
          1.8430788221397851,
          2.5740175116462423,
          -1.306267582832392,
          0.4205936086654285,
          0.7180849950269751,
          -0.08247581270117955,
          0.050969560380462284,
          0.028843641125944345
         ]
        }
       ],
       "layout": {
        "barmode": "overlay",
        "legend": {
         "bgcolor": "#F5F6F9",
         "font": {
          "color": "#4D5663"
         }
        },
        "paper_bgcolor": "#F5F6F9",
        "plot_bgcolor": "#F5F6F9",
        "template": {
         "data": {
          "bar": [
           {
            "error_x": {
             "color": "#2a3f5f"
            },
            "error_y": {
             "color": "#2a3f5f"
            },
            "marker": {
             "line": {
              "color": "#E5ECF6",
              "width": 0.5
             }
            },
            "type": "bar"
           }
          ],
          "barpolar": [
           {
            "marker": {
             "line": {
              "color": "#E5ECF6",
              "width": 0.5
             }
            },
            "type": "barpolar"
           }
          ],
          "carpet": [
           {
            "aaxis": {
             "endlinecolor": "#2a3f5f",
             "gridcolor": "white",
             "linecolor": "white",
             "minorgridcolor": "white",
             "startlinecolor": "#2a3f5f"
            },
            "baxis": {
             "endlinecolor": "#2a3f5f",
             "gridcolor": "white",
             "linecolor": "white",
             "minorgridcolor": "white",
             "startlinecolor": "#2a3f5f"
            },
            "type": "carpet"
           }
          ],
          "choropleth": [
           {
            "colorbar": {
             "outlinewidth": 0,
             "ticks": ""
            },
            "type": "choropleth"
           }
          ],
          "contour": [
           {
            "colorbar": {
             "outlinewidth": 0,
             "ticks": ""
            },
            "colorscale": [
             [
              0,
              "#0d0887"
             ],
             [
              0.1111111111111111,
              "#46039f"
             ],
             [
              0.2222222222222222,
              "#7201a8"
             ],
             [
              0.3333333333333333,
              "#9c179e"
             ],
             [
              0.4444444444444444,
              "#bd3786"
             ],
             [
              0.5555555555555556,
              "#d8576b"
             ],
             [
              0.6666666666666666,
              "#ed7953"
             ],
             [
              0.7777777777777778,
              "#fb9f3a"
             ],
             [
              0.8888888888888888,
              "#fdca26"
             ],
             [
              1,
              "#f0f921"
             ]
            ],
            "type": "contour"
           }
          ],
          "contourcarpet": [
           {
            "colorbar": {
             "outlinewidth": 0,
             "ticks": ""
            },
            "type": "contourcarpet"
           }
          ],
          "heatmap": [
           {
            "colorbar": {
             "outlinewidth": 0,
             "ticks": ""
            },
            "colorscale": [
             [
              0,
              "#0d0887"
             ],
             [
              0.1111111111111111,
              "#46039f"
             ],
             [
              0.2222222222222222,
              "#7201a8"
             ],
             [
              0.3333333333333333,
              "#9c179e"
             ],
             [
              0.4444444444444444,
              "#bd3786"
             ],
             [
              0.5555555555555556,
              "#d8576b"
             ],
             [
              0.6666666666666666,
              "#ed7953"
             ],
             [
              0.7777777777777778,
              "#fb9f3a"
             ],
             [
              0.8888888888888888,
              "#fdca26"
             ],
             [
              1,
              "#f0f921"
             ]
            ],
            "type": "heatmap"
           }
          ],
          "heatmapgl": [
           {
            "colorbar": {
             "outlinewidth": 0,
             "ticks": ""
            },
            "colorscale": [
             [
              0,
              "#0d0887"
             ],
             [
              0.1111111111111111,
              "#46039f"
             ],
             [
              0.2222222222222222,
              "#7201a8"
             ],
             [
              0.3333333333333333,
              "#9c179e"
             ],
             [
              0.4444444444444444,
              "#bd3786"
             ],
             [
              0.5555555555555556,
              "#d8576b"
             ],
             [
              0.6666666666666666,
              "#ed7953"
             ],
             [
              0.7777777777777778,
              "#fb9f3a"
             ],
             [
              0.8888888888888888,
              "#fdca26"
             ],
             [
              1,
              "#f0f921"
             ]
            ],
            "type": "heatmapgl"
           }
          ],
          "histogram": [
           {
            "marker": {
             "colorbar": {
              "outlinewidth": 0,
              "ticks": ""
             }
            },
            "type": "histogram"
           }
          ],
          "histogram2d": [
           {
            "colorbar": {
             "outlinewidth": 0,
             "ticks": ""
            },
            "colorscale": [
             [
              0,
              "#0d0887"
             ],
             [
              0.1111111111111111,
              "#46039f"
             ],
             [
              0.2222222222222222,
              "#7201a8"
             ],
             [
              0.3333333333333333,
              "#9c179e"
             ],
             [
              0.4444444444444444,
              "#bd3786"
             ],
             [
              0.5555555555555556,
              "#d8576b"
             ],
             [
              0.6666666666666666,
              "#ed7953"
             ],
             [
              0.7777777777777778,
              "#fb9f3a"
             ],
             [
              0.8888888888888888,
              "#fdca26"
             ],
             [
              1,
              "#f0f921"
             ]
            ],
            "type": "histogram2d"
           }
          ],
          "histogram2dcontour": [
           {
            "colorbar": {
             "outlinewidth": 0,
             "ticks": ""
            },
            "colorscale": [
             [
              0,
              "#0d0887"
             ],
             [
              0.1111111111111111,
              "#46039f"
             ],
             [
              0.2222222222222222,
              "#7201a8"
             ],
             [
              0.3333333333333333,
              "#9c179e"
             ],
             [
              0.4444444444444444,
              "#bd3786"
             ],
             [
              0.5555555555555556,
              "#d8576b"
             ],
             [
              0.6666666666666666,
              "#ed7953"
             ],
             [
              0.7777777777777778,
              "#fb9f3a"
             ],
             [
              0.8888888888888888,
              "#fdca26"
             ],
             [
              1,
              "#f0f921"
             ]
            ],
            "type": "histogram2dcontour"
           }
          ],
          "mesh3d": [
           {
            "colorbar": {
             "outlinewidth": 0,
             "ticks": ""
            },
            "type": "mesh3d"
           }
          ],
          "parcoords": [
           {
            "line": {
             "colorbar": {
              "outlinewidth": 0,
              "ticks": ""
             }
            },
            "type": "parcoords"
           }
          ],
          "pie": [
           {
            "automargin": true,
            "type": "pie"
           }
          ],
          "scatter": [
           {
            "marker": {
             "colorbar": {
              "outlinewidth": 0,
              "ticks": ""
             }
            },
            "type": "scatter"
           }
          ],
          "scatter3d": [
           {
            "line": {
             "colorbar": {
              "outlinewidth": 0,
              "ticks": ""
             }
            },
            "marker": {
             "colorbar": {
              "outlinewidth": 0,
              "ticks": ""
             }
            },
            "type": "scatter3d"
           }
          ],
          "scattercarpet": [
           {
            "marker": {
             "colorbar": {
              "outlinewidth": 0,
              "ticks": ""
             }
            },
            "type": "scattercarpet"
           }
          ],
          "scattergeo": [
           {
            "marker": {
             "colorbar": {
              "outlinewidth": 0,
              "ticks": ""
             }
            },
            "type": "scattergeo"
           }
          ],
          "scattergl": [
           {
            "marker": {
             "colorbar": {
              "outlinewidth": 0,
              "ticks": ""
             }
            },
            "type": "scattergl"
           }
          ],
          "scattermapbox": [
           {
            "marker": {
             "colorbar": {
              "outlinewidth": 0,
              "ticks": ""
             }
            },
            "type": "scattermapbox"
           }
          ],
          "scatterpolar": [
           {
            "marker": {
             "colorbar": {
              "outlinewidth": 0,
              "ticks": ""
             }
            },
            "type": "scatterpolar"
           }
          ],
          "scatterpolargl": [
           {
            "marker": {
             "colorbar": {
              "outlinewidth": 0,
              "ticks": ""
             }
            },
            "type": "scatterpolargl"
           }
          ],
          "scatterternary": [
           {
            "marker": {
             "colorbar": {
              "outlinewidth": 0,
              "ticks": ""
             }
            },
            "type": "scatterternary"
           }
          ],
          "surface": [
           {
            "colorbar": {
             "outlinewidth": 0,
             "ticks": ""
            },
            "colorscale": [
             [
              0,
              "#0d0887"
             ],
             [
              0.1111111111111111,
              "#46039f"
             ],
             [
              0.2222222222222222,
              "#7201a8"
             ],
             [
              0.3333333333333333,
              "#9c179e"
             ],
             [
              0.4444444444444444,
              "#bd3786"
             ],
             [
              0.5555555555555556,
              "#d8576b"
             ],
             [
              0.6666666666666666,
              "#ed7953"
             ],
             [
              0.7777777777777778,
              "#fb9f3a"
             ],
             [
              0.8888888888888888,
              "#fdca26"
             ],
             [
              1,
              "#f0f921"
             ]
            ],
            "type": "surface"
           }
          ],
          "table": [
           {
            "cells": {
             "fill": {
              "color": "#EBF0F8"
             },
             "line": {
              "color": "white"
             }
            },
            "header": {
             "fill": {
              "color": "#C8D4E3"
             },
             "line": {
              "color": "white"
             }
            },
            "type": "table"
           }
          ]
         },
         "layout": {
          "annotationdefaults": {
           "arrowcolor": "#2a3f5f",
           "arrowhead": 0,
           "arrowwidth": 1
          },
          "autotypenumbers": "strict",
          "coloraxis": {
           "colorbar": {
            "outlinewidth": 0,
            "ticks": ""
           }
          },
          "colorscale": {
           "diverging": [
            [
             0,
             "#8e0152"
            ],
            [
             0.1,
             "#c51b7d"
            ],
            [
             0.2,
             "#de77ae"
            ],
            [
             0.3,
             "#f1b6da"
            ],
            [
             0.4,
             "#fde0ef"
            ],
            [
             0.5,
             "#f7f7f7"
            ],
            [
             0.6,
             "#e6f5d0"
            ],
            [
             0.7,
             "#b8e186"
            ],
            [
             0.8,
             "#7fbc41"
            ],
            [
             0.9,
             "#4d9221"
            ],
            [
             1,
             "#276419"
            ]
           ],
           "sequential": [
            [
             0,
             "#0d0887"
            ],
            [
             0.1111111111111111,
             "#46039f"
            ],
            [
             0.2222222222222222,
             "#7201a8"
            ],
            [
             0.3333333333333333,
             "#9c179e"
            ],
            [
             0.4444444444444444,
             "#bd3786"
            ],
            [
             0.5555555555555556,
             "#d8576b"
            ],
            [
             0.6666666666666666,
             "#ed7953"
            ],
            [
             0.7777777777777778,
             "#fb9f3a"
            ],
            [
             0.8888888888888888,
             "#fdca26"
            ],
            [
             1,
             "#f0f921"
            ]
           ],
           "sequentialminus": [
            [
             0,
             "#0d0887"
            ],
            [
             0.1111111111111111,
             "#46039f"
            ],
            [
             0.2222222222222222,
             "#7201a8"
            ],
            [
             0.3333333333333333,
             "#9c179e"
            ],
            [
             0.4444444444444444,
             "#bd3786"
            ],
            [
             0.5555555555555556,
             "#d8576b"
            ],
            [
             0.6666666666666666,
             "#ed7953"
            ],
            [
             0.7777777777777778,
             "#fb9f3a"
            ],
            [
             0.8888888888888888,
             "#fdca26"
            ],
            [
             1,
             "#f0f921"
            ]
           ]
          },
          "colorway": [
           "#636efa",
           "#EF553B",
           "#00cc96",
           "#ab63fa",
           "#FFA15A",
           "#19d3f3",
           "#FF6692",
           "#B6E880",
           "#FF97FF",
           "#FECB52"
          ],
          "font": {
           "color": "#2a3f5f"
          },
          "geo": {
           "bgcolor": "white",
           "lakecolor": "white",
           "landcolor": "#E5ECF6",
           "showlakes": true,
           "showland": true,
           "subunitcolor": "white"
          },
          "hoverlabel": {
           "align": "left"
          },
          "hovermode": "closest",
          "mapbox": {
           "style": "light"
          },
          "paper_bgcolor": "white",
          "plot_bgcolor": "#E5ECF6",
          "polar": {
           "angularaxis": {
            "gridcolor": "white",
            "linecolor": "white",
            "ticks": ""
           },
           "bgcolor": "#E5ECF6",
           "radialaxis": {
            "gridcolor": "white",
            "linecolor": "white",
            "ticks": ""
           }
          },
          "scene": {
           "xaxis": {
            "backgroundcolor": "#E5ECF6",
            "gridcolor": "white",
            "gridwidth": 2,
            "linecolor": "white",
            "showbackground": true,
            "ticks": "",
            "zerolinecolor": "white"
           },
           "yaxis": {
            "backgroundcolor": "#E5ECF6",
            "gridcolor": "white",
            "gridwidth": 2,
            "linecolor": "white",
            "showbackground": true,
            "ticks": "",
            "zerolinecolor": "white"
           },
           "zaxis": {
            "backgroundcolor": "#E5ECF6",
            "gridcolor": "white",
            "gridwidth": 2,
            "linecolor": "white",
            "showbackground": true,
            "ticks": "",
            "zerolinecolor": "white"
           }
          },
          "shapedefaults": {
           "line": {
            "color": "#2a3f5f"
           }
          },
          "ternary": {
           "aaxis": {
            "gridcolor": "white",
            "linecolor": "white",
            "ticks": ""
           },
           "baxis": {
            "gridcolor": "white",
            "linecolor": "white",
            "ticks": ""
           },
           "bgcolor": "#E5ECF6",
           "caxis": {
            "gridcolor": "white",
            "linecolor": "white",
            "ticks": ""
           }
          },
          "title": {
           "x": 0.05
          },
          "xaxis": {
           "automargin": true,
           "gridcolor": "white",
           "linecolor": "white",
           "ticks": "",
           "title": {
            "standoff": 15
           },
           "zerolinecolor": "white",
           "zerolinewidth": 2
          },
          "yaxis": {
           "automargin": true,
           "gridcolor": "white",
           "linecolor": "white",
           "ticks": "",
           "title": {
            "standoff": 15
           },
           "zerolinecolor": "white",
           "zerolinewidth": 2
          }
         }
        },
        "title": {
         "font": {
          "color": "#4D5663"
         }
        },
        "xaxis": {
         "gridcolor": "#E1E5ED",
         "showgrid": true,
         "tickfont": {
          "color": "#4D5663"
         },
         "title": {
          "font": {
           "color": "#4D5663"
          },
          "text": ""
         },
         "zerolinecolor": "#E1E5ED"
        },
        "yaxis": {
         "gridcolor": "#E1E5ED",
         "showgrid": true,
         "tickfont": {
          "color": "#4D5663"
         },
         "title": {
          "font": {
           "color": "#4D5663"
          },
          "text": ""
         },
         "zerolinecolor": "#E1E5ED"
        }
       }
      },
      "text/html": [
       "<div>                            <div id=\"d3cfa12f-3d24-47e1-a6d5-084f7582289f\" class=\"plotly-graph-div\" style=\"height:525px; width:100%;\"></div>            <script type=\"text/javascript\">                require([\"plotly\"], function(Plotly) {                    window.PLOTLYENV=window.PLOTLYENV || {};\n",
       "                    window.PLOTLYENV.BASE_URL='https://plot.ly';                                    if (document.getElementById(\"d3cfa12f-3d24-47e1-a6d5-084f7582289f\")) {                    Plotly.newPlot(                        \"d3cfa12f-3d24-47e1-a6d5-084f7582289f\",                        [{\"histfunc\": \"count\", \"histnorm\": \"\", \"marker\": {\"color\": \"rgba(255, 153, 51, 1.0)\", \"line\": {\"color\": \"#4D5663\", \"width\": 1.3}}, \"name\": \"A\", \"nbinsx\": 25, \"opacity\": 0.8, \"orientation\": \"v\", \"type\": \"histogram\", \"x\": [0.9197133807614235, 0.7794542364536206, -0.09649744911588459, 1.7774800045254102, -1.225964420847159, -2.393954265258908, 0.41990419231764947, 0.8616029917587111, -0.24737914798211716, 1.0274749369056067, 0.07649296724874846, 0.9437322356592867, 0.1996489583939814, 1.58427473537746, -0.371723359297978, 0.22979824338857696, 1.53658689215229, 0.012158305181052004, -1.1602507795274908, 0.3774550134420746, 1.0644162387146285, -0.221044462875774, 0.5012106305315702, 0.7778064820592324, 1.3147485229906, -0.865092812047564, -0.42410365767333646, -0.357691233878992, -0.3414067537683034, 0.6375951853421511, -0.3754133832264921, -0.16610414089782688, 0.388431315898646, -0.3228333339830255, 0.039263470128833015, 0.4639010359623582, 0.1485992496867083, -0.296115590941632, 0.14819367088853724, 0.2026284784393481, -0.2348139336782935, -1.6800725044112985, 0.8701378536749685, 0.341188400775277, -0.012237024383443105, 0.2622618333273738, 1.1462065561704708, -0.054086747031590936, 0.1843621043620616, -0.5398771840429352, -1.0722382532014312, -0.050435157686543705, 2.8895581697000896, -0.6719852661171711, 0.46460937644349315, 1.9923968859714174, -1.0345940853003668, -0.25508907607148096, 1.123636206992229, 0.4035748735001082, -0.2250374937301488, 1.0464100042119022, 0.2986891746841648, -0.11043242862740031, 0.10165226027586535, 0.005658435925281142, -0.9208657571597071, 1.2009839712573003, -0.4892870232330178, -0.06133536497774417, -1.0009550308856383, -0.48052367803749363, 0.8409796841631535, 1.5965466139596338, 2.120683106950889, -1.8799377668379869, -0.26563779261158504, -0.14704421316205113, -1.424161397157802, 0.47614096789664473, -0.5215117460381219, 0.4809600170045102, 0.6622103676774127, -1.2783556733428347, -0.022858985180589677, -1.563275342663613, -1.2424457285081163, 0.11681759263698047, 0.8466794065199111, 0.06490426589829766, 2.157438296279944, 0.6741389867698577, 1.8430788221397851, 2.5740175116462423, -1.306267582832392, 0.4205936086654285, 0.7180849950269751, -0.08247581270117955, 0.050969560380462284, 0.028843641125944345]}],                        {\"barmode\": \"overlay\", \"legend\": {\"bgcolor\": \"#F5F6F9\", \"font\": {\"color\": \"#4D5663\"}}, \"paper_bgcolor\": \"#F5F6F9\", \"plot_bgcolor\": \"#F5F6F9\", \"template\": {\"data\": {\"bar\": [{\"error_x\": {\"color\": \"#2a3f5f\"}, \"error_y\": {\"color\": \"#2a3f5f\"}, \"marker\": {\"line\": {\"color\": \"#E5ECF6\", \"width\": 0.5}}, \"type\": \"bar\"}], \"barpolar\": [{\"marker\": {\"line\": {\"color\": \"#E5ECF6\", \"width\": 0.5}}, \"type\": \"barpolar\"}], \"carpet\": [{\"aaxis\": {\"endlinecolor\": \"#2a3f5f\", \"gridcolor\": \"white\", \"linecolor\": \"white\", \"minorgridcolor\": \"white\", \"startlinecolor\": \"#2a3f5f\"}, \"baxis\": {\"endlinecolor\": \"#2a3f5f\", \"gridcolor\": \"white\", \"linecolor\": \"white\", \"minorgridcolor\": \"white\", \"startlinecolor\": \"#2a3f5f\"}, \"type\": \"carpet\"}], \"choropleth\": [{\"colorbar\": {\"outlinewidth\": 0, \"ticks\": \"\"}, \"type\": \"choropleth\"}], \"contour\": [{\"colorbar\": {\"outlinewidth\": 0, \"ticks\": \"\"}, \"colorscale\": [[0.0, \"#0d0887\"], [0.1111111111111111, \"#46039f\"], [0.2222222222222222, \"#7201a8\"], [0.3333333333333333, \"#9c179e\"], [0.4444444444444444, \"#bd3786\"], [0.5555555555555556, \"#d8576b\"], [0.6666666666666666, \"#ed7953\"], [0.7777777777777778, \"#fb9f3a\"], [0.8888888888888888, \"#fdca26\"], [1.0, \"#f0f921\"]], \"type\": \"contour\"}], \"contourcarpet\": [{\"colorbar\": {\"outlinewidth\": 0, \"ticks\": \"\"}, \"type\": \"contourcarpet\"}], \"heatmap\": [{\"colorbar\": {\"outlinewidth\": 0, \"ticks\": \"\"}, \"colorscale\": [[0.0, \"#0d0887\"], [0.1111111111111111, \"#46039f\"], [0.2222222222222222, \"#7201a8\"], [0.3333333333333333, \"#9c179e\"], [0.4444444444444444, \"#bd3786\"], [0.5555555555555556, \"#d8576b\"], [0.6666666666666666, \"#ed7953\"], [0.7777777777777778, \"#fb9f3a\"], [0.8888888888888888, \"#fdca26\"], [1.0, \"#f0f921\"]], \"type\": \"heatmap\"}], \"heatmapgl\": [{\"colorbar\": {\"outlinewidth\": 0, \"ticks\": \"\"}, \"colorscale\": [[0.0, \"#0d0887\"], [0.1111111111111111, \"#46039f\"], [0.2222222222222222, \"#7201a8\"], [0.3333333333333333, \"#9c179e\"], [0.4444444444444444, \"#bd3786\"], [0.5555555555555556, \"#d8576b\"], [0.6666666666666666, \"#ed7953\"], [0.7777777777777778, \"#fb9f3a\"], [0.8888888888888888, \"#fdca26\"], [1.0, \"#f0f921\"]], \"type\": \"heatmapgl\"}], \"histogram\": [{\"marker\": {\"colorbar\": {\"outlinewidth\": 0, \"ticks\": \"\"}}, \"type\": \"histogram\"}], \"histogram2d\": [{\"colorbar\": {\"outlinewidth\": 0, \"ticks\": \"\"}, \"colorscale\": [[0.0, \"#0d0887\"], [0.1111111111111111, \"#46039f\"], [0.2222222222222222, \"#7201a8\"], [0.3333333333333333, \"#9c179e\"], [0.4444444444444444, \"#bd3786\"], [0.5555555555555556, \"#d8576b\"], [0.6666666666666666, \"#ed7953\"], [0.7777777777777778, \"#fb9f3a\"], [0.8888888888888888, \"#fdca26\"], [1.0, \"#f0f921\"]], \"type\": \"histogram2d\"}], \"histogram2dcontour\": [{\"colorbar\": {\"outlinewidth\": 0, \"ticks\": \"\"}, \"colorscale\": [[0.0, \"#0d0887\"], [0.1111111111111111, \"#46039f\"], [0.2222222222222222, \"#7201a8\"], [0.3333333333333333, \"#9c179e\"], [0.4444444444444444, \"#bd3786\"], [0.5555555555555556, \"#d8576b\"], [0.6666666666666666, \"#ed7953\"], [0.7777777777777778, \"#fb9f3a\"], [0.8888888888888888, \"#fdca26\"], [1.0, \"#f0f921\"]], \"type\": \"histogram2dcontour\"}], \"mesh3d\": [{\"colorbar\": {\"outlinewidth\": 0, \"ticks\": \"\"}, \"type\": \"mesh3d\"}], \"parcoords\": [{\"line\": {\"colorbar\": {\"outlinewidth\": 0, \"ticks\": \"\"}}, \"type\": \"parcoords\"}], \"pie\": [{\"automargin\": true, \"type\": \"pie\"}], \"scatter\": [{\"marker\": {\"colorbar\": {\"outlinewidth\": 0, \"ticks\": \"\"}}, \"type\": \"scatter\"}], \"scatter3d\": [{\"line\": {\"colorbar\": {\"outlinewidth\": 0, \"ticks\": \"\"}}, \"marker\": {\"colorbar\": {\"outlinewidth\": 0, \"ticks\": \"\"}}, \"type\": \"scatter3d\"}], \"scattercarpet\": [{\"marker\": {\"colorbar\": {\"outlinewidth\": 0, \"ticks\": \"\"}}, \"type\": \"scattercarpet\"}], \"scattergeo\": [{\"marker\": {\"colorbar\": {\"outlinewidth\": 0, \"ticks\": \"\"}}, \"type\": \"scattergeo\"}], \"scattergl\": [{\"marker\": {\"colorbar\": {\"outlinewidth\": 0, \"ticks\": \"\"}}, \"type\": \"scattergl\"}], \"scattermapbox\": [{\"marker\": {\"colorbar\": {\"outlinewidth\": 0, \"ticks\": \"\"}}, \"type\": \"scattermapbox\"}], \"scatterpolar\": [{\"marker\": {\"colorbar\": {\"outlinewidth\": 0, \"ticks\": \"\"}}, \"type\": \"scatterpolar\"}], \"scatterpolargl\": [{\"marker\": {\"colorbar\": {\"outlinewidth\": 0, \"ticks\": \"\"}}, \"type\": \"scatterpolargl\"}], \"scatterternary\": [{\"marker\": {\"colorbar\": {\"outlinewidth\": 0, \"ticks\": \"\"}}, \"type\": \"scatterternary\"}], \"surface\": [{\"colorbar\": {\"outlinewidth\": 0, \"ticks\": \"\"}, \"colorscale\": [[0.0, \"#0d0887\"], [0.1111111111111111, \"#46039f\"], [0.2222222222222222, \"#7201a8\"], [0.3333333333333333, \"#9c179e\"], [0.4444444444444444, \"#bd3786\"], [0.5555555555555556, \"#d8576b\"], [0.6666666666666666, \"#ed7953\"], [0.7777777777777778, \"#fb9f3a\"], [0.8888888888888888, \"#fdca26\"], [1.0, \"#f0f921\"]], \"type\": \"surface\"}], \"table\": [{\"cells\": {\"fill\": {\"color\": \"#EBF0F8\"}, \"line\": {\"color\": \"white\"}}, \"header\": {\"fill\": {\"color\": \"#C8D4E3\"}, \"line\": {\"color\": \"white\"}}, \"type\": \"table\"}]}, \"layout\": {\"annotationdefaults\": {\"arrowcolor\": \"#2a3f5f\", \"arrowhead\": 0, \"arrowwidth\": 1}, \"autotypenumbers\": \"strict\", \"coloraxis\": {\"colorbar\": {\"outlinewidth\": 0, \"ticks\": \"\"}}, \"colorscale\": {\"diverging\": [[0, \"#8e0152\"], [0.1, \"#c51b7d\"], [0.2, \"#de77ae\"], [0.3, \"#f1b6da\"], [0.4, \"#fde0ef\"], [0.5, \"#f7f7f7\"], [0.6, \"#e6f5d0\"], [0.7, \"#b8e186\"], [0.8, \"#7fbc41\"], [0.9, \"#4d9221\"], [1, \"#276419\"]], \"sequential\": [[0.0, \"#0d0887\"], [0.1111111111111111, \"#46039f\"], [0.2222222222222222, \"#7201a8\"], [0.3333333333333333, \"#9c179e\"], [0.4444444444444444, \"#bd3786\"], [0.5555555555555556, \"#d8576b\"], [0.6666666666666666, \"#ed7953\"], [0.7777777777777778, \"#fb9f3a\"], [0.8888888888888888, \"#fdca26\"], [1.0, \"#f0f921\"]], \"sequentialminus\": [[0.0, \"#0d0887\"], [0.1111111111111111, \"#46039f\"], [0.2222222222222222, \"#7201a8\"], [0.3333333333333333, \"#9c179e\"], [0.4444444444444444, \"#bd3786\"], [0.5555555555555556, \"#d8576b\"], [0.6666666666666666, \"#ed7953\"], [0.7777777777777778, \"#fb9f3a\"], [0.8888888888888888, \"#fdca26\"], [1.0, \"#f0f921\"]]}, \"colorway\": [\"#636efa\", \"#EF553B\", \"#00cc96\", \"#ab63fa\", \"#FFA15A\", \"#19d3f3\", \"#FF6692\", \"#B6E880\", \"#FF97FF\", \"#FECB52\"], \"font\": {\"color\": \"#2a3f5f\"}, \"geo\": {\"bgcolor\": \"white\", \"lakecolor\": \"white\", \"landcolor\": \"#E5ECF6\", \"showlakes\": true, \"showland\": true, \"subunitcolor\": \"white\"}, \"hoverlabel\": {\"align\": \"left\"}, \"hovermode\": \"closest\", \"mapbox\": {\"style\": \"light\"}, \"paper_bgcolor\": \"white\", \"plot_bgcolor\": \"#E5ECF6\", \"polar\": {\"angularaxis\": {\"gridcolor\": \"white\", \"linecolor\": \"white\", \"ticks\": \"\"}, \"bgcolor\": \"#E5ECF6\", \"radialaxis\": {\"gridcolor\": \"white\", \"linecolor\": \"white\", \"ticks\": \"\"}}, \"scene\": {\"xaxis\": {\"backgroundcolor\": \"#E5ECF6\", \"gridcolor\": \"white\", \"gridwidth\": 2, \"linecolor\": \"white\", \"showbackground\": true, \"ticks\": \"\", \"zerolinecolor\": \"white\"}, \"yaxis\": {\"backgroundcolor\": \"#E5ECF6\", \"gridcolor\": \"white\", \"gridwidth\": 2, \"linecolor\": \"white\", \"showbackground\": true, \"ticks\": \"\", \"zerolinecolor\": \"white\"}, \"zaxis\": {\"backgroundcolor\": \"#E5ECF6\", \"gridcolor\": \"white\", \"gridwidth\": 2, \"linecolor\": \"white\", \"showbackground\": true, \"ticks\": \"\", \"zerolinecolor\": \"white\"}}, \"shapedefaults\": {\"line\": {\"color\": \"#2a3f5f\"}}, \"ternary\": {\"aaxis\": {\"gridcolor\": \"white\", \"linecolor\": \"white\", \"ticks\": \"\"}, \"baxis\": {\"gridcolor\": \"white\", \"linecolor\": \"white\", \"ticks\": \"\"}, \"bgcolor\": \"#E5ECF6\", \"caxis\": {\"gridcolor\": \"white\", \"linecolor\": \"white\", \"ticks\": \"\"}}, \"title\": {\"x\": 0.05}, \"xaxis\": {\"automargin\": true, \"gridcolor\": \"white\", \"linecolor\": \"white\", \"ticks\": \"\", \"title\": {\"standoff\": 15}, \"zerolinecolor\": \"white\", \"zerolinewidth\": 2}, \"yaxis\": {\"automargin\": true, \"gridcolor\": \"white\", \"linecolor\": \"white\", \"ticks\": \"\", \"title\": {\"standoff\": 15}, \"zerolinecolor\": \"white\", \"zerolinewidth\": 2}}}, \"title\": {\"font\": {\"color\": \"#4D5663\"}}, \"xaxis\": {\"gridcolor\": \"#E1E5ED\", \"showgrid\": true, \"tickfont\": {\"color\": \"#4D5663\"}, \"title\": {\"font\": {\"color\": \"#4D5663\"}, \"text\": \"\"}, \"zerolinecolor\": \"#E1E5ED\"}, \"yaxis\": {\"gridcolor\": \"#E1E5ED\", \"showgrid\": true, \"tickfont\": {\"color\": \"#4D5663\"}, \"title\": {\"font\": {\"color\": \"#4D5663\"}, \"text\": \"\"}, \"zerolinecolor\": \"#E1E5ED\"}},                        {\"showLink\": true, \"linkText\": \"Export to plot.ly\", \"plotlyServerURL\": \"https://plot.ly\", \"responsive\": true}                    ).then(function(){\n",
       "                            \n",
       "var gd = document.getElementById('d3cfa12f-3d24-47e1-a6d5-084f7582289f');\n",
       "var x = new MutationObserver(function (mutations, observer) {{\n",
       "        var display = window.getComputedStyle(gd).display;\n",
       "        if (!display || display === 'none') {{\n",
       "            console.log([gd, 'removed!']);\n",
       "            Plotly.purge(gd);\n",
       "            observer.disconnect();\n",
       "        }}\n",
       "}});\n",
       "\n",
       "// Listen for the removal of the full notebook cells\n",
       "var notebookContainer = gd.closest('#notebook-container');\n",
       "if (notebookContainer) {{\n",
       "    x.observe(notebookContainer, {childList: true});\n",
       "}}\n",
       "\n",
       "// Listen for the clearing of the current output cell\n",
       "var outputEl = gd.closest('.output');\n",
       "if (outputEl) {{\n",
       "    x.observe(outputEl, {childList: true});\n",
       "}}\n",
       "\n",
       "                        })                };                });            </script>        </div>"
      ]
     },
     "metadata": {},
     "output_type": "display_data"
    }
   ],
   "source": [
    "df['A'].iplot(kind='hist',bins=25)"
   ]
  },
  {
   "cell_type": "code",
   "execution_count": 22,
   "metadata": {},
   "outputs": [
    {
     "data": {
      "application/vnd.plotly.v1+json": {
       "config": {
        "linkText": "Export to plot.ly",
        "plotlyServerURL": "https://plot.ly",
        "showLink": true
       },
       "data": [
        {
         "marker": {
          "color": [
           "rgb(255, 153, 51)",
           "rgb(55, 128, 191)",
           "rgb(50, 171, 96)",
           "rgb(128, 0, 128)",
           "rgb(219, 64, 82)",
           "rgb(0, 128, 128)",
           "rgb(255, 255, 51)",
           "rgb(128, 128, 0)",
           "rgb(251, 128, 114)",
           "rgb(128, 177, 211)"
          ],
          "line": {
           "width": 1.3
          },
          "size": [
           56,
           15,
           81,
           40,
           52,
           60,
           61,
           57,
           73,
           51,
           59,
           48,
           71,
           71,
           96,
           65,
           94,
           60,
           56,
           38,
           77,
           64,
           72,
           68,
           112,
           53,
           64,
           76,
           86,
           45,
           74,
           72,
           51,
           54,
           48,
           46,
           46,
           58,
           68,
           65,
           63,
           68,
           67,
           55,
           75,
           55,
           63,
           90,
           82,
           65,
           57,
           54,
           84,
           82,
           56,
           68,
           37,
           89,
           46,
           90,
           53,
           55,
           64,
           12,
           72,
           59,
           60,
           72,
           57,
           88,
           39,
           50,
           89,
           58,
           31,
           84,
           87,
           62,
           65,
           33,
           49,
           50,
           91,
           105,
           71,
           59,
           42,
           62,
           67,
           25,
           56,
           55,
           76,
           41,
           55,
           26,
           94,
           56,
           74,
           42
          ],
          "symbol": "circle"
         },
         "mode": "markers",
         "text": "",
         "type": "scatter",
         "x": [
          0.9197133807614235,
          0.7794542364536206,
          -0.09649744911588459,
          1.7774800045254102,
          -1.225964420847159,
          -2.393954265258908,
          0.41990419231764947,
          0.8616029917587111,
          -0.24737914798211716,
          1.0274749369056067,
          0.07649296724874846,
          0.9437322356592867,
          0.1996489583939814,
          1.58427473537746,
          -0.371723359297978,
          0.22979824338857696,
          1.53658689215229,
          0.012158305181052004,
          -1.1602507795274908,
          0.3774550134420746,
          1.0644162387146285,
          -0.221044462875774,
          0.5012106305315702,
          0.7778064820592324,
          1.3147485229906,
          -0.865092812047564,
          -0.42410365767333646,
          -0.357691233878992,
          -0.3414067537683034,
          0.6375951853421511,
          -0.3754133832264921,
          -0.16610414089782688,
          0.388431315898646,
          -0.3228333339830255,
          0.039263470128833015,
          0.4639010359623582,
          0.1485992496867083,
          -0.296115590941632,
          0.14819367088853724,
          0.2026284784393481,
          -0.2348139336782935,
          -1.6800725044112985,
          0.8701378536749685,
          0.341188400775277,
          -0.012237024383443105,
          0.2622618333273738,
          1.1462065561704708,
          -0.054086747031590936,
          0.1843621043620616,
          -0.5398771840429352,
          -1.0722382532014312,
          -0.050435157686543705,
          2.8895581697000896,
          -0.6719852661171711,
          0.46460937644349315,
          1.9923968859714174,
          -1.0345940853003668,
          -0.25508907607148096,
          1.123636206992229,
          0.4035748735001082,
          -0.2250374937301488,
          1.0464100042119022,
          0.2986891746841648,
          -0.11043242862740031,
          0.10165226027586535,
          0.005658435925281142,
          -0.9208657571597071,
          1.2009839712573003,
          -0.4892870232330178,
          -0.06133536497774417,
          -1.0009550308856383,
          -0.48052367803749363,
          0.8409796841631535,
          1.5965466139596338,
          2.120683106950889,
          -1.8799377668379869,
          -0.26563779261158504,
          -0.14704421316205113,
          -1.424161397157802,
          0.47614096789664473,
          -0.5215117460381219,
          0.4809600170045102,
          0.6622103676774127,
          -1.2783556733428347,
          -0.022858985180589677,
          -1.563275342663613,
          -1.2424457285081163,
          0.11681759263698047,
          0.8466794065199111,
          0.06490426589829766,
          2.157438296279944,
          0.6741389867698577,
          1.8430788221397851,
          2.5740175116462423,
          -1.306267582832392,
          0.4205936086654285,
          0.7180849950269751,
          -0.08247581270117955,
          0.050969560380462284,
          0.028843641125944345
         ],
         "y": [
          -0.43313928439241856,
          -0.4425613609484883,
          -0.5831641104998745,
          -0.2329524920028297,
          -0.08333227347218153,
          -0.5550772129650813,
          1.0232186344774543,
          -0.19691035869974066,
          0.6652592638509605,
          -0.25855232158591246,
          0.08708040495670091,
          -0.6120088084945818,
          -0.12277081811889581,
          2.1596911192246933,
          1.7453798976659805,
          -0.31058753595801675,
          0.17173161909361565,
          0.2486764341606997,
          0.6290908277801774,
          -0.677253445352361,
          -0.29591717094932185,
          3.5912914484649057,
          -1.5102507577162003,
          -0.10452519409142735,
          -1.3730093962486873,
          -0.10638571976969305,
          -2.562467956305081,
          1.1873153508557435,
          1.7306827104585627,
          2.0784750273731722,
          0.9144007762066864,
          -1.0486224523024477,
          0.616468572611647,
          -0.05306969649565157,
          0.11970754364521062,
          -1.8208242311258491,
          0.8506780205806028,
          -0.7978765182395776,
          -1.6859900378557098,
          -0.807788418777815,
          -0.16415304493743396,
          -1.2779023594529633,
          0.3959843079178932,
          -1.9172789727990776,
          -0.34839551770740596,
          -2.3010545326542164,
          -0.37336750540430746,
          1.0143884366534197,
          -1.0602834509257386,
          -0.5472740730487213,
          -0.15065390894444045,
          0.9220738873395795,
          0.3587351344940042,
          0.4156627803042604,
          -0.25573558842639865,
          -0.779343193627066,
          -0.2327866638752568,
          -0.38671823194117577,
          1.033541673260998,
          0.30249714031787445,
          0.3548984753587199,
          -1.7011402723912104,
          0.9303595461164846,
          -0.3376204164752655,
          0.316175575817413,
          -0.6570536255194106,
          -0.07958066039765603,
          0.6007547821873407,
          0.3278495443745458,
          -0.9373708035630588,
          0.024562754829876316,
          0.15174005354443162,
          1.7322891667012859,
          2.266091829286604,
          0.3322274142194494,
          -1.0968432532953514,
          -0.5395437695783084,
          2.4261309168988627,
          -0.07146814570308693,
          0.6575829486179565,
          1.137000976387248,
          1.3565204705711482,
          -0.3923880210686105,
          0.9310307831146414,
          0.44280425549872554,
          0.6373350300534316,
          -0.37692833981371726,
          0.9292375282970157,
          -1.3816024406765592,
          1.2862751536692747,
          -0.2391628412182689,
          -0.134096521061821,
          0.36325476918153177,
          -1.04756639847069,
          -1.3975724700107532,
          0.4599275903138609,
          -0.0026229351024188562,
          -0.5112324125694927,
          1.3983123334955245,
          0.9451463539487669
         ]
        }
       ],
       "layout": {
        "legend": {
         "bgcolor": "#F5F6F9",
         "font": {
          "color": "#4D5663"
         }
        },
        "paper_bgcolor": "#F5F6F9",
        "plot_bgcolor": "#F5F6F9",
        "template": {
         "data": {
          "bar": [
           {
            "error_x": {
             "color": "#2a3f5f"
            },
            "error_y": {
             "color": "#2a3f5f"
            },
            "marker": {
             "line": {
              "color": "#E5ECF6",
              "width": 0.5
             }
            },
            "type": "bar"
           }
          ],
          "barpolar": [
           {
            "marker": {
             "line": {
              "color": "#E5ECF6",
              "width": 0.5
             }
            },
            "type": "barpolar"
           }
          ],
          "carpet": [
           {
            "aaxis": {
             "endlinecolor": "#2a3f5f",
             "gridcolor": "white",
             "linecolor": "white",
             "minorgridcolor": "white",
             "startlinecolor": "#2a3f5f"
            },
            "baxis": {
             "endlinecolor": "#2a3f5f",
             "gridcolor": "white",
             "linecolor": "white",
             "minorgridcolor": "white",
             "startlinecolor": "#2a3f5f"
            },
            "type": "carpet"
           }
          ],
          "choropleth": [
           {
            "colorbar": {
             "outlinewidth": 0,
             "ticks": ""
            },
            "type": "choropleth"
           }
          ],
          "contour": [
           {
            "colorbar": {
             "outlinewidth": 0,
             "ticks": ""
            },
            "colorscale": [
             [
              0,
              "#0d0887"
             ],
             [
              0.1111111111111111,
              "#46039f"
             ],
             [
              0.2222222222222222,
              "#7201a8"
             ],
             [
              0.3333333333333333,
              "#9c179e"
             ],
             [
              0.4444444444444444,
              "#bd3786"
             ],
             [
              0.5555555555555556,
              "#d8576b"
             ],
             [
              0.6666666666666666,
              "#ed7953"
             ],
             [
              0.7777777777777778,
              "#fb9f3a"
             ],
             [
              0.8888888888888888,
              "#fdca26"
             ],
             [
              1,
              "#f0f921"
             ]
            ],
            "type": "contour"
           }
          ],
          "contourcarpet": [
           {
            "colorbar": {
             "outlinewidth": 0,
             "ticks": ""
            },
            "type": "contourcarpet"
           }
          ],
          "heatmap": [
           {
            "colorbar": {
             "outlinewidth": 0,
             "ticks": ""
            },
            "colorscale": [
             [
              0,
              "#0d0887"
             ],
             [
              0.1111111111111111,
              "#46039f"
             ],
             [
              0.2222222222222222,
              "#7201a8"
             ],
             [
              0.3333333333333333,
              "#9c179e"
             ],
             [
              0.4444444444444444,
              "#bd3786"
             ],
             [
              0.5555555555555556,
              "#d8576b"
             ],
             [
              0.6666666666666666,
              "#ed7953"
             ],
             [
              0.7777777777777778,
              "#fb9f3a"
             ],
             [
              0.8888888888888888,
              "#fdca26"
             ],
             [
              1,
              "#f0f921"
             ]
            ],
            "type": "heatmap"
           }
          ],
          "heatmapgl": [
           {
            "colorbar": {
             "outlinewidth": 0,
             "ticks": ""
            },
            "colorscale": [
             [
              0,
              "#0d0887"
             ],
             [
              0.1111111111111111,
              "#46039f"
             ],
             [
              0.2222222222222222,
              "#7201a8"
             ],
             [
              0.3333333333333333,
              "#9c179e"
             ],
             [
              0.4444444444444444,
              "#bd3786"
             ],
             [
              0.5555555555555556,
              "#d8576b"
             ],
             [
              0.6666666666666666,
              "#ed7953"
             ],
             [
              0.7777777777777778,
              "#fb9f3a"
             ],
             [
              0.8888888888888888,
              "#fdca26"
             ],
             [
              1,
              "#f0f921"
             ]
            ],
            "type": "heatmapgl"
           }
          ],
          "histogram": [
           {
            "marker": {
             "colorbar": {
              "outlinewidth": 0,
              "ticks": ""
             }
            },
            "type": "histogram"
           }
          ],
          "histogram2d": [
           {
            "colorbar": {
             "outlinewidth": 0,
             "ticks": ""
            },
            "colorscale": [
             [
              0,
              "#0d0887"
             ],
             [
              0.1111111111111111,
              "#46039f"
             ],
             [
              0.2222222222222222,
              "#7201a8"
             ],
             [
              0.3333333333333333,
              "#9c179e"
             ],
             [
              0.4444444444444444,
              "#bd3786"
             ],
             [
              0.5555555555555556,
              "#d8576b"
             ],
             [
              0.6666666666666666,
              "#ed7953"
             ],
             [
              0.7777777777777778,
              "#fb9f3a"
             ],
             [
              0.8888888888888888,
              "#fdca26"
             ],
             [
              1,
              "#f0f921"
             ]
            ],
            "type": "histogram2d"
           }
          ],
          "histogram2dcontour": [
           {
            "colorbar": {
             "outlinewidth": 0,
             "ticks": ""
            },
            "colorscale": [
             [
              0,
              "#0d0887"
             ],
             [
              0.1111111111111111,
              "#46039f"
             ],
             [
              0.2222222222222222,
              "#7201a8"
             ],
             [
              0.3333333333333333,
              "#9c179e"
             ],
             [
              0.4444444444444444,
              "#bd3786"
             ],
             [
              0.5555555555555556,
              "#d8576b"
             ],
             [
              0.6666666666666666,
              "#ed7953"
             ],
             [
              0.7777777777777778,
              "#fb9f3a"
             ],
             [
              0.8888888888888888,
              "#fdca26"
             ],
             [
              1,
              "#f0f921"
             ]
            ],
            "type": "histogram2dcontour"
           }
          ],
          "mesh3d": [
           {
            "colorbar": {
             "outlinewidth": 0,
             "ticks": ""
            },
            "type": "mesh3d"
           }
          ],
          "parcoords": [
           {
            "line": {
             "colorbar": {
              "outlinewidth": 0,
              "ticks": ""
             }
            },
            "type": "parcoords"
           }
          ],
          "pie": [
           {
            "automargin": true,
            "type": "pie"
           }
          ],
          "scatter": [
           {
            "marker": {
             "colorbar": {
              "outlinewidth": 0,
              "ticks": ""
             }
            },
            "type": "scatter"
           }
          ],
          "scatter3d": [
           {
            "line": {
             "colorbar": {
              "outlinewidth": 0,
              "ticks": ""
             }
            },
            "marker": {
             "colorbar": {
              "outlinewidth": 0,
              "ticks": ""
             }
            },
            "type": "scatter3d"
           }
          ],
          "scattercarpet": [
           {
            "marker": {
             "colorbar": {
              "outlinewidth": 0,
              "ticks": ""
             }
            },
            "type": "scattercarpet"
           }
          ],
          "scattergeo": [
           {
            "marker": {
             "colorbar": {
              "outlinewidth": 0,
              "ticks": ""
             }
            },
            "type": "scattergeo"
           }
          ],
          "scattergl": [
           {
            "marker": {
             "colorbar": {
              "outlinewidth": 0,
              "ticks": ""
             }
            },
            "type": "scattergl"
           }
          ],
          "scattermapbox": [
           {
            "marker": {
             "colorbar": {
              "outlinewidth": 0,
              "ticks": ""
             }
            },
            "type": "scattermapbox"
           }
          ],
          "scatterpolar": [
           {
            "marker": {
             "colorbar": {
              "outlinewidth": 0,
              "ticks": ""
             }
            },
            "type": "scatterpolar"
           }
          ],
          "scatterpolargl": [
           {
            "marker": {
             "colorbar": {
              "outlinewidth": 0,
              "ticks": ""
             }
            },
            "type": "scatterpolargl"
           }
          ],
          "scatterternary": [
           {
            "marker": {
             "colorbar": {
              "outlinewidth": 0,
              "ticks": ""
             }
            },
            "type": "scatterternary"
           }
          ],
          "surface": [
           {
            "colorbar": {
             "outlinewidth": 0,
             "ticks": ""
            },
            "colorscale": [
             [
              0,
              "#0d0887"
             ],
             [
              0.1111111111111111,
              "#46039f"
             ],
             [
              0.2222222222222222,
              "#7201a8"
             ],
             [
              0.3333333333333333,
              "#9c179e"
             ],
             [
              0.4444444444444444,
              "#bd3786"
             ],
             [
              0.5555555555555556,
              "#d8576b"
             ],
             [
              0.6666666666666666,
              "#ed7953"
             ],
             [
              0.7777777777777778,
              "#fb9f3a"
             ],
             [
              0.8888888888888888,
              "#fdca26"
             ],
             [
              1,
              "#f0f921"
             ]
            ],
            "type": "surface"
           }
          ],
          "table": [
           {
            "cells": {
             "fill": {
              "color": "#EBF0F8"
             },
             "line": {
              "color": "white"
             }
            },
            "header": {
             "fill": {
              "color": "#C8D4E3"
             },
             "line": {
              "color": "white"
             }
            },
            "type": "table"
           }
          ]
         },
         "layout": {
          "annotationdefaults": {
           "arrowcolor": "#2a3f5f",
           "arrowhead": 0,
           "arrowwidth": 1
          },
          "autotypenumbers": "strict",
          "coloraxis": {
           "colorbar": {
            "outlinewidth": 0,
            "ticks": ""
           }
          },
          "colorscale": {
           "diverging": [
            [
             0,
             "#8e0152"
            ],
            [
             0.1,
             "#c51b7d"
            ],
            [
             0.2,
             "#de77ae"
            ],
            [
             0.3,
             "#f1b6da"
            ],
            [
             0.4,
             "#fde0ef"
            ],
            [
             0.5,
             "#f7f7f7"
            ],
            [
             0.6,
             "#e6f5d0"
            ],
            [
             0.7,
             "#b8e186"
            ],
            [
             0.8,
             "#7fbc41"
            ],
            [
             0.9,
             "#4d9221"
            ],
            [
             1,
             "#276419"
            ]
           ],
           "sequential": [
            [
             0,
             "#0d0887"
            ],
            [
             0.1111111111111111,
             "#46039f"
            ],
            [
             0.2222222222222222,
             "#7201a8"
            ],
            [
             0.3333333333333333,
             "#9c179e"
            ],
            [
             0.4444444444444444,
             "#bd3786"
            ],
            [
             0.5555555555555556,
             "#d8576b"
            ],
            [
             0.6666666666666666,
             "#ed7953"
            ],
            [
             0.7777777777777778,
             "#fb9f3a"
            ],
            [
             0.8888888888888888,
             "#fdca26"
            ],
            [
             1,
             "#f0f921"
            ]
           ],
           "sequentialminus": [
            [
             0,
             "#0d0887"
            ],
            [
             0.1111111111111111,
             "#46039f"
            ],
            [
             0.2222222222222222,
             "#7201a8"
            ],
            [
             0.3333333333333333,
             "#9c179e"
            ],
            [
             0.4444444444444444,
             "#bd3786"
            ],
            [
             0.5555555555555556,
             "#d8576b"
            ],
            [
             0.6666666666666666,
             "#ed7953"
            ],
            [
             0.7777777777777778,
             "#fb9f3a"
            ],
            [
             0.8888888888888888,
             "#fdca26"
            ],
            [
             1,
             "#f0f921"
            ]
           ]
          },
          "colorway": [
           "#636efa",
           "#EF553B",
           "#00cc96",
           "#ab63fa",
           "#FFA15A",
           "#19d3f3",
           "#FF6692",
           "#B6E880",
           "#FF97FF",
           "#FECB52"
          ],
          "font": {
           "color": "#2a3f5f"
          },
          "geo": {
           "bgcolor": "white",
           "lakecolor": "white",
           "landcolor": "#E5ECF6",
           "showlakes": true,
           "showland": true,
           "subunitcolor": "white"
          },
          "hoverlabel": {
           "align": "left"
          },
          "hovermode": "closest",
          "mapbox": {
           "style": "light"
          },
          "paper_bgcolor": "white",
          "plot_bgcolor": "#E5ECF6",
          "polar": {
           "angularaxis": {
            "gridcolor": "white",
            "linecolor": "white",
            "ticks": ""
           },
           "bgcolor": "#E5ECF6",
           "radialaxis": {
            "gridcolor": "white",
            "linecolor": "white",
            "ticks": ""
           }
          },
          "scene": {
           "xaxis": {
            "backgroundcolor": "#E5ECF6",
            "gridcolor": "white",
            "gridwidth": 2,
            "linecolor": "white",
            "showbackground": true,
            "ticks": "",
            "zerolinecolor": "white"
           },
           "yaxis": {
            "backgroundcolor": "#E5ECF6",
            "gridcolor": "white",
            "gridwidth": 2,
            "linecolor": "white",
            "showbackground": true,
            "ticks": "",
            "zerolinecolor": "white"
           },
           "zaxis": {
            "backgroundcolor": "#E5ECF6",
            "gridcolor": "white",
            "gridwidth": 2,
            "linecolor": "white",
            "showbackground": true,
            "ticks": "",
            "zerolinecolor": "white"
           }
          },
          "shapedefaults": {
           "line": {
            "color": "#2a3f5f"
           }
          },
          "ternary": {
           "aaxis": {
            "gridcolor": "white",
            "linecolor": "white",
            "ticks": ""
           },
           "baxis": {
            "gridcolor": "white",
            "linecolor": "white",
            "ticks": ""
           },
           "bgcolor": "#E5ECF6",
           "caxis": {
            "gridcolor": "white",
            "linecolor": "white",
            "ticks": ""
           }
          },
          "title": {
           "x": 0.05
          },
          "xaxis": {
           "automargin": true,
           "gridcolor": "white",
           "linecolor": "white",
           "ticks": "",
           "title": {
            "standoff": 15
           },
           "zerolinecolor": "white",
           "zerolinewidth": 2
          },
          "yaxis": {
           "automargin": true,
           "gridcolor": "white",
           "linecolor": "white",
           "ticks": "",
           "title": {
            "standoff": 15
           },
           "zerolinecolor": "white",
           "zerolinewidth": 2
          }
         }
        },
        "title": {
         "font": {
          "color": "#4D5663"
         }
        },
        "xaxis": {
         "gridcolor": "#E1E5ED",
         "showgrid": true,
         "tickfont": {
          "color": "#4D5663"
         },
         "title": {
          "font": {
           "color": "#4D5663"
          },
          "text": ""
         },
         "zerolinecolor": "#E1E5ED"
        },
        "yaxis": {
         "gridcolor": "#E1E5ED",
         "showgrid": true,
         "tickfont": {
          "color": "#4D5663"
         },
         "title": {
          "font": {
           "color": "#4D5663"
          },
          "text": ""
         },
         "zerolinecolor": "#E1E5ED"
        }
       }
      },
      "text/html": [
       "<div>                            <div id=\"602f34d2-f4c1-4302-870d-da1078defff4\" class=\"plotly-graph-div\" style=\"height:525px; width:100%;\"></div>            <script type=\"text/javascript\">                require([\"plotly\"], function(Plotly) {                    window.PLOTLYENV=window.PLOTLYENV || {};\n",
       "                    window.PLOTLYENV.BASE_URL='https://plot.ly';                                    if (document.getElementById(\"602f34d2-f4c1-4302-870d-da1078defff4\")) {                    Plotly.newPlot(                        \"602f34d2-f4c1-4302-870d-da1078defff4\",                        [{\"marker\": {\"color\": [\"rgb(255, 153, 51)\", \"rgb(55, 128, 191)\", \"rgb(50, 171, 96)\", \"rgb(128, 0, 128)\", \"rgb(219, 64, 82)\", \"rgb(0, 128, 128)\", \"rgb(255, 255, 51)\", \"rgb(128, 128, 0)\", \"rgb(251, 128, 114)\", \"rgb(128, 177, 211)\"], \"line\": {\"width\": 1.3}, \"size\": [56, 15, 81, 40, 52, 60, 61, 57, 73, 51, 59, 48, 71, 71, 96, 65, 94, 60, 56, 38, 77, 64, 72, 68, 112, 53, 64, 76, 86, 45, 74, 72, 51, 54, 48, 46, 46, 58, 68, 65, 63, 68, 67, 55, 75, 55, 63, 90, 82, 65, 57, 54, 84, 82, 56, 68, 37, 89, 46, 90, 53, 55, 64, 12, 72, 59, 60, 72, 57, 88, 39, 50, 89, 58, 31, 84, 87, 62, 65, 33, 49, 50, 91, 105, 71, 59, 42, 62, 67, 25, 56, 55, 76, 41, 55, 26, 94, 56, 74, 42], \"symbol\": \"circle\"}, \"mode\": \"markers\", \"text\": \"\", \"type\": \"scatter\", \"x\": [0.9197133807614235, 0.7794542364536206, -0.09649744911588459, 1.7774800045254102, -1.225964420847159, -2.393954265258908, 0.41990419231764947, 0.8616029917587111, -0.24737914798211716, 1.0274749369056067, 0.07649296724874846, 0.9437322356592867, 0.1996489583939814, 1.58427473537746, -0.371723359297978, 0.22979824338857696, 1.53658689215229, 0.012158305181052004, -1.1602507795274908, 0.3774550134420746, 1.0644162387146285, -0.221044462875774, 0.5012106305315702, 0.7778064820592324, 1.3147485229906, -0.865092812047564, -0.42410365767333646, -0.357691233878992, -0.3414067537683034, 0.6375951853421511, -0.3754133832264921, -0.16610414089782688, 0.388431315898646, -0.3228333339830255, 0.039263470128833015, 0.4639010359623582, 0.1485992496867083, -0.296115590941632, 0.14819367088853724, 0.2026284784393481, -0.2348139336782935, -1.6800725044112985, 0.8701378536749685, 0.341188400775277, -0.012237024383443105, 0.2622618333273738, 1.1462065561704708, -0.054086747031590936, 0.1843621043620616, -0.5398771840429352, -1.0722382532014312, -0.050435157686543705, 2.8895581697000896, -0.6719852661171711, 0.46460937644349315, 1.9923968859714174, -1.0345940853003668, -0.25508907607148096, 1.123636206992229, 0.4035748735001082, -0.2250374937301488, 1.0464100042119022, 0.2986891746841648, -0.11043242862740031, 0.10165226027586535, 0.005658435925281142, -0.9208657571597071, 1.2009839712573003, -0.4892870232330178, -0.06133536497774417, -1.0009550308856383, -0.48052367803749363, 0.8409796841631535, 1.5965466139596338, 2.120683106950889, -1.8799377668379869, -0.26563779261158504, -0.14704421316205113, -1.424161397157802, 0.47614096789664473, -0.5215117460381219, 0.4809600170045102, 0.6622103676774127, -1.2783556733428347, -0.022858985180589677, -1.563275342663613, -1.2424457285081163, 0.11681759263698047, 0.8466794065199111, 0.06490426589829766, 2.157438296279944, 0.6741389867698577, 1.8430788221397851, 2.5740175116462423, -1.306267582832392, 0.4205936086654285, 0.7180849950269751, -0.08247581270117955, 0.050969560380462284, 0.028843641125944345], \"y\": [-0.43313928439241856, -0.4425613609484883, -0.5831641104998745, -0.2329524920028297, -0.08333227347218153, -0.5550772129650813, 1.0232186344774543, -0.19691035869974066, 0.6652592638509605, -0.25855232158591246, 0.08708040495670091, -0.6120088084945818, -0.12277081811889581, 2.1596911192246933, 1.7453798976659805, -0.31058753595801675, 0.17173161909361565, 0.2486764341606997, 0.6290908277801774, -0.677253445352361, -0.29591717094932185, 3.5912914484649057, -1.5102507577162003, -0.10452519409142735, -1.3730093962486873, -0.10638571976969305, -2.562467956305081, 1.1873153508557435, 1.7306827104585627, 2.0784750273731722, 0.9144007762066864, -1.0486224523024477, 0.616468572611647, -0.05306969649565157, 0.11970754364521062, -1.8208242311258491, 0.8506780205806028, -0.7978765182395776, -1.6859900378557098, -0.807788418777815, -0.16415304493743396, -1.2779023594529633, 0.3959843079178932, -1.9172789727990776, -0.34839551770740596, -2.3010545326542164, -0.37336750540430746, 1.0143884366534197, -1.0602834509257386, -0.5472740730487213, -0.15065390894444045, 0.9220738873395795, 0.3587351344940042, 0.4156627803042604, -0.25573558842639865, -0.779343193627066, -0.2327866638752568, -0.38671823194117577, 1.033541673260998, 0.30249714031787445, 0.3548984753587199, -1.7011402723912104, 0.9303595461164846, -0.3376204164752655, 0.316175575817413, -0.6570536255194106, -0.07958066039765603, 0.6007547821873407, 0.3278495443745458, -0.9373708035630588, 0.024562754829876316, 0.15174005354443162, 1.7322891667012859, 2.266091829286604, 0.3322274142194494, -1.0968432532953514, -0.5395437695783084, 2.4261309168988627, -0.07146814570308693, 0.6575829486179565, 1.137000976387248, 1.3565204705711482, -0.3923880210686105, 0.9310307831146414, 0.44280425549872554, 0.6373350300534316, -0.37692833981371726, 0.9292375282970157, -1.3816024406765592, 1.2862751536692747, -0.2391628412182689, -0.134096521061821, 0.36325476918153177, -1.04756639847069, -1.3975724700107532, 0.4599275903138609, -0.0026229351024188562, -0.5112324125694927, 1.3983123334955245, 0.9451463539487669]}],                        {\"legend\": {\"bgcolor\": \"#F5F6F9\", \"font\": {\"color\": \"#4D5663\"}}, \"paper_bgcolor\": \"#F5F6F9\", \"plot_bgcolor\": \"#F5F6F9\", \"template\": {\"data\": {\"bar\": [{\"error_x\": {\"color\": \"#2a3f5f\"}, \"error_y\": {\"color\": \"#2a3f5f\"}, \"marker\": {\"line\": {\"color\": \"#E5ECF6\", \"width\": 0.5}}, \"type\": \"bar\"}], \"barpolar\": [{\"marker\": {\"line\": {\"color\": \"#E5ECF6\", \"width\": 0.5}}, \"type\": \"barpolar\"}], \"carpet\": [{\"aaxis\": {\"endlinecolor\": \"#2a3f5f\", \"gridcolor\": \"white\", \"linecolor\": \"white\", \"minorgridcolor\": \"white\", \"startlinecolor\": \"#2a3f5f\"}, \"baxis\": {\"endlinecolor\": \"#2a3f5f\", \"gridcolor\": \"white\", \"linecolor\": \"white\", \"minorgridcolor\": \"white\", \"startlinecolor\": \"#2a3f5f\"}, \"type\": \"carpet\"}], \"choropleth\": [{\"colorbar\": {\"outlinewidth\": 0, \"ticks\": \"\"}, \"type\": \"choropleth\"}], \"contour\": [{\"colorbar\": {\"outlinewidth\": 0, \"ticks\": \"\"}, \"colorscale\": [[0.0, \"#0d0887\"], [0.1111111111111111, \"#46039f\"], [0.2222222222222222, \"#7201a8\"], [0.3333333333333333, \"#9c179e\"], [0.4444444444444444, \"#bd3786\"], [0.5555555555555556, \"#d8576b\"], [0.6666666666666666, \"#ed7953\"], [0.7777777777777778, \"#fb9f3a\"], [0.8888888888888888, \"#fdca26\"], [1.0, \"#f0f921\"]], \"type\": \"contour\"}], \"contourcarpet\": [{\"colorbar\": {\"outlinewidth\": 0, \"ticks\": \"\"}, \"type\": \"contourcarpet\"}], \"heatmap\": [{\"colorbar\": {\"outlinewidth\": 0, \"ticks\": \"\"}, \"colorscale\": [[0.0, \"#0d0887\"], [0.1111111111111111, \"#46039f\"], [0.2222222222222222, \"#7201a8\"], [0.3333333333333333, \"#9c179e\"], [0.4444444444444444, \"#bd3786\"], [0.5555555555555556, \"#d8576b\"], [0.6666666666666666, \"#ed7953\"], [0.7777777777777778, \"#fb9f3a\"], [0.8888888888888888, \"#fdca26\"], [1.0, \"#f0f921\"]], \"type\": \"heatmap\"}], \"heatmapgl\": [{\"colorbar\": {\"outlinewidth\": 0, \"ticks\": \"\"}, \"colorscale\": [[0.0, \"#0d0887\"], [0.1111111111111111, \"#46039f\"], [0.2222222222222222, \"#7201a8\"], [0.3333333333333333, \"#9c179e\"], [0.4444444444444444, \"#bd3786\"], [0.5555555555555556, \"#d8576b\"], [0.6666666666666666, \"#ed7953\"], [0.7777777777777778, \"#fb9f3a\"], [0.8888888888888888, \"#fdca26\"], [1.0, \"#f0f921\"]], \"type\": \"heatmapgl\"}], \"histogram\": [{\"marker\": {\"colorbar\": {\"outlinewidth\": 0, \"ticks\": \"\"}}, \"type\": \"histogram\"}], \"histogram2d\": [{\"colorbar\": {\"outlinewidth\": 0, \"ticks\": \"\"}, \"colorscale\": [[0.0, \"#0d0887\"], [0.1111111111111111, \"#46039f\"], [0.2222222222222222, \"#7201a8\"], [0.3333333333333333, \"#9c179e\"], [0.4444444444444444, \"#bd3786\"], [0.5555555555555556, \"#d8576b\"], [0.6666666666666666, \"#ed7953\"], [0.7777777777777778, \"#fb9f3a\"], [0.8888888888888888, \"#fdca26\"], [1.0, \"#f0f921\"]], \"type\": \"histogram2d\"}], \"histogram2dcontour\": [{\"colorbar\": {\"outlinewidth\": 0, \"ticks\": \"\"}, \"colorscale\": [[0.0, \"#0d0887\"], [0.1111111111111111, \"#46039f\"], [0.2222222222222222, \"#7201a8\"], [0.3333333333333333, \"#9c179e\"], [0.4444444444444444, \"#bd3786\"], [0.5555555555555556, \"#d8576b\"], [0.6666666666666666, \"#ed7953\"], [0.7777777777777778, \"#fb9f3a\"], [0.8888888888888888, \"#fdca26\"], [1.0, \"#f0f921\"]], \"type\": \"histogram2dcontour\"}], \"mesh3d\": [{\"colorbar\": {\"outlinewidth\": 0, \"ticks\": \"\"}, \"type\": \"mesh3d\"}], \"parcoords\": [{\"line\": {\"colorbar\": {\"outlinewidth\": 0, \"ticks\": \"\"}}, \"type\": \"parcoords\"}], \"pie\": [{\"automargin\": true, \"type\": \"pie\"}], \"scatter\": [{\"marker\": {\"colorbar\": {\"outlinewidth\": 0, \"ticks\": \"\"}}, \"type\": \"scatter\"}], \"scatter3d\": [{\"line\": {\"colorbar\": {\"outlinewidth\": 0, \"ticks\": \"\"}}, \"marker\": {\"colorbar\": {\"outlinewidth\": 0, \"ticks\": \"\"}}, \"type\": \"scatter3d\"}], \"scattercarpet\": [{\"marker\": {\"colorbar\": {\"outlinewidth\": 0, \"ticks\": \"\"}}, \"type\": \"scattercarpet\"}], \"scattergeo\": [{\"marker\": {\"colorbar\": {\"outlinewidth\": 0, \"ticks\": \"\"}}, \"type\": \"scattergeo\"}], \"scattergl\": [{\"marker\": {\"colorbar\": {\"outlinewidth\": 0, \"ticks\": \"\"}}, \"type\": \"scattergl\"}], \"scattermapbox\": [{\"marker\": {\"colorbar\": {\"outlinewidth\": 0, \"ticks\": \"\"}}, \"type\": \"scattermapbox\"}], \"scatterpolar\": [{\"marker\": {\"colorbar\": {\"outlinewidth\": 0, \"ticks\": \"\"}}, \"type\": \"scatterpolar\"}], \"scatterpolargl\": [{\"marker\": {\"colorbar\": {\"outlinewidth\": 0, \"ticks\": \"\"}}, \"type\": \"scatterpolargl\"}], \"scatterternary\": [{\"marker\": {\"colorbar\": {\"outlinewidth\": 0, \"ticks\": \"\"}}, \"type\": \"scatterternary\"}], \"surface\": [{\"colorbar\": {\"outlinewidth\": 0, \"ticks\": \"\"}, \"colorscale\": [[0.0, \"#0d0887\"], [0.1111111111111111, \"#46039f\"], [0.2222222222222222, \"#7201a8\"], [0.3333333333333333, \"#9c179e\"], [0.4444444444444444, \"#bd3786\"], [0.5555555555555556, \"#d8576b\"], [0.6666666666666666, \"#ed7953\"], [0.7777777777777778, \"#fb9f3a\"], [0.8888888888888888, \"#fdca26\"], [1.0, \"#f0f921\"]], \"type\": \"surface\"}], \"table\": [{\"cells\": {\"fill\": {\"color\": \"#EBF0F8\"}, \"line\": {\"color\": \"white\"}}, \"header\": {\"fill\": {\"color\": \"#C8D4E3\"}, \"line\": {\"color\": \"white\"}}, \"type\": \"table\"}]}, \"layout\": {\"annotationdefaults\": {\"arrowcolor\": \"#2a3f5f\", \"arrowhead\": 0, \"arrowwidth\": 1}, \"autotypenumbers\": \"strict\", \"coloraxis\": {\"colorbar\": {\"outlinewidth\": 0, \"ticks\": \"\"}}, \"colorscale\": {\"diverging\": [[0, \"#8e0152\"], [0.1, \"#c51b7d\"], [0.2, \"#de77ae\"], [0.3, \"#f1b6da\"], [0.4, \"#fde0ef\"], [0.5, \"#f7f7f7\"], [0.6, \"#e6f5d0\"], [0.7, \"#b8e186\"], [0.8, \"#7fbc41\"], [0.9, \"#4d9221\"], [1, \"#276419\"]], \"sequential\": [[0.0, \"#0d0887\"], [0.1111111111111111, \"#46039f\"], [0.2222222222222222, \"#7201a8\"], [0.3333333333333333, \"#9c179e\"], [0.4444444444444444, \"#bd3786\"], [0.5555555555555556, \"#d8576b\"], [0.6666666666666666, \"#ed7953\"], [0.7777777777777778, \"#fb9f3a\"], [0.8888888888888888, \"#fdca26\"], [1.0, \"#f0f921\"]], \"sequentialminus\": [[0.0, \"#0d0887\"], [0.1111111111111111, \"#46039f\"], [0.2222222222222222, \"#7201a8\"], [0.3333333333333333, \"#9c179e\"], [0.4444444444444444, \"#bd3786\"], [0.5555555555555556, \"#d8576b\"], [0.6666666666666666, \"#ed7953\"], [0.7777777777777778, \"#fb9f3a\"], [0.8888888888888888, \"#fdca26\"], [1.0, \"#f0f921\"]]}, \"colorway\": [\"#636efa\", \"#EF553B\", \"#00cc96\", \"#ab63fa\", \"#FFA15A\", \"#19d3f3\", \"#FF6692\", \"#B6E880\", \"#FF97FF\", \"#FECB52\"], \"font\": {\"color\": \"#2a3f5f\"}, \"geo\": {\"bgcolor\": \"white\", \"lakecolor\": \"white\", \"landcolor\": \"#E5ECF6\", \"showlakes\": true, \"showland\": true, \"subunitcolor\": \"white\"}, \"hoverlabel\": {\"align\": \"left\"}, \"hovermode\": \"closest\", \"mapbox\": {\"style\": \"light\"}, \"paper_bgcolor\": \"white\", \"plot_bgcolor\": \"#E5ECF6\", \"polar\": {\"angularaxis\": {\"gridcolor\": \"white\", \"linecolor\": \"white\", \"ticks\": \"\"}, \"bgcolor\": \"#E5ECF6\", \"radialaxis\": {\"gridcolor\": \"white\", \"linecolor\": \"white\", \"ticks\": \"\"}}, \"scene\": {\"xaxis\": {\"backgroundcolor\": \"#E5ECF6\", \"gridcolor\": \"white\", \"gridwidth\": 2, \"linecolor\": \"white\", \"showbackground\": true, \"ticks\": \"\", \"zerolinecolor\": \"white\"}, \"yaxis\": {\"backgroundcolor\": \"#E5ECF6\", \"gridcolor\": \"white\", \"gridwidth\": 2, \"linecolor\": \"white\", \"showbackground\": true, \"ticks\": \"\", \"zerolinecolor\": \"white\"}, \"zaxis\": {\"backgroundcolor\": \"#E5ECF6\", \"gridcolor\": \"white\", \"gridwidth\": 2, \"linecolor\": \"white\", \"showbackground\": true, \"ticks\": \"\", \"zerolinecolor\": \"white\"}}, \"shapedefaults\": {\"line\": {\"color\": \"#2a3f5f\"}}, \"ternary\": {\"aaxis\": {\"gridcolor\": \"white\", \"linecolor\": \"white\", \"ticks\": \"\"}, \"baxis\": {\"gridcolor\": \"white\", \"linecolor\": \"white\", \"ticks\": \"\"}, \"bgcolor\": \"#E5ECF6\", \"caxis\": {\"gridcolor\": \"white\", \"linecolor\": \"white\", \"ticks\": \"\"}}, \"title\": {\"x\": 0.05}, \"xaxis\": {\"automargin\": true, \"gridcolor\": \"white\", \"linecolor\": \"white\", \"ticks\": \"\", \"title\": {\"standoff\": 15}, \"zerolinecolor\": \"white\", \"zerolinewidth\": 2}, \"yaxis\": {\"automargin\": true, \"gridcolor\": \"white\", \"linecolor\": \"white\", \"ticks\": \"\", \"title\": {\"standoff\": 15}, \"zerolinecolor\": \"white\", \"zerolinewidth\": 2}}}, \"title\": {\"font\": {\"color\": \"#4D5663\"}}, \"xaxis\": {\"gridcolor\": \"#E1E5ED\", \"showgrid\": true, \"tickfont\": {\"color\": \"#4D5663\"}, \"title\": {\"font\": {\"color\": \"#4D5663\"}, \"text\": \"\"}, \"zerolinecolor\": \"#E1E5ED\"}, \"yaxis\": {\"gridcolor\": \"#E1E5ED\", \"showgrid\": true, \"tickfont\": {\"color\": \"#4D5663\"}, \"title\": {\"font\": {\"color\": \"#4D5663\"}, \"text\": \"\"}, \"zerolinecolor\": \"#E1E5ED\"}},                        {\"showLink\": true, \"linkText\": \"Export to plot.ly\", \"plotlyServerURL\": \"https://plot.ly\", \"responsive\": true}                    ).then(function(){\n",
       "                            \n",
       "var gd = document.getElementById('602f34d2-f4c1-4302-870d-da1078defff4');\n",
       "var x = new MutationObserver(function (mutations, observer) {{\n",
       "        var display = window.getComputedStyle(gd).display;\n",
       "        if (!display || display === 'none') {{\n",
       "            console.log([gd, 'removed!']);\n",
       "            Plotly.purge(gd);\n",
       "            observer.disconnect();\n",
       "        }}\n",
       "}});\n",
       "\n",
       "// Listen for the removal of the full notebook cells\n",
       "var notebookContainer = gd.closest('#notebook-container');\n",
       "if (notebookContainer) {{\n",
       "    x.observe(notebookContainer, {childList: true});\n",
       "}}\n",
       "\n",
       "// Listen for the clearing of the current output cell\n",
       "var outputEl = gd.closest('.output');\n",
       "if (outputEl) {{\n",
       "    x.observe(outputEl, {childList: true});\n",
       "}}\n",
       "\n",
       "                        })                };                });            </script>        </div>"
      ]
     },
     "metadata": {},
     "output_type": "display_data"
    }
   ],
   "source": [
    "df.iplot(kind='bubble',x='A',y='B',size='C')"
   ]
  },
  {
   "cell_type": "markdown",
   "metadata": {},
   "source": [
    "## scatter_matrix()\n",
    "\n",
    "Similar to sns.pairplot()"
   ]
  },
  {
   "cell_type": "code",
   "execution_count": 23,
   "metadata": {},
   "outputs": [
    {
     "data": {
      "application/vnd.plotly.v1+json": {
       "config": {
        "linkText": "Export to plot.ly",
        "plotlyServerURL": "https://plot.ly",
        "showLink": true
       },
       "data": [
        {
         "histfunc": "count",
         "histnorm": "",
         "marker": {
          "color": "rgba(255, 153, 51, 1.0)",
          "line": {
           "color": "#4D5663",
           "width": 1.3
          }
         },
         "name": "A",
         "nbinsx": 10,
         "opacity": 0.8,
         "orientation": "v",
         "type": "histogram",
         "x": [
          0.9197133807614235,
          0.7794542364536206,
          -0.09649744911588459,
          1.7774800045254102,
          -1.225964420847159,
          -2.393954265258908,
          0.41990419231764947,
          0.8616029917587111,
          -0.24737914798211716,
          1.0274749369056067,
          0.07649296724874846,
          0.9437322356592867,
          0.1996489583939814,
          1.58427473537746,
          -0.371723359297978,
          0.22979824338857696,
          1.53658689215229,
          0.012158305181052004,
          -1.1602507795274908,
          0.3774550134420746,
          1.0644162387146285,
          -0.221044462875774,
          0.5012106305315702,
          0.7778064820592324,
          1.3147485229906,
          -0.865092812047564,
          -0.42410365767333646,
          -0.357691233878992,
          -0.3414067537683034,
          0.6375951853421511,
          -0.3754133832264921,
          -0.16610414089782688,
          0.388431315898646,
          -0.3228333339830255,
          0.039263470128833015,
          0.4639010359623582,
          0.1485992496867083,
          -0.296115590941632,
          0.14819367088853724,
          0.2026284784393481,
          -0.2348139336782935,
          -1.6800725044112985,
          0.8701378536749685,
          0.341188400775277,
          -0.012237024383443105,
          0.2622618333273738,
          1.1462065561704708,
          -0.054086747031590936,
          0.1843621043620616,
          -0.5398771840429352,
          -1.0722382532014312,
          -0.050435157686543705,
          2.8895581697000896,
          -0.6719852661171711,
          0.46460937644349315,
          1.9923968859714174,
          -1.0345940853003668,
          -0.25508907607148096,
          1.123636206992229,
          0.4035748735001082,
          -0.2250374937301488,
          1.0464100042119022,
          0.2986891746841648,
          -0.11043242862740031,
          0.10165226027586535,
          0.005658435925281142,
          -0.9208657571597071,
          1.2009839712573003,
          -0.4892870232330178,
          -0.06133536497774417,
          -1.0009550308856383,
          -0.48052367803749363,
          0.8409796841631535,
          1.5965466139596338,
          2.120683106950889,
          -1.8799377668379869,
          -0.26563779261158504,
          -0.14704421316205113,
          -1.424161397157802,
          0.47614096789664473,
          -0.5215117460381219,
          0.4809600170045102,
          0.6622103676774127,
          -1.2783556733428347,
          -0.022858985180589677,
          -1.563275342663613,
          -1.2424457285081163,
          0.11681759263698047,
          0.8466794065199111,
          0.06490426589829766,
          2.157438296279944,
          0.6741389867698577,
          1.8430788221397851,
          2.5740175116462423,
          -1.306267582832392,
          0.4205936086654285,
          0.7180849950269751,
          -0.08247581270117955,
          0.050969560380462284,
          0.028843641125944345
         ],
         "xaxis": "x",
         "yaxis": "y"
        },
        {
         "line": {
          "color": "rgba(128, 128, 128, 1.0)",
          "dash": "solid",
          "shape": "linear",
          "width": 1.3
         },
         "marker": {
          "size": 2,
          "symbol": "circle"
         },
         "mode": "markers",
         "name": "A",
         "text": "",
         "type": "scatter",
         "x": [
          -0.43313928439241856,
          -0.4425613609484883,
          -0.5831641104998745,
          -0.2329524920028297,
          -0.08333227347218153,
          -0.5550772129650813,
          1.0232186344774543,
          -0.19691035869974066,
          0.6652592638509605,
          -0.25855232158591246,
          0.08708040495670091,
          -0.6120088084945818,
          -0.12277081811889581,
          2.1596911192246933,
          1.7453798976659805,
          -0.31058753595801675,
          0.17173161909361565,
          0.2486764341606997,
          0.6290908277801774,
          -0.677253445352361,
          -0.29591717094932185,
          3.5912914484649057,
          -1.5102507577162003,
          -0.10452519409142735,
          -1.3730093962486873,
          -0.10638571976969305,
          -2.562467956305081,
          1.1873153508557435,
          1.7306827104585627,
          2.0784750273731722,
          0.9144007762066864,
          -1.0486224523024477,
          0.616468572611647,
          -0.05306969649565157,
          0.11970754364521062,
          -1.8208242311258491,
          0.8506780205806028,
          -0.7978765182395776,
          -1.6859900378557098,
          -0.807788418777815,
          -0.16415304493743396,
          -1.2779023594529633,
          0.3959843079178932,
          -1.9172789727990776,
          -0.34839551770740596,
          -2.3010545326542164,
          -0.37336750540430746,
          1.0143884366534197,
          -1.0602834509257386,
          -0.5472740730487213,
          -0.15065390894444045,
          0.9220738873395795,
          0.3587351344940042,
          0.4156627803042604,
          -0.25573558842639865,
          -0.779343193627066,
          -0.2327866638752568,
          -0.38671823194117577,
          1.033541673260998,
          0.30249714031787445,
          0.3548984753587199,
          -1.7011402723912104,
          0.9303595461164846,
          -0.3376204164752655,
          0.316175575817413,
          -0.6570536255194106,
          -0.07958066039765603,
          0.6007547821873407,
          0.3278495443745458,
          -0.9373708035630588,
          0.024562754829876316,
          0.15174005354443162,
          1.7322891667012859,
          2.266091829286604,
          0.3322274142194494,
          -1.0968432532953514,
          -0.5395437695783084,
          2.4261309168988627,
          -0.07146814570308693,
          0.6575829486179565,
          1.137000976387248,
          1.3565204705711482,
          -0.3923880210686105,
          0.9310307831146414,
          0.44280425549872554,
          0.6373350300534316,
          -0.37692833981371726,
          0.9292375282970157,
          -1.3816024406765592,
          1.2862751536692747,
          -0.2391628412182689,
          -0.134096521061821,
          0.36325476918153177,
          -1.04756639847069,
          -1.3975724700107532,
          0.4599275903138609,
          -0.0026229351024188562,
          -0.5112324125694927,
          1.3983123334955245,
          0.9451463539487669
         ],
         "xaxis": "x2",
         "y": [
          0.9197133807614235,
          0.7794542364536206,
          -0.09649744911588459,
          1.7774800045254102,
          -1.225964420847159,
          -2.393954265258908,
          0.41990419231764947,
          0.8616029917587111,
          -0.24737914798211716,
          1.0274749369056067,
          0.07649296724874846,
          0.9437322356592867,
          0.1996489583939814,
          1.58427473537746,
          -0.371723359297978,
          0.22979824338857696,
          1.53658689215229,
          0.012158305181052004,
          -1.1602507795274908,
          0.3774550134420746,
          1.0644162387146285,
          -0.221044462875774,
          0.5012106305315702,
          0.7778064820592324,
          1.3147485229906,
          -0.865092812047564,
          -0.42410365767333646,
          -0.357691233878992,
          -0.3414067537683034,
          0.6375951853421511,
          -0.3754133832264921,
          -0.16610414089782688,
          0.388431315898646,
          -0.3228333339830255,
          0.039263470128833015,
          0.4639010359623582,
          0.1485992496867083,
          -0.296115590941632,
          0.14819367088853724,
          0.2026284784393481,
          -0.2348139336782935,
          -1.6800725044112985,
          0.8701378536749685,
          0.341188400775277,
          -0.012237024383443105,
          0.2622618333273738,
          1.1462065561704708,
          -0.054086747031590936,
          0.1843621043620616,
          -0.5398771840429352,
          -1.0722382532014312,
          -0.050435157686543705,
          2.8895581697000896,
          -0.6719852661171711,
          0.46460937644349315,
          1.9923968859714174,
          -1.0345940853003668,
          -0.25508907607148096,
          1.123636206992229,
          0.4035748735001082,
          -0.2250374937301488,
          1.0464100042119022,
          0.2986891746841648,
          -0.11043242862740031,
          0.10165226027586535,
          0.005658435925281142,
          -0.9208657571597071,
          1.2009839712573003,
          -0.4892870232330178,
          -0.06133536497774417,
          -1.0009550308856383,
          -0.48052367803749363,
          0.8409796841631535,
          1.5965466139596338,
          2.120683106950889,
          -1.8799377668379869,
          -0.26563779261158504,
          -0.14704421316205113,
          -1.424161397157802,
          0.47614096789664473,
          -0.5215117460381219,
          0.4809600170045102,
          0.6622103676774127,
          -1.2783556733428347,
          -0.022858985180589677,
          -1.563275342663613,
          -1.2424457285081163,
          0.11681759263698047,
          0.8466794065199111,
          0.06490426589829766,
          2.157438296279944,
          0.6741389867698577,
          1.8430788221397851,
          2.5740175116462423,
          -1.306267582832392,
          0.4205936086654285,
          0.7180849950269751,
          -0.08247581270117955,
          0.050969560380462284,
          0.028843641125944345
         ],
         "yaxis": "y2"
        },
        {
         "line": {
          "color": "rgba(128, 128, 128, 1.0)",
          "dash": "solid",
          "shape": "linear",
          "width": 1.3
         },
         "marker": {
          "size": 2,
          "symbol": "circle"
         },
         "mode": "markers",
         "name": "A",
         "text": "",
         "type": "scatter",
         "x": [
          -0.36472828338111823,
          -2.744034855183259,
          1.0508910323033953,
          -1.3210716162470777,
          -0.6328911673531687,
          -0.15010846191632013,
          -0.07951915603907586,
          -0.3143279866393601,
          0.6057400984111833,
          -0.6994012298006331,
          -0.21090427517540938,
          -0.8436249712561239,
          0.49346951495984837,
          0.4853757168748205,
          1.9390313879524337,
          0.13892186773980295,
          1.8125432050571813,
          -0.1577604392876527,
          -0.37635754616385414,
          -1.4310552301706887,
          0.8382401180593941,
          0.07536172950690108,
          0.5127682775371938,
          0.32569981275567234,
          2.828388550516968,
          -0.5743371297934008,
          0.060400308357195176,
          0.7956540479218478,
          1.3450563412740366,
          -1.016552167263412,
          0.6430448438346658,
          0.510634115982206,
          -0.6661440616176256,
          -0.5025066969093334,
          -0.8550353017824615,
          -0.9914905626880155,
          -0.9426251736601406,
          -0.257211133248541,
          0.3019795953708391,
          0.15258348269611327,
          0.013463340997592551,
          0.2957149879901049,
          0.25699538119859955,
          -0.46614520972096113,
          0.7334543867924153,
          -0.44148807143248525,
          0.0018561004770532975,
          1.5929815057860965,
          1.1351017984146794,
          0.12850117485378634,
          -0.3066874389924823,
          -0.5095211467457677,
          1.2188227788069237,
          1.1342238614857727,
          -0.39372410575528244,
          0.318672757921071,
          -1.5083148071423385,
          1.5105244382756182,
          -0.9597099280908813,
          1.6011874194688416,
          -0.5725114622602433,
          -0.44439960341458123,
          0.0673206661104729,
          -2.9703335493064835,
          0.5627527056266886,
          -0.22389086875044303,
          -0.17529922309717058,
          0.5633597459731945,
          -0.33160851994305235,
          1.45807626556701,
          -1.3821507395278307,
          -0.7241818141867004,
          1.5250901754339594,
          -0.29089082401874,
          -1.8211689542036897,
          1.2128194471161535,
          1.3807370331224766,
          -0.04334994244393579,
          0.1311422990612613,
          -1.7089036247585763,
          -0.7835715672898682,
          -0.7306358480570115,
          1.6481631484690011,
          2.461723274478377,
          0.4732612840974774,
          -0.19848175544682825,
          -1.2012922527458179,
          -0.04201566809091011,
          0.25380682557922446,
          -2.1643581880407052,
          -0.401988739583814,
          -0.419359566403672,
          0.793523597589395,
          -1.2802316764965542,
          -0.4674636795655414,
          -2.1012286186402784,
          1.8046959969573688,
          -0.3965604273992808,
          0.6444974555400979,
          -1.2086932977050724
         ],
         "xaxis": "x3",
         "y": [
          0.9197133807614235,
          0.7794542364536206,
          -0.09649744911588459,
          1.7774800045254102,
          -1.225964420847159,
          -2.393954265258908,
          0.41990419231764947,
          0.8616029917587111,
          -0.24737914798211716,
          1.0274749369056067,
          0.07649296724874846,
          0.9437322356592867,
          0.1996489583939814,
          1.58427473537746,
          -0.371723359297978,
          0.22979824338857696,
          1.53658689215229,
          0.012158305181052004,
          -1.1602507795274908,
          0.3774550134420746,
          1.0644162387146285,
          -0.221044462875774,
          0.5012106305315702,
          0.7778064820592324,
          1.3147485229906,
          -0.865092812047564,
          -0.42410365767333646,
          -0.357691233878992,
          -0.3414067537683034,
          0.6375951853421511,
          -0.3754133832264921,
          -0.16610414089782688,
          0.388431315898646,
          -0.3228333339830255,
          0.039263470128833015,
          0.4639010359623582,
          0.1485992496867083,
          -0.296115590941632,
          0.14819367088853724,
          0.2026284784393481,
          -0.2348139336782935,
          -1.6800725044112985,
          0.8701378536749685,
          0.341188400775277,
          -0.012237024383443105,
          0.2622618333273738,
          1.1462065561704708,
          -0.054086747031590936,
          0.1843621043620616,
          -0.5398771840429352,
          -1.0722382532014312,
          -0.050435157686543705,
          2.8895581697000896,
          -0.6719852661171711,
          0.46460937644349315,
          1.9923968859714174,
          -1.0345940853003668,
          -0.25508907607148096,
          1.123636206992229,
          0.4035748735001082,
          -0.2250374937301488,
          1.0464100042119022,
          0.2986891746841648,
          -0.11043242862740031,
          0.10165226027586535,
          0.005658435925281142,
          -0.9208657571597071,
          1.2009839712573003,
          -0.4892870232330178,
          -0.06133536497774417,
          -1.0009550308856383,
          -0.48052367803749363,
          0.8409796841631535,
          1.5965466139596338,
          2.120683106950889,
          -1.8799377668379869,
          -0.26563779261158504,
          -0.14704421316205113,
          -1.424161397157802,
          0.47614096789664473,
          -0.5215117460381219,
          0.4809600170045102,
          0.6622103676774127,
          -1.2783556733428347,
          -0.022858985180589677,
          -1.563275342663613,
          -1.2424457285081163,
          0.11681759263698047,
          0.8466794065199111,
          0.06490426589829766,
          2.157438296279944,
          0.6741389867698577,
          1.8430788221397851,
          2.5740175116462423,
          -1.306267582832392,
          0.4205936086654285,
          0.7180849950269751,
          -0.08247581270117955,
          0.050969560380462284,
          0.028843641125944345
         ],
         "yaxis": "y3"
        },
        {
         "line": {
          "color": "rgba(128, 128, 128, 1.0)",
          "dash": "solid",
          "shape": "linear",
          "width": 1.3
         },
         "marker": {
          "size": 2,
          "symbol": "circle"
         },
         "mode": "markers",
         "name": "A",
         "text": "",
         "type": "scatter",
         "x": [
          -0.39699605459412246,
          0.9665733257016246,
          -0.03292056049028313,
          -0.9073213559681331,
          0.6831199981393419,
          0.5856846914816076,
          -0.43337138359969984,
          -0.7675150008275595,
          0.013888311737529004,
          1.0488230586953755,
          0.4354540251156954,
          -1.889577608294123,
          0.8355927922443603,
          0.2942195629854865,
          -1.0042496108243364,
          -0.4225148345278697,
          -0.6141822581428549,
          -0.7732928019152675,
          -0.019781848988358837,
          1.1551113803713724,
          0.48839338357613665,
          -1.0735992913498773,
          -2.191676479527262,
          -0.9530024743209956,
          -0.016420447246737656,
          -0.44905928884575846,
          -0.944324806543863,
          -1.0293134643694755,
          -1.2920564853589527,
          1.0200112412988298,
          -0.3605536695078327,
          1.0755394811016914,
          -1.7543454736337665,
          0.3751844174067533,
          0.045548734229861776,
          -0.2626034663179237,
          0.43353088292488834,
          0.29367520335394515,
          1.1459481264116405,
          -1.8142720338622396,
          -1.0173043294083477,
          0.39340942896249914,
          -1.0941091685109492,
          -1.1695752419219372,
          1.7270611475834738,
          -0.3106566486176464,
          1.8281605452352603,
          -0.526324541856004,
          -1.7761756749514737,
          -0.43091805571083863,
          -0.5649880558501735,
          0.24125090312744718,
          2.69456662433687,
          -0.8713144091136765,
          0.7584445815837195,
          -0.13703182312215023,
          -0.668896977189412,
          -0.27604981761777875,
          1.5698646539974623,
          0.04778207395949344,
          1.638758980307776,
          0.7459446531249445,
          0.19105997693628143,
          0.5223781816880522,
          0.6017589103360246,
          -0.4217443729222811,
          -0.6163168942296061,
          -0.9694671688163928,
          0.42170916519293944,
          -0.4101989114634815,
          0.487762375905079,
          0.027239658172430275,
          -0.3176555283955685,
          -0.5241745803169193,
          1.177165135960473,
          0.04068533608559416,
          -0.8761512202026416,
          0.10621793722191121,
          -0.4199551272358778,
          -0.14879356764775456,
          -1.005233396340456,
          1.2411615282181363,
          0.8975170798555797,
          0.7900710390871886,
          0.4416846117561959,
          1.4425511447775639,
          -0.5654380772698397,
          -1.2154171092673054,
          0.1261765840600005,
          -0.10680954817285401,
          1.3528188881898482,
          0.7452958794934156,
          0.4970922137269499,
          -0.4483551828797474,
          1.7516766591944517,
          -2.938615037214658,
          0.5080945909237529,
          0.614267751742457,
          -0.2595820086152982,
          -0.43899999687117014
         ],
         "xaxis": "x4",
         "y": [
          0.9197133807614235,
          0.7794542364536206,
          -0.09649744911588459,
          1.7774800045254102,
          -1.225964420847159,
          -2.393954265258908,
          0.41990419231764947,
          0.8616029917587111,
          -0.24737914798211716,
          1.0274749369056067,
          0.07649296724874846,
          0.9437322356592867,
          0.1996489583939814,
          1.58427473537746,
          -0.371723359297978,
          0.22979824338857696,
          1.53658689215229,
          0.012158305181052004,
          -1.1602507795274908,
          0.3774550134420746,
          1.0644162387146285,
          -0.221044462875774,
          0.5012106305315702,
          0.7778064820592324,
          1.3147485229906,
          -0.865092812047564,
          -0.42410365767333646,
          -0.357691233878992,
          -0.3414067537683034,
          0.6375951853421511,
          -0.3754133832264921,
          -0.16610414089782688,
          0.388431315898646,
          -0.3228333339830255,
          0.039263470128833015,
          0.4639010359623582,
          0.1485992496867083,
          -0.296115590941632,
          0.14819367088853724,
          0.2026284784393481,
          -0.2348139336782935,
          -1.6800725044112985,
          0.8701378536749685,
          0.341188400775277,
          -0.012237024383443105,
          0.2622618333273738,
          1.1462065561704708,
          -0.054086747031590936,
          0.1843621043620616,
          -0.5398771840429352,
          -1.0722382532014312,
          -0.050435157686543705,
          2.8895581697000896,
          -0.6719852661171711,
          0.46460937644349315,
          1.9923968859714174,
          -1.0345940853003668,
          -0.25508907607148096,
          1.123636206992229,
          0.4035748735001082,
          -0.2250374937301488,
          1.0464100042119022,
          0.2986891746841648,
          -0.11043242862740031,
          0.10165226027586535,
          0.005658435925281142,
          -0.9208657571597071,
          1.2009839712573003,
          -0.4892870232330178,
          -0.06133536497774417,
          -1.0009550308856383,
          -0.48052367803749363,
          0.8409796841631535,
          1.5965466139596338,
          2.120683106950889,
          -1.8799377668379869,
          -0.26563779261158504,
          -0.14704421316205113,
          -1.424161397157802,
          0.47614096789664473,
          -0.5215117460381219,
          0.4809600170045102,
          0.6622103676774127,
          -1.2783556733428347,
          -0.022858985180589677,
          -1.563275342663613,
          -1.2424457285081163,
          0.11681759263698047,
          0.8466794065199111,
          0.06490426589829766,
          2.157438296279944,
          0.6741389867698577,
          1.8430788221397851,
          2.5740175116462423,
          -1.306267582832392,
          0.4205936086654285,
          0.7180849950269751,
          -0.08247581270117955,
          0.050969560380462284,
          0.028843641125944345
         ],
         "yaxis": "y4"
        },
        {
         "line": {
          "color": "rgba(128, 128, 128, 1.0)",
          "dash": "solid",
          "shape": "linear",
          "width": 1.3
         },
         "marker": {
          "size": 2,
          "symbol": "circle"
         },
         "mode": "markers",
         "name": "B",
         "text": "",
         "type": "scatter",
         "x": [
          0.9197133807614235,
          0.7794542364536206,
          -0.09649744911588459,
          1.7774800045254102,
          -1.225964420847159,
          -2.393954265258908,
          0.41990419231764947,
          0.8616029917587111,
          -0.24737914798211716,
          1.0274749369056067,
          0.07649296724874846,
          0.9437322356592867,
          0.1996489583939814,
          1.58427473537746,
          -0.371723359297978,
          0.22979824338857696,
          1.53658689215229,
          0.012158305181052004,
          -1.1602507795274908,
          0.3774550134420746,
          1.0644162387146285,
          -0.221044462875774,
          0.5012106305315702,
          0.7778064820592324,
          1.3147485229906,
          -0.865092812047564,
          -0.42410365767333646,
          -0.357691233878992,
          -0.3414067537683034,
          0.6375951853421511,
          -0.3754133832264921,
          -0.16610414089782688,
          0.388431315898646,
          -0.3228333339830255,
          0.039263470128833015,
          0.4639010359623582,
          0.1485992496867083,
          -0.296115590941632,
          0.14819367088853724,
          0.2026284784393481,
          -0.2348139336782935,
          -1.6800725044112985,
          0.8701378536749685,
          0.341188400775277,
          -0.012237024383443105,
          0.2622618333273738,
          1.1462065561704708,
          -0.054086747031590936,
          0.1843621043620616,
          -0.5398771840429352,
          -1.0722382532014312,
          -0.050435157686543705,
          2.8895581697000896,
          -0.6719852661171711,
          0.46460937644349315,
          1.9923968859714174,
          -1.0345940853003668,
          -0.25508907607148096,
          1.123636206992229,
          0.4035748735001082,
          -0.2250374937301488,
          1.0464100042119022,
          0.2986891746841648,
          -0.11043242862740031,
          0.10165226027586535,
          0.005658435925281142,
          -0.9208657571597071,
          1.2009839712573003,
          -0.4892870232330178,
          -0.06133536497774417,
          -1.0009550308856383,
          -0.48052367803749363,
          0.8409796841631535,
          1.5965466139596338,
          2.120683106950889,
          -1.8799377668379869,
          -0.26563779261158504,
          -0.14704421316205113,
          -1.424161397157802,
          0.47614096789664473,
          -0.5215117460381219,
          0.4809600170045102,
          0.6622103676774127,
          -1.2783556733428347,
          -0.022858985180589677,
          -1.563275342663613,
          -1.2424457285081163,
          0.11681759263698047,
          0.8466794065199111,
          0.06490426589829766,
          2.157438296279944,
          0.6741389867698577,
          1.8430788221397851,
          2.5740175116462423,
          -1.306267582832392,
          0.4205936086654285,
          0.7180849950269751,
          -0.08247581270117955,
          0.050969560380462284,
          0.028843641125944345
         ],
         "xaxis": "x5",
         "y": [
          -0.43313928439241856,
          -0.4425613609484883,
          -0.5831641104998745,
          -0.2329524920028297,
          -0.08333227347218153,
          -0.5550772129650813,
          1.0232186344774543,
          -0.19691035869974066,
          0.6652592638509605,
          -0.25855232158591246,
          0.08708040495670091,
          -0.6120088084945818,
          -0.12277081811889581,
          2.1596911192246933,
          1.7453798976659805,
          -0.31058753595801675,
          0.17173161909361565,
          0.2486764341606997,
          0.6290908277801774,
          -0.677253445352361,
          -0.29591717094932185,
          3.5912914484649057,
          -1.5102507577162003,
          -0.10452519409142735,
          -1.3730093962486873,
          -0.10638571976969305,
          -2.562467956305081,
          1.1873153508557435,
          1.7306827104585627,
          2.0784750273731722,
          0.9144007762066864,
          -1.0486224523024477,
          0.616468572611647,
          -0.05306969649565157,
          0.11970754364521062,
          -1.8208242311258491,
          0.8506780205806028,
          -0.7978765182395776,
          -1.6859900378557098,
          -0.807788418777815,
          -0.16415304493743396,
          -1.2779023594529633,
          0.3959843079178932,
          -1.9172789727990776,
          -0.34839551770740596,
          -2.3010545326542164,
          -0.37336750540430746,
          1.0143884366534197,
          -1.0602834509257386,
          -0.5472740730487213,
          -0.15065390894444045,
          0.9220738873395795,
          0.3587351344940042,
          0.4156627803042604,
          -0.25573558842639865,
          -0.779343193627066,
          -0.2327866638752568,
          -0.38671823194117577,
          1.033541673260998,
          0.30249714031787445,
          0.3548984753587199,
          -1.7011402723912104,
          0.9303595461164846,
          -0.3376204164752655,
          0.316175575817413,
          -0.6570536255194106,
          -0.07958066039765603,
          0.6007547821873407,
          0.3278495443745458,
          -0.9373708035630588,
          0.024562754829876316,
          0.15174005354443162,
          1.7322891667012859,
          2.266091829286604,
          0.3322274142194494,
          -1.0968432532953514,
          -0.5395437695783084,
          2.4261309168988627,
          -0.07146814570308693,
          0.6575829486179565,
          1.137000976387248,
          1.3565204705711482,
          -0.3923880210686105,
          0.9310307831146414,
          0.44280425549872554,
          0.6373350300534316,
          -0.37692833981371726,
          0.9292375282970157,
          -1.3816024406765592,
          1.2862751536692747,
          -0.2391628412182689,
          -0.134096521061821,
          0.36325476918153177,
          -1.04756639847069,
          -1.3975724700107532,
          0.4599275903138609,
          -0.0026229351024188562,
          -0.5112324125694927,
          1.3983123334955245,
          0.9451463539487669
         ],
         "yaxis": "y5"
        },
        {
         "histfunc": "count",
         "histnorm": "",
         "marker": {
          "color": "rgba(55, 128, 191, 1.0)",
          "line": {
           "color": "#4D5663",
           "width": 1.3
          }
         },
         "name": "B",
         "nbinsx": 10,
         "opacity": 0.8,
         "orientation": "v",
         "type": "histogram",
         "x": [
          -0.43313928439241856,
          -0.4425613609484883,
          -0.5831641104998745,
          -0.2329524920028297,
          -0.08333227347218153,
          -0.5550772129650813,
          1.0232186344774543,
          -0.19691035869974066,
          0.6652592638509605,
          -0.25855232158591246,
          0.08708040495670091,
          -0.6120088084945818,
          -0.12277081811889581,
          2.1596911192246933,
          1.7453798976659805,
          -0.31058753595801675,
          0.17173161909361565,
          0.2486764341606997,
          0.6290908277801774,
          -0.677253445352361,
          -0.29591717094932185,
          3.5912914484649057,
          -1.5102507577162003,
          -0.10452519409142735,
          -1.3730093962486873,
          -0.10638571976969305,
          -2.562467956305081,
          1.1873153508557435,
          1.7306827104585627,
          2.0784750273731722,
          0.9144007762066864,
          -1.0486224523024477,
          0.616468572611647,
          -0.05306969649565157,
          0.11970754364521062,
          -1.8208242311258491,
          0.8506780205806028,
          -0.7978765182395776,
          -1.6859900378557098,
          -0.807788418777815,
          -0.16415304493743396,
          -1.2779023594529633,
          0.3959843079178932,
          -1.9172789727990776,
          -0.34839551770740596,
          -2.3010545326542164,
          -0.37336750540430746,
          1.0143884366534197,
          -1.0602834509257386,
          -0.5472740730487213,
          -0.15065390894444045,
          0.9220738873395795,
          0.3587351344940042,
          0.4156627803042604,
          -0.25573558842639865,
          -0.779343193627066,
          -0.2327866638752568,
          -0.38671823194117577,
          1.033541673260998,
          0.30249714031787445,
          0.3548984753587199,
          -1.7011402723912104,
          0.9303595461164846,
          -0.3376204164752655,
          0.316175575817413,
          -0.6570536255194106,
          -0.07958066039765603,
          0.6007547821873407,
          0.3278495443745458,
          -0.9373708035630588,
          0.024562754829876316,
          0.15174005354443162,
          1.7322891667012859,
          2.266091829286604,
          0.3322274142194494,
          -1.0968432532953514,
          -0.5395437695783084,
          2.4261309168988627,
          -0.07146814570308693,
          0.6575829486179565,
          1.137000976387248,
          1.3565204705711482,
          -0.3923880210686105,
          0.9310307831146414,
          0.44280425549872554,
          0.6373350300534316,
          -0.37692833981371726,
          0.9292375282970157,
          -1.3816024406765592,
          1.2862751536692747,
          -0.2391628412182689,
          -0.134096521061821,
          0.36325476918153177,
          -1.04756639847069,
          -1.3975724700107532,
          0.4599275903138609,
          -0.0026229351024188562,
          -0.5112324125694927,
          1.3983123334955245,
          0.9451463539487669
         ],
         "xaxis": "x6",
         "yaxis": "y6"
        },
        {
         "line": {
          "color": "rgba(128, 128, 128, 1.0)",
          "dash": "solid",
          "shape": "linear",
          "width": 1.3
         },
         "marker": {
          "size": 2,
          "symbol": "circle"
         },
         "mode": "markers",
         "name": "B",
         "text": "",
         "type": "scatter",
         "x": [
          -0.36472828338111823,
          -2.744034855183259,
          1.0508910323033953,
          -1.3210716162470777,
          -0.6328911673531687,
          -0.15010846191632013,
          -0.07951915603907586,
          -0.3143279866393601,
          0.6057400984111833,
          -0.6994012298006331,
          -0.21090427517540938,
          -0.8436249712561239,
          0.49346951495984837,
          0.4853757168748205,
          1.9390313879524337,
          0.13892186773980295,
          1.8125432050571813,
          -0.1577604392876527,
          -0.37635754616385414,
          -1.4310552301706887,
          0.8382401180593941,
          0.07536172950690108,
          0.5127682775371938,
          0.32569981275567234,
          2.828388550516968,
          -0.5743371297934008,
          0.060400308357195176,
          0.7956540479218478,
          1.3450563412740366,
          -1.016552167263412,
          0.6430448438346658,
          0.510634115982206,
          -0.6661440616176256,
          -0.5025066969093334,
          -0.8550353017824615,
          -0.9914905626880155,
          -0.9426251736601406,
          -0.257211133248541,
          0.3019795953708391,
          0.15258348269611327,
          0.013463340997592551,
          0.2957149879901049,
          0.25699538119859955,
          -0.46614520972096113,
          0.7334543867924153,
          -0.44148807143248525,
          0.0018561004770532975,
          1.5929815057860965,
          1.1351017984146794,
          0.12850117485378634,
          -0.3066874389924823,
          -0.5095211467457677,
          1.2188227788069237,
          1.1342238614857727,
          -0.39372410575528244,
          0.318672757921071,
          -1.5083148071423385,
          1.5105244382756182,
          -0.9597099280908813,
          1.6011874194688416,
          -0.5725114622602433,
          -0.44439960341458123,
          0.0673206661104729,
          -2.9703335493064835,
          0.5627527056266886,
          -0.22389086875044303,
          -0.17529922309717058,
          0.5633597459731945,
          -0.33160851994305235,
          1.45807626556701,
          -1.3821507395278307,
          -0.7241818141867004,
          1.5250901754339594,
          -0.29089082401874,
          -1.8211689542036897,
          1.2128194471161535,
          1.3807370331224766,
          -0.04334994244393579,
          0.1311422990612613,
          -1.7089036247585763,
          -0.7835715672898682,
          -0.7306358480570115,
          1.6481631484690011,
          2.461723274478377,
          0.4732612840974774,
          -0.19848175544682825,
          -1.2012922527458179,
          -0.04201566809091011,
          0.25380682557922446,
          -2.1643581880407052,
          -0.401988739583814,
          -0.419359566403672,
          0.793523597589395,
          -1.2802316764965542,
          -0.4674636795655414,
          -2.1012286186402784,
          1.8046959969573688,
          -0.3965604273992808,
          0.6444974555400979,
          -1.2086932977050724
         ],
         "xaxis": "x7",
         "y": [
          -0.43313928439241856,
          -0.4425613609484883,
          -0.5831641104998745,
          -0.2329524920028297,
          -0.08333227347218153,
          -0.5550772129650813,
          1.0232186344774543,
          -0.19691035869974066,
          0.6652592638509605,
          -0.25855232158591246,
          0.08708040495670091,
          -0.6120088084945818,
          -0.12277081811889581,
          2.1596911192246933,
          1.7453798976659805,
          -0.31058753595801675,
          0.17173161909361565,
          0.2486764341606997,
          0.6290908277801774,
          -0.677253445352361,
          -0.29591717094932185,
          3.5912914484649057,
          -1.5102507577162003,
          -0.10452519409142735,
          -1.3730093962486873,
          -0.10638571976969305,
          -2.562467956305081,
          1.1873153508557435,
          1.7306827104585627,
          2.0784750273731722,
          0.9144007762066864,
          -1.0486224523024477,
          0.616468572611647,
          -0.05306969649565157,
          0.11970754364521062,
          -1.8208242311258491,
          0.8506780205806028,
          -0.7978765182395776,
          -1.6859900378557098,
          -0.807788418777815,
          -0.16415304493743396,
          -1.2779023594529633,
          0.3959843079178932,
          -1.9172789727990776,
          -0.34839551770740596,
          -2.3010545326542164,
          -0.37336750540430746,
          1.0143884366534197,
          -1.0602834509257386,
          -0.5472740730487213,
          -0.15065390894444045,
          0.9220738873395795,
          0.3587351344940042,
          0.4156627803042604,
          -0.25573558842639865,
          -0.779343193627066,
          -0.2327866638752568,
          -0.38671823194117577,
          1.033541673260998,
          0.30249714031787445,
          0.3548984753587199,
          -1.7011402723912104,
          0.9303595461164846,
          -0.3376204164752655,
          0.316175575817413,
          -0.6570536255194106,
          -0.07958066039765603,
          0.6007547821873407,
          0.3278495443745458,
          -0.9373708035630588,
          0.024562754829876316,
          0.15174005354443162,
          1.7322891667012859,
          2.266091829286604,
          0.3322274142194494,
          -1.0968432532953514,
          -0.5395437695783084,
          2.4261309168988627,
          -0.07146814570308693,
          0.6575829486179565,
          1.137000976387248,
          1.3565204705711482,
          -0.3923880210686105,
          0.9310307831146414,
          0.44280425549872554,
          0.6373350300534316,
          -0.37692833981371726,
          0.9292375282970157,
          -1.3816024406765592,
          1.2862751536692747,
          -0.2391628412182689,
          -0.134096521061821,
          0.36325476918153177,
          -1.04756639847069,
          -1.3975724700107532,
          0.4599275903138609,
          -0.0026229351024188562,
          -0.5112324125694927,
          1.3983123334955245,
          0.9451463539487669
         ],
         "yaxis": "y7"
        },
        {
         "line": {
          "color": "rgba(128, 128, 128, 1.0)",
          "dash": "solid",
          "shape": "linear",
          "width": 1.3
         },
         "marker": {
          "size": 2,
          "symbol": "circle"
         },
         "mode": "markers",
         "name": "B",
         "text": "",
         "type": "scatter",
         "x": [
          -0.39699605459412246,
          0.9665733257016246,
          -0.03292056049028313,
          -0.9073213559681331,
          0.6831199981393419,
          0.5856846914816076,
          -0.43337138359969984,
          -0.7675150008275595,
          0.013888311737529004,
          1.0488230586953755,
          0.4354540251156954,
          -1.889577608294123,
          0.8355927922443603,
          0.2942195629854865,
          -1.0042496108243364,
          -0.4225148345278697,
          -0.6141822581428549,
          -0.7732928019152675,
          -0.019781848988358837,
          1.1551113803713724,
          0.48839338357613665,
          -1.0735992913498773,
          -2.191676479527262,
          -0.9530024743209956,
          -0.016420447246737656,
          -0.44905928884575846,
          -0.944324806543863,
          -1.0293134643694755,
          -1.2920564853589527,
          1.0200112412988298,
          -0.3605536695078327,
          1.0755394811016914,
          -1.7543454736337665,
          0.3751844174067533,
          0.045548734229861776,
          -0.2626034663179237,
          0.43353088292488834,
          0.29367520335394515,
          1.1459481264116405,
          -1.8142720338622396,
          -1.0173043294083477,
          0.39340942896249914,
          -1.0941091685109492,
          -1.1695752419219372,
          1.7270611475834738,
          -0.3106566486176464,
          1.8281605452352603,
          -0.526324541856004,
          -1.7761756749514737,
          -0.43091805571083863,
          -0.5649880558501735,
          0.24125090312744718,
          2.69456662433687,
          -0.8713144091136765,
          0.7584445815837195,
          -0.13703182312215023,
          -0.668896977189412,
          -0.27604981761777875,
          1.5698646539974623,
          0.04778207395949344,
          1.638758980307776,
          0.7459446531249445,
          0.19105997693628143,
          0.5223781816880522,
          0.6017589103360246,
          -0.4217443729222811,
          -0.6163168942296061,
          -0.9694671688163928,
          0.42170916519293944,
          -0.4101989114634815,
          0.487762375905079,
          0.027239658172430275,
          -0.3176555283955685,
          -0.5241745803169193,
          1.177165135960473,
          0.04068533608559416,
          -0.8761512202026416,
          0.10621793722191121,
          -0.4199551272358778,
          -0.14879356764775456,
          -1.005233396340456,
          1.2411615282181363,
          0.8975170798555797,
          0.7900710390871886,
          0.4416846117561959,
          1.4425511447775639,
          -0.5654380772698397,
          -1.2154171092673054,
          0.1261765840600005,
          -0.10680954817285401,
          1.3528188881898482,
          0.7452958794934156,
          0.4970922137269499,
          -0.4483551828797474,
          1.7516766591944517,
          -2.938615037214658,
          0.5080945909237529,
          0.614267751742457,
          -0.2595820086152982,
          -0.43899999687117014
         ],
         "xaxis": "x8",
         "y": [
          -0.43313928439241856,
          -0.4425613609484883,
          -0.5831641104998745,
          -0.2329524920028297,
          -0.08333227347218153,
          -0.5550772129650813,
          1.0232186344774543,
          -0.19691035869974066,
          0.6652592638509605,
          -0.25855232158591246,
          0.08708040495670091,
          -0.6120088084945818,
          -0.12277081811889581,
          2.1596911192246933,
          1.7453798976659805,
          -0.31058753595801675,
          0.17173161909361565,
          0.2486764341606997,
          0.6290908277801774,
          -0.677253445352361,
          -0.29591717094932185,
          3.5912914484649057,
          -1.5102507577162003,
          -0.10452519409142735,
          -1.3730093962486873,
          -0.10638571976969305,
          -2.562467956305081,
          1.1873153508557435,
          1.7306827104585627,
          2.0784750273731722,
          0.9144007762066864,
          -1.0486224523024477,
          0.616468572611647,
          -0.05306969649565157,
          0.11970754364521062,
          -1.8208242311258491,
          0.8506780205806028,
          -0.7978765182395776,
          -1.6859900378557098,
          -0.807788418777815,
          -0.16415304493743396,
          -1.2779023594529633,
          0.3959843079178932,
          -1.9172789727990776,
          -0.34839551770740596,
          -2.3010545326542164,
          -0.37336750540430746,
          1.0143884366534197,
          -1.0602834509257386,
          -0.5472740730487213,
          -0.15065390894444045,
          0.9220738873395795,
          0.3587351344940042,
          0.4156627803042604,
          -0.25573558842639865,
          -0.779343193627066,
          -0.2327866638752568,
          -0.38671823194117577,
          1.033541673260998,
          0.30249714031787445,
          0.3548984753587199,
          -1.7011402723912104,
          0.9303595461164846,
          -0.3376204164752655,
          0.316175575817413,
          -0.6570536255194106,
          -0.07958066039765603,
          0.6007547821873407,
          0.3278495443745458,
          -0.9373708035630588,
          0.024562754829876316,
          0.15174005354443162,
          1.7322891667012859,
          2.266091829286604,
          0.3322274142194494,
          -1.0968432532953514,
          -0.5395437695783084,
          2.4261309168988627,
          -0.07146814570308693,
          0.6575829486179565,
          1.137000976387248,
          1.3565204705711482,
          -0.3923880210686105,
          0.9310307831146414,
          0.44280425549872554,
          0.6373350300534316,
          -0.37692833981371726,
          0.9292375282970157,
          -1.3816024406765592,
          1.2862751536692747,
          -0.2391628412182689,
          -0.134096521061821,
          0.36325476918153177,
          -1.04756639847069,
          -1.3975724700107532,
          0.4599275903138609,
          -0.0026229351024188562,
          -0.5112324125694927,
          1.3983123334955245,
          0.9451463539487669
         ],
         "yaxis": "y8"
        },
        {
         "line": {
          "color": "rgba(128, 128, 128, 1.0)",
          "dash": "solid",
          "shape": "linear",
          "width": 1.3
         },
         "marker": {
          "size": 2,
          "symbol": "circle"
         },
         "mode": "markers",
         "name": "C",
         "text": "",
         "type": "scatter",
         "x": [
          0.9197133807614235,
          0.7794542364536206,
          -0.09649744911588459,
          1.7774800045254102,
          -1.225964420847159,
          -2.393954265258908,
          0.41990419231764947,
          0.8616029917587111,
          -0.24737914798211716,
          1.0274749369056067,
          0.07649296724874846,
          0.9437322356592867,
          0.1996489583939814,
          1.58427473537746,
          -0.371723359297978,
          0.22979824338857696,
          1.53658689215229,
          0.012158305181052004,
          -1.1602507795274908,
          0.3774550134420746,
          1.0644162387146285,
          -0.221044462875774,
          0.5012106305315702,
          0.7778064820592324,
          1.3147485229906,
          -0.865092812047564,
          -0.42410365767333646,
          -0.357691233878992,
          -0.3414067537683034,
          0.6375951853421511,
          -0.3754133832264921,
          -0.16610414089782688,
          0.388431315898646,
          -0.3228333339830255,
          0.039263470128833015,
          0.4639010359623582,
          0.1485992496867083,
          -0.296115590941632,
          0.14819367088853724,
          0.2026284784393481,
          -0.2348139336782935,
          -1.6800725044112985,
          0.8701378536749685,
          0.341188400775277,
          -0.012237024383443105,
          0.2622618333273738,
          1.1462065561704708,
          -0.054086747031590936,
          0.1843621043620616,
          -0.5398771840429352,
          -1.0722382532014312,
          -0.050435157686543705,
          2.8895581697000896,
          -0.6719852661171711,
          0.46460937644349315,
          1.9923968859714174,
          -1.0345940853003668,
          -0.25508907607148096,
          1.123636206992229,
          0.4035748735001082,
          -0.2250374937301488,
          1.0464100042119022,
          0.2986891746841648,
          -0.11043242862740031,
          0.10165226027586535,
          0.005658435925281142,
          -0.9208657571597071,
          1.2009839712573003,
          -0.4892870232330178,
          -0.06133536497774417,
          -1.0009550308856383,
          -0.48052367803749363,
          0.8409796841631535,
          1.5965466139596338,
          2.120683106950889,
          -1.8799377668379869,
          -0.26563779261158504,
          -0.14704421316205113,
          -1.424161397157802,
          0.47614096789664473,
          -0.5215117460381219,
          0.4809600170045102,
          0.6622103676774127,
          -1.2783556733428347,
          -0.022858985180589677,
          -1.563275342663613,
          -1.2424457285081163,
          0.11681759263698047,
          0.8466794065199111,
          0.06490426589829766,
          2.157438296279944,
          0.6741389867698577,
          1.8430788221397851,
          2.5740175116462423,
          -1.306267582832392,
          0.4205936086654285,
          0.7180849950269751,
          -0.08247581270117955,
          0.050969560380462284,
          0.028843641125944345
         ],
         "xaxis": "x9",
         "y": [
          -0.36472828338111823,
          -2.744034855183259,
          1.0508910323033953,
          -1.3210716162470777,
          -0.6328911673531687,
          -0.15010846191632013,
          -0.07951915603907586,
          -0.3143279866393601,
          0.6057400984111833,
          -0.6994012298006331,
          -0.21090427517540938,
          -0.8436249712561239,
          0.49346951495984837,
          0.4853757168748205,
          1.9390313879524337,
          0.13892186773980295,
          1.8125432050571813,
          -0.1577604392876527,
          -0.37635754616385414,
          -1.4310552301706887,
          0.8382401180593941,
          0.07536172950690108,
          0.5127682775371938,
          0.32569981275567234,
          2.828388550516968,
          -0.5743371297934008,
          0.060400308357195176,
          0.7956540479218478,
          1.3450563412740366,
          -1.016552167263412,
          0.6430448438346658,
          0.510634115982206,
          -0.6661440616176256,
          -0.5025066969093334,
          -0.8550353017824615,
          -0.9914905626880155,
          -0.9426251736601406,
          -0.257211133248541,
          0.3019795953708391,
          0.15258348269611327,
          0.013463340997592551,
          0.2957149879901049,
          0.25699538119859955,
          -0.46614520972096113,
          0.7334543867924153,
          -0.44148807143248525,
          0.0018561004770532975,
          1.5929815057860965,
          1.1351017984146794,
          0.12850117485378634,
          -0.3066874389924823,
          -0.5095211467457677,
          1.2188227788069237,
          1.1342238614857727,
          -0.39372410575528244,
          0.318672757921071,
          -1.5083148071423385,
          1.5105244382756182,
          -0.9597099280908813,
          1.6011874194688416,
          -0.5725114622602433,
          -0.44439960341458123,
          0.0673206661104729,
          -2.9703335493064835,
          0.5627527056266886,
          -0.22389086875044303,
          -0.17529922309717058,
          0.5633597459731945,
          -0.33160851994305235,
          1.45807626556701,
          -1.3821507395278307,
          -0.7241818141867004,
          1.5250901754339594,
          -0.29089082401874,
          -1.8211689542036897,
          1.2128194471161535,
          1.3807370331224766,
          -0.04334994244393579,
          0.1311422990612613,
          -1.7089036247585763,
          -0.7835715672898682,
          -0.7306358480570115,
          1.6481631484690011,
          2.461723274478377,
          0.4732612840974774,
          -0.19848175544682825,
          -1.2012922527458179,
          -0.04201566809091011,
          0.25380682557922446,
          -2.1643581880407052,
          -0.401988739583814,
          -0.419359566403672,
          0.793523597589395,
          -1.2802316764965542,
          -0.4674636795655414,
          -2.1012286186402784,
          1.8046959969573688,
          -0.3965604273992808,
          0.6444974555400979,
          -1.2086932977050724
         ],
         "yaxis": "y9"
        },
        {
         "line": {
          "color": "rgba(128, 128, 128, 1.0)",
          "dash": "solid",
          "shape": "linear",
          "width": 1.3
         },
         "marker": {
          "size": 2,
          "symbol": "circle"
         },
         "mode": "markers",
         "name": "C",
         "text": "",
         "type": "scatter",
         "x": [
          -0.43313928439241856,
          -0.4425613609484883,
          -0.5831641104998745,
          -0.2329524920028297,
          -0.08333227347218153,
          -0.5550772129650813,
          1.0232186344774543,
          -0.19691035869974066,
          0.6652592638509605,
          -0.25855232158591246,
          0.08708040495670091,
          -0.6120088084945818,
          -0.12277081811889581,
          2.1596911192246933,
          1.7453798976659805,
          -0.31058753595801675,
          0.17173161909361565,
          0.2486764341606997,
          0.6290908277801774,
          -0.677253445352361,
          -0.29591717094932185,
          3.5912914484649057,
          -1.5102507577162003,
          -0.10452519409142735,
          -1.3730093962486873,
          -0.10638571976969305,
          -2.562467956305081,
          1.1873153508557435,
          1.7306827104585627,
          2.0784750273731722,
          0.9144007762066864,
          -1.0486224523024477,
          0.616468572611647,
          -0.05306969649565157,
          0.11970754364521062,
          -1.8208242311258491,
          0.8506780205806028,
          -0.7978765182395776,
          -1.6859900378557098,
          -0.807788418777815,
          -0.16415304493743396,
          -1.2779023594529633,
          0.3959843079178932,
          -1.9172789727990776,
          -0.34839551770740596,
          -2.3010545326542164,
          -0.37336750540430746,
          1.0143884366534197,
          -1.0602834509257386,
          -0.5472740730487213,
          -0.15065390894444045,
          0.9220738873395795,
          0.3587351344940042,
          0.4156627803042604,
          -0.25573558842639865,
          -0.779343193627066,
          -0.2327866638752568,
          -0.38671823194117577,
          1.033541673260998,
          0.30249714031787445,
          0.3548984753587199,
          -1.7011402723912104,
          0.9303595461164846,
          -0.3376204164752655,
          0.316175575817413,
          -0.6570536255194106,
          -0.07958066039765603,
          0.6007547821873407,
          0.3278495443745458,
          -0.9373708035630588,
          0.024562754829876316,
          0.15174005354443162,
          1.7322891667012859,
          2.266091829286604,
          0.3322274142194494,
          -1.0968432532953514,
          -0.5395437695783084,
          2.4261309168988627,
          -0.07146814570308693,
          0.6575829486179565,
          1.137000976387248,
          1.3565204705711482,
          -0.3923880210686105,
          0.9310307831146414,
          0.44280425549872554,
          0.6373350300534316,
          -0.37692833981371726,
          0.9292375282970157,
          -1.3816024406765592,
          1.2862751536692747,
          -0.2391628412182689,
          -0.134096521061821,
          0.36325476918153177,
          -1.04756639847069,
          -1.3975724700107532,
          0.4599275903138609,
          -0.0026229351024188562,
          -0.5112324125694927,
          1.3983123334955245,
          0.9451463539487669
         ],
         "xaxis": "x10",
         "y": [
          -0.36472828338111823,
          -2.744034855183259,
          1.0508910323033953,
          -1.3210716162470777,
          -0.6328911673531687,
          -0.15010846191632013,
          -0.07951915603907586,
          -0.3143279866393601,
          0.6057400984111833,
          -0.6994012298006331,
          -0.21090427517540938,
          -0.8436249712561239,
          0.49346951495984837,
          0.4853757168748205,
          1.9390313879524337,
          0.13892186773980295,
          1.8125432050571813,
          -0.1577604392876527,
          -0.37635754616385414,
          -1.4310552301706887,
          0.8382401180593941,
          0.07536172950690108,
          0.5127682775371938,
          0.32569981275567234,
          2.828388550516968,
          -0.5743371297934008,
          0.060400308357195176,
          0.7956540479218478,
          1.3450563412740366,
          -1.016552167263412,
          0.6430448438346658,
          0.510634115982206,
          -0.6661440616176256,
          -0.5025066969093334,
          -0.8550353017824615,
          -0.9914905626880155,
          -0.9426251736601406,
          -0.257211133248541,
          0.3019795953708391,
          0.15258348269611327,
          0.013463340997592551,
          0.2957149879901049,
          0.25699538119859955,
          -0.46614520972096113,
          0.7334543867924153,
          -0.44148807143248525,
          0.0018561004770532975,
          1.5929815057860965,
          1.1351017984146794,
          0.12850117485378634,
          -0.3066874389924823,
          -0.5095211467457677,
          1.2188227788069237,
          1.1342238614857727,
          -0.39372410575528244,
          0.318672757921071,
          -1.5083148071423385,
          1.5105244382756182,
          -0.9597099280908813,
          1.6011874194688416,
          -0.5725114622602433,
          -0.44439960341458123,
          0.0673206661104729,
          -2.9703335493064835,
          0.5627527056266886,
          -0.22389086875044303,
          -0.17529922309717058,
          0.5633597459731945,
          -0.33160851994305235,
          1.45807626556701,
          -1.3821507395278307,
          -0.7241818141867004,
          1.5250901754339594,
          -0.29089082401874,
          -1.8211689542036897,
          1.2128194471161535,
          1.3807370331224766,
          -0.04334994244393579,
          0.1311422990612613,
          -1.7089036247585763,
          -0.7835715672898682,
          -0.7306358480570115,
          1.6481631484690011,
          2.461723274478377,
          0.4732612840974774,
          -0.19848175544682825,
          -1.2012922527458179,
          -0.04201566809091011,
          0.25380682557922446,
          -2.1643581880407052,
          -0.401988739583814,
          -0.419359566403672,
          0.793523597589395,
          -1.2802316764965542,
          -0.4674636795655414,
          -2.1012286186402784,
          1.8046959969573688,
          -0.3965604273992808,
          0.6444974555400979,
          -1.2086932977050724
         ],
         "yaxis": "y10"
        },
        {
         "histfunc": "count",
         "histnorm": "",
         "marker": {
          "color": "rgba(50, 171, 96, 1.0)",
          "line": {
           "color": "#4D5663",
           "width": 1.3
          }
         },
         "name": "C",
         "nbinsx": 10,
         "opacity": 0.8,
         "orientation": "v",
         "type": "histogram",
         "x": [
          -0.36472828338111823,
          -2.744034855183259,
          1.0508910323033953,
          -1.3210716162470777,
          -0.6328911673531687,
          -0.15010846191632013,
          -0.07951915603907586,
          -0.3143279866393601,
          0.6057400984111833,
          -0.6994012298006331,
          -0.21090427517540938,
          -0.8436249712561239,
          0.49346951495984837,
          0.4853757168748205,
          1.9390313879524337,
          0.13892186773980295,
          1.8125432050571813,
          -0.1577604392876527,
          -0.37635754616385414,
          -1.4310552301706887,
          0.8382401180593941,
          0.07536172950690108,
          0.5127682775371938,
          0.32569981275567234,
          2.828388550516968,
          -0.5743371297934008,
          0.060400308357195176,
          0.7956540479218478,
          1.3450563412740366,
          -1.016552167263412,
          0.6430448438346658,
          0.510634115982206,
          -0.6661440616176256,
          -0.5025066969093334,
          -0.8550353017824615,
          -0.9914905626880155,
          -0.9426251736601406,
          -0.257211133248541,
          0.3019795953708391,
          0.15258348269611327,
          0.013463340997592551,
          0.2957149879901049,
          0.25699538119859955,
          -0.46614520972096113,
          0.7334543867924153,
          -0.44148807143248525,
          0.0018561004770532975,
          1.5929815057860965,
          1.1351017984146794,
          0.12850117485378634,
          -0.3066874389924823,
          -0.5095211467457677,
          1.2188227788069237,
          1.1342238614857727,
          -0.39372410575528244,
          0.318672757921071,
          -1.5083148071423385,
          1.5105244382756182,
          -0.9597099280908813,
          1.6011874194688416,
          -0.5725114622602433,
          -0.44439960341458123,
          0.0673206661104729,
          -2.9703335493064835,
          0.5627527056266886,
          -0.22389086875044303,
          -0.17529922309717058,
          0.5633597459731945,
          -0.33160851994305235,
          1.45807626556701,
          -1.3821507395278307,
          -0.7241818141867004,
          1.5250901754339594,
          -0.29089082401874,
          -1.8211689542036897,
          1.2128194471161535,
          1.3807370331224766,
          -0.04334994244393579,
          0.1311422990612613,
          -1.7089036247585763,
          -0.7835715672898682,
          -0.7306358480570115,
          1.6481631484690011,
          2.461723274478377,
          0.4732612840974774,
          -0.19848175544682825,
          -1.2012922527458179,
          -0.04201566809091011,
          0.25380682557922446,
          -2.1643581880407052,
          -0.401988739583814,
          -0.419359566403672,
          0.793523597589395,
          -1.2802316764965542,
          -0.4674636795655414,
          -2.1012286186402784,
          1.8046959969573688,
          -0.3965604273992808,
          0.6444974555400979,
          -1.2086932977050724
         ],
         "xaxis": "x11",
         "yaxis": "y11"
        },
        {
         "line": {
          "color": "rgba(128, 128, 128, 1.0)",
          "dash": "solid",
          "shape": "linear",
          "width": 1.3
         },
         "marker": {
          "size": 2,
          "symbol": "circle"
         },
         "mode": "markers",
         "name": "C",
         "text": "",
         "type": "scatter",
         "x": [
          -0.39699605459412246,
          0.9665733257016246,
          -0.03292056049028313,
          -0.9073213559681331,
          0.6831199981393419,
          0.5856846914816076,
          -0.43337138359969984,
          -0.7675150008275595,
          0.013888311737529004,
          1.0488230586953755,
          0.4354540251156954,
          -1.889577608294123,
          0.8355927922443603,
          0.2942195629854865,
          -1.0042496108243364,
          -0.4225148345278697,
          -0.6141822581428549,
          -0.7732928019152675,
          -0.019781848988358837,
          1.1551113803713724,
          0.48839338357613665,
          -1.0735992913498773,
          -2.191676479527262,
          -0.9530024743209956,
          -0.016420447246737656,
          -0.44905928884575846,
          -0.944324806543863,
          -1.0293134643694755,
          -1.2920564853589527,
          1.0200112412988298,
          -0.3605536695078327,
          1.0755394811016914,
          -1.7543454736337665,
          0.3751844174067533,
          0.045548734229861776,
          -0.2626034663179237,
          0.43353088292488834,
          0.29367520335394515,
          1.1459481264116405,
          -1.8142720338622396,
          -1.0173043294083477,
          0.39340942896249914,
          -1.0941091685109492,
          -1.1695752419219372,
          1.7270611475834738,
          -0.3106566486176464,
          1.8281605452352603,
          -0.526324541856004,
          -1.7761756749514737,
          -0.43091805571083863,
          -0.5649880558501735,
          0.24125090312744718,
          2.69456662433687,
          -0.8713144091136765,
          0.7584445815837195,
          -0.13703182312215023,
          -0.668896977189412,
          -0.27604981761777875,
          1.5698646539974623,
          0.04778207395949344,
          1.638758980307776,
          0.7459446531249445,
          0.19105997693628143,
          0.5223781816880522,
          0.6017589103360246,
          -0.4217443729222811,
          -0.6163168942296061,
          -0.9694671688163928,
          0.42170916519293944,
          -0.4101989114634815,
          0.487762375905079,
          0.027239658172430275,
          -0.3176555283955685,
          -0.5241745803169193,
          1.177165135960473,
          0.04068533608559416,
          -0.8761512202026416,
          0.10621793722191121,
          -0.4199551272358778,
          -0.14879356764775456,
          -1.005233396340456,
          1.2411615282181363,
          0.8975170798555797,
          0.7900710390871886,
          0.4416846117561959,
          1.4425511447775639,
          -0.5654380772698397,
          -1.2154171092673054,
          0.1261765840600005,
          -0.10680954817285401,
          1.3528188881898482,
          0.7452958794934156,
          0.4970922137269499,
          -0.4483551828797474,
          1.7516766591944517,
          -2.938615037214658,
          0.5080945909237529,
          0.614267751742457,
          -0.2595820086152982,
          -0.43899999687117014
         ],
         "xaxis": "x12",
         "y": [
          -0.36472828338111823,
          -2.744034855183259,
          1.0508910323033953,
          -1.3210716162470777,
          -0.6328911673531687,
          -0.15010846191632013,
          -0.07951915603907586,
          -0.3143279866393601,
          0.6057400984111833,
          -0.6994012298006331,
          -0.21090427517540938,
          -0.8436249712561239,
          0.49346951495984837,
          0.4853757168748205,
          1.9390313879524337,
          0.13892186773980295,
          1.8125432050571813,
          -0.1577604392876527,
          -0.37635754616385414,
          -1.4310552301706887,
          0.8382401180593941,
          0.07536172950690108,
          0.5127682775371938,
          0.32569981275567234,
          2.828388550516968,
          -0.5743371297934008,
          0.060400308357195176,
          0.7956540479218478,
          1.3450563412740366,
          -1.016552167263412,
          0.6430448438346658,
          0.510634115982206,
          -0.6661440616176256,
          -0.5025066969093334,
          -0.8550353017824615,
          -0.9914905626880155,
          -0.9426251736601406,
          -0.257211133248541,
          0.3019795953708391,
          0.15258348269611327,
          0.013463340997592551,
          0.2957149879901049,
          0.25699538119859955,
          -0.46614520972096113,
          0.7334543867924153,
          -0.44148807143248525,
          0.0018561004770532975,
          1.5929815057860965,
          1.1351017984146794,
          0.12850117485378634,
          -0.3066874389924823,
          -0.5095211467457677,
          1.2188227788069237,
          1.1342238614857727,
          -0.39372410575528244,
          0.318672757921071,
          -1.5083148071423385,
          1.5105244382756182,
          -0.9597099280908813,
          1.6011874194688416,
          -0.5725114622602433,
          -0.44439960341458123,
          0.0673206661104729,
          -2.9703335493064835,
          0.5627527056266886,
          -0.22389086875044303,
          -0.17529922309717058,
          0.5633597459731945,
          -0.33160851994305235,
          1.45807626556701,
          -1.3821507395278307,
          -0.7241818141867004,
          1.5250901754339594,
          -0.29089082401874,
          -1.8211689542036897,
          1.2128194471161535,
          1.3807370331224766,
          -0.04334994244393579,
          0.1311422990612613,
          -1.7089036247585763,
          -0.7835715672898682,
          -0.7306358480570115,
          1.6481631484690011,
          2.461723274478377,
          0.4732612840974774,
          -0.19848175544682825,
          -1.2012922527458179,
          -0.04201566809091011,
          0.25380682557922446,
          -2.1643581880407052,
          -0.401988739583814,
          -0.419359566403672,
          0.793523597589395,
          -1.2802316764965542,
          -0.4674636795655414,
          -2.1012286186402784,
          1.8046959969573688,
          -0.3965604273992808,
          0.6444974555400979,
          -1.2086932977050724
         ],
         "yaxis": "y12"
        },
        {
         "line": {
          "color": "rgba(128, 128, 128, 1.0)",
          "dash": "solid",
          "shape": "linear",
          "width": 1.3
         },
         "marker": {
          "size": 2,
          "symbol": "circle"
         },
         "mode": "markers",
         "name": "D",
         "text": "",
         "type": "scatter",
         "x": [
          0.9197133807614235,
          0.7794542364536206,
          -0.09649744911588459,
          1.7774800045254102,
          -1.225964420847159,
          -2.393954265258908,
          0.41990419231764947,
          0.8616029917587111,
          -0.24737914798211716,
          1.0274749369056067,
          0.07649296724874846,
          0.9437322356592867,
          0.1996489583939814,
          1.58427473537746,
          -0.371723359297978,
          0.22979824338857696,
          1.53658689215229,
          0.012158305181052004,
          -1.1602507795274908,
          0.3774550134420746,
          1.0644162387146285,
          -0.221044462875774,
          0.5012106305315702,
          0.7778064820592324,
          1.3147485229906,
          -0.865092812047564,
          -0.42410365767333646,
          -0.357691233878992,
          -0.3414067537683034,
          0.6375951853421511,
          -0.3754133832264921,
          -0.16610414089782688,
          0.388431315898646,
          -0.3228333339830255,
          0.039263470128833015,
          0.4639010359623582,
          0.1485992496867083,
          -0.296115590941632,
          0.14819367088853724,
          0.2026284784393481,
          -0.2348139336782935,
          -1.6800725044112985,
          0.8701378536749685,
          0.341188400775277,
          -0.012237024383443105,
          0.2622618333273738,
          1.1462065561704708,
          -0.054086747031590936,
          0.1843621043620616,
          -0.5398771840429352,
          -1.0722382532014312,
          -0.050435157686543705,
          2.8895581697000896,
          -0.6719852661171711,
          0.46460937644349315,
          1.9923968859714174,
          -1.0345940853003668,
          -0.25508907607148096,
          1.123636206992229,
          0.4035748735001082,
          -0.2250374937301488,
          1.0464100042119022,
          0.2986891746841648,
          -0.11043242862740031,
          0.10165226027586535,
          0.005658435925281142,
          -0.9208657571597071,
          1.2009839712573003,
          -0.4892870232330178,
          -0.06133536497774417,
          -1.0009550308856383,
          -0.48052367803749363,
          0.8409796841631535,
          1.5965466139596338,
          2.120683106950889,
          -1.8799377668379869,
          -0.26563779261158504,
          -0.14704421316205113,
          -1.424161397157802,
          0.47614096789664473,
          -0.5215117460381219,
          0.4809600170045102,
          0.6622103676774127,
          -1.2783556733428347,
          -0.022858985180589677,
          -1.563275342663613,
          -1.2424457285081163,
          0.11681759263698047,
          0.8466794065199111,
          0.06490426589829766,
          2.157438296279944,
          0.6741389867698577,
          1.8430788221397851,
          2.5740175116462423,
          -1.306267582832392,
          0.4205936086654285,
          0.7180849950269751,
          -0.08247581270117955,
          0.050969560380462284,
          0.028843641125944345
         ],
         "xaxis": "x13",
         "y": [
          -0.39699605459412246,
          0.9665733257016246,
          -0.03292056049028313,
          -0.9073213559681331,
          0.6831199981393419,
          0.5856846914816076,
          -0.43337138359969984,
          -0.7675150008275595,
          0.013888311737529004,
          1.0488230586953755,
          0.4354540251156954,
          -1.889577608294123,
          0.8355927922443603,
          0.2942195629854865,
          -1.0042496108243364,
          -0.4225148345278697,
          -0.6141822581428549,
          -0.7732928019152675,
          -0.019781848988358837,
          1.1551113803713724,
          0.48839338357613665,
          -1.0735992913498773,
          -2.191676479527262,
          -0.9530024743209956,
          -0.016420447246737656,
          -0.44905928884575846,
          -0.944324806543863,
          -1.0293134643694755,
          -1.2920564853589527,
          1.0200112412988298,
          -0.3605536695078327,
          1.0755394811016914,
          -1.7543454736337665,
          0.3751844174067533,
          0.045548734229861776,
          -0.2626034663179237,
          0.43353088292488834,
          0.29367520335394515,
          1.1459481264116405,
          -1.8142720338622396,
          -1.0173043294083477,
          0.39340942896249914,
          -1.0941091685109492,
          -1.1695752419219372,
          1.7270611475834738,
          -0.3106566486176464,
          1.8281605452352603,
          -0.526324541856004,
          -1.7761756749514737,
          -0.43091805571083863,
          -0.5649880558501735,
          0.24125090312744718,
          2.69456662433687,
          -0.8713144091136765,
          0.7584445815837195,
          -0.13703182312215023,
          -0.668896977189412,
          -0.27604981761777875,
          1.5698646539974623,
          0.04778207395949344,
          1.638758980307776,
          0.7459446531249445,
          0.19105997693628143,
          0.5223781816880522,
          0.6017589103360246,
          -0.4217443729222811,
          -0.6163168942296061,
          -0.9694671688163928,
          0.42170916519293944,
          -0.4101989114634815,
          0.487762375905079,
          0.027239658172430275,
          -0.3176555283955685,
          -0.5241745803169193,
          1.177165135960473,
          0.04068533608559416,
          -0.8761512202026416,
          0.10621793722191121,
          -0.4199551272358778,
          -0.14879356764775456,
          -1.005233396340456,
          1.2411615282181363,
          0.8975170798555797,
          0.7900710390871886,
          0.4416846117561959,
          1.4425511447775639,
          -0.5654380772698397,
          -1.2154171092673054,
          0.1261765840600005,
          -0.10680954817285401,
          1.3528188881898482,
          0.7452958794934156,
          0.4970922137269499,
          -0.4483551828797474,
          1.7516766591944517,
          -2.938615037214658,
          0.5080945909237529,
          0.614267751742457,
          -0.2595820086152982,
          -0.43899999687117014
         ],
         "yaxis": "y13"
        },
        {
         "line": {
          "color": "rgba(128, 128, 128, 1.0)",
          "dash": "solid",
          "shape": "linear",
          "width": 1.3
         },
         "marker": {
          "size": 2,
          "symbol": "circle"
         },
         "mode": "markers",
         "name": "D",
         "text": "",
         "type": "scatter",
         "x": [
          -0.43313928439241856,
          -0.4425613609484883,
          -0.5831641104998745,
          -0.2329524920028297,
          -0.08333227347218153,
          -0.5550772129650813,
          1.0232186344774543,
          -0.19691035869974066,
          0.6652592638509605,
          -0.25855232158591246,
          0.08708040495670091,
          -0.6120088084945818,
          -0.12277081811889581,
          2.1596911192246933,
          1.7453798976659805,
          -0.31058753595801675,
          0.17173161909361565,
          0.2486764341606997,
          0.6290908277801774,
          -0.677253445352361,
          -0.29591717094932185,
          3.5912914484649057,
          -1.5102507577162003,
          -0.10452519409142735,
          -1.3730093962486873,
          -0.10638571976969305,
          -2.562467956305081,
          1.1873153508557435,
          1.7306827104585627,
          2.0784750273731722,
          0.9144007762066864,
          -1.0486224523024477,
          0.616468572611647,
          -0.05306969649565157,
          0.11970754364521062,
          -1.8208242311258491,
          0.8506780205806028,
          -0.7978765182395776,
          -1.6859900378557098,
          -0.807788418777815,
          -0.16415304493743396,
          -1.2779023594529633,
          0.3959843079178932,
          -1.9172789727990776,
          -0.34839551770740596,
          -2.3010545326542164,
          -0.37336750540430746,
          1.0143884366534197,
          -1.0602834509257386,
          -0.5472740730487213,
          -0.15065390894444045,
          0.9220738873395795,
          0.3587351344940042,
          0.4156627803042604,
          -0.25573558842639865,
          -0.779343193627066,
          -0.2327866638752568,
          -0.38671823194117577,
          1.033541673260998,
          0.30249714031787445,
          0.3548984753587199,
          -1.7011402723912104,
          0.9303595461164846,
          -0.3376204164752655,
          0.316175575817413,
          -0.6570536255194106,
          -0.07958066039765603,
          0.6007547821873407,
          0.3278495443745458,
          -0.9373708035630588,
          0.024562754829876316,
          0.15174005354443162,
          1.7322891667012859,
          2.266091829286604,
          0.3322274142194494,
          -1.0968432532953514,
          -0.5395437695783084,
          2.4261309168988627,
          -0.07146814570308693,
          0.6575829486179565,
          1.137000976387248,
          1.3565204705711482,
          -0.3923880210686105,
          0.9310307831146414,
          0.44280425549872554,
          0.6373350300534316,
          -0.37692833981371726,
          0.9292375282970157,
          -1.3816024406765592,
          1.2862751536692747,
          -0.2391628412182689,
          -0.134096521061821,
          0.36325476918153177,
          -1.04756639847069,
          -1.3975724700107532,
          0.4599275903138609,
          -0.0026229351024188562,
          -0.5112324125694927,
          1.3983123334955245,
          0.9451463539487669
         ],
         "xaxis": "x14",
         "y": [
          -0.39699605459412246,
          0.9665733257016246,
          -0.03292056049028313,
          -0.9073213559681331,
          0.6831199981393419,
          0.5856846914816076,
          -0.43337138359969984,
          -0.7675150008275595,
          0.013888311737529004,
          1.0488230586953755,
          0.4354540251156954,
          -1.889577608294123,
          0.8355927922443603,
          0.2942195629854865,
          -1.0042496108243364,
          -0.4225148345278697,
          -0.6141822581428549,
          -0.7732928019152675,
          -0.019781848988358837,
          1.1551113803713724,
          0.48839338357613665,
          -1.0735992913498773,
          -2.191676479527262,
          -0.9530024743209956,
          -0.016420447246737656,
          -0.44905928884575846,
          -0.944324806543863,
          -1.0293134643694755,
          -1.2920564853589527,
          1.0200112412988298,
          -0.3605536695078327,
          1.0755394811016914,
          -1.7543454736337665,
          0.3751844174067533,
          0.045548734229861776,
          -0.2626034663179237,
          0.43353088292488834,
          0.29367520335394515,
          1.1459481264116405,
          -1.8142720338622396,
          -1.0173043294083477,
          0.39340942896249914,
          -1.0941091685109492,
          -1.1695752419219372,
          1.7270611475834738,
          -0.3106566486176464,
          1.8281605452352603,
          -0.526324541856004,
          -1.7761756749514737,
          -0.43091805571083863,
          -0.5649880558501735,
          0.24125090312744718,
          2.69456662433687,
          -0.8713144091136765,
          0.7584445815837195,
          -0.13703182312215023,
          -0.668896977189412,
          -0.27604981761777875,
          1.5698646539974623,
          0.04778207395949344,
          1.638758980307776,
          0.7459446531249445,
          0.19105997693628143,
          0.5223781816880522,
          0.6017589103360246,
          -0.4217443729222811,
          -0.6163168942296061,
          -0.9694671688163928,
          0.42170916519293944,
          -0.4101989114634815,
          0.487762375905079,
          0.027239658172430275,
          -0.3176555283955685,
          -0.5241745803169193,
          1.177165135960473,
          0.04068533608559416,
          -0.8761512202026416,
          0.10621793722191121,
          -0.4199551272358778,
          -0.14879356764775456,
          -1.005233396340456,
          1.2411615282181363,
          0.8975170798555797,
          0.7900710390871886,
          0.4416846117561959,
          1.4425511447775639,
          -0.5654380772698397,
          -1.2154171092673054,
          0.1261765840600005,
          -0.10680954817285401,
          1.3528188881898482,
          0.7452958794934156,
          0.4970922137269499,
          -0.4483551828797474,
          1.7516766591944517,
          -2.938615037214658,
          0.5080945909237529,
          0.614267751742457,
          -0.2595820086152982,
          -0.43899999687117014
         ],
         "yaxis": "y14"
        },
        {
         "line": {
          "color": "rgba(128, 128, 128, 1.0)",
          "dash": "solid",
          "shape": "linear",
          "width": 1.3
         },
         "marker": {
          "size": 2,
          "symbol": "circle"
         },
         "mode": "markers",
         "name": "D",
         "text": "",
         "type": "scatter",
         "x": [
          -0.36472828338111823,
          -2.744034855183259,
          1.0508910323033953,
          -1.3210716162470777,
          -0.6328911673531687,
          -0.15010846191632013,
          -0.07951915603907586,
          -0.3143279866393601,
          0.6057400984111833,
          -0.6994012298006331,
          -0.21090427517540938,
          -0.8436249712561239,
          0.49346951495984837,
          0.4853757168748205,
          1.9390313879524337,
          0.13892186773980295,
          1.8125432050571813,
          -0.1577604392876527,
          -0.37635754616385414,
          -1.4310552301706887,
          0.8382401180593941,
          0.07536172950690108,
          0.5127682775371938,
          0.32569981275567234,
          2.828388550516968,
          -0.5743371297934008,
          0.060400308357195176,
          0.7956540479218478,
          1.3450563412740366,
          -1.016552167263412,
          0.6430448438346658,
          0.510634115982206,
          -0.6661440616176256,
          -0.5025066969093334,
          -0.8550353017824615,
          -0.9914905626880155,
          -0.9426251736601406,
          -0.257211133248541,
          0.3019795953708391,
          0.15258348269611327,
          0.013463340997592551,
          0.2957149879901049,
          0.25699538119859955,
          -0.46614520972096113,
          0.7334543867924153,
          -0.44148807143248525,
          0.0018561004770532975,
          1.5929815057860965,
          1.1351017984146794,
          0.12850117485378634,
          -0.3066874389924823,
          -0.5095211467457677,
          1.2188227788069237,
          1.1342238614857727,
          -0.39372410575528244,
          0.318672757921071,
          -1.5083148071423385,
          1.5105244382756182,
          -0.9597099280908813,
          1.6011874194688416,
          -0.5725114622602433,
          -0.44439960341458123,
          0.0673206661104729,
          -2.9703335493064835,
          0.5627527056266886,
          -0.22389086875044303,
          -0.17529922309717058,
          0.5633597459731945,
          -0.33160851994305235,
          1.45807626556701,
          -1.3821507395278307,
          -0.7241818141867004,
          1.5250901754339594,
          -0.29089082401874,
          -1.8211689542036897,
          1.2128194471161535,
          1.3807370331224766,
          -0.04334994244393579,
          0.1311422990612613,
          -1.7089036247585763,
          -0.7835715672898682,
          -0.7306358480570115,
          1.6481631484690011,
          2.461723274478377,
          0.4732612840974774,
          -0.19848175544682825,
          -1.2012922527458179,
          -0.04201566809091011,
          0.25380682557922446,
          -2.1643581880407052,
          -0.401988739583814,
          -0.419359566403672,
          0.793523597589395,
          -1.2802316764965542,
          -0.4674636795655414,
          -2.1012286186402784,
          1.8046959969573688,
          -0.3965604273992808,
          0.6444974555400979,
          -1.2086932977050724
         ],
         "xaxis": "x15",
         "y": [
          -0.39699605459412246,
          0.9665733257016246,
          -0.03292056049028313,
          -0.9073213559681331,
          0.6831199981393419,
          0.5856846914816076,
          -0.43337138359969984,
          -0.7675150008275595,
          0.013888311737529004,
          1.0488230586953755,
          0.4354540251156954,
          -1.889577608294123,
          0.8355927922443603,
          0.2942195629854865,
          -1.0042496108243364,
          -0.4225148345278697,
          -0.6141822581428549,
          -0.7732928019152675,
          -0.019781848988358837,
          1.1551113803713724,
          0.48839338357613665,
          -1.0735992913498773,
          -2.191676479527262,
          -0.9530024743209956,
          -0.016420447246737656,
          -0.44905928884575846,
          -0.944324806543863,
          -1.0293134643694755,
          -1.2920564853589527,
          1.0200112412988298,
          -0.3605536695078327,
          1.0755394811016914,
          -1.7543454736337665,
          0.3751844174067533,
          0.045548734229861776,
          -0.2626034663179237,
          0.43353088292488834,
          0.29367520335394515,
          1.1459481264116405,
          -1.8142720338622396,
          -1.0173043294083477,
          0.39340942896249914,
          -1.0941091685109492,
          -1.1695752419219372,
          1.7270611475834738,
          -0.3106566486176464,
          1.8281605452352603,
          -0.526324541856004,
          -1.7761756749514737,
          -0.43091805571083863,
          -0.5649880558501735,
          0.24125090312744718,
          2.69456662433687,
          -0.8713144091136765,
          0.7584445815837195,
          -0.13703182312215023,
          -0.668896977189412,
          -0.27604981761777875,
          1.5698646539974623,
          0.04778207395949344,
          1.638758980307776,
          0.7459446531249445,
          0.19105997693628143,
          0.5223781816880522,
          0.6017589103360246,
          -0.4217443729222811,
          -0.6163168942296061,
          -0.9694671688163928,
          0.42170916519293944,
          -0.4101989114634815,
          0.487762375905079,
          0.027239658172430275,
          -0.3176555283955685,
          -0.5241745803169193,
          1.177165135960473,
          0.04068533608559416,
          -0.8761512202026416,
          0.10621793722191121,
          -0.4199551272358778,
          -0.14879356764775456,
          -1.005233396340456,
          1.2411615282181363,
          0.8975170798555797,
          0.7900710390871886,
          0.4416846117561959,
          1.4425511447775639,
          -0.5654380772698397,
          -1.2154171092673054,
          0.1261765840600005,
          -0.10680954817285401,
          1.3528188881898482,
          0.7452958794934156,
          0.4970922137269499,
          -0.4483551828797474,
          1.7516766591944517,
          -2.938615037214658,
          0.5080945909237529,
          0.614267751742457,
          -0.2595820086152982,
          -0.43899999687117014
         ],
         "yaxis": "y15"
        },
        {
         "histfunc": "count",
         "histnorm": "",
         "marker": {
          "color": "rgba(128, 0, 128, 1.0)",
          "line": {
           "color": "#4D5663",
           "width": 1.3
          }
         },
         "name": "D",
         "nbinsx": 10,
         "opacity": 0.8,
         "orientation": "v",
         "type": "histogram",
         "x": [
          -0.39699605459412246,
          0.9665733257016246,
          -0.03292056049028313,
          -0.9073213559681331,
          0.6831199981393419,
          0.5856846914816076,
          -0.43337138359969984,
          -0.7675150008275595,
          0.013888311737529004,
          1.0488230586953755,
          0.4354540251156954,
          -1.889577608294123,
          0.8355927922443603,
          0.2942195629854865,
          -1.0042496108243364,
          -0.4225148345278697,
          -0.6141822581428549,
          -0.7732928019152675,
          -0.019781848988358837,
          1.1551113803713724,
          0.48839338357613665,
          -1.0735992913498773,
          -2.191676479527262,
          -0.9530024743209956,
          -0.016420447246737656,
          -0.44905928884575846,
          -0.944324806543863,
          -1.0293134643694755,
          -1.2920564853589527,
          1.0200112412988298,
          -0.3605536695078327,
          1.0755394811016914,
          -1.7543454736337665,
          0.3751844174067533,
          0.045548734229861776,
          -0.2626034663179237,
          0.43353088292488834,
          0.29367520335394515,
          1.1459481264116405,
          -1.8142720338622396,
          -1.0173043294083477,
          0.39340942896249914,
          -1.0941091685109492,
          -1.1695752419219372,
          1.7270611475834738,
          -0.3106566486176464,
          1.8281605452352603,
          -0.526324541856004,
          -1.7761756749514737,
          -0.43091805571083863,
          -0.5649880558501735,
          0.24125090312744718,
          2.69456662433687,
          -0.8713144091136765,
          0.7584445815837195,
          -0.13703182312215023,
          -0.668896977189412,
          -0.27604981761777875,
          1.5698646539974623,
          0.04778207395949344,
          1.638758980307776,
          0.7459446531249445,
          0.19105997693628143,
          0.5223781816880522,
          0.6017589103360246,
          -0.4217443729222811,
          -0.6163168942296061,
          -0.9694671688163928,
          0.42170916519293944,
          -0.4101989114634815,
          0.487762375905079,
          0.027239658172430275,
          -0.3176555283955685,
          -0.5241745803169193,
          1.177165135960473,
          0.04068533608559416,
          -0.8761512202026416,
          0.10621793722191121,
          -0.4199551272358778,
          -0.14879356764775456,
          -1.005233396340456,
          1.2411615282181363,
          0.8975170798555797,
          0.7900710390871886,
          0.4416846117561959,
          1.4425511447775639,
          -0.5654380772698397,
          -1.2154171092673054,
          0.1261765840600005,
          -0.10680954817285401,
          1.3528188881898482,
          0.7452958794934156,
          0.4970922137269499,
          -0.4483551828797474,
          1.7516766591944517,
          -2.938615037214658,
          0.5080945909237529,
          0.614267751742457,
          -0.2595820086152982,
          -0.43899999687117014
         ],
         "xaxis": "x16",
         "yaxis": "y16"
        }
       ],
       "layout": {
        "bargap": 0.02,
        "legend": {
         "bgcolor": "#F5F6F9",
         "font": {
          "color": "#4D5663"
         }
        },
        "paper_bgcolor": "#F5F6F9",
        "plot_bgcolor": "#F5F6F9",
        "showlegend": false,
        "template": {
         "data": {
          "bar": [
           {
            "error_x": {
             "color": "#2a3f5f"
            },
            "error_y": {
             "color": "#2a3f5f"
            },
            "marker": {
             "line": {
              "color": "#E5ECF6",
              "width": 0.5
             }
            },
            "type": "bar"
           }
          ],
          "barpolar": [
           {
            "marker": {
             "line": {
              "color": "#E5ECF6",
              "width": 0.5
             }
            },
            "type": "barpolar"
           }
          ],
          "carpet": [
           {
            "aaxis": {
             "endlinecolor": "#2a3f5f",
             "gridcolor": "white",
             "linecolor": "white",
             "minorgridcolor": "white",
             "startlinecolor": "#2a3f5f"
            },
            "baxis": {
             "endlinecolor": "#2a3f5f",
             "gridcolor": "white",
             "linecolor": "white",
             "minorgridcolor": "white",
             "startlinecolor": "#2a3f5f"
            },
            "type": "carpet"
           }
          ],
          "choropleth": [
           {
            "colorbar": {
             "outlinewidth": 0,
             "ticks": ""
            },
            "type": "choropleth"
           }
          ],
          "contour": [
           {
            "colorbar": {
             "outlinewidth": 0,
             "ticks": ""
            },
            "colorscale": [
             [
              0,
              "#0d0887"
             ],
             [
              0.1111111111111111,
              "#46039f"
             ],
             [
              0.2222222222222222,
              "#7201a8"
             ],
             [
              0.3333333333333333,
              "#9c179e"
             ],
             [
              0.4444444444444444,
              "#bd3786"
             ],
             [
              0.5555555555555556,
              "#d8576b"
             ],
             [
              0.6666666666666666,
              "#ed7953"
             ],
             [
              0.7777777777777778,
              "#fb9f3a"
             ],
             [
              0.8888888888888888,
              "#fdca26"
             ],
             [
              1,
              "#f0f921"
             ]
            ],
            "type": "contour"
           }
          ],
          "contourcarpet": [
           {
            "colorbar": {
             "outlinewidth": 0,
             "ticks": ""
            },
            "type": "contourcarpet"
           }
          ],
          "heatmap": [
           {
            "colorbar": {
             "outlinewidth": 0,
             "ticks": ""
            },
            "colorscale": [
             [
              0,
              "#0d0887"
             ],
             [
              0.1111111111111111,
              "#46039f"
             ],
             [
              0.2222222222222222,
              "#7201a8"
             ],
             [
              0.3333333333333333,
              "#9c179e"
             ],
             [
              0.4444444444444444,
              "#bd3786"
             ],
             [
              0.5555555555555556,
              "#d8576b"
             ],
             [
              0.6666666666666666,
              "#ed7953"
             ],
             [
              0.7777777777777778,
              "#fb9f3a"
             ],
             [
              0.8888888888888888,
              "#fdca26"
             ],
             [
              1,
              "#f0f921"
             ]
            ],
            "type": "heatmap"
           }
          ],
          "heatmapgl": [
           {
            "colorbar": {
             "outlinewidth": 0,
             "ticks": ""
            },
            "colorscale": [
             [
              0,
              "#0d0887"
             ],
             [
              0.1111111111111111,
              "#46039f"
             ],
             [
              0.2222222222222222,
              "#7201a8"
             ],
             [
              0.3333333333333333,
              "#9c179e"
             ],
             [
              0.4444444444444444,
              "#bd3786"
             ],
             [
              0.5555555555555556,
              "#d8576b"
             ],
             [
              0.6666666666666666,
              "#ed7953"
             ],
             [
              0.7777777777777778,
              "#fb9f3a"
             ],
             [
              0.8888888888888888,
              "#fdca26"
             ],
             [
              1,
              "#f0f921"
             ]
            ],
            "type": "heatmapgl"
           }
          ],
          "histogram": [
           {
            "marker": {
             "colorbar": {
              "outlinewidth": 0,
              "ticks": ""
             }
            },
            "type": "histogram"
           }
          ],
          "histogram2d": [
           {
            "colorbar": {
             "outlinewidth": 0,
             "ticks": ""
            },
            "colorscale": [
             [
              0,
              "#0d0887"
             ],
             [
              0.1111111111111111,
              "#46039f"
             ],
             [
              0.2222222222222222,
              "#7201a8"
             ],
             [
              0.3333333333333333,
              "#9c179e"
             ],
             [
              0.4444444444444444,
              "#bd3786"
             ],
             [
              0.5555555555555556,
              "#d8576b"
             ],
             [
              0.6666666666666666,
              "#ed7953"
             ],
             [
              0.7777777777777778,
              "#fb9f3a"
             ],
             [
              0.8888888888888888,
              "#fdca26"
             ],
             [
              1,
              "#f0f921"
             ]
            ],
            "type": "histogram2d"
           }
          ],
          "histogram2dcontour": [
           {
            "colorbar": {
             "outlinewidth": 0,
             "ticks": ""
            },
            "colorscale": [
             [
              0,
              "#0d0887"
             ],
             [
              0.1111111111111111,
              "#46039f"
             ],
             [
              0.2222222222222222,
              "#7201a8"
             ],
             [
              0.3333333333333333,
              "#9c179e"
             ],
             [
              0.4444444444444444,
              "#bd3786"
             ],
             [
              0.5555555555555556,
              "#d8576b"
             ],
             [
              0.6666666666666666,
              "#ed7953"
             ],
             [
              0.7777777777777778,
              "#fb9f3a"
             ],
             [
              0.8888888888888888,
              "#fdca26"
             ],
             [
              1,
              "#f0f921"
             ]
            ],
            "type": "histogram2dcontour"
           }
          ],
          "mesh3d": [
           {
            "colorbar": {
             "outlinewidth": 0,
             "ticks": ""
            },
            "type": "mesh3d"
           }
          ],
          "parcoords": [
           {
            "line": {
             "colorbar": {
              "outlinewidth": 0,
              "ticks": ""
             }
            },
            "type": "parcoords"
           }
          ],
          "pie": [
           {
            "automargin": true,
            "type": "pie"
           }
          ],
          "scatter": [
           {
            "marker": {
             "colorbar": {
              "outlinewidth": 0,
              "ticks": ""
             }
            },
            "type": "scatter"
           }
          ],
          "scatter3d": [
           {
            "line": {
             "colorbar": {
              "outlinewidth": 0,
              "ticks": ""
             }
            },
            "marker": {
             "colorbar": {
              "outlinewidth": 0,
              "ticks": ""
             }
            },
            "type": "scatter3d"
           }
          ],
          "scattercarpet": [
           {
            "marker": {
             "colorbar": {
              "outlinewidth": 0,
              "ticks": ""
             }
            },
            "type": "scattercarpet"
           }
          ],
          "scattergeo": [
           {
            "marker": {
             "colorbar": {
              "outlinewidth": 0,
              "ticks": ""
             }
            },
            "type": "scattergeo"
           }
          ],
          "scattergl": [
           {
            "marker": {
             "colorbar": {
              "outlinewidth": 0,
              "ticks": ""
             }
            },
            "type": "scattergl"
           }
          ],
          "scattermapbox": [
           {
            "marker": {
             "colorbar": {
              "outlinewidth": 0,
              "ticks": ""
             }
            },
            "type": "scattermapbox"
           }
          ],
          "scatterpolar": [
           {
            "marker": {
             "colorbar": {
              "outlinewidth": 0,
              "ticks": ""
             }
            },
            "type": "scatterpolar"
           }
          ],
          "scatterpolargl": [
           {
            "marker": {
             "colorbar": {
              "outlinewidth": 0,
              "ticks": ""
             }
            },
            "type": "scatterpolargl"
           }
          ],
          "scatterternary": [
           {
            "marker": {
             "colorbar": {
              "outlinewidth": 0,
              "ticks": ""
             }
            },
            "type": "scatterternary"
           }
          ],
          "surface": [
           {
            "colorbar": {
             "outlinewidth": 0,
             "ticks": ""
            },
            "colorscale": [
             [
              0,
              "#0d0887"
             ],
             [
              0.1111111111111111,
              "#46039f"
             ],
             [
              0.2222222222222222,
              "#7201a8"
             ],
             [
              0.3333333333333333,
              "#9c179e"
             ],
             [
              0.4444444444444444,
              "#bd3786"
             ],
             [
              0.5555555555555556,
              "#d8576b"
             ],
             [
              0.6666666666666666,
              "#ed7953"
             ],
             [
              0.7777777777777778,
              "#fb9f3a"
             ],
             [
              0.8888888888888888,
              "#fdca26"
             ],
             [
              1,
              "#f0f921"
             ]
            ],
            "type": "surface"
           }
          ],
          "table": [
           {
            "cells": {
             "fill": {
              "color": "#EBF0F8"
             },
             "line": {
              "color": "white"
             }
            },
            "header": {
             "fill": {
              "color": "#C8D4E3"
             },
             "line": {
              "color": "white"
             }
            },
            "type": "table"
           }
          ]
         },
         "layout": {
          "annotationdefaults": {
           "arrowcolor": "#2a3f5f",
           "arrowhead": 0,
           "arrowwidth": 1
          },
          "autotypenumbers": "strict",
          "coloraxis": {
           "colorbar": {
            "outlinewidth": 0,
            "ticks": ""
           }
          },
          "colorscale": {
           "diverging": [
            [
             0,
             "#8e0152"
            ],
            [
             0.1,
             "#c51b7d"
            ],
            [
             0.2,
             "#de77ae"
            ],
            [
             0.3,
             "#f1b6da"
            ],
            [
             0.4,
             "#fde0ef"
            ],
            [
             0.5,
             "#f7f7f7"
            ],
            [
             0.6,
             "#e6f5d0"
            ],
            [
             0.7,
             "#b8e186"
            ],
            [
             0.8,
             "#7fbc41"
            ],
            [
             0.9,
             "#4d9221"
            ],
            [
             1,
             "#276419"
            ]
           ],
           "sequential": [
            [
             0,
             "#0d0887"
            ],
            [
             0.1111111111111111,
             "#46039f"
            ],
            [
             0.2222222222222222,
             "#7201a8"
            ],
            [
             0.3333333333333333,
             "#9c179e"
            ],
            [
             0.4444444444444444,
             "#bd3786"
            ],
            [
             0.5555555555555556,
             "#d8576b"
            ],
            [
             0.6666666666666666,
             "#ed7953"
            ],
            [
             0.7777777777777778,
             "#fb9f3a"
            ],
            [
             0.8888888888888888,
             "#fdca26"
            ],
            [
             1,
             "#f0f921"
            ]
           ],
           "sequentialminus": [
            [
             0,
             "#0d0887"
            ],
            [
             0.1111111111111111,
             "#46039f"
            ],
            [
             0.2222222222222222,
             "#7201a8"
            ],
            [
             0.3333333333333333,
             "#9c179e"
            ],
            [
             0.4444444444444444,
             "#bd3786"
            ],
            [
             0.5555555555555556,
             "#d8576b"
            ],
            [
             0.6666666666666666,
             "#ed7953"
            ],
            [
             0.7777777777777778,
             "#fb9f3a"
            ],
            [
             0.8888888888888888,
             "#fdca26"
            ],
            [
             1,
             "#f0f921"
            ]
           ]
          },
          "colorway": [
           "#636efa",
           "#EF553B",
           "#00cc96",
           "#ab63fa",
           "#FFA15A",
           "#19d3f3",
           "#FF6692",
           "#B6E880",
           "#FF97FF",
           "#FECB52"
          ],
          "font": {
           "color": "#2a3f5f"
          },
          "geo": {
           "bgcolor": "white",
           "lakecolor": "white",
           "landcolor": "#E5ECF6",
           "showlakes": true,
           "showland": true,
           "subunitcolor": "white"
          },
          "hoverlabel": {
           "align": "left"
          },
          "hovermode": "closest",
          "mapbox": {
           "style": "light"
          },
          "paper_bgcolor": "white",
          "plot_bgcolor": "#E5ECF6",
          "polar": {
           "angularaxis": {
            "gridcolor": "white",
            "linecolor": "white",
            "ticks": ""
           },
           "bgcolor": "#E5ECF6",
           "radialaxis": {
            "gridcolor": "white",
            "linecolor": "white",
            "ticks": ""
           }
          },
          "scene": {
           "xaxis": {
            "backgroundcolor": "#E5ECF6",
            "gridcolor": "white",
            "gridwidth": 2,
            "linecolor": "white",
            "showbackground": true,
            "ticks": "",
            "zerolinecolor": "white"
           },
           "yaxis": {
            "backgroundcolor": "#E5ECF6",
            "gridcolor": "white",
            "gridwidth": 2,
            "linecolor": "white",
            "showbackground": true,
            "ticks": "",
            "zerolinecolor": "white"
           },
           "zaxis": {
            "backgroundcolor": "#E5ECF6",
            "gridcolor": "white",
            "gridwidth": 2,
            "linecolor": "white",
            "showbackground": true,
            "ticks": "",
            "zerolinecolor": "white"
           }
          },
          "shapedefaults": {
           "line": {
            "color": "#2a3f5f"
           }
          },
          "ternary": {
           "aaxis": {
            "gridcolor": "white",
            "linecolor": "white",
            "ticks": ""
           },
           "baxis": {
            "gridcolor": "white",
            "linecolor": "white",
            "ticks": ""
           },
           "bgcolor": "#E5ECF6",
           "caxis": {
            "gridcolor": "white",
            "linecolor": "white",
            "ticks": ""
           }
          },
          "title": {
           "x": 0.05
          },
          "xaxis": {
           "automargin": true,
           "gridcolor": "white",
           "linecolor": "white",
           "ticks": "",
           "title": {
            "standoff": 15
           },
           "zerolinecolor": "white",
           "zerolinewidth": 2
          },
          "yaxis": {
           "automargin": true,
           "gridcolor": "white",
           "linecolor": "white",
           "ticks": "",
           "title": {
            "standoff": 15
           },
           "zerolinecolor": "white",
           "zerolinewidth": 2
          }
         }
        },
        "title": {
         "font": {
          "color": "#4D5663"
         }
        },
        "xaxis": {
         "anchor": "y",
         "domain": [
          0,
          0.2125
         ],
         "gridcolor": "#E1E5ED",
         "showgrid": false,
         "tickfont": {
          "color": "#4D5663"
         },
         "title": {
          "font": {
           "color": "#4D5663"
          },
          "text": ""
         },
         "zerolinecolor": "#E1E5ED"
        },
        "xaxis10": {
         "anchor": "y10",
         "domain": [
          0.2625,
          0.475
         ],
         "gridcolor": "#E1E5ED",
         "showgrid": false,
         "tickfont": {
          "color": "#4D5663"
         },
         "title": {
          "font": {
           "color": "#4D5663"
          },
          "text": ""
         },
         "zerolinecolor": "#E1E5ED"
        },
        "xaxis11": {
         "anchor": "y11",
         "domain": [
          0.525,
          0.7375
         ],
         "gridcolor": "#E1E5ED",
         "showgrid": false,
         "tickfont": {
          "color": "#4D5663"
         },
         "title": {
          "font": {
           "color": "#4D5663"
          },
          "text": ""
         },
         "zerolinecolor": "#E1E5ED"
        },
        "xaxis12": {
         "anchor": "y12",
         "domain": [
          0.7875,
          1
         ],
         "gridcolor": "#E1E5ED",
         "showgrid": false,
         "tickfont": {
          "color": "#4D5663"
         },
         "title": {
          "font": {
           "color": "#4D5663"
          },
          "text": ""
         },
         "zerolinecolor": "#E1E5ED"
        },
        "xaxis13": {
         "anchor": "y13",
         "domain": [
          0,
          0.2125
         ],
         "gridcolor": "#E1E5ED",
         "showgrid": false,
         "tickfont": {
          "color": "#4D5663"
         },
         "title": {
          "font": {
           "color": "#4D5663"
          },
          "text": ""
         },
         "zerolinecolor": "#E1E5ED"
        },
        "xaxis14": {
         "anchor": "y14",
         "domain": [
          0.2625,
          0.475
         ],
         "gridcolor": "#E1E5ED",
         "showgrid": false,
         "tickfont": {
          "color": "#4D5663"
         },
         "title": {
          "font": {
           "color": "#4D5663"
          },
          "text": ""
         },
         "zerolinecolor": "#E1E5ED"
        },
        "xaxis15": {
         "anchor": "y15",
         "domain": [
          0.525,
          0.7375
         ],
         "gridcolor": "#E1E5ED",
         "showgrid": false,
         "tickfont": {
          "color": "#4D5663"
         },
         "title": {
          "font": {
           "color": "#4D5663"
          },
          "text": ""
         },
         "zerolinecolor": "#E1E5ED"
        },
        "xaxis16": {
         "anchor": "y16",
         "domain": [
          0.7875,
          1
         ],
         "gridcolor": "#E1E5ED",
         "showgrid": false,
         "tickfont": {
          "color": "#4D5663"
         },
         "title": {
          "font": {
           "color": "#4D5663"
          },
          "text": ""
         },
         "zerolinecolor": "#E1E5ED"
        },
        "xaxis2": {
         "anchor": "y2",
         "domain": [
          0.2625,
          0.475
         ],
         "gridcolor": "#E1E5ED",
         "showgrid": false,
         "tickfont": {
          "color": "#4D5663"
         },
         "title": {
          "font": {
           "color": "#4D5663"
          },
          "text": ""
         },
         "zerolinecolor": "#E1E5ED"
        },
        "xaxis3": {
         "anchor": "y3",
         "domain": [
          0.525,
          0.7375
         ],
         "gridcolor": "#E1E5ED",
         "showgrid": false,
         "tickfont": {
          "color": "#4D5663"
         },
         "title": {
          "font": {
           "color": "#4D5663"
          },
          "text": ""
         },
         "zerolinecolor": "#E1E5ED"
        },
        "xaxis4": {
         "anchor": "y4",
         "domain": [
          0.7875,
          1
         ],
         "gridcolor": "#E1E5ED",
         "showgrid": false,
         "tickfont": {
          "color": "#4D5663"
         },
         "title": {
          "font": {
           "color": "#4D5663"
          },
          "text": ""
         },
         "zerolinecolor": "#E1E5ED"
        },
        "xaxis5": {
         "anchor": "y5",
         "domain": [
          0,
          0.2125
         ],
         "gridcolor": "#E1E5ED",
         "showgrid": false,
         "tickfont": {
          "color": "#4D5663"
         },
         "title": {
          "font": {
           "color": "#4D5663"
          },
          "text": ""
         },
         "zerolinecolor": "#E1E5ED"
        },
        "xaxis6": {
         "anchor": "y6",
         "domain": [
          0.2625,
          0.475
         ],
         "gridcolor": "#E1E5ED",
         "showgrid": false,
         "tickfont": {
          "color": "#4D5663"
         },
         "title": {
          "font": {
           "color": "#4D5663"
          },
          "text": ""
         },
         "zerolinecolor": "#E1E5ED"
        },
        "xaxis7": {
         "anchor": "y7",
         "domain": [
          0.525,
          0.7375
         ],
         "gridcolor": "#E1E5ED",
         "showgrid": false,
         "tickfont": {
          "color": "#4D5663"
         },
         "title": {
          "font": {
           "color": "#4D5663"
          },
          "text": ""
         },
         "zerolinecolor": "#E1E5ED"
        },
        "xaxis8": {
         "anchor": "y8",
         "domain": [
          0.7875,
          1
         ],
         "gridcolor": "#E1E5ED",
         "showgrid": false,
         "tickfont": {
          "color": "#4D5663"
         },
         "title": {
          "font": {
           "color": "#4D5663"
          },
          "text": ""
         },
         "zerolinecolor": "#E1E5ED"
        },
        "xaxis9": {
         "anchor": "y9",
         "domain": [
          0,
          0.2125
         ],
         "gridcolor": "#E1E5ED",
         "showgrid": false,
         "tickfont": {
          "color": "#4D5663"
         },
         "title": {
          "font": {
           "color": "#4D5663"
          },
          "text": ""
         },
         "zerolinecolor": "#E1E5ED"
        },
        "yaxis": {
         "anchor": "x",
         "domain": [
          0.8025,
          1
         ],
         "gridcolor": "#E1E5ED",
         "showgrid": false,
         "tickfont": {
          "color": "#4D5663"
         },
         "title": {
          "font": {
           "color": "#4D5663"
          },
          "text": ""
         },
         "zerolinecolor": "#E1E5ED"
        },
        "yaxis10": {
         "anchor": "x10",
         "domain": [
          0.2675,
          0.465
         ],
         "gridcolor": "#E1E5ED",
         "showgrid": false,
         "tickfont": {
          "color": "#4D5663"
         },
         "title": {
          "font": {
           "color": "#4D5663"
          },
          "text": ""
         },
         "zerolinecolor": "#E1E5ED"
        },
        "yaxis11": {
         "anchor": "x11",
         "domain": [
          0.2675,
          0.465
         ],
         "gridcolor": "#E1E5ED",
         "showgrid": false,
         "tickfont": {
          "color": "#4D5663"
         },
         "title": {
          "font": {
           "color": "#4D5663"
          },
          "text": ""
         },
         "zerolinecolor": "#E1E5ED"
        },
        "yaxis12": {
         "anchor": "x12",
         "domain": [
          0.2675,
          0.465
         ],
         "gridcolor": "#E1E5ED",
         "showgrid": false,
         "tickfont": {
          "color": "#4D5663"
         },
         "title": {
          "font": {
           "color": "#4D5663"
          },
          "text": ""
         },
         "zerolinecolor": "#E1E5ED"
        },
        "yaxis13": {
         "anchor": "x13",
         "domain": [
          0,
          0.1975
         ],
         "gridcolor": "#E1E5ED",
         "showgrid": false,
         "tickfont": {
          "color": "#4D5663"
         },
         "title": {
          "font": {
           "color": "#4D5663"
          },
          "text": ""
         },
         "zerolinecolor": "#E1E5ED"
        },
        "yaxis14": {
         "anchor": "x14",
         "domain": [
          0,
          0.1975
         ],
         "gridcolor": "#E1E5ED",
         "showgrid": false,
         "tickfont": {
          "color": "#4D5663"
         },
         "title": {
          "font": {
           "color": "#4D5663"
          },
          "text": ""
         },
         "zerolinecolor": "#E1E5ED"
        },
        "yaxis15": {
         "anchor": "x15",
         "domain": [
          0,
          0.1975
         ],
         "gridcolor": "#E1E5ED",
         "showgrid": false,
         "tickfont": {
          "color": "#4D5663"
         },
         "title": {
          "font": {
           "color": "#4D5663"
          },
          "text": ""
         },
         "zerolinecolor": "#E1E5ED"
        },
        "yaxis16": {
         "anchor": "x16",
         "domain": [
          0,
          0.1975
         ],
         "gridcolor": "#E1E5ED",
         "showgrid": false,
         "tickfont": {
          "color": "#4D5663"
         },
         "title": {
          "font": {
           "color": "#4D5663"
          },
          "text": ""
         },
         "zerolinecolor": "#E1E5ED"
        },
        "yaxis2": {
         "anchor": "x2",
         "domain": [
          0.8025,
          1
         ],
         "gridcolor": "#E1E5ED",
         "showgrid": false,
         "tickfont": {
          "color": "#4D5663"
         },
         "title": {
          "font": {
           "color": "#4D5663"
          },
          "text": ""
         },
         "zerolinecolor": "#E1E5ED"
        },
        "yaxis3": {
         "anchor": "x3",
         "domain": [
          0.8025,
          1
         ],
         "gridcolor": "#E1E5ED",
         "showgrid": false,
         "tickfont": {
          "color": "#4D5663"
         },
         "title": {
          "font": {
           "color": "#4D5663"
          },
          "text": ""
         },
         "zerolinecolor": "#E1E5ED"
        },
        "yaxis4": {
         "anchor": "x4",
         "domain": [
          0.8025,
          1
         ],
         "gridcolor": "#E1E5ED",
         "showgrid": false,
         "tickfont": {
          "color": "#4D5663"
         },
         "title": {
          "font": {
           "color": "#4D5663"
          },
          "text": ""
         },
         "zerolinecolor": "#E1E5ED"
        },
        "yaxis5": {
         "anchor": "x5",
         "domain": [
          0.535,
          0.7325
         ],
         "gridcolor": "#E1E5ED",
         "showgrid": false,
         "tickfont": {
          "color": "#4D5663"
         },
         "title": {
          "font": {
           "color": "#4D5663"
          },
          "text": ""
         },
         "zerolinecolor": "#E1E5ED"
        },
        "yaxis6": {
         "anchor": "x6",
         "domain": [
          0.535,
          0.7325
         ],
         "gridcolor": "#E1E5ED",
         "showgrid": false,
         "tickfont": {
          "color": "#4D5663"
         },
         "title": {
          "font": {
           "color": "#4D5663"
          },
          "text": ""
         },
         "zerolinecolor": "#E1E5ED"
        },
        "yaxis7": {
         "anchor": "x7",
         "domain": [
          0.535,
          0.7325
         ],
         "gridcolor": "#E1E5ED",
         "showgrid": false,
         "tickfont": {
          "color": "#4D5663"
         },
         "title": {
          "font": {
           "color": "#4D5663"
          },
          "text": ""
         },
         "zerolinecolor": "#E1E5ED"
        },
        "yaxis8": {
         "anchor": "x8",
         "domain": [
          0.535,
          0.7325
         ],
         "gridcolor": "#E1E5ED",
         "showgrid": false,
         "tickfont": {
          "color": "#4D5663"
         },
         "title": {
          "font": {
           "color": "#4D5663"
          },
          "text": ""
         },
         "zerolinecolor": "#E1E5ED"
        },
        "yaxis9": {
         "anchor": "x9",
         "domain": [
          0.2675,
          0.465
         ],
         "gridcolor": "#E1E5ED",
         "showgrid": false,
         "tickfont": {
          "color": "#4D5663"
         },
         "title": {
          "font": {
           "color": "#4D5663"
          },
          "text": ""
         },
         "zerolinecolor": "#E1E5ED"
        }
       }
      },
      "text/html": [
       "<div>                            <div id=\"96f61738-1287-4c51-a186-2cd90cbdf0d0\" class=\"plotly-graph-div\" style=\"height:525px; width:100%;\"></div>            <script type=\"text/javascript\">                require([\"plotly\"], function(Plotly) {                    window.PLOTLYENV=window.PLOTLYENV || {};\n",
       "                    window.PLOTLYENV.BASE_URL='https://plot.ly';                                    if (document.getElementById(\"96f61738-1287-4c51-a186-2cd90cbdf0d0\")) {                    Plotly.newPlot(                        \"96f61738-1287-4c51-a186-2cd90cbdf0d0\",                        [{\"histfunc\": \"count\", \"histnorm\": \"\", \"marker\": {\"color\": \"rgba(255, 153, 51, 1.0)\", \"line\": {\"color\": \"#4D5663\", \"width\": 1.3}}, \"name\": \"A\", \"nbinsx\": 10, \"opacity\": 0.8, \"orientation\": \"v\", \"type\": \"histogram\", \"x\": [0.9197133807614235, 0.7794542364536206, -0.09649744911588459, 1.7774800045254102, -1.225964420847159, -2.393954265258908, 0.41990419231764947, 0.8616029917587111, -0.24737914798211716, 1.0274749369056067, 0.07649296724874846, 0.9437322356592867, 0.1996489583939814, 1.58427473537746, -0.371723359297978, 0.22979824338857696, 1.53658689215229, 0.012158305181052004, -1.1602507795274908, 0.3774550134420746, 1.0644162387146285, -0.221044462875774, 0.5012106305315702, 0.7778064820592324, 1.3147485229906, -0.865092812047564, -0.42410365767333646, -0.357691233878992, -0.3414067537683034, 0.6375951853421511, -0.3754133832264921, -0.16610414089782688, 0.388431315898646, -0.3228333339830255, 0.039263470128833015, 0.4639010359623582, 0.1485992496867083, -0.296115590941632, 0.14819367088853724, 0.2026284784393481, -0.2348139336782935, -1.6800725044112985, 0.8701378536749685, 0.341188400775277, -0.012237024383443105, 0.2622618333273738, 1.1462065561704708, -0.054086747031590936, 0.1843621043620616, -0.5398771840429352, -1.0722382532014312, -0.050435157686543705, 2.8895581697000896, -0.6719852661171711, 0.46460937644349315, 1.9923968859714174, -1.0345940853003668, -0.25508907607148096, 1.123636206992229, 0.4035748735001082, -0.2250374937301488, 1.0464100042119022, 0.2986891746841648, -0.11043242862740031, 0.10165226027586535, 0.005658435925281142, -0.9208657571597071, 1.2009839712573003, -0.4892870232330178, -0.06133536497774417, -1.0009550308856383, -0.48052367803749363, 0.8409796841631535, 1.5965466139596338, 2.120683106950889, -1.8799377668379869, -0.26563779261158504, -0.14704421316205113, -1.424161397157802, 0.47614096789664473, -0.5215117460381219, 0.4809600170045102, 0.6622103676774127, -1.2783556733428347, -0.022858985180589677, -1.563275342663613, -1.2424457285081163, 0.11681759263698047, 0.8466794065199111, 0.06490426589829766, 2.157438296279944, 0.6741389867698577, 1.8430788221397851, 2.5740175116462423, -1.306267582832392, 0.4205936086654285, 0.7180849950269751, -0.08247581270117955, 0.050969560380462284, 0.028843641125944345], \"xaxis\": \"x\", \"yaxis\": \"y\"}, {\"line\": {\"color\": \"rgba(128, 128, 128, 1.0)\", \"dash\": \"solid\", \"shape\": \"linear\", \"width\": 1.3}, \"marker\": {\"size\": 2, \"symbol\": \"circle\"}, \"mode\": \"markers\", \"name\": \"A\", \"text\": \"\", \"type\": \"scatter\", \"x\": [-0.43313928439241856, -0.4425613609484883, -0.5831641104998745, -0.2329524920028297, -0.08333227347218153, -0.5550772129650813, 1.0232186344774543, -0.19691035869974066, 0.6652592638509605, -0.25855232158591246, 0.08708040495670091, -0.6120088084945818, -0.12277081811889581, 2.1596911192246933, 1.7453798976659805, -0.31058753595801675, 0.17173161909361565, 0.2486764341606997, 0.6290908277801774, -0.677253445352361, -0.29591717094932185, 3.5912914484649057, -1.5102507577162003, -0.10452519409142735, -1.3730093962486873, -0.10638571976969305, -2.562467956305081, 1.1873153508557435, 1.7306827104585627, 2.0784750273731722, 0.9144007762066864, -1.0486224523024477, 0.616468572611647, -0.05306969649565157, 0.11970754364521062, -1.8208242311258491, 0.8506780205806028, -0.7978765182395776, -1.6859900378557098, -0.807788418777815, -0.16415304493743396, -1.2779023594529633, 0.3959843079178932, -1.9172789727990776, -0.34839551770740596, -2.3010545326542164, -0.37336750540430746, 1.0143884366534197, -1.0602834509257386, -0.5472740730487213, -0.15065390894444045, 0.9220738873395795, 0.3587351344940042, 0.4156627803042604, -0.25573558842639865, -0.779343193627066, -0.2327866638752568, -0.38671823194117577, 1.033541673260998, 0.30249714031787445, 0.3548984753587199, -1.7011402723912104, 0.9303595461164846, -0.3376204164752655, 0.316175575817413, -0.6570536255194106, -0.07958066039765603, 0.6007547821873407, 0.3278495443745458, -0.9373708035630588, 0.024562754829876316, 0.15174005354443162, 1.7322891667012859, 2.266091829286604, 0.3322274142194494, -1.0968432532953514, -0.5395437695783084, 2.4261309168988627, -0.07146814570308693, 0.6575829486179565, 1.137000976387248, 1.3565204705711482, -0.3923880210686105, 0.9310307831146414, 0.44280425549872554, 0.6373350300534316, -0.37692833981371726, 0.9292375282970157, -1.3816024406765592, 1.2862751536692747, -0.2391628412182689, -0.134096521061821, 0.36325476918153177, -1.04756639847069, -1.3975724700107532, 0.4599275903138609, -0.0026229351024188562, -0.5112324125694927, 1.3983123334955245, 0.9451463539487669], \"xaxis\": \"x2\", \"y\": [0.9197133807614235, 0.7794542364536206, -0.09649744911588459, 1.7774800045254102, -1.225964420847159, -2.393954265258908, 0.41990419231764947, 0.8616029917587111, -0.24737914798211716, 1.0274749369056067, 0.07649296724874846, 0.9437322356592867, 0.1996489583939814, 1.58427473537746, -0.371723359297978, 0.22979824338857696, 1.53658689215229, 0.012158305181052004, -1.1602507795274908, 0.3774550134420746, 1.0644162387146285, -0.221044462875774, 0.5012106305315702, 0.7778064820592324, 1.3147485229906, -0.865092812047564, -0.42410365767333646, -0.357691233878992, -0.3414067537683034, 0.6375951853421511, -0.3754133832264921, -0.16610414089782688, 0.388431315898646, -0.3228333339830255, 0.039263470128833015, 0.4639010359623582, 0.1485992496867083, -0.296115590941632, 0.14819367088853724, 0.2026284784393481, -0.2348139336782935, -1.6800725044112985, 0.8701378536749685, 0.341188400775277, -0.012237024383443105, 0.2622618333273738, 1.1462065561704708, -0.054086747031590936, 0.1843621043620616, -0.5398771840429352, -1.0722382532014312, -0.050435157686543705, 2.8895581697000896, -0.6719852661171711, 0.46460937644349315, 1.9923968859714174, -1.0345940853003668, -0.25508907607148096, 1.123636206992229, 0.4035748735001082, -0.2250374937301488, 1.0464100042119022, 0.2986891746841648, -0.11043242862740031, 0.10165226027586535, 0.005658435925281142, -0.9208657571597071, 1.2009839712573003, -0.4892870232330178, -0.06133536497774417, -1.0009550308856383, -0.48052367803749363, 0.8409796841631535, 1.5965466139596338, 2.120683106950889, -1.8799377668379869, -0.26563779261158504, -0.14704421316205113, -1.424161397157802, 0.47614096789664473, -0.5215117460381219, 0.4809600170045102, 0.6622103676774127, -1.2783556733428347, -0.022858985180589677, -1.563275342663613, -1.2424457285081163, 0.11681759263698047, 0.8466794065199111, 0.06490426589829766, 2.157438296279944, 0.6741389867698577, 1.8430788221397851, 2.5740175116462423, -1.306267582832392, 0.4205936086654285, 0.7180849950269751, -0.08247581270117955, 0.050969560380462284, 0.028843641125944345], \"yaxis\": \"y2\"}, {\"line\": {\"color\": \"rgba(128, 128, 128, 1.0)\", \"dash\": \"solid\", \"shape\": \"linear\", \"width\": 1.3}, \"marker\": {\"size\": 2, \"symbol\": \"circle\"}, \"mode\": \"markers\", \"name\": \"A\", \"text\": \"\", \"type\": \"scatter\", \"x\": [-0.36472828338111823, -2.744034855183259, 1.0508910323033953, -1.3210716162470777, -0.6328911673531687, -0.15010846191632013, -0.07951915603907586, -0.3143279866393601, 0.6057400984111833, -0.6994012298006331, -0.21090427517540938, -0.8436249712561239, 0.49346951495984837, 0.4853757168748205, 1.9390313879524337, 0.13892186773980295, 1.8125432050571813, -0.1577604392876527, -0.37635754616385414, -1.4310552301706887, 0.8382401180593941, 0.07536172950690108, 0.5127682775371938, 0.32569981275567234, 2.828388550516968, -0.5743371297934008, 0.060400308357195176, 0.7956540479218478, 1.3450563412740366, -1.016552167263412, 0.6430448438346658, 0.510634115982206, -0.6661440616176256, -0.5025066969093334, -0.8550353017824615, -0.9914905626880155, -0.9426251736601406, -0.257211133248541, 0.3019795953708391, 0.15258348269611327, 0.013463340997592551, 0.2957149879901049, 0.25699538119859955, -0.46614520972096113, 0.7334543867924153, -0.44148807143248525, 0.0018561004770532975, 1.5929815057860965, 1.1351017984146794, 0.12850117485378634, -0.3066874389924823, -0.5095211467457677, 1.2188227788069237, 1.1342238614857727, -0.39372410575528244, 0.318672757921071, -1.5083148071423385, 1.5105244382756182, -0.9597099280908813, 1.6011874194688416, -0.5725114622602433, -0.44439960341458123, 0.0673206661104729, -2.9703335493064835, 0.5627527056266886, -0.22389086875044303, -0.17529922309717058, 0.5633597459731945, -0.33160851994305235, 1.45807626556701, -1.3821507395278307, -0.7241818141867004, 1.5250901754339594, -0.29089082401874, -1.8211689542036897, 1.2128194471161535, 1.3807370331224766, -0.04334994244393579, 0.1311422990612613, -1.7089036247585763, -0.7835715672898682, -0.7306358480570115, 1.6481631484690011, 2.461723274478377, 0.4732612840974774, -0.19848175544682825, -1.2012922527458179, -0.04201566809091011, 0.25380682557922446, -2.1643581880407052, -0.401988739583814, -0.419359566403672, 0.793523597589395, -1.2802316764965542, -0.4674636795655414, -2.1012286186402784, 1.8046959969573688, -0.3965604273992808, 0.6444974555400979, -1.2086932977050724], \"xaxis\": \"x3\", \"y\": [0.9197133807614235, 0.7794542364536206, -0.09649744911588459, 1.7774800045254102, -1.225964420847159, -2.393954265258908, 0.41990419231764947, 0.8616029917587111, -0.24737914798211716, 1.0274749369056067, 0.07649296724874846, 0.9437322356592867, 0.1996489583939814, 1.58427473537746, -0.371723359297978, 0.22979824338857696, 1.53658689215229, 0.012158305181052004, -1.1602507795274908, 0.3774550134420746, 1.0644162387146285, -0.221044462875774, 0.5012106305315702, 0.7778064820592324, 1.3147485229906, -0.865092812047564, -0.42410365767333646, -0.357691233878992, -0.3414067537683034, 0.6375951853421511, -0.3754133832264921, -0.16610414089782688, 0.388431315898646, -0.3228333339830255, 0.039263470128833015, 0.4639010359623582, 0.1485992496867083, -0.296115590941632, 0.14819367088853724, 0.2026284784393481, -0.2348139336782935, -1.6800725044112985, 0.8701378536749685, 0.341188400775277, -0.012237024383443105, 0.2622618333273738, 1.1462065561704708, -0.054086747031590936, 0.1843621043620616, -0.5398771840429352, -1.0722382532014312, -0.050435157686543705, 2.8895581697000896, -0.6719852661171711, 0.46460937644349315, 1.9923968859714174, -1.0345940853003668, -0.25508907607148096, 1.123636206992229, 0.4035748735001082, -0.2250374937301488, 1.0464100042119022, 0.2986891746841648, -0.11043242862740031, 0.10165226027586535, 0.005658435925281142, -0.9208657571597071, 1.2009839712573003, -0.4892870232330178, -0.06133536497774417, -1.0009550308856383, -0.48052367803749363, 0.8409796841631535, 1.5965466139596338, 2.120683106950889, -1.8799377668379869, -0.26563779261158504, -0.14704421316205113, -1.424161397157802, 0.47614096789664473, -0.5215117460381219, 0.4809600170045102, 0.6622103676774127, -1.2783556733428347, -0.022858985180589677, -1.563275342663613, -1.2424457285081163, 0.11681759263698047, 0.8466794065199111, 0.06490426589829766, 2.157438296279944, 0.6741389867698577, 1.8430788221397851, 2.5740175116462423, -1.306267582832392, 0.4205936086654285, 0.7180849950269751, -0.08247581270117955, 0.050969560380462284, 0.028843641125944345], \"yaxis\": \"y3\"}, {\"line\": {\"color\": \"rgba(128, 128, 128, 1.0)\", \"dash\": \"solid\", \"shape\": \"linear\", \"width\": 1.3}, \"marker\": {\"size\": 2, \"symbol\": \"circle\"}, \"mode\": \"markers\", \"name\": \"A\", \"text\": \"\", \"type\": \"scatter\", \"x\": [-0.39699605459412246, 0.9665733257016246, -0.03292056049028313, -0.9073213559681331, 0.6831199981393419, 0.5856846914816076, -0.43337138359969984, -0.7675150008275595, 0.013888311737529004, 1.0488230586953755, 0.4354540251156954, -1.889577608294123, 0.8355927922443603, 0.2942195629854865, -1.0042496108243364, -0.4225148345278697, -0.6141822581428549, -0.7732928019152675, -0.019781848988358837, 1.1551113803713724, 0.48839338357613665, -1.0735992913498773, -2.191676479527262, -0.9530024743209956, -0.016420447246737656, -0.44905928884575846, -0.944324806543863, -1.0293134643694755, -1.2920564853589527, 1.0200112412988298, -0.3605536695078327, 1.0755394811016914, -1.7543454736337665, 0.3751844174067533, 0.045548734229861776, -0.2626034663179237, 0.43353088292488834, 0.29367520335394515, 1.1459481264116405, -1.8142720338622396, -1.0173043294083477, 0.39340942896249914, -1.0941091685109492, -1.1695752419219372, 1.7270611475834738, -0.3106566486176464, 1.8281605452352603, -0.526324541856004, -1.7761756749514737, -0.43091805571083863, -0.5649880558501735, 0.24125090312744718, 2.69456662433687, -0.8713144091136765, 0.7584445815837195, -0.13703182312215023, -0.668896977189412, -0.27604981761777875, 1.5698646539974623, 0.04778207395949344, 1.638758980307776, 0.7459446531249445, 0.19105997693628143, 0.5223781816880522, 0.6017589103360246, -0.4217443729222811, -0.6163168942296061, -0.9694671688163928, 0.42170916519293944, -0.4101989114634815, 0.487762375905079, 0.027239658172430275, -0.3176555283955685, -0.5241745803169193, 1.177165135960473, 0.04068533608559416, -0.8761512202026416, 0.10621793722191121, -0.4199551272358778, -0.14879356764775456, -1.005233396340456, 1.2411615282181363, 0.8975170798555797, 0.7900710390871886, 0.4416846117561959, 1.4425511447775639, -0.5654380772698397, -1.2154171092673054, 0.1261765840600005, -0.10680954817285401, 1.3528188881898482, 0.7452958794934156, 0.4970922137269499, -0.4483551828797474, 1.7516766591944517, -2.938615037214658, 0.5080945909237529, 0.614267751742457, -0.2595820086152982, -0.43899999687117014], \"xaxis\": \"x4\", \"y\": [0.9197133807614235, 0.7794542364536206, -0.09649744911588459, 1.7774800045254102, -1.225964420847159, -2.393954265258908, 0.41990419231764947, 0.8616029917587111, -0.24737914798211716, 1.0274749369056067, 0.07649296724874846, 0.9437322356592867, 0.1996489583939814, 1.58427473537746, -0.371723359297978, 0.22979824338857696, 1.53658689215229, 0.012158305181052004, -1.1602507795274908, 0.3774550134420746, 1.0644162387146285, -0.221044462875774, 0.5012106305315702, 0.7778064820592324, 1.3147485229906, -0.865092812047564, -0.42410365767333646, -0.357691233878992, -0.3414067537683034, 0.6375951853421511, -0.3754133832264921, -0.16610414089782688, 0.388431315898646, -0.3228333339830255, 0.039263470128833015, 0.4639010359623582, 0.1485992496867083, -0.296115590941632, 0.14819367088853724, 0.2026284784393481, -0.2348139336782935, -1.6800725044112985, 0.8701378536749685, 0.341188400775277, -0.012237024383443105, 0.2622618333273738, 1.1462065561704708, -0.054086747031590936, 0.1843621043620616, -0.5398771840429352, -1.0722382532014312, -0.050435157686543705, 2.8895581697000896, -0.6719852661171711, 0.46460937644349315, 1.9923968859714174, -1.0345940853003668, -0.25508907607148096, 1.123636206992229, 0.4035748735001082, -0.2250374937301488, 1.0464100042119022, 0.2986891746841648, -0.11043242862740031, 0.10165226027586535, 0.005658435925281142, -0.9208657571597071, 1.2009839712573003, -0.4892870232330178, -0.06133536497774417, -1.0009550308856383, -0.48052367803749363, 0.8409796841631535, 1.5965466139596338, 2.120683106950889, -1.8799377668379869, -0.26563779261158504, -0.14704421316205113, -1.424161397157802, 0.47614096789664473, -0.5215117460381219, 0.4809600170045102, 0.6622103676774127, -1.2783556733428347, -0.022858985180589677, -1.563275342663613, -1.2424457285081163, 0.11681759263698047, 0.8466794065199111, 0.06490426589829766, 2.157438296279944, 0.6741389867698577, 1.8430788221397851, 2.5740175116462423, -1.306267582832392, 0.4205936086654285, 0.7180849950269751, -0.08247581270117955, 0.050969560380462284, 0.028843641125944345], \"yaxis\": \"y4\"}, {\"line\": {\"color\": \"rgba(128, 128, 128, 1.0)\", \"dash\": \"solid\", \"shape\": \"linear\", \"width\": 1.3}, \"marker\": {\"size\": 2, \"symbol\": \"circle\"}, \"mode\": \"markers\", \"name\": \"B\", \"text\": \"\", \"type\": \"scatter\", \"x\": [0.9197133807614235, 0.7794542364536206, -0.09649744911588459, 1.7774800045254102, -1.225964420847159, -2.393954265258908, 0.41990419231764947, 0.8616029917587111, -0.24737914798211716, 1.0274749369056067, 0.07649296724874846, 0.9437322356592867, 0.1996489583939814, 1.58427473537746, -0.371723359297978, 0.22979824338857696, 1.53658689215229, 0.012158305181052004, -1.1602507795274908, 0.3774550134420746, 1.0644162387146285, -0.221044462875774, 0.5012106305315702, 0.7778064820592324, 1.3147485229906, -0.865092812047564, -0.42410365767333646, -0.357691233878992, -0.3414067537683034, 0.6375951853421511, -0.3754133832264921, -0.16610414089782688, 0.388431315898646, -0.3228333339830255, 0.039263470128833015, 0.4639010359623582, 0.1485992496867083, -0.296115590941632, 0.14819367088853724, 0.2026284784393481, -0.2348139336782935, -1.6800725044112985, 0.8701378536749685, 0.341188400775277, -0.012237024383443105, 0.2622618333273738, 1.1462065561704708, -0.054086747031590936, 0.1843621043620616, -0.5398771840429352, -1.0722382532014312, -0.050435157686543705, 2.8895581697000896, -0.6719852661171711, 0.46460937644349315, 1.9923968859714174, -1.0345940853003668, -0.25508907607148096, 1.123636206992229, 0.4035748735001082, -0.2250374937301488, 1.0464100042119022, 0.2986891746841648, -0.11043242862740031, 0.10165226027586535, 0.005658435925281142, -0.9208657571597071, 1.2009839712573003, -0.4892870232330178, -0.06133536497774417, -1.0009550308856383, -0.48052367803749363, 0.8409796841631535, 1.5965466139596338, 2.120683106950889, -1.8799377668379869, -0.26563779261158504, -0.14704421316205113, -1.424161397157802, 0.47614096789664473, -0.5215117460381219, 0.4809600170045102, 0.6622103676774127, -1.2783556733428347, -0.022858985180589677, -1.563275342663613, -1.2424457285081163, 0.11681759263698047, 0.8466794065199111, 0.06490426589829766, 2.157438296279944, 0.6741389867698577, 1.8430788221397851, 2.5740175116462423, -1.306267582832392, 0.4205936086654285, 0.7180849950269751, -0.08247581270117955, 0.050969560380462284, 0.028843641125944345], \"xaxis\": \"x5\", \"y\": [-0.43313928439241856, -0.4425613609484883, -0.5831641104998745, -0.2329524920028297, -0.08333227347218153, -0.5550772129650813, 1.0232186344774543, -0.19691035869974066, 0.6652592638509605, -0.25855232158591246, 0.08708040495670091, -0.6120088084945818, -0.12277081811889581, 2.1596911192246933, 1.7453798976659805, -0.31058753595801675, 0.17173161909361565, 0.2486764341606997, 0.6290908277801774, -0.677253445352361, -0.29591717094932185, 3.5912914484649057, -1.5102507577162003, -0.10452519409142735, -1.3730093962486873, -0.10638571976969305, -2.562467956305081, 1.1873153508557435, 1.7306827104585627, 2.0784750273731722, 0.9144007762066864, -1.0486224523024477, 0.616468572611647, -0.05306969649565157, 0.11970754364521062, -1.8208242311258491, 0.8506780205806028, -0.7978765182395776, -1.6859900378557098, -0.807788418777815, -0.16415304493743396, -1.2779023594529633, 0.3959843079178932, -1.9172789727990776, -0.34839551770740596, -2.3010545326542164, -0.37336750540430746, 1.0143884366534197, -1.0602834509257386, -0.5472740730487213, -0.15065390894444045, 0.9220738873395795, 0.3587351344940042, 0.4156627803042604, -0.25573558842639865, -0.779343193627066, -0.2327866638752568, -0.38671823194117577, 1.033541673260998, 0.30249714031787445, 0.3548984753587199, -1.7011402723912104, 0.9303595461164846, -0.3376204164752655, 0.316175575817413, -0.6570536255194106, -0.07958066039765603, 0.6007547821873407, 0.3278495443745458, -0.9373708035630588, 0.024562754829876316, 0.15174005354443162, 1.7322891667012859, 2.266091829286604, 0.3322274142194494, -1.0968432532953514, -0.5395437695783084, 2.4261309168988627, -0.07146814570308693, 0.6575829486179565, 1.137000976387248, 1.3565204705711482, -0.3923880210686105, 0.9310307831146414, 0.44280425549872554, 0.6373350300534316, -0.37692833981371726, 0.9292375282970157, -1.3816024406765592, 1.2862751536692747, -0.2391628412182689, -0.134096521061821, 0.36325476918153177, -1.04756639847069, -1.3975724700107532, 0.4599275903138609, -0.0026229351024188562, -0.5112324125694927, 1.3983123334955245, 0.9451463539487669], \"yaxis\": \"y5\"}, {\"histfunc\": \"count\", \"histnorm\": \"\", \"marker\": {\"color\": \"rgba(55, 128, 191, 1.0)\", \"line\": {\"color\": \"#4D5663\", \"width\": 1.3}}, \"name\": \"B\", \"nbinsx\": 10, \"opacity\": 0.8, \"orientation\": \"v\", \"type\": \"histogram\", \"x\": [-0.43313928439241856, -0.4425613609484883, -0.5831641104998745, -0.2329524920028297, -0.08333227347218153, -0.5550772129650813, 1.0232186344774543, -0.19691035869974066, 0.6652592638509605, -0.25855232158591246, 0.08708040495670091, -0.6120088084945818, -0.12277081811889581, 2.1596911192246933, 1.7453798976659805, -0.31058753595801675, 0.17173161909361565, 0.2486764341606997, 0.6290908277801774, -0.677253445352361, -0.29591717094932185, 3.5912914484649057, -1.5102507577162003, -0.10452519409142735, -1.3730093962486873, -0.10638571976969305, -2.562467956305081, 1.1873153508557435, 1.7306827104585627, 2.0784750273731722, 0.9144007762066864, -1.0486224523024477, 0.616468572611647, -0.05306969649565157, 0.11970754364521062, -1.8208242311258491, 0.8506780205806028, -0.7978765182395776, -1.6859900378557098, -0.807788418777815, -0.16415304493743396, -1.2779023594529633, 0.3959843079178932, -1.9172789727990776, -0.34839551770740596, -2.3010545326542164, -0.37336750540430746, 1.0143884366534197, -1.0602834509257386, -0.5472740730487213, -0.15065390894444045, 0.9220738873395795, 0.3587351344940042, 0.4156627803042604, -0.25573558842639865, -0.779343193627066, -0.2327866638752568, -0.38671823194117577, 1.033541673260998, 0.30249714031787445, 0.3548984753587199, -1.7011402723912104, 0.9303595461164846, -0.3376204164752655, 0.316175575817413, -0.6570536255194106, -0.07958066039765603, 0.6007547821873407, 0.3278495443745458, -0.9373708035630588, 0.024562754829876316, 0.15174005354443162, 1.7322891667012859, 2.266091829286604, 0.3322274142194494, -1.0968432532953514, -0.5395437695783084, 2.4261309168988627, -0.07146814570308693, 0.6575829486179565, 1.137000976387248, 1.3565204705711482, -0.3923880210686105, 0.9310307831146414, 0.44280425549872554, 0.6373350300534316, -0.37692833981371726, 0.9292375282970157, -1.3816024406765592, 1.2862751536692747, -0.2391628412182689, -0.134096521061821, 0.36325476918153177, -1.04756639847069, -1.3975724700107532, 0.4599275903138609, -0.0026229351024188562, -0.5112324125694927, 1.3983123334955245, 0.9451463539487669], \"xaxis\": \"x6\", \"yaxis\": \"y6\"}, {\"line\": {\"color\": \"rgba(128, 128, 128, 1.0)\", \"dash\": \"solid\", \"shape\": \"linear\", \"width\": 1.3}, \"marker\": {\"size\": 2, \"symbol\": \"circle\"}, \"mode\": \"markers\", \"name\": \"B\", \"text\": \"\", \"type\": \"scatter\", \"x\": [-0.36472828338111823, -2.744034855183259, 1.0508910323033953, -1.3210716162470777, -0.6328911673531687, -0.15010846191632013, -0.07951915603907586, -0.3143279866393601, 0.6057400984111833, -0.6994012298006331, -0.21090427517540938, -0.8436249712561239, 0.49346951495984837, 0.4853757168748205, 1.9390313879524337, 0.13892186773980295, 1.8125432050571813, -0.1577604392876527, -0.37635754616385414, -1.4310552301706887, 0.8382401180593941, 0.07536172950690108, 0.5127682775371938, 0.32569981275567234, 2.828388550516968, -0.5743371297934008, 0.060400308357195176, 0.7956540479218478, 1.3450563412740366, -1.016552167263412, 0.6430448438346658, 0.510634115982206, -0.6661440616176256, -0.5025066969093334, -0.8550353017824615, -0.9914905626880155, -0.9426251736601406, -0.257211133248541, 0.3019795953708391, 0.15258348269611327, 0.013463340997592551, 0.2957149879901049, 0.25699538119859955, -0.46614520972096113, 0.7334543867924153, -0.44148807143248525, 0.0018561004770532975, 1.5929815057860965, 1.1351017984146794, 0.12850117485378634, -0.3066874389924823, -0.5095211467457677, 1.2188227788069237, 1.1342238614857727, -0.39372410575528244, 0.318672757921071, -1.5083148071423385, 1.5105244382756182, -0.9597099280908813, 1.6011874194688416, -0.5725114622602433, -0.44439960341458123, 0.0673206661104729, -2.9703335493064835, 0.5627527056266886, -0.22389086875044303, -0.17529922309717058, 0.5633597459731945, -0.33160851994305235, 1.45807626556701, -1.3821507395278307, -0.7241818141867004, 1.5250901754339594, -0.29089082401874, -1.8211689542036897, 1.2128194471161535, 1.3807370331224766, -0.04334994244393579, 0.1311422990612613, -1.7089036247585763, -0.7835715672898682, -0.7306358480570115, 1.6481631484690011, 2.461723274478377, 0.4732612840974774, -0.19848175544682825, -1.2012922527458179, -0.04201566809091011, 0.25380682557922446, -2.1643581880407052, -0.401988739583814, -0.419359566403672, 0.793523597589395, -1.2802316764965542, -0.4674636795655414, -2.1012286186402784, 1.8046959969573688, -0.3965604273992808, 0.6444974555400979, -1.2086932977050724], \"xaxis\": \"x7\", \"y\": [-0.43313928439241856, -0.4425613609484883, -0.5831641104998745, -0.2329524920028297, -0.08333227347218153, -0.5550772129650813, 1.0232186344774543, -0.19691035869974066, 0.6652592638509605, -0.25855232158591246, 0.08708040495670091, -0.6120088084945818, -0.12277081811889581, 2.1596911192246933, 1.7453798976659805, -0.31058753595801675, 0.17173161909361565, 0.2486764341606997, 0.6290908277801774, -0.677253445352361, -0.29591717094932185, 3.5912914484649057, -1.5102507577162003, -0.10452519409142735, -1.3730093962486873, -0.10638571976969305, -2.562467956305081, 1.1873153508557435, 1.7306827104585627, 2.0784750273731722, 0.9144007762066864, -1.0486224523024477, 0.616468572611647, -0.05306969649565157, 0.11970754364521062, -1.8208242311258491, 0.8506780205806028, -0.7978765182395776, -1.6859900378557098, -0.807788418777815, -0.16415304493743396, -1.2779023594529633, 0.3959843079178932, -1.9172789727990776, -0.34839551770740596, -2.3010545326542164, -0.37336750540430746, 1.0143884366534197, -1.0602834509257386, -0.5472740730487213, -0.15065390894444045, 0.9220738873395795, 0.3587351344940042, 0.4156627803042604, -0.25573558842639865, -0.779343193627066, -0.2327866638752568, -0.38671823194117577, 1.033541673260998, 0.30249714031787445, 0.3548984753587199, -1.7011402723912104, 0.9303595461164846, -0.3376204164752655, 0.316175575817413, -0.6570536255194106, -0.07958066039765603, 0.6007547821873407, 0.3278495443745458, -0.9373708035630588, 0.024562754829876316, 0.15174005354443162, 1.7322891667012859, 2.266091829286604, 0.3322274142194494, -1.0968432532953514, -0.5395437695783084, 2.4261309168988627, -0.07146814570308693, 0.6575829486179565, 1.137000976387248, 1.3565204705711482, -0.3923880210686105, 0.9310307831146414, 0.44280425549872554, 0.6373350300534316, -0.37692833981371726, 0.9292375282970157, -1.3816024406765592, 1.2862751536692747, -0.2391628412182689, -0.134096521061821, 0.36325476918153177, -1.04756639847069, -1.3975724700107532, 0.4599275903138609, -0.0026229351024188562, -0.5112324125694927, 1.3983123334955245, 0.9451463539487669], \"yaxis\": \"y7\"}, {\"line\": {\"color\": \"rgba(128, 128, 128, 1.0)\", \"dash\": \"solid\", \"shape\": \"linear\", \"width\": 1.3}, \"marker\": {\"size\": 2, \"symbol\": \"circle\"}, \"mode\": \"markers\", \"name\": \"B\", \"text\": \"\", \"type\": \"scatter\", \"x\": [-0.39699605459412246, 0.9665733257016246, -0.03292056049028313, -0.9073213559681331, 0.6831199981393419, 0.5856846914816076, -0.43337138359969984, -0.7675150008275595, 0.013888311737529004, 1.0488230586953755, 0.4354540251156954, -1.889577608294123, 0.8355927922443603, 0.2942195629854865, -1.0042496108243364, -0.4225148345278697, -0.6141822581428549, -0.7732928019152675, -0.019781848988358837, 1.1551113803713724, 0.48839338357613665, -1.0735992913498773, -2.191676479527262, -0.9530024743209956, -0.016420447246737656, -0.44905928884575846, -0.944324806543863, -1.0293134643694755, -1.2920564853589527, 1.0200112412988298, -0.3605536695078327, 1.0755394811016914, -1.7543454736337665, 0.3751844174067533, 0.045548734229861776, -0.2626034663179237, 0.43353088292488834, 0.29367520335394515, 1.1459481264116405, -1.8142720338622396, -1.0173043294083477, 0.39340942896249914, -1.0941091685109492, -1.1695752419219372, 1.7270611475834738, -0.3106566486176464, 1.8281605452352603, -0.526324541856004, -1.7761756749514737, -0.43091805571083863, -0.5649880558501735, 0.24125090312744718, 2.69456662433687, -0.8713144091136765, 0.7584445815837195, -0.13703182312215023, -0.668896977189412, -0.27604981761777875, 1.5698646539974623, 0.04778207395949344, 1.638758980307776, 0.7459446531249445, 0.19105997693628143, 0.5223781816880522, 0.6017589103360246, -0.4217443729222811, -0.6163168942296061, -0.9694671688163928, 0.42170916519293944, -0.4101989114634815, 0.487762375905079, 0.027239658172430275, -0.3176555283955685, -0.5241745803169193, 1.177165135960473, 0.04068533608559416, -0.8761512202026416, 0.10621793722191121, -0.4199551272358778, -0.14879356764775456, -1.005233396340456, 1.2411615282181363, 0.8975170798555797, 0.7900710390871886, 0.4416846117561959, 1.4425511447775639, -0.5654380772698397, -1.2154171092673054, 0.1261765840600005, -0.10680954817285401, 1.3528188881898482, 0.7452958794934156, 0.4970922137269499, -0.4483551828797474, 1.7516766591944517, -2.938615037214658, 0.5080945909237529, 0.614267751742457, -0.2595820086152982, -0.43899999687117014], \"xaxis\": \"x8\", \"y\": [-0.43313928439241856, -0.4425613609484883, -0.5831641104998745, -0.2329524920028297, -0.08333227347218153, -0.5550772129650813, 1.0232186344774543, -0.19691035869974066, 0.6652592638509605, -0.25855232158591246, 0.08708040495670091, -0.6120088084945818, -0.12277081811889581, 2.1596911192246933, 1.7453798976659805, -0.31058753595801675, 0.17173161909361565, 0.2486764341606997, 0.6290908277801774, -0.677253445352361, -0.29591717094932185, 3.5912914484649057, -1.5102507577162003, -0.10452519409142735, -1.3730093962486873, -0.10638571976969305, -2.562467956305081, 1.1873153508557435, 1.7306827104585627, 2.0784750273731722, 0.9144007762066864, -1.0486224523024477, 0.616468572611647, -0.05306969649565157, 0.11970754364521062, -1.8208242311258491, 0.8506780205806028, -0.7978765182395776, -1.6859900378557098, -0.807788418777815, -0.16415304493743396, -1.2779023594529633, 0.3959843079178932, -1.9172789727990776, -0.34839551770740596, -2.3010545326542164, -0.37336750540430746, 1.0143884366534197, -1.0602834509257386, -0.5472740730487213, -0.15065390894444045, 0.9220738873395795, 0.3587351344940042, 0.4156627803042604, -0.25573558842639865, -0.779343193627066, -0.2327866638752568, -0.38671823194117577, 1.033541673260998, 0.30249714031787445, 0.3548984753587199, -1.7011402723912104, 0.9303595461164846, -0.3376204164752655, 0.316175575817413, -0.6570536255194106, -0.07958066039765603, 0.6007547821873407, 0.3278495443745458, -0.9373708035630588, 0.024562754829876316, 0.15174005354443162, 1.7322891667012859, 2.266091829286604, 0.3322274142194494, -1.0968432532953514, -0.5395437695783084, 2.4261309168988627, -0.07146814570308693, 0.6575829486179565, 1.137000976387248, 1.3565204705711482, -0.3923880210686105, 0.9310307831146414, 0.44280425549872554, 0.6373350300534316, -0.37692833981371726, 0.9292375282970157, -1.3816024406765592, 1.2862751536692747, -0.2391628412182689, -0.134096521061821, 0.36325476918153177, -1.04756639847069, -1.3975724700107532, 0.4599275903138609, -0.0026229351024188562, -0.5112324125694927, 1.3983123334955245, 0.9451463539487669], \"yaxis\": \"y8\"}, {\"line\": {\"color\": \"rgba(128, 128, 128, 1.0)\", \"dash\": \"solid\", \"shape\": \"linear\", \"width\": 1.3}, \"marker\": {\"size\": 2, \"symbol\": \"circle\"}, \"mode\": \"markers\", \"name\": \"C\", \"text\": \"\", \"type\": \"scatter\", \"x\": [0.9197133807614235, 0.7794542364536206, -0.09649744911588459, 1.7774800045254102, -1.225964420847159, -2.393954265258908, 0.41990419231764947, 0.8616029917587111, -0.24737914798211716, 1.0274749369056067, 0.07649296724874846, 0.9437322356592867, 0.1996489583939814, 1.58427473537746, -0.371723359297978, 0.22979824338857696, 1.53658689215229, 0.012158305181052004, -1.1602507795274908, 0.3774550134420746, 1.0644162387146285, -0.221044462875774, 0.5012106305315702, 0.7778064820592324, 1.3147485229906, -0.865092812047564, -0.42410365767333646, -0.357691233878992, -0.3414067537683034, 0.6375951853421511, -0.3754133832264921, -0.16610414089782688, 0.388431315898646, -0.3228333339830255, 0.039263470128833015, 0.4639010359623582, 0.1485992496867083, -0.296115590941632, 0.14819367088853724, 0.2026284784393481, -0.2348139336782935, -1.6800725044112985, 0.8701378536749685, 0.341188400775277, -0.012237024383443105, 0.2622618333273738, 1.1462065561704708, -0.054086747031590936, 0.1843621043620616, -0.5398771840429352, -1.0722382532014312, -0.050435157686543705, 2.8895581697000896, -0.6719852661171711, 0.46460937644349315, 1.9923968859714174, -1.0345940853003668, -0.25508907607148096, 1.123636206992229, 0.4035748735001082, -0.2250374937301488, 1.0464100042119022, 0.2986891746841648, -0.11043242862740031, 0.10165226027586535, 0.005658435925281142, -0.9208657571597071, 1.2009839712573003, -0.4892870232330178, -0.06133536497774417, -1.0009550308856383, -0.48052367803749363, 0.8409796841631535, 1.5965466139596338, 2.120683106950889, -1.8799377668379869, -0.26563779261158504, -0.14704421316205113, -1.424161397157802, 0.47614096789664473, -0.5215117460381219, 0.4809600170045102, 0.6622103676774127, -1.2783556733428347, -0.022858985180589677, -1.563275342663613, -1.2424457285081163, 0.11681759263698047, 0.8466794065199111, 0.06490426589829766, 2.157438296279944, 0.6741389867698577, 1.8430788221397851, 2.5740175116462423, -1.306267582832392, 0.4205936086654285, 0.7180849950269751, -0.08247581270117955, 0.050969560380462284, 0.028843641125944345], \"xaxis\": \"x9\", \"y\": [-0.36472828338111823, -2.744034855183259, 1.0508910323033953, -1.3210716162470777, -0.6328911673531687, -0.15010846191632013, -0.07951915603907586, -0.3143279866393601, 0.6057400984111833, -0.6994012298006331, -0.21090427517540938, -0.8436249712561239, 0.49346951495984837, 0.4853757168748205, 1.9390313879524337, 0.13892186773980295, 1.8125432050571813, -0.1577604392876527, -0.37635754616385414, -1.4310552301706887, 0.8382401180593941, 0.07536172950690108, 0.5127682775371938, 0.32569981275567234, 2.828388550516968, -0.5743371297934008, 0.060400308357195176, 0.7956540479218478, 1.3450563412740366, -1.016552167263412, 0.6430448438346658, 0.510634115982206, -0.6661440616176256, -0.5025066969093334, -0.8550353017824615, -0.9914905626880155, -0.9426251736601406, -0.257211133248541, 0.3019795953708391, 0.15258348269611327, 0.013463340997592551, 0.2957149879901049, 0.25699538119859955, -0.46614520972096113, 0.7334543867924153, -0.44148807143248525, 0.0018561004770532975, 1.5929815057860965, 1.1351017984146794, 0.12850117485378634, -0.3066874389924823, -0.5095211467457677, 1.2188227788069237, 1.1342238614857727, -0.39372410575528244, 0.318672757921071, -1.5083148071423385, 1.5105244382756182, -0.9597099280908813, 1.6011874194688416, -0.5725114622602433, -0.44439960341458123, 0.0673206661104729, -2.9703335493064835, 0.5627527056266886, -0.22389086875044303, -0.17529922309717058, 0.5633597459731945, -0.33160851994305235, 1.45807626556701, -1.3821507395278307, -0.7241818141867004, 1.5250901754339594, -0.29089082401874, -1.8211689542036897, 1.2128194471161535, 1.3807370331224766, -0.04334994244393579, 0.1311422990612613, -1.7089036247585763, -0.7835715672898682, -0.7306358480570115, 1.6481631484690011, 2.461723274478377, 0.4732612840974774, -0.19848175544682825, -1.2012922527458179, -0.04201566809091011, 0.25380682557922446, -2.1643581880407052, -0.401988739583814, -0.419359566403672, 0.793523597589395, -1.2802316764965542, -0.4674636795655414, -2.1012286186402784, 1.8046959969573688, -0.3965604273992808, 0.6444974555400979, -1.2086932977050724], \"yaxis\": \"y9\"}, {\"line\": {\"color\": \"rgba(128, 128, 128, 1.0)\", \"dash\": \"solid\", \"shape\": \"linear\", \"width\": 1.3}, \"marker\": {\"size\": 2, \"symbol\": \"circle\"}, \"mode\": \"markers\", \"name\": \"C\", \"text\": \"\", \"type\": \"scatter\", \"x\": [-0.43313928439241856, -0.4425613609484883, -0.5831641104998745, -0.2329524920028297, -0.08333227347218153, -0.5550772129650813, 1.0232186344774543, -0.19691035869974066, 0.6652592638509605, -0.25855232158591246, 0.08708040495670091, -0.6120088084945818, -0.12277081811889581, 2.1596911192246933, 1.7453798976659805, -0.31058753595801675, 0.17173161909361565, 0.2486764341606997, 0.6290908277801774, -0.677253445352361, -0.29591717094932185, 3.5912914484649057, -1.5102507577162003, -0.10452519409142735, -1.3730093962486873, -0.10638571976969305, -2.562467956305081, 1.1873153508557435, 1.7306827104585627, 2.0784750273731722, 0.9144007762066864, -1.0486224523024477, 0.616468572611647, -0.05306969649565157, 0.11970754364521062, -1.8208242311258491, 0.8506780205806028, -0.7978765182395776, -1.6859900378557098, -0.807788418777815, -0.16415304493743396, -1.2779023594529633, 0.3959843079178932, -1.9172789727990776, -0.34839551770740596, -2.3010545326542164, -0.37336750540430746, 1.0143884366534197, -1.0602834509257386, -0.5472740730487213, -0.15065390894444045, 0.9220738873395795, 0.3587351344940042, 0.4156627803042604, -0.25573558842639865, -0.779343193627066, -0.2327866638752568, -0.38671823194117577, 1.033541673260998, 0.30249714031787445, 0.3548984753587199, -1.7011402723912104, 0.9303595461164846, -0.3376204164752655, 0.316175575817413, -0.6570536255194106, -0.07958066039765603, 0.6007547821873407, 0.3278495443745458, -0.9373708035630588, 0.024562754829876316, 0.15174005354443162, 1.7322891667012859, 2.266091829286604, 0.3322274142194494, -1.0968432532953514, -0.5395437695783084, 2.4261309168988627, -0.07146814570308693, 0.6575829486179565, 1.137000976387248, 1.3565204705711482, -0.3923880210686105, 0.9310307831146414, 0.44280425549872554, 0.6373350300534316, -0.37692833981371726, 0.9292375282970157, -1.3816024406765592, 1.2862751536692747, -0.2391628412182689, -0.134096521061821, 0.36325476918153177, -1.04756639847069, -1.3975724700107532, 0.4599275903138609, -0.0026229351024188562, -0.5112324125694927, 1.3983123334955245, 0.9451463539487669], \"xaxis\": \"x10\", \"y\": [-0.36472828338111823, -2.744034855183259, 1.0508910323033953, -1.3210716162470777, -0.6328911673531687, -0.15010846191632013, -0.07951915603907586, -0.3143279866393601, 0.6057400984111833, -0.6994012298006331, -0.21090427517540938, -0.8436249712561239, 0.49346951495984837, 0.4853757168748205, 1.9390313879524337, 0.13892186773980295, 1.8125432050571813, -0.1577604392876527, -0.37635754616385414, -1.4310552301706887, 0.8382401180593941, 0.07536172950690108, 0.5127682775371938, 0.32569981275567234, 2.828388550516968, -0.5743371297934008, 0.060400308357195176, 0.7956540479218478, 1.3450563412740366, -1.016552167263412, 0.6430448438346658, 0.510634115982206, -0.6661440616176256, -0.5025066969093334, -0.8550353017824615, -0.9914905626880155, -0.9426251736601406, -0.257211133248541, 0.3019795953708391, 0.15258348269611327, 0.013463340997592551, 0.2957149879901049, 0.25699538119859955, -0.46614520972096113, 0.7334543867924153, -0.44148807143248525, 0.0018561004770532975, 1.5929815057860965, 1.1351017984146794, 0.12850117485378634, -0.3066874389924823, -0.5095211467457677, 1.2188227788069237, 1.1342238614857727, -0.39372410575528244, 0.318672757921071, -1.5083148071423385, 1.5105244382756182, -0.9597099280908813, 1.6011874194688416, -0.5725114622602433, -0.44439960341458123, 0.0673206661104729, -2.9703335493064835, 0.5627527056266886, -0.22389086875044303, -0.17529922309717058, 0.5633597459731945, -0.33160851994305235, 1.45807626556701, -1.3821507395278307, -0.7241818141867004, 1.5250901754339594, -0.29089082401874, -1.8211689542036897, 1.2128194471161535, 1.3807370331224766, -0.04334994244393579, 0.1311422990612613, -1.7089036247585763, -0.7835715672898682, -0.7306358480570115, 1.6481631484690011, 2.461723274478377, 0.4732612840974774, -0.19848175544682825, -1.2012922527458179, -0.04201566809091011, 0.25380682557922446, -2.1643581880407052, -0.401988739583814, -0.419359566403672, 0.793523597589395, -1.2802316764965542, -0.4674636795655414, -2.1012286186402784, 1.8046959969573688, -0.3965604273992808, 0.6444974555400979, -1.2086932977050724], \"yaxis\": \"y10\"}, {\"histfunc\": \"count\", \"histnorm\": \"\", \"marker\": {\"color\": \"rgba(50, 171, 96, 1.0)\", \"line\": {\"color\": \"#4D5663\", \"width\": 1.3}}, \"name\": \"C\", \"nbinsx\": 10, \"opacity\": 0.8, \"orientation\": \"v\", \"type\": \"histogram\", \"x\": [-0.36472828338111823, -2.744034855183259, 1.0508910323033953, -1.3210716162470777, -0.6328911673531687, -0.15010846191632013, -0.07951915603907586, -0.3143279866393601, 0.6057400984111833, -0.6994012298006331, -0.21090427517540938, -0.8436249712561239, 0.49346951495984837, 0.4853757168748205, 1.9390313879524337, 0.13892186773980295, 1.8125432050571813, -0.1577604392876527, -0.37635754616385414, -1.4310552301706887, 0.8382401180593941, 0.07536172950690108, 0.5127682775371938, 0.32569981275567234, 2.828388550516968, -0.5743371297934008, 0.060400308357195176, 0.7956540479218478, 1.3450563412740366, -1.016552167263412, 0.6430448438346658, 0.510634115982206, -0.6661440616176256, -0.5025066969093334, -0.8550353017824615, -0.9914905626880155, -0.9426251736601406, -0.257211133248541, 0.3019795953708391, 0.15258348269611327, 0.013463340997592551, 0.2957149879901049, 0.25699538119859955, -0.46614520972096113, 0.7334543867924153, -0.44148807143248525, 0.0018561004770532975, 1.5929815057860965, 1.1351017984146794, 0.12850117485378634, -0.3066874389924823, -0.5095211467457677, 1.2188227788069237, 1.1342238614857727, -0.39372410575528244, 0.318672757921071, -1.5083148071423385, 1.5105244382756182, -0.9597099280908813, 1.6011874194688416, -0.5725114622602433, -0.44439960341458123, 0.0673206661104729, -2.9703335493064835, 0.5627527056266886, -0.22389086875044303, -0.17529922309717058, 0.5633597459731945, -0.33160851994305235, 1.45807626556701, -1.3821507395278307, -0.7241818141867004, 1.5250901754339594, -0.29089082401874, -1.8211689542036897, 1.2128194471161535, 1.3807370331224766, -0.04334994244393579, 0.1311422990612613, -1.7089036247585763, -0.7835715672898682, -0.7306358480570115, 1.6481631484690011, 2.461723274478377, 0.4732612840974774, -0.19848175544682825, -1.2012922527458179, -0.04201566809091011, 0.25380682557922446, -2.1643581880407052, -0.401988739583814, -0.419359566403672, 0.793523597589395, -1.2802316764965542, -0.4674636795655414, -2.1012286186402784, 1.8046959969573688, -0.3965604273992808, 0.6444974555400979, -1.2086932977050724], \"xaxis\": \"x11\", \"yaxis\": \"y11\"}, {\"line\": {\"color\": \"rgba(128, 128, 128, 1.0)\", \"dash\": \"solid\", \"shape\": \"linear\", \"width\": 1.3}, \"marker\": {\"size\": 2, \"symbol\": \"circle\"}, \"mode\": \"markers\", \"name\": \"C\", \"text\": \"\", \"type\": \"scatter\", \"x\": [-0.39699605459412246, 0.9665733257016246, -0.03292056049028313, -0.9073213559681331, 0.6831199981393419, 0.5856846914816076, -0.43337138359969984, -0.7675150008275595, 0.013888311737529004, 1.0488230586953755, 0.4354540251156954, -1.889577608294123, 0.8355927922443603, 0.2942195629854865, -1.0042496108243364, -0.4225148345278697, -0.6141822581428549, -0.7732928019152675, -0.019781848988358837, 1.1551113803713724, 0.48839338357613665, -1.0735992913498773, -2.191676479527262, -0.9530024743209956, -0.016420447246737656, -0.44905928884575846, -0.944324806543863, -1.0293134643694755, -1.2920564853589527, 1.0200112412988298, -0.3605536695078327, 1.0755394811016914, -1.7543454736337665, 0.3751844174067533, 0.045548734229861776, -0.2626034663179237, 0.43353088292488834, 0.29367520335394515, 1.1459481264116405, -1.8142720338622396, -1.0173043294083477, 0.39340942896249914, -1.0941091685109492, -1.1695752419219372, 1.7270611475834738, -0.3106566486176464, 1.8281605452352603, -0.526324541856004, -1.7761756749514737, -0.43091805571083863, -0.5649880558501735, 0.24125090312744718, 2.69456662433687, -0.8713144091136765, 0.7584445815837195, -0.13703182312215023, -0.668896977189412, -0.27604981761777875, 1.5698646539974623, 0.04778207395949344, 1.638758980307776, 0.7459446531249445, 0.19105997693628143, 0.5223781816880522, 0.6017589103360246, -0.4217443729222811, -0.6163168942296061, -0.9694671688163928, 0.42170916519293944, -0.4101989114634815, 0.487762375905079, 0.027239658172430275, -0.3176555283955685, -0.5241745803169193, 1.177165135960473, 0.04068533608559416, -0.8761512202026416, 0.10621793722191121, -0.4199551272358778, -0.14879356764775456, -1.005233396340456, 1.2411615282181363, 0.8975170798555797, 0.7900710390871886, 0.4416846117561959, 1.4425511447775639, -0.5654380772698397, -1.2154171092673054, 0.1261765840600005, -0.10680954817285401, 1.3528188881898482, 0.7452958794934156, 0.4970922137269499, -0.4483551828797474, 1.7516766591944517, -2.938615037214658, 0.5080945909237529, 0.614267751742457, -0.2595820086152982, -0.43899999687117014], \"xaxis\": \"x12\", \"y\": [-0.36472828338111823, -2.744034855183259, 1.0508910323033953, -1.3210716162470777, -0.6328911673531687, -0.15010846191632013, -0.07951915603907586, -0.3143279866393601, 0.6057400984111833, -0.6994012298006331, -0.21090427517540938, -0.8436249712561239, 0.49346951495984837, 0.4853757168748205, 1.9390313879524337, 0.13892186773980295, 1.8125432050571813, -0.1577604392876527, -0.37635754616385414, -1.4310552301706887, 0.8382401180593941, 0.07536172950690108, 0.5127682775371938, 0.32569981275567234, 2.828388550516968, -0.5743371297934008, 0.060400308357195176, 0.7956540479218478, 1.3450563412740366, -1.016552167263412, 0.6430448438346658, 0.510634115982206, -0.6661440616176256, -0.5025066969093334, -0.8550353017824615, -0.9914905626880155, -0.9426251736601406, -0.257211133248541, 0.3019795953708391, 0.15258348269611327, 0.013463340997592551, 0.2957149879901049, 0.25699538119859955, -0.46614520972096113, 0.7334543867924153, -0.44148807143248525, 0.0018561004770532975, 1.5929815057860965, 1.1351017984146794, 0.12850117485378634, -0.3066874389924823, -0.5095211467457677, 1.2188227788069237, 1.1342238614857727, -0.39372410575528244, 0.318672757921071, -1.5083148071423385, 1.5105244382756182, -0.9597099280908813, 1.6011874194688416, -0.5725114622602433, -0.44439960341458123, 0.0673206661104729, -2.9703335493064835, 0.5627527056266886, -0.22389086875044303, -0.17529922309717058, 0.5633597459731945, -0.33160851994305235, 1.45807626556701, -1.3821507395278307, -0.7241818141867004, 1.5250901754339594, -0.29089082401874, -1.8211689542036897, 1.2128194471161535, 1.3807370331224766, -0.04334994244393579, 0.1311422990612613, -1.7089036247585763, -0.7835715672898682, -0.7306358480570115, 1.6481631484690011, 2.461723274478377, 0.4732612840974774, -0.19848175544682825, -1.2012922527458179, -0.04201566809091011, 0.25380682557922446, -2.1643581880407052, -0.401988739583814, -0.419359566403672, 0.793523597589395, -1.2802316764965542, -0.4674636795655414, -2.1012286186402784, 1.8046959969573688, -0.3965604273992808, 0.6444974555400979, -1.2086932977050724], \"yaxis\": \"y12\"}, {\"line\": {\"color\": \"rgba(128, 128, 128, 1.0)\", \"dash\": \"solid\", \"shape\": \"linear\", \"width\": 1.3}, \"marker\": {\"size\": 2, \"symbol\": \"circle\"}, \"mode\": \"markers\", \"name\": \"D\", \"text\": \"\", \"type\": \"scatter\", \"x\": [0.9197133807614235, 0.7794542364536206, -0.09649744911588459, 1.7774800045254102, -1.225964420847159, -2.393954265258908, 0.41990419231764947, 0.8616029917587111, -0.24737914798211716, 1.0274749369056067, 0.07649296724874846, 0.9437322356592867, 0.1996489583939814, 1.58427473537746, -0.371723359297978, 0.22979824338857696, 1.53658689215229, 0.012158305181052004, -1.1602507795274908, 0.3774550134420746, 1.0644162387146285, -0.221044462875774, 0.5012106305315702, 0.7778064820592324, 1.3147485229906, -0.865092812047564, -0.42410365767333646, -0.357691233878992, -0.3414067537683034, 0.6375951853421511, -0.3754133832264921, -0.16610414089782688, 0.388431315898646, -0.3228333339830255, 0.039263470128833015, 0.4639010359623582, 0.1485992496867083, -0.296115590941632, 0.14819367088853724, 0.2026284784393481, -0.2348139336782935, -1.6800725044112985, 0.8701378536749685, 0.341188400775277, -0.012237024383443105, 0.2622618333273738, 1.1462065561704708, -0.054086747031590936, 0.1843621043620616, -0.5398771840429352, -1.0722382532014312, -0.050435157686543705, 2.8895581697000896, -0.6719852661171711, 0.46460937644349315, 1.9923968859714174, -1.0345940853003668, -0.25508907607148096, 1.123636206992229, 0.4035748735001082, -0.2250374937301488, 1.0464100042119022, 0.2986891746841648, -0.11043242862740031, 0.10165226027586535, 0.005658435925281142, -0.9208657571597071, 1.2009839712573003, -0.4892870232330178, -0.06133536497774417, -1.0009550308856383, -0.48052367803749363, 0.8409796841631535, 1.5965466139596338, 2.120683106950889, -1.8799377668379869, -0.26563779261158504, -0.14704421316205113, -1.424161397157802, 0.47614096789664473, -0.5215117460381219, 0.4809600170045102, 0.6622103676774127, -1.2783556733428347, -0.022858985180589677, -1.563275342663613, -1.2424457285081163, 0.11681759263698047, 0.8466794065199111, 0.06490426589829766, 2.157438296279944, 0.6741389867698577, 1.8430788221397851, 2.5740175116462423, -1.306267582832392, 0.4205936086654285, 0.7180849950269751, -0.08247581270117955, 0.050969560380462284, 0.028843641125944345], \"xaxis\": \"x13\", \"y\": [-0.39699605459412246, 0.9665733257016246, -0.03292056049028313, -0.9073213559681331, 0.6831199981393419, 0.5856846914816076, -0.43337138359969984, -0.7675150008275595, 0.013888311737529004, 1.0488230586953755, 0.4354540251156954, -1.889577608294123, 0.8355927922443603, 0.2942195629854865, -1.0042496108243364, -0.4225148345278697, -0.6141822581428549, -0.7732928019152675, -0.019781848988358837, 1.1551113803713724, 0.48839338357613665, -1.0735992913498773, -2.191676479527262, -0.9530024743209956, -0.016420447246737656, -0.44905928884575846, -0.944324806543863, -1.0293134643694755, -1.2920564853589527, 1.0200112412988298, -0.3605536695078327, 1.0755394811016914, -1.7543454736337665, 0.3751844174067533, 0.045548734229861776, -0.2626034663179237, 0.43353088292488834, 0.29367520335394515, 1.1459481264116405, -1.8142720338622396, -1.0173043294083477, 0.39340942896249914, -1.0941091685109492, -1.1695752419219372, 1.7270611475834738, -0.3106566486176464, 1.8281605452352603, -0.526324541856004, -1.7761756749514737, -0.43091805571083863, -0.5649880558501735, 0.24125090312744718, 2.69456662433687, -0.8713144091136765, 0.7584445815837195, -0.13703182312215023, -0.668896977189412, -0.27604981761777875, 1.5698646539974623, 0.04778207395949344, 1.638758980307776, 0.7459446531249445, 0.19105997693628143, 0.5223781816880522, 0.6017589103360246, -0.4217443729222811, -0.6163168942296061, -0.9694671688163928, 0.42170916519293944, -0.4101989114634815, 0.487762375905079, 0.027239658172430275, -0.3176555283955685, -0.5241745803169193, 1.177165135960473, 0.04068533608559416, -0.8761512202026416, 0.10621793722191121, -0.4199551272358778, -0.14879356764775456, -1.005233396340456, 1.2411615282181363, 0.8975170798555797, 0.7900710390871886, 0.4416846117561959, 1.4425511447775639, -0.5654380772698397, -1.2154171092673054, 0.1261765840600005, -0.10680954817285401, 1.3528188881898482, 0.7452958794934156, 0.4970922137269499, -0.4483551828797474, 1.7516766591944517, -2.938615037214658, 0.5080945909237529, 0.614267751742457, -0.2595820086152982, -0.43899999687117014], \"yaxis\": \"y13\"}, {\"line\": {\"color\": \"rgba(128, 128, 128, 1.0)\", \"dash\": \"solid\", \"shape\": \"linear\", \"width\": 1.3}, \"marker\": {\"size\": 2, \"symbol\": \"circle\"}, \"mode\": \"markers\", \"name\": \"D\", \"text\": \"\", \"type\": \"scatter\", \"x\": [-0.43313928439241856, -0.4425613609484883, -0.5831641104998745, -0.2329524920028297, -0.08333227347218153, -0.5550772129650813, 1.0232186344774543, -0.19691035869974066, 0.6652592638509605, -0.25855232158591246, 0.08708040495670091, -0.6120088084945818, -0.12277081811889581, 2.1596911192246933, 1.7453798976659805, -0.31058753595801675, 0.17173161909361565, 0.2486764341606997, 0.6290908277801774, -0.677253445352361, -0.29591717094932185, 3.5912914484649057, -1.5102507577162003, -0.10452519409142735, -1.3730093962486873, -0.10638571976969305, -2.562467956305081, 1.1873153508557435, 1.7306827104585627, 2.0784750273731722, 0.9144007762066864, -1.0486224523024477, 0.616468572611647, -0.05306969649565157, 0.11970754364521062, -1.8208242311258491, 0.8506780205806028, -0.7978765182395776, -1.6859900378557098, -0.807788418777815, -0.16415304493743396, -1.2779023594529633, 0.3959843079178932, -1.9172789727990776, -0.34839551770740596, -2.3010545326542164, -0.37336750540430746, 1.0143884366534197, -1.0602834509257386, -0.5472740730487213, -0.15065390894444045, 0.9220738873395795, 0.3587351344940042, 0.4156627803042604, -0.25573558842639865, -0.779343193627066, -0.2327866638752568, -0.38671823194117577, 1.033541673260998, 0.30249714031787445, 0.3548984753587199, -1.7011402723912104, 0.9303595461164846, -0.3376204164752655, 0.316175575817413, -0.6570536255194106, -0.07958066039765603, 0.6007547821873407, 0.3278495443745458, -0.9373708035630588, 0.024562754829876316, 0.15174005354443162, 1.7322891667012859, 2.266091829286604, 0.3322274142194494, -1.0968432532953514, -0.5395437695783084, 2.4261309168988627, -0.07146814570308693, 0.6575829486179565, 1.137000976387248, 1.3565204705711482, -0.3923880210686105, 0.9310307831146414, 0.44280425549872554, 0.6373350300534316, -0.37692833981371726, 0.9292375282970157, -1.3816024406765592, 1.2862751536692747, -0.2391628412182689, -0.134096521061821, 0.36325476918153177, -1.04756639847069, -1.3975724700107532, 0.4599275903138609, -0.0026229351024188562, -0.5112324125694927, 1.3983123334955245, 0.9451463539487669], \"xaxis\": \"x14\", \"y\": [-0.39699605459412246, 0.9665733257016246, -0.03292056049028313, -0.9073213559681331, 0.6831199981393419, 0.5856846914816076, -0.43337138359969984, -0.7675150008275595, 0.013888311737529004, 1.0488230586953755, 0.4354540251156954, -1.889577608294123, 0.8355927922443603, 0.2942195629854865, -1.0042496108243364, -0.4225148345278697, -0.6141822581428549, -0.7732928019152675, -0.019781848988358837, 1.1551113803713724, 0.48839338357613665, -1.0735992913498773, -2.191676479527262, -0.9530024743209956, -0.016420447246737656, -0.44905928884575846, -0.944324806543863, -1.0293134643694755, -1.2920564853589527, 1.0200112412988298, -0.3605536695078327, 1.0755394811016914, -1.7543454736337665, 0.3751844174067533, 0.045548734229861776, -0.2626034663179237, 0.43353088292488834, 0.29367520335394515, 1.1459481264116405, -1.8142720338622396, -1.0173043294083477, 0.39340942896249914, -1.0941091685109492, -1.1695752419219372, 1.7270611475834738, -0.3106566486176464, 1.8281605452352603, -0.526324541856004, -1.7761756749514737, -0.43091805571083863, -0.5649880558501735, 0.24125090312744718, 2.69456662433687, -0.8713144091136765, 0.7584445815837195, -0.13703182312215023, -0.668896977189412, -0.27604981761777875, 1.5698646539974623, 0.04778207395949344, 1.638758980307776, 0.7459446531249445, 0.19105997693628143, 0.5223781816880522, 0.6017589103360246, -0.4217443729222811, -0.6163168942296061, -0.9694671688163928, 0.42170916519293944, -0.4101989114634815, 0.487762375905079, 0.027239658172430275, -0.3176555283955685, -0.5241745803169193, 1.177165135960473, 0.04068533608559416, -0.8761512202026416, 0.10621793722191121, -0.4199551272358778, -0.14879356764775456, -1.005233396340456, 1.2411615282181363, 0.8975170798555797, 0.7900710390871886, 0.4416846117561959, 1.4425511447775639, -0.5654380772698397, -1.2154171092673054, 0.1261765840600005, -0.10680954817285401, 1.3528188881898482, 0.7452958794934156, 0.4970922137269499, -0.4483551828797474, 1.7516766591944517, -2.938615037214658, 0.5080945909237529, 0.614267751742457, -0.2595820086152982, -0.43899999687117014], \"yaxis\": \"y14\"}, {\"line\": {\"color\": \"rgba(128, 128, 128, 1.0)\", \"dash\": \"solid\", \"shape\": \"linear\", \"width\": 1.3}, \"marker\": {\"size\": 2, \"symbol\": \"circle\"}, \"mode\": \"markers\", \"name\": \"D\", \"text\": \"\", \"type\": \"scatter\", \"x\": [-0.36472828338111823, -2.744034855183259, 1.0508910323033953, -1.3210716162470777, -0.6328911673531687, -0.15010846191632013, -0.07951915603907586, -0.3143279866393601, 0.6057400984111833, -0.6994012298006331, -0.21090427517540938, -0.8436249712561239, 0.49346951495984837, 0.4853757168748205, 1.9390313879524337, 0.13892186773980295, 1.8125432050571813, -0.1577604392876527, -0.37635754616385414, -1.4310552301706887, 0.8382401180593941, 0.07536172950690108, 0.5127682775371938, 0.32569981275567234, 2.828388550516968, -0.5743371297934008, 0.060400308357195176, 0.7956540479218478, 1.3450563412740366, -1.016552167263412, 0.6430448438346658, 0.510634115982206, -0.6661440616176256, -0.5025066969093334, -0.8550353017824615, -0.9914905626880155, -0.9426251736601406, -0.257211133248541, 0.3019795953708391, 0.15258348269611327, 0.013463340997592551, 0.2957149879901049, 0.25699538119859955, -0.46614520972096113, 0.7334543867924153, -0.44148807143248525, 0.0018561004770532975, 1.5929815057860965, 1.1351017984146794, 0.12850117485378634, -0.3066874389924823, -0.5095211467457677, 1.2188227788069237, 1.1342238614857727, -0.39372410575528244, 0.318672757921071, -1.5083148071423385, 1.5105244382756182, -0.9597099280908813, 1.6011874194688416, -0.5725114622602433, -0.44439960341458123, 0.0673206661104729, -2.9703335493064835, 0.5627527056266886, -0.22389086875044303, -0.17529922309717058, 0.5633597459731945, -0.33160851994305235, 1.45807626556701, -1.3821507395278307, -0.7241818141867004, 1.5250901754339594, -0.29089082401874, -1.8211689542036897, 1.2128194471161535, 1.3807370331224766, -0.04334994244393579, 0.1311422990612613, -1.7089036247585763, -0.7835715672898682, -0.7306358480570115, 1.6481631484690011, 2.461723274478377, 0.4732612840974774, -0.19848175544682825, -1.2012922527458179, -0.04201566809091011, 0.25380682557922446, -2.1643581880407052, -0.401988739583814, -0.419359566403672, 0.793523597589395, -1.2802316764965542, -0.4674636795655414, -2.1012286186402784, 1.8046959969573688, -0.3965604273992808, 0.6444974555400979, -1.2086932977050724], \"xaxis\": \"x15\", \"y\": [-0.39699605459412246, 0.9665733257016246, -0.03292056049028313, -0.9073213559681331, 0.6831199981393419, 0.5856846914816076, -0.43337138359969984, -0.7675150008275595, 0.013888311737529004, 1.0488230586953755, 0.4354540251156954, -1.889577608294123, 0.8355927922443603, 0.2942195629854865, -1.0042496108243364, -0.4225148345278697, -0.6141822581428549, -0.7732928019152675, -0.019781848988358837, 1.1551113803713724, 0.48839338357613665, -1.0735992913498773, -2.191676479527262, -0.9530024743209956, -0.016420447246737656, -0.44905928884575846, -0.944324806543863, -1.0293134643694755, -1.2920564853589527, 1.0200112412988298, -0.3605536695078327, 1.0755394811016914, -1.7543454736337665, 0.3751844174067533, 0.045548734229861776, -0.2626034663179237, 0.43353088292488834, 0.29367520335394515, 1.1459481264116405, -1.8142720338622396, -1.0173043294083477, 0.39340942896249914, -1.0941091685109492, -1.1695752419219372, 1.7270611475834738, -0.3106566486176464, 1.8281605452352603, -0.526324541856004, -1.7761756749514737, -0.43091805571083863, -0.5649880558501735, 0.24125090312744718, 2.69456662433687, -0.8713144091136765, 0.7584445815837195, -0.13703182312215023, -0.668896977189412, -0.27604981761777875, 1.5698646539974623, 0.04778207395949344, 1.638758980307776, 0.7459446531249445, 0.19105997693628143, 0.5223781816880522, 0.6017589103360246, -0.4217443729222811, -0.6163168942296061, -0.9694671688163928, 0.42170916519293944, -0.4101989114634815, 0.487762375905079, 0.027239658172430275, -0.3176555283955685, -0.5241745803169193, 1.177165135960473, 0.04068533608559416, -0.8761512202026416, 0.10621793722191121, -0.4199551272358778, -0.14879356764775456, -1.005233396340456, 1.2411615282181363, 0.8975170798555797, 0.7900710390871886, 0.4416846117561959, 1.4425511447775639, -0.5654380772698397, -1.2154171092673054, 0.1261765840600005, -0.10680954817285401, 1.3528188881898482, 0.7452958794934156, 0.4970922137269499, -0.4483551828797474, 1.7516766591944517, -2.938615037214658, 0.5080945909237529, 0.614267751742457, -0.2595820086152982, -0.43899999687117014], \"yaxis\": \"y15\"}, {\"histfunc\": \"count\", \"histnorm\": \"\", \"marker\": {\"color\": \"rgba(128, 0, 128, 1.0)\", \"line\": {\"color\": \"#4D5663\", \"width\": 1.3}}, \"name\": \"D\", \"nbinsx\": 10, \"opacity\": 0.8, \"orientation\": \"v\", \"type\": \"histogram\", \"x\": [-0.39699605459412246, 0.9665733257016246, -0.03292056049028313, -0.9073213559681331, 0.6831199981393419, 0.5856846914816076, -0.43337138359969984, -0.7675150008275595, 0.013888311737529004, 1.0488230586953755, 0.4354540251156954, -1.889577608294123, 0.8355927922443603, 0.2942195629854865, -1.0042496108243364, -0.4225148345278697, -0.6141822581428549, -0.7732928019152675, -0.019781848988358837, 1.1551113803713724, 0.48839338357613665, -1.0735992913498773, -2.191676479527262, -0.9530024743209956, -0.016420447246737656, -0.44905928884575846, -0.944324806543863, -1.0293134643694755, -1.2920564853589527, 1.0200112412988298, -0.3605536695078327, 1.0755394811016914, -1.7543454736337665, 0.3751844174067533, 0.045548734229861776, -0.2626034663179237, 0.43353088292488834, 0.29367520335394515, 1.1459481264116405, -1.8142720338622396, -1.0173043294083477, 0.39340942896249914, -1.0941091685109492, -1.1695752419219372, 1.7270611475834738, -0.3106566486176464, 1.8281605452352603, -0.526324541856004, -1.7761756749514737, -0.43091805571083863, -0.5649880558501735, 0.24125090312744718, 2.69456662433687, -0.8713144091136765, 0.7584445815837195, -0.13703182312215023, -0.668896977189412, -0.27604981761777875, 1.5698646539974623, 0.04778207395949344, 1.638758980307776, 0.7459446531249445, 0.19105997693628143, 0.5223781816880522, 0.6017589103360246, -0.4217443729222811, -0.6163168942296061, -0.9694671688163928, 0.42170916519293944, -0.4101989114634815, 0.487762375905079, 0.027239658172430275, -0.3176555283955685, -0.5241745803169193, 1.177165135960473, 0.04068533608559416, -0.8761512202026416, 0.10621793722191121, -0.4199551272358778, -0.14879356764775456, -1.005233396340456, 1.2411615282181363, 0.8975170798555797, 0.7900710390871886, 0.4416846117561959, 1.4425511447775639, -0.5654380772698397, -1.2154171092673054, 0.1261765840600005, -0.10680954817285401, 1.3528188881898482, 0.7452958794934156, 0.4970922137269499, -0.4483551828797474, 1.7516766591944517, -2.938615037214658, 0.5080945909237529, 0.614267751742457, -0.2595820086152982, -0.43899999687117014], \"xaxis\": \"x16\", \"yaxis\": \"y16\"}],                        {\"bargap\": 0.02, \"legend\": {\"bgcolor\": \"#F5F6F9\", \"font\": {\"color\": \"#4D5663\"}}, \"paper_bgcolor\": \"#F5F6F9\", \"plot_bgcolor\": \"#F5F6F9\", \"showlegend\": false, \"template\": {\"data\": {\"bar\": [{\"error_x\": {\"color\": \"#2a3f5f\"}, \"error_y\": {\"color\": \"#2a3f5f\"}, \"marker\": {\"line\": {\"color\": \"#E5ECF6\", \"width\": 0.5}}, \"type\": \"bar\"}], \"barpolar\": [{\"marker\": {\"line\": {\"color\": \"#E5ECF6\", \"width\": 0.5}}, \"type\": \"barpolar\"}], \"carpet\": [{\"aaxis\": {\"endlinecolor\": \"#2a3f5f\", \"gridcolor\": \"white\", \"linecolor\": \"white\", \"minorgridcolor\": \"white\", \"startlinecolor\": \"#2a3f5f\"}, \"baxis\": {\"endlinecolor\": \"#2a3f5f\", \"gridcolor\": \"white\", \"linecolor\": \"white\", \"minorgridcolor\": \"white\", \"startlinecolor\": \"#2a3f5f\"}, \"type\": \"carpet\"}], \"choropleth\": [{\"colorbar\": {\"outlinewidth\": 0, \"ticks\": \"\"}, \"type\": \"choropleth\"}], \"contour\": [{\"colorbar\": {\"outlinewidth\": 0, \"ticks\": \"\"}, \"colorscale\": [[0.0, \"#0d0887\"], [0.1111111111111111, \"#46039f\"], [0.2222222222222222, \"#7201a8\"], [0.3333333333333333, \"#9c179e\"], [0.4444444444444444, \"#bd3786\"], [0.5555555555555556, \"#d8576b\"], [0.6666666666666666, \"#ed7953\"], [0.7777777777777778, \"#fb9f3a\"], [0.8888888888888888, \"#fdca26\"], [1.0, \"#f0f921\"]], \"type\": \"contour\"}], \"contourcarpet\": [{\"colorbar\": {\"outlinewidth\": 0, \"ticks\": \"\"}, \"type\": \"contourcarpet\"}], \"heatmap\": [{\"colorbar\": {\"outlinewidth\": 0, \"ticks\": \"\"}, \"colorscale\": [[0.0, \"#0d0887\"], [0.1111111111111111, \"#46039f\"], [0.2222222222222222, \"#7201a8\"], [0.3333333333333333, \"#9c179e\"], [0.4444444444444444, \"#bd3786\"], [0.5555555555555556, \"#d8576b\"], [0.6666666666666666, \"#ed7953\"], [0.7777777777777778, \"#fb9f3a\"], [0.8888888888888888, \"#fdca26\"], [1.0, \"#f0f921\"]], \"type\": \"heatmap\"}], \"heatmapgl\": [{\"colorbar\": {\"outlinewidth\": 0, \"ticks\": \"\"}, \"colorscale\": [[0.0, \"#0d0887\"], [0.1111111111111111, \"#46039f\"], [0.2222222222222222, \"#7201a8\"], [0.3333333333333333, \"#9c179e\"], [0.4444444444444444, \"#bd3786\"], [0.5555555555555556, \"#d8576b\"], [0.6666666666666666, \"#ed7953\"], [0.7777777777777778, \"#fb9f3a\"], [0.8888888888888888, \"#fdca26\"], [1.0, \"#f0f921\"]], \"type\": \"heatmapgl\"}], \"histogram\": [{\"marker\": {\"colorbar\": {\"outlinewidth\": 0, \"ticks\": \"\"}}, \"type\": \"histogram\"}], \"histogram2d\": [{\"colorbar\": {\"outlinewidth\": 0, \"ticks\": \"\"}, \"colorscale\": [[0.0, \"#0d0887\"], [0.1111111111111111, \"#46039f\"], [0.2222222222222222, \"#7201a8\"], [0.3333333333333333, \"#9c179e\"], [0.4444444444444444, \"#bd3786\"], [0.5555555555555556, \"#d8576b\"], [0.6666666666666666, \"#ed7953\"], [0.7777777777777778, \"#fb9f3a\"], [0.8888888888888888, \"#fdca26\"], [1.0, \"#f0f921\"]], \"type\": \"histogram2d\"}], \"histogram2dcontour\": [{\"colorbar\": {\"outlinewidth\": 0, \"ticks\": \"\"}, \"colorscale\": [[0.0, \"#0d0887\"], [0.1111111111111111, \"#46039f\"], [0.2222222222222222, \"#7201a8\"], [0.3333333333333333, \"#9c179e\"], [0.4444444444444444, \"#bd3786\"], [0.5555555555555556, \"#d8576b\"], [0.6666666666666666, \"#ed7953\"], [0.7777777777777778, \"#fb9f3a\"], [0.8888888888888888, \"#fdca26\"], [1.0, \"#f0f921\"]], \"type\": \"histogram2dcontour\"}], \"mesh3d\": [{\"colorbar\": {\"outlinewidth\": 0, \"ticks\": \"\"}, \"type\": \"mesh3d\"}], \"parcoords\": [{\"line\": {\"colorbar\": {\"outlinewidth\": 0, \"ticks\": \"\"}}, \"type\": \"parcoords\"}], \"pie\": [{\"automargin\": true, \"type\": \"pie\"}], \"scatter\": [{\"marker\": {\"colorbar\": {\"outlinewidth\": 0, \"ticks\": \"\"}}, \"type\": \"scatter\"}], \"scatter3d\": [{\"line\": {\"colorbar\": {\"outlinewidth\": 0, \"ticks\": \"\"}}, \"marker\": {\"colorbar\": {\"outlinewidth\": 0, \"ticks\": \"\"}}, \"type\": \"scatter3d\"}], \"scattercarpet\": [{\"marker\": {\"colorbar\": {\"outlinewidth\": 0, \"ticks\": \"\"}}, \"type\": \"scattercarpet\"}], \"scattergeo\": [{\"marker\": {\"colorbar\": {\"outlinewidth\": 0, \"ticks\": \"\"}}, \"type\": \"scattergeo\"}], \"scattergl\": [{\"marker\": {\"colorbar\": {\"outlinewidth\": 0, \"ticks\": \"\"}}, \"type\": \"scattergl\"}], \"scattermapbox\": [{\"marker\": {\"colorbar\": {\"outlinewidth\": 0, \"ticks\": \"\"}}, \"type\": \"scattermapbox\"}], \"scatterpolar\": [{\"marker\": {\"colorbar\": {\"outlinewidth\": 0, \"ticks\": \"\"}}, \"type\": \"scatterpolar\"}], \"scatterpolargl\": [{\"marker\": {\"colorbar\": {\"outlinewidth\": 0, \"ticks\": \"\"}}, \"type\": \"scatterpolargl\"}], \"scatterternary\": [{\"marker\": {\"colorbar\": {\"outlinewidth\": 0, \"ticks\": \"\"}}, \"type\": \"scatterternary\"}], \"surface\": [{\"colorbar\": {\"outlinewidth\": 0, \"ticks\": \"\"}, \"colorscale\": [[0.0, \"#0d0887\"], [0.1111111111111111, \"#46039f\"], [0.2222222222222222, \"#7201a8\"], [0.3333333333333333, \"#9c179e\"], [0.4444444444444444, \"#bd3786\"], [0.5555555555555556, \"#d8576b\"], [0.6666666666666666, \"#ed7953\"], [0.7777777777777778, \"#fb9f3a\"], [0.8888888888888888, \"#fdca26\"], [1.0, \"#f0f921\"]], \"type\": \"surface\"}], \"table\": [{\"cells\": {\"fill\": {\"color\": \"#EBF0F8\"}, \"line\": {\"color\": \"white\"}}, \"header\": {\"fill\": {\"color\": \"#C8D4E3\"}, \"line\": {\"color\": \"white\"}}, \"type\": \"table\"}]}, \"layout\": {\"annotationdefaults\": {\"arrowcolor\": \"#2a3f5f\", \"arrowhead\": 0, \"arrowwidth\": 1}, \"autotypenumbers\": \"strict\", \"coloraxis\": {\"colorbar\": {\"outlinewidth\": 0, \"ticks\": \"\"}}, \"colorscale\": {\"diverging\": [[0, \"#8e0152\"], [0.1, \"#c51b7d\"], [0.2, \"#de77ae\"], [0.3, \"#f1b6da\"], [0.4, \"#fde0ef\"], [0.5, \"#f7f7f7\"], [0.6, \"#e6f5d0\"], [0.7, \"#b8e186\"], [0.8, \"#7fbc41\"], [0.9, \"#4d9221\"], [1, \"#276419\"]], \"sequential\": [[0.0, \"#0d0887\"], [0.1111111111111111, \"#46039f\"], [0.2222222222222222, \"#7201a8\"], [0.3333333333333333, \"#9c179e\"], [0.4444444444444444, \"#bd3786\"], [0.5555555555555556, \"#d8576b\"], [0.6666666666666666, \"#ed7953\"], [0.7777777777777778, \"#fb9f3a\"], [0.8888888888888888, \"#fdca26\"], [1.0, \"#f0f921\"]], \"sequentialminus\": [[0.0, \"#0d0887\"], [0.1111111111111111, \"#46039f\"], [0.2222222222222222, \"#7201a8\"], [0.3333333333333333, \"#9c179e\"], [0.4444444444444444, \"#bd3786\"], [0.5555555555555556, \"#d8576b\"], [0.6666666666666666, \"#ed7953\"], [0.7777777777777778, \"#fb9f3a\"], [0.8888888888888888, \"#fdca26\"], [1.0, \"#f0f921\"]]}, \"colorway\": [\"#636efa\", \"#EF553B\", \"#00cc96\", \"#ab63fa\", \"#FFA15A\", \"#19d3f3\", \"#FF6692\", \"#B6E880\", \"#FF97FF\", \"#FECB52\"], \"font\": {\"color\": \"#2a3f5f\"}, \"geo\": {\"bgcolor\": \"white\", \"lakecolor\": \"white\", \"landcolor\": \"#E5ECF6\", \"showlakes\": true, \"showland\": true, \"subunitcolor\": \"white\"}, \"hoverlabel\": {\"align\": \"left\"}, \"hovermode\": \"closest\", \"mapbox\": {\"style\": \"light\"}, \"paper_bgcolor\": \"white\", \"plot_bgcolor\": \"#E5ECF6\", \"polar\": {\"angularaxis\": {\"gridcolor\": \"white\", \"linecolor\": \"white\", \"ticks\": \"\"}, \"bgcolor\": \"#E5ECF6\", \"radialaxis\": {\"gridcolor\": \"white\", \"linecolor\": \"white\", \"ticks\": \"\"}}, \"scene\": {\"xaxis\": {\"backgroundcolor\": \"#E5ECF6\", \"gridcolor\": \"white\", \"gridwidth\": 2, \"linecolor\": \"white\", \"showbackground\": true, \"ticks\": \"\", \"zerolinecolor\": \"white\"}, \"yaxis\": {\"backgroundcolor\": \"#E5ECF6\", \"gridcolor\": \"white\", \"gridwidth\": 2, \"linecolor\": \"white\", \"showbackground\": true, \"ticks\": \"\", \"zerolinecolor\": \"white\"}, \"zaxis\": {\"backgroundcolor\": \"#E5ECF6\", \"gridcolor\": \"white\", \"gridwidth\": 2, \"linecolor\": \"white\", \"showbackground\": true, \"ticks\": \"\", \"zerolinecolor\": \"white\"}}, \"shapedefaults\": {\"line\": {\"color\": \"#2a3f5f\"}}, \"ternary\": {\"aaxis\": {\"gridcolor\": \"white\", \"linecolor\": \"white\", \"ticks\": \"\"}, \"baxis\": {\"gridcolor\": \"white\", \"linecolor\": \"white\", \"ticks\": \"\"}, \"bgcolor\": \"#E5ECF6\", \"caxis\": {\"gridcolor\": \"white\", \"linecolor\": \"white\", \"ticks\": \"\"}}, \"title\": {\"x\": 0.05}, \"xaxis\": {\"automargin\": true, \"gridcolor\": \"white\", \"linecolor\": \"white\", \"ticks\": \"\", \"title\": {\"standoff\": 15}, \"zerolinecolor\": \"white\", \"zerolinewidth\": 2}, \"yaxis\": {\"automargin\": true, \"gridcolor\": \"white\", \"linecolor\": \"white\", \"ticks\": \"\", \"title\": {\"standoff\": 15}, \"zerolinecolor\": \"white\", \"zerolinewidth\": 2}}}, \"title\": {\"font\": {\"color\": \"#4D5663\"}}, \"xaxis\": {\"anchor\": \"y\", \"domain\": [0.0, 0.2125], \"gridcolor\": \"#E1E5ED\", \"showgrid\": false, \"tickfont\": {\"color\": \"#4D5663\"}, \"title\": {\"font\": {\"color\": \"#4D5663\"}, \"text\": \"\"}, \"zerolinecolor\": \"#E1E5ED\"}, \"xaxis10\": {\"anchor\": \"y10\", \"domain\": [0.2625, 0.475], \"gridcolor\": \"#E1E5ED\", \"showgrid\": false, \"tickfont\": {\"color\": \"#4D5663\"}, \"title\": {\"font\": {\"color\": \"#4D5663\"}, \"text\": \"\"}, \"zerolinecolor\": \"#E1E5ED\"}, \"xaxis11\": {\"anchor\": \"y11\", \"domain\": [0.525, 0.7375], \"gridcolor\": \"#E1E5ED\", \"showgrid\": false, \"tickfont\": {\"color\": \"#4D5663\"}, \"title\": {\"font\": {\"color\": \"#4D5663\"}, \"text\": \"\"}, \"zerolinecolor\": \"#E1E5ED\"}, \"xaxis12\": {\"anchor\": \"y12\", \"domain\": [0.7875, 1.0], \"gridcolor\": \"#E1E5ED\", \"showgrid\": false, \"tickfont\": {\"color\": \"#4D5663\"}, \"title\": {\"font\": {\"color\": \"#4D5663\"}, \"text\": \"\"}, \"zerolinecolor\": \"#E1E5ED\"}, \"xaxis13\": {\"anchor\": \"y13\", \"domain\": [0.0, 0.2125], \"gridcolor\": \"#E1E5ED\", \"showgrid\": false, \"tickfont\": {\"color\": \"#4D5663\"}, \"title\": {\"font\": {\"color\": \"#4D5663\"}, \"text\": \"\"}, \"zerolinecolor\": \"#E1E5ED\"}, \"xaxis14\": {\"anchor\": \"y14\", \"domain\": [0.2625, 0.475], \"gridcolor\": \"#E1E5ED\", \"showgrid\": false, \"tickfont\": {\"color\": \"#4D5663\"}, \"title\": {\"font\": {\"color\": \"#4D5663\"}, \"text\": \"\"}, \"zerolinecolor\": \"#E1E5ED\"}, \"xaxis15\": {\"anchor\": \"y15\", \"domain\": [0.525, 0.7375], \"gridcolor\": \"#E1E5ED\", \"showgrid\": false, \"tickfont\": {\"color\": \"#4D5663\"}, \"title\": {\"font\": {\"color\": \"#4D5663\"}, \"text\": \"\"}, \"zerolinecolor\": \"#E1E5ED\"}, \"xaxis16\": {\"anchor\": \"y16\", \"domain\": [0.7875, 1.0], \"gridcolor\": \"#E1E5ED\", \"showgrid\": false, \"tickfont\": {\"color\": \"#4D5663\"}, \"title\": {\"font\": {\"color\": \"#4D5663\"}, \"text\": \"\"}, \"zerolinecolor\": \"#E1E5ED\"}, \"xaxis2\": {\"anchor\": \"y2\", \"domain\": [0.2625, 0.475], \"gridcolor\": \"#E1E5ED\", \"showgrid\": false, \"tickfont\": {\"color\": \"#4D5663\"}, \"title\": {\"font\": {\"color\": \"#4D5663\"}, \"text\": \"\"}, \"zerolinecolor\": \"#E1E5ED\"}, \"xaxis3\": {\"anchor\": \"y3\", \"domain\": [0.525, 0.7375], \"gridcolor\": \"#E1E5ED\", \"showgrid\": false, \"tickfont\": {\"color\": \"#4D5663\"}, \"title\": {\"font\": {\"color\": \"#4D5663\"}, \"text\": \"\"}, \"zerolinecolor\": \"#E1E5ED\"}, \"xaxis4\": {\"anchor\": \"y4\", \"domain\": [0.7875, 1.0], \"gridcolor\": \"#E1E5ED\", \"showgrid\": false, \"tickfont\": {\"color\": \"#4D5663\"}, \"title\": {\"font\": {\"color\": \"#4D5663\"}, \"text\": \"\"}, \"zerolinecolor\": \"#E1E5ED\"}, \"xaxis5\": {\"anchor\": \"y5\", \"domain\": [0.0, 0.2125], \"gridcolor\": \"#E1E5ED\", \"showgrid\": false, \"tickfont\": {\"color\": \"#4D5663\"}, \"title\": {\"font\": {\"color\": \"#4D5663\"}, \"text\": \"\"}, \"zerolinecolor\": \"#E1E5ED\"}, \"xaxis6\": {\"anchor\": \"y6\", \"domain\": [0.2625, 0.475], \"gridcolor\": \"#E1E5ED\", \"showgrid\": false, \"tickfont\": {\"color\": \"#4D5663\"}, \"title\": {\"font\": {\"color\": \"#4D5663\"}, \"text\": \"\"}, \"zerolinecolor\": \"#E1E5ED\"}, \"xaxis7\": {\"anchor\": \"y7\", \"domain\": [0.525, 0.7375], \"gridcolor\": \"#E1E5ED\", \"showgrid\": false, \"tickfont\": {\"color\": \"#4D5663\"}, \"title\": {\"font\": {\"color\": \"#4D5663\"}, \"text\": \"\"}, \"zerolinecolor\": \"#E1E5ED\"}, \"xaxis8\": {\"anchor\": \"y8\", \"domain\": [0.7875, 1.0], \"gridcolor\": \"#E1E5ED\", \"showgrid\": false, \"tickfont\": {\"color\": \"#4D5663\"}, \"title\": {\"font\": {\"color\": \"#4D5663\"}, \"text\": \"\"}, \"zerolinecolor\": \"#E1E5ED\"}, \"xaxis9\": {\"anchor\": \"y9\", \"domain\": [0.0, 0.2125], \"gridcolor\": \"#E1E5ED\", \"showgrid\": false, \"tickfont\": {\"color\": \"#4D5663\"}, \"title\": {\"font\": {\"color\": \"#4D5663\"}, \"text\": \"\"}, \"zerolinecolor\": \"#E1E5ED\"}, \"yaxis\": {\"anchor\": \"x\", \"domain\": [0.8025, 1.0], \"gridcolor\": \"#E1E5ED\", \"showgrid\": false, \"tickfont\": {\"color\": \"#4D5663\"}, \"title\": {\"font\": {\"color\": \"#4D5663\"}, \"text\": \"\"}, \"zerolinecolor\": \"#E1E5ED\"}, \"yaxis10\": {\"anchor\": \"x10\", \"domain\": [0.2675, 0.465], \"gridcolor\": \"#E1E5ED\", \"showgrid\": false, \"tickfont\": {\"color\": \"#4D5663\"}, \"title\": {\"font\": {\"color\": \"#4D5663\"}, \"text\": \"\"}, \"zerolinecolor\": \"#E1E5ED\"}, \"yaxis11\": {\"anchor\": \"x11\", \"domain\": [0.2675, 0.465], \"gridcolor\": \"#E1E5ED\", \"showgrid\": false, \"tickfont\": {\"color\": \"#4D5663\"}, \"title\": {\"font\": {\"color\": \"#4D5663\"}, \"text\": \"\"}, \"zerolinecolor\": \"#E1E5ED\"}, \"yaxis12\": {\"anchor\": \"x12\", \"domain\": [0.2675, 0.465], \"gridcolor\": \"#E1E5ED\", \"showgrid\": false, \"tickfont\": {\"color\": \"#4D5663\"}, \"title\": {\"font\": {\"color\": \"#4D5663\"}, \"text\": \"\"}, \"zerolinecolor\": \"#E1E5ED\"}, \"yaxis13\": {\"anchor\": \"x13\", \"domain\": [0.0, 0.1975], \"gridcolor\": \"#E1E5ED\", \"showgrid\": false, \"tickfont\": {\"color\": \"#4D5663\"}, \"title\": {\"font\": {\"color\": \"#4D5663\"}, \"text\": \"\"}, \"zerolinecolor\": \"#E1E5ED\"}, \"yaxis14\": {\"anchor\": \"x14\", \"domain\": [0.0, 0.1975], \"gridcolor\": \"#E1E5ED\", \"showgrid\": false, \"tickfont\": {\"color\": \"#4D5663\"}, \"title\": {\"font\": {\"color\": \"#4D5663\"}, \"text\": \"\"}, \"zerolinecolor\": \"#E1E5ED\"}, \"yaxis15\": {\"anchor\": \"x15\", \"domain\": [0.0, 0.1975], \"gridcolor\": \"#E1E5ED\", \"showgrid\": false, \"tickfont\": {\"color\": \"#4D5663\"}, \"title\": {\"font\": {\"color\": \"#4D5663\"}, \"text\": \"\"}, \"zerolinecolor\": \"#E1E5ED\"}, \"yaxis16\": {\"anchor\": \"x16\", \"domain\": [0.0, 0.1975], \"gridcolor\": \"#E1E5ED\", \"showgrid\": false, \"tickfont\": {\"color\": \"#4D5663\"}, \"title\": {\"font\": {\"color\": \"#4D5663\"}, \"text\": \"\"}, \"zerolinecolor\": \"#E1E5ED\"}, \"yaxis2\": {\"anchor\": \"x2\", \"domain\": [0.8025, 1.0], \"gridcolor\": \"#E1E5ED\", \"showgrid\": false, \"tickfont\": {\"color\": \"#4D5663\"}, \"title\": {\"font\": {\"color\": \"#4D5663\"}, \"text\": \"\"}, \"zerolinecolor\": \"#E1E5ED\"}, \"yaxis3\": {\"anchor\": \"x3\", \"domain\": [0.8025, 1.0], \"gridcolor\": \"#E1E5ED\", \"showgrid\": false, \"tickfont\": {\"color\": \"#4D5663\"}, \"title\": {\"font\": {\"color\": \"#4D5663\"}, \"text\": \"\"}, \"zerolinecolor\": \"#E1E5ED\"}, \"yaxis4\": {\"anchor\": \"x4\", \"domain\": [0.8025, 1.0], \"gridcolor\": \"#E1E5ED\", \"showgrid\": false, \"tickfont\": {\"color\": \"#4D5663\"}, \"title\": {\"font\": {\"color\": \"#4D5663\"}, \"text\": \"\"}, \"zerolinecolor\": \"#E1E5ED\"}, \"yaxis5\": {\"anchor\": \"x5\", \"domain\": [0.535, 0.7325], \"gridcolor\": \"#E1E5ED\", \"showgrid\": false, \"tickfont\": {\"color\": \"#4D5663\"}, \"title\": {\"font\": {\"color\": \"#4D5663\"}, \"text\": \"\"}, \"zerolinecolor\": \"#E1E5ED\"}, \"yaxis6\": {\"anchor\": \"x6\", \"domain\": [0.535, 0.7325], \"gridcolor\": \"#E1E5ED\", \"showgrid\": false, \"tickfont\": {\"color\": \"#4D5663\"}, \"title\": {\"font\": {\"color\": \"#4D5663\"}, \"text\": \"\"}, \"zerolinecolor\": \"#E1E5ED\"}, \"yaxis7\": {\"anchor\": \"x7\", \"domain\": [0.535, 0.7325], \"gridcolor\": \"#E1E5ED\", \"showgrid\": false, \"tickfont\": {\"color\": \"#4D5663\"}, \"title\": {\"font\": {\"color\": \"#4D5663\"}, \"text\": \"\"}, \"zerolinecolor\": \"#E1E5ED\"}, \"yaxis8\": {\"anchor\": \"x8\", \"domain\": [0.535, 0.7325], \"gridcolor\": \"#E1E5ED\", \"showgrid\": false, \"tickfont\": {\"color\": \"#4D5663\"}, \"title\": {\"font\": {\"color\": \"#4D5663\"}, \"text\": \"\"}, \"zerolinecolor\": \"#E1E5ED\"}, \"yaxis9\": {\"anchor\": \"x9\", \"domain\": [0.2675, 0.465], \"gridcolor\": \"#E1E5ED\", \"showgrid\": false, \"tickfont\": {\"color\": \"#4D5663\"}, \"title\": {\"font\": {\"color\": \"#4D5663\"}, \"text\": \"\"}, \"zerolinecolor\": \"#E1E5ED\"}},                        {\"showLink\": true, \"linkText\": \"Export to plot.ly\", \"plotlyServerURL\": \"https://plot.ly\", \"responsive\": true}                    ).then(function(){\n",
       "                            \n",
       "var gd = document.getElementById('96f61738-1287-4c51-a186-2cd90cbdf0d0');\n",
       "var x = new MutationObserver(function (mutations, observer) {{\n",
       "        var display = window.getComputedStyle(gd).display;\n",
       "        if (!display || display === 'none') {{\n",
       "            console.log([gd, 'removed!']);\n",
       "            Plotly.purge(gd);\n",
       "            observer.disconnect();\n",
       "        }}\n",
       "}});\n",
       "\n",
       "// Listen for the removal of the full notebook cells\n",
       "var notebookContainer = gd.closest('#notebook-container');\n",
       "if (notebookContainer) {{\n",
       "    x.observe(notebookContainer, {childList: true});\n",
       "}}\n",
       "\n",
       "// Listen for the clearing of the current output cell\n",
       "var outputEl = gd.closest('.output');\n",
       "if (outputEl) {{\n",
       "    x.observe(outputEl, {childList: true});\n",
       "}}\n",
       "\n",
       "                        })                };                });            </script>        </div>"
      ]
     },
     "metadata": {},
     "output_type": "display_data"
    }
   ],
   "source": [
    "df.scatter_matrix()"
   ]
  },
  {
   "cell_type": "markdown",
   "metadata": {
    "collapsed": true
   },
   "source": [
    "# Great Job!"
   ]
  },
  {
   "cell_type": "code",
   "execution_count": null,
   "metadata": {},
   "outputs": [],
   "source": []
  },
  {
   "cell_type": "code",
   "execution_count": null,
   "metadata": {},
   "outputs": [],
   "source": []
  },
  {
   "cell_type": "code",
   "execution_count": null,
   "metadata": {},
   "outputs": [],
   "source": []
  },
  {
   "cell_type": "code",
   "execution_count": null,
   "metadata": {},
   "outputs": [],
   "source": []
  },
  {
   "cell_type": "code",
   "execution_count": null,
   "metadata": {},
   "outputs": [],
   "source": []
  },
  {
   "cell_type": "code",
   "execution_count": null,
   "metadata": {},
   "outputs": [],
   "source": []
  }
 ],
 "metadata": {
  "kernelspec": {
   "display_name": "Python 3",
   "language": "python",
   "name": "python3"
  },
  "language_info": {
   "codemirror_mode": {
    "name": "ipython",
    "version": 3
   },
   "file_extension": ".py",
   "mimetype": "text/x-python",
   "name": "python",
   "nbconvert_exporter": "python",
   "pygments_lexer": "ipython3",
   "version": "3.8.4rc1"
  }
 },
 "nbformat": 4,
 "nbformat_minor": 1
}
